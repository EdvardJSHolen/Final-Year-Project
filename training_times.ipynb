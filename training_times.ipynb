{
 "cells": [
  {
   "cell_type": "code",
   "execution_count": 11,
   "metadata": {},
   "outputs": [],
   "source": [
    "import matplotlib.pyplot as plt\n",
    "import pandas as pd\n",
    "import os"
   ]
  },
  {
   "cell_type": "code",
   "execution_count": 6,
   "metadata": {},
   "outputs": [
    {
     "name": "stdout",
     "output_type": "stream",
     "text": [
      "deepar solar 120329.51484966278\n",
      "deepar electricity 120446.60697460175\n",
      "deepar exchange 126053.53113150597\n",
      "timefusion solar 24880.810781478882\n",
      "timefusion electricity 116650.84330177307\n",
      "timefusion exchange 19713.414280653\n",
      "timegrad solar 11116.838292121887\n",
      "timegrad electricity 51496.7837574482\n",
      "timegrad exchange 10090.129771232605\n",
      "transformer_maf solar 10238.48804140091\n",
      "transformer_maf electricity 45781.66200089455\n",
      "transformer_maf exchange 7687.475308895111\n"
     ]
    }
   ],
   "source": [
    "result_locations = {\n",
    "    \"deepar\": \"deepar/training_scripts/results/\",\n",
    "    \"timefusion\": \"timefusion/training_scripts/results/\",\n",
    "    \"timegrad\": \"timegrad/training_scripts/results/\",\n",
    "    \"transformer_maf\": \"transformer_maf/training_scripts/results/\",\n",
    "}\n",
    "\n",
    "for model, path in result_locations.items():\n",
    "    for dataset in [\"solar\", \"electricity\", \"exchange\"]:\n",
    "        directory = path + dataset \n",
    "        csv_files = [directory + \"/\" + file for file in os.listdir(directory) if file.endswith(\".csv\")]\n",
    "\n",
    "        # Create dataframe of data\n",
    "        results = pd.concat(map(pd.read_csv, csv_files))\n",
    "        \n",
    "        print(model,dataset,max(results[\"trial_start\"]) - min(results[\"trial_start\"]))"
   ]
  },
  {
   "cell_type": "code",
   "execution_count": 9,
   "metadata": {},
   "outputs": [],
   "source": [
    "sampling_times = pd.read_excel(\"Training_times.xlsx\")"
   ]
  },
  {
   "cell_type": "code",
   "execution_count": 10,
   "metadata": {},
   "outputs": [
    {
     "data": {
      "text/html": [
       "<div>\n",
       "<style scoped>\n",
       "    .dataframe tbody tr th:only-of-type {\n",
       "        vertical-align: middle;\n",
       "    }\n",
       "\n",
       "    .dataframe tbody tr th {\n",
       "        vertical-align: top;\n",
       "    }\n",
       "\n",
       "    .dataframe thead th {\n",
       "        text-align: right;\n",
       "    }\n",
       "</style>\n",
       "<table border=\"1\" class=\"dataframe\">\n",
       "  <thead>\n",
       "    <tr style=\"text-align: right;\">\n",
       "      <th></th>\n",
       "      <th>TimeGrad - Electricity</th>\n",
       "      <th>TimeFusion - Electricity</th>\n",
       "      <th>TempFlow - Electricity</th>\n",
       "      <th>DeepAR - Electricity</th>\n",
       "      <th>TimeGrad - Solar</th>\n",
       "      <th>TimeFusion - Solar</th>\n",
       "      <th>TempFlow - Solar</th>\n",
       "      <th>DeepAR - Solar</th>\n",
       "      <th>TimeGrad - Exchange</th>\n",
       "      <th>TimeFusion - Exchange</th>\n",
       "      <th>TempFlow - Exchange</th>\n",
       "      <th>DeepAR - Exchange</th>\n",
       "    </tr>\n",
       "  </thead>\n",
       "  <tbody>\n",
       "    <tr>\n",
       "      <th>0</th>\n",
       "      <td>109.383200</td>\n",
       "      <td>7.045333</td>\n",
       "      <td>0.444096</td>\n",
       "      <td>22.799939</td>\n",
       "      <td>14.283551</td>\n",
       "      <td>4.379903</td>\n",
       "      <td>12.474958</td>\n",
       "      <td>6.656134</td>\n",
       "      <td>8.087523</td>\n",
       "      <td>3.092273</td>\n",
       "      <td>0.339234</td>\n",
       "      <td>0.838721</td>\n",
       "    </tr>\n",
       "    <tr>\n",
       "      <th>1</th>\n",
       "      <td>109.511958</td>\n",
       "      <td>7.032057</td>\n",
       "      <td>0.429812</td>\n",
       "      <td>22.806880</td>\n",
       "      <td>14.275878</td>\n",
       "      <td>4.397798</td>\n",
       "      <td>12.386281</td>\n",
       "      <td>6.319594</td>\n",
       "      <td>8.084409</td>\n",
       "      <td>2.964847</td>\n",
       "      <td>0.368158</td>\n",
       "      <td>0.743387</td>\n",
       "    </tr>\n",
       "    <tr>\n",
       "      <th>2</th>\n",
       "      <td>109.509330</td>\n",
       "      <td>7.036268</td>\n",
       "      <td>0.391643</td>\n",
       "      <td>22.916954</td>\n",
       "      <td>14.259238</td>\n",
       "      <td>4.477090</td>\n",
       "      <td>12.404403</td>\n",
       "      <td>6.506074</td>\n",
       "      <td>8.069846</td>\n",
       "      <td>2.982227</td>\n",
       "      <td>0.332487</td>\n",
       "      <td>0.721156</td>\n",
       "    </tr>\n",
       "    <tr>\n",
       "      <th>3</th>\n",
       "      <td>109.495891</td>\n",
       "      <td>7.004858</td>\n",
       "      <td>0.399859</td>\n",
       "      <td>23.013725</td>\n",
       "      <td>14.262242</td>\n",
       "      <td>4.403927</td>\n",
       "      <td>12.410070</td>\n",
       "      <td>6.581668</td>\n",
       "      <td>8.068376</td>\n",
       "      <td>3.010459</td>\n",
       "      <td>0.329386</td>\n",
       "      <td>0.722284</td>\n",
       "    </tr>\n",
       "    <tr>\n",
       "      <th>4</th>\n",
       "      <td>109.528106</td>\n",
       "      <td>7.023382</td>\n",
       "      <td>0.399201</td>\n",
       "      <td>22.970664</td>\n",
       "      <td>14.272173</td>\n",
       "      <td>4.421951</td>\n",
       "      <td>12.397569</td>\n",
       "      <td>6.444404</td>\n",
       "      <td>8.070752</td>\n",
       "      <td>2.991974</td>\n",
       "      <td>0.331649</td>\n",
       "      <td>0.728101</td>\n",
       "    </tr>\n",
       "  </tbody>\n",
       "</table>\n",
       "</div>"
      ],
      "text/plain": [
       "   TimeGrad - Electricity  TimeFusion - Electricity  TempFlow - Electricity  \\\n",
       "0              109.383200                  7.045333                0.444096   \n",
       "1              109.511958                  7.032057                0.429812   \n",
       "2              109.509330                  7.036268                0.391643   \n",
       "3              109.495891                  7.004858                0.399859   \n",
       "4              109.528106                  7.023382                0.399201   \n",
       "\n",
       "   DeepAR - Electricity  TimeGrad - Solar  TimeFusion - Solar  \\\n",
       "0             22.799939         14.283551            4.379903   \n",
       "1             22.806880         14.275878            4.397798   \n",
       "2             22.916954         14.259238            4.477090   \n",
       "3             23.013725         14.262242            4.403927   \n",
       "4             22.970664         14.272173            4.421951   \n",
       "\n",
       "   TempFlow - Solar  DeepAR - Solar  TimeGrad - Exchange  \\\n",
       "0         12.474958        6.656134             8.087523   \n",
       "1         12.386281        6.319594             8.084409   \n",
       "2         12.404403        6.506074             8.069846   \n",
       "3         12.410070        6.581668             8.068376   \n",
       "4         12.397569        6.444404             8.070752   \n",
       "\n",
       "   TimeFusion - Exchange  TempFlow - Exchange  DeepAR - Exchange  \n",
       "0               3.092273             0.339234           0.838721  \n",
       "1               2.964847             0.368158           0.743387  \n",
       "2               2.982227             0.332487           0.721156  \n",
       "3               3.010459             0.329386           0.722284  \n",
       "4               2.991974             0.331649           0.728101  "
      ]
     },
     "execution_count": 10,
     "metadata": {},
     "output_type": "execute_result"
    }
   ],
   "source": [
    "sampling_times"
   ]
  },
  {
   "cell_type": "code",
   "execution_count": 39,
   "metadata": {},
   "outputs": [
    {
     "data": {
      "text/plain": [
       "([<matplotlib.axis.XTick at 0x160b2ad40>,\n",
       "  <matplotlib.axis.XTick at 0x160b2ad10>,\n",
       "  <matplotlib.axis.XTick at 0x160b2a9b0>,\n",
       "  <matplotlib.axis.XTick at 0x160b5bc70>],\n",
       " [Text(0, 0, 'TimeGrad'),\n",
       "  Text(1, 0, 'TimeFusion'),\n",
       "  Text(2, 0, 'TempFlow'),\n",
       "  Text(3, 0, 'DeepAR')])"
      ]
     },
     "execution_count": 39,
     "metadata": {},
     "output_type": "execute_result"
    },
    {
     "data": {
      "image/png": "[encoded data removed]",
      "text/plain": [
       "<Figure size 1000x500 with 3 Axes>"
      ]
     },
     "metadata": {},
     "output_type": "display_data"
    }
   ],
   "source": [
    "models = ['TimeGrad', 'TimeFusion', 'TempFlow','DeepAR']\n",
    "y_pos = range(len(models))\n",
    "\n",
    "plt.figure(figsize=(10,5))\n",
    "plt.suptitle(\"Average Sampling Times\", fontsize=18)\n",
    "\n",
    "ax = plt.subplot(1,3,1)\n",
    "plt.bar(models, sampling_times.iloc[:,:4].mean(), yerr= sampling_times.iloc[:,:4].std(),width = 0.6)\n",
    "ax.set_title(\"Electricity\")\n",
    "plt.ylabel(\"Sampling Time [s]\", fontsize=14)\n",
    "plt.xticks(y_pos, models, rotation=-70)\n",
    "\n",
    "ax = plt.subplot(1,3,2)\n",
    "plt.bar(models, sampling_times.iloc[:,4:8].mean(), yerr= sampling_times.iloc[:,4:8].std(),width = 0.6)\n",
    "ax.set_title(\"Solar\")\n",
    "plt.xticks(y_pos, models, rotation=-70)\n",
    "\n",
    "ax = plt.subplot(1,3,3)\n",
    "plt.bar(models, sampling_times.iloc[:,8:].mean(), yerr= sampling_times.iloc[:,8:].std(),width = 0.6)\n",
    "ax.set_title(\"Exchange\")\n",
    "plt.xticks(y_pos, models, rotation=-70)\n"
   ]
  },
  {
   "cell_type": "code",
   "execution_count": null,
   "metadata": {},
   "outputs": [],
   "source": [
    "\n",
    "import numpy as np\n",
    "import matplotlib.pyplot as plt\n",
    " \n",
    "  \n",
    "# creating the dataset\n",
    "data = {'C':20, 'C++':15, 'Java':30,\n",
    "        'Python':35}\n",
    "courses = list(data.keys())\n",
    "values = list(data.values())\n",
    "  \n",
    "fig = plt.figure(figsize = (10, 5))\n",
    " \n",
    "# creating the bar plot\n",
    "plt.bar(courses, values, color ='maroon',\n",
    "        width = 0.4)\n",
    " \n",
    "plt.xlabel(\"Courses offered\")\n",
    "plt.ylabel(\"No. of students enrolled\")\n",
    "plt.title(\"Students enrolled in different courses\")\n",
    "plt.show()"
   ]
  }
 ],
 "metadata": {
  "kernelspec": {
   "display_name": "TimeFusion 3.10.7",
   "language": "python",
   "name": "timefusion3.10.7"
  },
  "language_info": {
   "codemirror_mode": {
    "name": "ipython",
    "version": 3
   },
   "file_extension": ".py",
   "mimetype": "text/x-python",
   "name": "python",
   "nbconvert_exporter": "python",
   "pygments_lexer": "ipython3",
   "version": "3.10.7"
  },
  "orig_nbformat": 4
 },
 "nbformat": 4,
 "nbformat_minor": 2
}
