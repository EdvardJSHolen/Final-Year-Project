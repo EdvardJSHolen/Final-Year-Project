{
 "cells": [
  {
   "cell_type": "code",
   "execution_count": null,
   "metadata": {},
   "outputs": [],
   "source": [
    "import time\n",
    "import sys\n",
    "import os\n",
    "import torch\n",
    "import json\n",
    "import pandas as pd\n",
    "import numpy as np\n",
    "\n",
    "from gluonts.dataset.pandas import PandasDataset\n",
    "from gluonts.dataset.split import split\n",
    "from gluonts.torch import DeepAREstimator\n",
    "from gluonts.evaluation.backtest import make_evaluation_predictions\n",
    "from gluonts.torch.distributions import StudentTOutput\n",
    "from gluonts.torch.distributions import NormalOutput\n",
    "from sklearn.metrics import mean_absolute_error, median_absolute_error, mean_squared_error\n",
    "\n",
    "sys.path.append(\"../..\")\n",
    "from timefusion.utils import metrics"
   ]
  },
  {
   "cell_type": "code",
   "execution_count": null,
   "metadata": {},
   "outputs": [],
   "source": [
    "# Import dataset\n",
    "train_data = pd.read_csv(\"../../datasets/electricity/train.csv\", index_col=\"date\")\n",
    "val_data = pd.read_csv(\"../../datasets/electricity/val.csv\", index_col=\"date\")\n",
    "test_data = pd.read_csv(\"../../datasets/electricity/test.csv\", index_col=\"date\")\n",
    "\n",
    "# Normalize the signal power of each column\n",
    "stds = train_data.std()\n",
    "train_data /= stds\n",
    "val_data /= stds\n",
    "test_data /= stds"
   ]
  },
  {
   "cell_type": "code",
   "execution_count": null,
   "metadata": {},
   "outputs": [],
   "source": [
    "prediction_length = 24\n",
    "freq = \"H\"\n",
    "\n",
    "# Get training, validation and test dataset\n",
    "train_flat = train_data.stack().reset_index()\n",
    "train_flat.columns = [\"date\", \"series\", \"value\"]\n",
    "train_dataset = PandasDataset.from_long_dataframe(train_flat, target=\"value\",item_id=\"series\",timestamp=\"date\",freq=freq)\n",
    "\n",
    "val_flat = val_data.stack().reset_index()\n",
    "val_flat.columns = [\"date\", \"series\", \"value\"]\n",
    "val_dataset = PandasDataset.from_long_dataframe(val_flat, target=\"value\",item_id=\"series\",timestamp=\"date\",freq=freq)\n",
    "val_dataset_14 = [PandasDataset.from_long_dataframe(val_flat.iloc[:-prediction_length*i*train_data.shape[1]] if i != 0 else val_flat, target=\"value\",item_id=\"series\",timestamp=\"date\",freq=freq) for i in range(14)]\n",
    "\n",
    "test_flat = test_data.stack().reset_index()\n",
    "test_flat.columns = [\"date\", \"series\", \"value\"]\n",
    "test_dataset_14 = [PandasDataset.from_long_dataframe(test_flat.iloc[:-prediction_length*i*train_data.shape[1]] if i != 0 else test_flat, target=\"value\",item_id=\"series\",timestamp=\"date\",freq=freq) for i in range(14)]\n"
   ]
  },
  {
   "cell_type": "code",
   "execution_count": null,
   "metadata": {},
   "outputs": [],
   "source": [
    "forecast_it, ts_it = make_evaluation_predictions(\n",
    "    dataset=test_dataset_14[0],\n",
    "    predictor=predictor,\n",
    "    num_samples=128\n",
    ")\n",
    "\n",
    "realisations = list(ts_it)"
   ]
  },
  {
   "cell_type": "code",
   "execution_count": null,
   "metadata": {},
   "outputs": [],
   "source": [
    "for i in test_data.iloc[-1]:\n",
    "    print(i)"
   ]
  },
  {
   "cell_type": "code",
   "execution_count": null,
   "metadata": {},
   "outputs": [],
   "source": [
    "len(realisations)"
   ]
  },
  {
   "cell_type": "code",
   "execution_count": null,
   "metadata": {},
   "outputs": [],
   "source": [
    "# Train the model and make predictions\n",
    "model = DeepAREstimator(\n",
    "    prediction_length = prediction_length, \n",
    "    freq=freq,\n",
    "    context_length = 1*prediction_length,\n",
    "    num_layers = 4,\n",
    "    hidden_size = 30,\n",
    "    lr = 1e-4,\n",
    "    dropout_rate = 0.01,\n",
    "    distr_output = StudentTOutput(),\n",
    "    trainer_kwargs={\"max_epochs\": 1}\n",
    ")"
   ]
  },
  {
   "cell_type": "code",
   "execution_count": null,
   "metadata": {},
   "outputs": [],
   "source": [
    "# Train model\n",
    "predictor = model.train(training_data=train_dataset,validation_data=val_dataset,num_workers=3)"
   ]
  },
  {
   "cell_type": "code",
   "execution_count": null,
   "metadata": {},
   "outputs": [],
   "source": [
    "# Validation test\n",
    "samples = []\n",
    "realisations = []\n",
    "\n",
    "for dataset in test_dataset_14:\n",
    "    \n",
    "    forecast_it, ts_it = make_evaluation_predictions(\n",
    "        dataset=dataset,\n",
    "        predictor=predictor,\n",
    "        num_samples=128\n",
    "    )\n",
    "\n",
    "    samples.append(list(forecast_it))\n",
    "    realisations.append(list(ts_it))\n"
   ]
  },
  {
   "cell_type": "code",
   "execution_count": null,
   "metadata": {},
   "outputs": [],
   "source": [
    "# Convert to tensors\n",
    "sample_tensor = torch.tensor(np.array([[l.samples for l in s] for s in samples])).permute(0,2,1,4)\n",
    "realisations_tensor = torch.tensor([np.array(r).squeeze()[:,-prediction_length:] for r in realisations])"
   ]
  },
  {
   "cell_type": "code",
   "execution_count": null,
   "metadata": {},
   "outputs": [],
   "source": []
  },
  {
   "cell_type": "code",
   "execution_count": null,
   "metadata": {},
   "outputs": [],
   "source": [
    "realisations_tensor.shape"
   ]
  },
  {
   "cell_type": "code",
   "execution_count": null,
   "metadata": {},
   "outputs": [],
   "source": [
    "[np.array(r) for r in realisations]"
   ]
  },
  {
   "cell_type": "code",
   "execution_count": null,
   "metadata": {},
   "outputs": [],
   "source": [
    "k = [[l.samples for l in s] for s in samples]"
   ]
  },
  {
   "cell_type": "code",
   "execution_count": null,
   "metadata": {},
   "outputs": [],
   "source": [
    "np.array(k).shape"
   ]
  },
  {
   "cell_type": "code",
   "execution_count": null,
   "metadata": {},
   "outputs": [],
   "source": [
    "samples[0]"
   ]
  },
  {
   "cell_type": "code",
   "execution_count": null,
   "metadata": {},
   "outputs": [],
   "source": [
    "val_dataset_14[0]"
   ]
  },
  {
   "cell_type": "code",
   "execution_count": null,
   "metadata": {},
   "outputs": [],
   "source": [
    "a = [1,2,3]\n",
    "a[:-1]"
   ]
  },
  {
   "cell_type": "code",
   "execution_count": null,
   "metadata": {},
   "outputs": [],
   "source": []
  }
 ],
 "metadata": {
  "kernelspec": {
   "display_name": "deep3.10",
   "language": "python",
   "name": "deep3.10"
  },
  "language_info": {
   "codemirror_mode": {
    "name": "ipython",
    "version": 3
   },
   "file_extension": ".py",
   "mimetype": "text/x-python",
   "name": "python",
   "nbconvert_exporter": "python",
   "pygments_lexer": "ipython3",
   "version": "3.10.8"
  }
 },
 "nbformat": 4,
 "nbformat_minor": 2
}
