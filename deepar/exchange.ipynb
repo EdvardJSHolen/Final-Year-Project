{
 "cells": [
  {
   "cell_type": "code",
   "execution_count": 1,
   "metadata": {},
   "outputs": [],
   "source": [
    "import time\n",
    "import sys\n",
    "import os\n",
    "import torch\n",
    "import json\n",
    "import pandas as pd\n",
    "import numpy as np\n",
    "\n",
    "from gluonts.dataset.pandas import PandasDataset\n",
    "from gluonts.dataset.split import split\n",
    "from gluonts.torch import DeepAREstimator\n",
    "from gluonts.evaluation.backtest import make_evaluation_predictions\n",
    "from gluonts.torch.distributions import StudentTOutput\n",
    "from gluonts.torch.distributions import NormalOutput\n",
    "from sklearn.metrics import mean_absolute_error, median_absolute_error, mean_squared_error\n"
   ]
  },
  {
   "cell_type": "code",
   "execution_count": 2,
   "metadata": {},
   "outputs": [],
   "source": [
    "freq = \"D\"\n",
    "prediction_length = 30\n",
    "\n",
    "# Import dataset\n",
    "train_data = pd.read_csv(\"../datasets/exchange/train.csv\")\n",
    "val_data = pd.read_csv(\"../datasets/exchange/val.csv\")\n",
    "test_data = pd.read_csv(\"../datasets/exchange/test.csv\")\n",
    "\n",
    "dates = pd.date_range(start=\"1970-01-01\",periods = len(train_data) + len(val_data) + len(test_data), freq = freq)\n",
    "\n",
    "train_data.index = dates[:len(train_data)]\n",
    "val_data.index = dates[len(train_data):len(train_data) + len(val_data)]\n",
    "test_data.index = dates[len(train_data) + len(val_data):]\n",
    "\n",
    "# Normalize the signal power of each column\n",
    "stds = train_data.std()\n",
    "train_data /= stds\n",
    "val_data /= stds\n",
    "test_data /= stds\n",
    "\n",
    "# Get training, validation and test dataset\n",
    "train_flat = train_data.stack().reset_index()\n",
    "train_flat.columns = [\"date\", \"series\", \"value\"]\n",
    "train_dataset = PandasDataset.from_long_dataframe(train_flat, target=\"value\",item_id=\"series\",timestamp=\"date\",freq=freq)\n",
    "\n",
    "val_flat = val_data.stack().reset_index()\n",
    "val_flat.columns = [\"date\", \"series\", \"value\"]\n",
    "val_dataset = PandasDataset.from_long_dataframe(val_flat, target=\"value\",item_id=\"series\",timestamp=\"date\",freq=freq)\n",
    "val_dataset_14 = [PandasDataset.from_long_dataframe(val_flat.iloc[:-prediction_length*i*train_data.shape[1]] if i != 0 else val_flat, target=\"value\",item_id=\"series\",timestamp=\"date\",freq=freq) for i in range(14)]\n",
    "\n",
    "test_flat = val_data.stack().reset_index()\n",
    "test_flat.columns = [\"date\", \"series\", \"value\"]\n",
    "test_dataset_14 = [PandasDataset.from_long_dataframe(test_flat.iloc[:-prediction_length*i*train_data.shape[1]] if i != 0 else val_flat, target=\"value\",item_id=\"series\",timestamp=\"date\",freq=freq) for i in range(14)]"
   ]
  },
  {
   "cell_type": "code",
   "execution_count": 3,
   "metadata": {},
   "outputs": [],
   "source": [
    "# Train the model and make predictions\n",
    "model = DeepAREstimator(\n",
    "    prediction_length = prediction_length, \n",
    "    freq=freq,\n",
    "    context_length = 1*prediction_length,\n",
    "    num_layers = 1,\n",
    "    hidden_size = 30,\n",
    "    lr = 1e-4,\n",
    "    dropout_rate = 0.01,\n",
    "    distr_output = NormalOutput(),\n",
    "    trainer_kwargs={\"max_epochs\": 1}\n",
    ")"
   ]
  },
  {
   "cell_type": "code",
   "execution_count": 4,
   "metadata": {},
   "outputs": [
    {
     "name": "stderr",
     "output_type": "stream",
     "text": [
      "/rds/general/user/ejh19/home/Final-Year-Project/deepar/.venv/lib/python3.10/site-packages/torch/nn/modules/rnn.py:67: UserWarning: dropout option adds dropout after all but last recurrent layer, so non-zero dropout expects num_layers greater than 1, but got dropout=0.01 and num_layers=1\n",
      "  warnings.warn(\"dropout option adds dropout after all but last \"\n",
      "GPU available: True (cuda), used: False\n",
      "TPU available: False, using: 0 TPU cores\n",
      "IPU available: False, using: 0 IPUs\n",
      "HPU available: False, using: 0 HPUs\n",
      "/rds/general/user/ejh19/home/Final-Year-Project/deepar/.venv/lib/python3.10/site-packages/pytorch_lightning/trainer/setup.py:176: PossibleUserWarning: GPU available but not used. Set `accelerator` and `devices` using `Trainer(accelerator='gpu', devices=1)`.\n",
      "  rank_zero_warn(\n",
      "/rds/general/user/ejh19/home/Final-Year-Project/deepar/.venv/lib/python3.10/site-packages/pytorch_lightning/trainer/connectors/logger_connector/logger_connector.py:67: UserWarning: Starting from v1.9.0, `tensorboardX` has been removed as a dependency of the `pytorch_lightning` package, due to potential conflicts with other packages in the ML ecosystem. For this reason, `logger=True` will use `CSVLogger` as the default logger, unless the `tensorboard` or `tensorboardX` packages are found. Please `pip install lightning[extra]` or one of them to enable TensorBoard support by default\n",
      "  warning_cache.warn(\n",
      "\n",
      "  | Name  | Type        | Params | In sizes | Out sizes   \n",
      "----------------------------------------------------------------\n",
      "0 | model | DeepARModel | 8.3 K  | ?        | [1, 100, 30]\n",
      "----------------------------------------------------------------\n",
      "8.3 K     Trainable params\n",
      "0         Non-trainable params\n",
      "8.3 K     Total params\n",
      "0.033     Total estimated model params size (MB)\n"
     ]
    },
    {
     "data": {
      "application/vnd.jupyter.widget-view+json": {
       "model_id": "0af4daa508fb44738ca4018f4d860556",
       "version_major": 2,
       "version_minor": 0
      },
      "text/plain": [
       "Sanity Checking: 0it [00:00, ?it/s]"
      ]
     },
     "metadata": {},
     "output_type": "display_data"
    },
    {
     "data": {
      "application/vnd.jupyter.widget-view+json": {
       "model_id": "91f36701794f4264a0c2a397164be2f4",
       "version_major": 2,
       "version_minor": 0
      },
      "text/plain": [
       "Training: 0it [00:00, ?it/s]"
      ]
     },
     "metadata": {},
     "output_type": "display_data"
    },
    {
     "data": {
      "application/vnd.jupyter.widget-view+json": {
       "model_id": "2a9c78f395494574bc045077d390867d",
       "version_major": 2,
       "version_minor": 0
      },
      "text/plain": [
       "Validation: 0it [00:00, ?it/s]"
      ]
     },
     "metadata": {},
     "output_type": "display_data"
    },
    {
     "name": "stderr",
     "output_type": "stream",
     "text": [
      "Epoch 0, global step 50: 'val_loss' reached 2.54597 (best 2.54597), saving model to '/rds/general/user/ejh19/home/Final-Year-Project/deepar/lightning_logs/version_11/checkpoints/epoch=0-step=50.ckpt' as top 1\n",
      "`Trainer.fit` stopped: `max_epochs=1` reached.\n"
     ]
    }
   ],
   "source": [
    "predictor = model.train(training_data=train_dataset,validation_data=val_dataset,num_workers=3)"
   ]
  },
  {
   "cell_type": "code",
   "execution_count": 9,
   "metadata": {},
   "outputs": [
    {
     "name": "stdout",
     "output_type": "stream",
     "text": [
      "0.7281005382537842\n"
     ]
    }
   ],
   "source": [
    "# Validation test\n",
    "samples = []\n",
    "realisations = []\n",
    "\n",
    "start = time.time()\n",
    "for dataset in test_dataset_14:\n",
    "    \n",
    "    forecast_it, ts_it = make_evaluation_predictions(\n",
    "        dataset=dataset,\n",
    "        predictor=predictor,\n",
    "        num_samples=128\n",
    "    )\n",
    "\n",
    "    samples.append(list(forecast_it))\n",
    "    realisations.append(list(ts_it))\n",
    "print(time.time() - start)"
   ]
  },
  {
   "cell_type": "code",
   "execution_count": 5,
   "metadata": {},
   "outputs": [],
   "source": [
    "pred = list(model.predict(new_dataset))\n"
   ]
  },
  {
   "cell_type": "code",
   "execution_count": 6,
   "metadata": {},
   "outputs": [
    {
     "data": {
      "text/plain": [
       "(100, 12)"
      ]
     },
     "execution_count": 6,
     "metadata": {},
     "output_type": "execute_result"
    }
   ],
   "source": [
    "pred[1].samples.shape"
   ]
  },
  {
   "cell_type": "code",
   "execution_count": 7,
   "metadata": {},
   "outputs": [
    {
     "data": {
      "text/plain": [
       "gluonts.model.forecast.SampleForecast(info=None, item_id='1', samples=array([[3.9303932, 3.2164402, 3.6159856, ..., 4.2684064, 5.360932 ,\n",
       "        5.1077003],\n",
       "       [3.277662 , 3.2323525, 4.0443892, ..., 3.632226 , 5.9036365,\n",
       "        5.899686 ],\n",
       "       [3.9359155, 3.381524 , 3.0987148, ..., 4.453673 , 4.8194013,\n",
       "        4.958897 ],\n",
       "       ...,\n",
       "       [3.78797  , 3.481149 , 3.2541785, ..., 5.219766 , 6.309618 ,\n",
       "        4.4366674],\n",
       "       [3.6072724, 3.0258396, 3.3209856, ..., 4.6233687, 5.066903 ,\n",
       "        5.343836 ],\n",
       "       [3.0499535, 2.822828 , 2.7089305, ..., 4.4145417, 4.441472 ,\n",
       "        5.085745 ]], dtype=float32), start_date=Period('2014-05-02 00:00', 'H'))"
      ]
     },
     "execution_count": 7,
     "metadata": {},
     "output_type": "execute_result"
    }
   ],
   "source": [
    "pred[1]"
   ]
  },
  {
   "cell_type": "code",
   "execution_count": 24,
   "metadata": {},
   "outputs": [],
   "source": [
    "forecast_it, ts_it = make_evaluation_predictions(\n",
    "    dataset=new_dataset,\n",
    "    predictor=model,\n",
    "    num_samples=128\n",
    ")\n"
   ]
  },
  {
   "cell_type": "code",
   "execution_count": 25,
   "metadata": {},
   "outputs": [],
   "source": [
    "samples = list(forecast_it)\n",
    "realisations = list(ts_it)"
   ]
  },
  {
   "cell_type": "code",
   "execution_count": 26,
   "metadata": {},
   "outputs": [
    {
     "data": {
      "text/html": [
       "<div>\n",
       "<style scoped>\n",
       "    .dataframe tbody tr th:only-of-type {\n",
       "        vertical-align: middle;\n",
       "    }\n",
       "\n",
       "    .dataframe tbody tr th {\n",
       "        vertical-align: top;\n",
       "    }\n",
       "\n",
       "    .dataframe thead th {\n",
       "        text-align: right;\n",
       "    }\n",
       "</style>\n",
       "<table border=\"1\" class=\"dataframe\">\n",
       "  <thead>\n",
       "    <tr style=\"text-align: right;\">\n",
       "      <th></th>\n",
       "      <th>0</th>\n",
       "    </tr>\n",
       "  </thead>\n",
       "  <tbody>\n",
       "    <tr>\n",
       "      <th>2012-01-01 01:00</th>\n",
       "      <td>0.597613</td>\n",
       "    </tr>\n",
       "    <tr>\n",
       "      <th>2012-01-01 02:00</th>\n",
       "      <td>0.996021</td>\n",
       "    </tr>\n",
       "    <tr>\n",
       "      <th>2012-01-01 03:00</th>\n",
       "      <td>0.597613</td>\n",
       "    </tr>\n",
       "    <tr>\n",
       "      <th>2012-01-01 04:00</th>\n",
       "      <td>0.796817</td>\n",
       "    </tr>\n",
       "    <tr>\n",
       "      <th>2012-01-01 05:00</th>\n",
       "      <td>0.597613</td>\n",
       "    </tr>\n",
       "    <tr>\n",
       "      <th>...</th>\n",
       "      <td>...</td>\n",
       "    </tr>\n",
       "    <tr>\n",
       "      <th>2014-05-01 19:00</th>\n",
       "      <td>0.398408</td>\n",
       "    </tr>\n",
       "    <tr>\n",
       "      <th>2014-05-01 20:00</th>\n",
       "      <td>0.398408</td>\n",
       "    </tr>\n",
       "    <tr>\n",
       "      <th>2014-05-01 21:00</th>\n",
       "      <td>0.597613</td>\n",
       "    </tr>\n",
       "    <tr>\n",
       "      <th>2014-05-01 22:00</th>\n",
       "      <td>0.796817</td>\n",
       "    </tr>\n",
       "    <tr>\n",
       "      <th>2014-05-01 23:00</th>\n",
       "      <td>0.597613</td>\n",
       "    </tr>\n",
       "  </tbody>\n",
       "</table>\n",
       "<p>20447 rows × 1 columns</p>\n",
       "</div>"
      ],
      "text/plain": [
       "                         0\n",
       "2012-01-01 01:00  0.597613\n",
       "2012-01-01 02:00  0.996021\n",
       "2012-01-01 03:00  0.597613\n",
       "2012-01-01 04:00  0.796817\n",
       "2012-01-01 05:00  0.597613\n",
       "...                    ...\n",
       "2014-05-01 19:00  0.398408\n",
       "2014-05-01 20:00  0.398408\n",
       "2014-05-01 21:00  0.597613\n",
       "2014-05-01 22:00  0.796817\n",
       "2014-05-01 23:00  0.597613\n",
       "\n",
       "[20447 rows x 1 columns]"
      ]
     },
     "execution_count": 26,
     "metadata": {},
     "output_type": "execute_result"
    }
   ],
   "source": [
    "realisations[0]"
   ]
  },
  {
   "cell_type": "code",
   "execution_count": 29,
   "metadata": {},
   "outputs": [
    {
     "data": {
      "text/plain": [
       "(128, 12)"
      ]
     },
     "execution_count": 29,
     "metadata": {},
     "output_type": "execute_result"
    }
   ],
   "source": [
    "samples[0].samples.shape"
   ]
  },
  {
   "cell_type": "code",
   "execution_count": 30,
   "metadata": {},
   "outputs": [
    {
     "data": {
      "text/plain": [
       "gluonts.model.forecast.SampleForecast(info=None, item_id='0', samples=array([[0.14920929, 0.19042899, 0.28593367, ..., 0.18095239, 0.2066782 ,\n",
       "        0.29034165],\n",
       "       [0.12254633, 0.14677063, 0.27427086, ..., 0.14345118, 0.21614675,\n",
       "        0.36654797],\n",
       "       [0.1085371 , 0.04453568, 0.22900346, ..., 0.19700179, 0.18823113,\n",
       "        0.20362692],\n",
       "       ...,\n",
       "       [0.18475005, 0.15086094, 0.30809957, ..., 0.22552243, 0.29208207,\n",
       "        0.25332835],\n",
       "       [0.1783875 , 0.19683847, 0.15335591, ..., 0.181498  , 0.19806147,\n",
       "        0.4102625 ],\n",
       "       [0.17266878, 0.14753357, 0.287405  , ..., 0.12129243, 0.24648437,\n",
       "        0.2652388 ]], dtype=float32), start_date=Period('2014-05-01 12:00', 'H'))"
      ]
     },
     "execution_count": 30,
     "metadata": {},
     "output_type": "execute_result"
    }
   ],
   "source": [
    "samples[0]"
   ]
  },
  {
   "cell_type": "code",
   "execution_count": 13,
   "metadata": {},
   "outputs": [
    {
     "data": {
      "text/plain": [
       "319"
      ]
     },
     "execution_count": 13,
     "metadata": {},
     "output_type": "execute_result"
    }
   ],
   "source": [
    "len(samples)"
   ]
  },
  {
   "cell_type": "code",
   "execution_count": 14,
   "metadata": {},
   "outputs": [
    {
     "data": {
      "text/plain": [
       "319"
      ]
     },
     "execution_count": 14,
     "metadata": {},
     "output_type": "execute_result"
    }
   ],
   "source": [
    "len(realisations)"
   ]
  },
  {
   "cell_type": "code",
   "execution_count": 20,
   "metadata": {},
   "outputs": [],
   "source": [
    " # Import dataset\n",
    "train_data = pd.read_csv(\"../datasets/electricity/train.csv\", index_col=\"date\")\n",
    "val_data = pd.read_csv(\"../datasets/electricity/val.csv\", index_col=\"date\")\n",
    "\n",
    "# Normalize the signal power of each column\n",
    "stds = train_data.std()\n",
    "train_data /= stds\n",
    "val_data /= stds\n",
    "\n",
    "# Convert data into a glounts ListDataset\n",
    "def get_dataset(df: pd.DataFrame, freq: str = \"h\", indices = [-1]) -> ListDataset:\n",
    "    return ListDataset(\n",
    "        [\n",
    "            {\n",
    "                \"start\": df.index[0],\n",
    "                \"target\": df.values[:i].T,\n",
    "            }\n",
    "            for i in indices\n",
    "        ],\n",
    "        freq=freq,\n",
    "        one_dim_target=False\n",
    "    )\n",
    "\n",
    "train_dataset = get_dataset(train_data)\n",
    "val_dataset_14 = get_dataset(val_data, indices=list(range(val_data.shape[0], val_data.shape[0] - 14*prediction_length, -prediction_length)))\n"
   ]
  },
  {
   "cell_type": "code",
   "execution_count": 21,
   "metadata": {},
   "outputs": [],
   "source": [
    "forecast_it, ts_it = make_evaluation_predictions(\n",
    "    dataset=val_dataset_14,\n",
    "    predictor=model,\n",
    "    num_samples=128\n",
    ")"
   ]
  },
  {
   "cell_type": "code",
   "execution_count": 22,
   "metadata": {},
   "outputs": [
    {
     "name": "stdout",
     "output_type": "stream",
     "text": [
      "Unexpected exception formatting exception. Falling back to standard exception\n"
     ]
    },
    {
     "name": "stderr",
     "output_type": "stream",
     "text": [
      "Traceback (most recent call last):\n",
      "  File \"/rds/general/user/ejh19/home/Final-Year-Project/deepar/.venv/lib/python3.10/site-packages/IPython/core/interactiveshell.py\", line 3508, in run_code\n",
      "    exec(code_obj, self.user_global_ns, self.user_ns)\n",
      "  File \"/var/tmp/pbs.7723944.pbs/ipykernel_614275/579783497.py\", line 1, in <module>\n",
      "    samples = list(forecast_it)\n",
      "  File \"/rds/general/user/ejh19/home/Final-Year-Project/deepar/.venv/lib/python3.10/site-packages/gluonts/torch/model/predictor.py\", line 85, in predict\n",
      "  File \"/rds/general/user/ejh19/home/Final-Year-Project/deepar/.venv/lib/python3.10/site-packages/gluonts/model/forecast_generator.py\", line 154, in __call__\n",
      "    for batch in inference_data_loader:\n",
      "  File \"/rds/general/user/ejh19/home/Final-Year-Project/deepar/.venv/lib/python3.10/site-packages/gluonts/transform/_base.py\", line 111, in __iter__\n",
      "    yield from self.transformation(\n",
      "  File \"/rds/general/user/ejh19/home/Final-Year-Project/deepar/.venv/lib/python3.10/site-packages/gluonts/transform/_base.py\", line 132, in __call__\n",
      "    for data_entry in data_it:\n",
      "  File \"/rds/general/user/ejh19/home/Final-Year-Project/deepar/.venv/lib/python3.10/site-packages/gluonts/dataset/loader.py\", line 50, in __call__\n",
      "    yield from batcher(data, self.batch_size)\n",
      "  File \"/rds/general/user/ejh19/home/Final-Year-Project/deepar/.venv/lib/python3.10/site-packages/gluonts/itertools.py\", line 125, in get_batch\n",
      "    return list(itertools.islice(it, batch_size))\n",
      "  File \"/rds/general/user/ejh19/home/Final-Year-Project/deepar/.venv/lib/python3.10/site-packages/gluonts/transform/_base.py\", line 186, in __call__\n",
      "    for data_entry in data_it:\n",
      "  File \"/rds/general/user/ejh19/home/Final-Year-Project/deepar/.venv/lib/python3.10/site-packages/gluonts/transform/_base.py\", line 132, in __call__\n",
      "    for data_entry in data_it:\n",
      "  File \"/rds/general/user/ejh19/home/Final-Year-Project/deepar/.venv/lib/python3.10/site-packages/gluonts/transform/_base.py\", line 132, in __call__\n",
      "    for data_entry in data_it:\n",
      "  File \"/rds/general/user/ejh19/home/Final-Year-Project/deepar/.venv/lib/python3.10/site-packages/gluonts/transform/_base.py\", line 132, in __call__\n",
      "    for data_entry in data_it:\n",
      "  [Previous line repeated 2 more times]\n",
      "  File \"/rds/general/user/ejh19/home/Final-Year-Project/deepar/.venv/lib/python3.10/site-packages/gluonts/transform/_base.py\", line 136, in __call__\n",
      "    raise e\n",
      "  File \"/rds/general/user/ejh19/home/Final-Year-Project/deepar/.venv/lib/python3.10/site-packages/gluonts/transform/_base.py\", line 134, in __call__\n",
      "    yield self.map_transform(data_entry.copy(), is_train)\n",
      "  File \"/rds/general/user/ejh19/home/Final-Year-Project/deepar/.venv/lib/python3.10/site-packages/gluonts/transform/_base.py\", line 149, in map_transform\n",
      "    return self.transform(data)\n",
      "  File \"/rds/general/user/ejh19/home/Final-Year-Project/deepar/.venv/lib/python3.10/site-packages/gluonts/transform/convert.py\", line 139, in transform\n",
      "    assert_data_error(\n",
      "  File \"/rds/general/user/ejh19/home/Final-Year-Project/deepar/.venv/lib/python3.10/site-packages/gluonts/exceptions.py\", line 116, in assert_data_error\n",
      "    assert_gluonts(GluonTSDataError, condition, message, *args, **kwargs)\n",
      "  File \"/rds/general/user/ejh19/home/Final-Year-Project/deepar/.venv/lib/python3.10/site-packages/gluonts/exceptions.py\", line 95, in assert_gluonts\n",
      "    raise exception_class(message.format(*args, **kwargs))\n",
      "gluonts.exceptions.GluonTSDataError: Input for field \"target\" does not have the requireddimension (field: target, ndim observed: 2, expected ndim: 1)\n",
      "\n",
      "During handling of the above exception, another exception occurred:\n",
      "\n",
      "Traceback (most recent call last):\n",
      "  File \"/rds/general/user/ejh19/home/Final-Year-Project/deepar/.venv/lib/python3.10/site-packages/IPython/core/interactiveshell.py\", line 2105, in showtraceback\n",
      "    stb = self.InteractiveTB.structured_traceback(\n",
      "  File \"/rds/general/user/ejh19/home/Final-Year-Project/deepar/.venv/lib/python3.10/site-packages/IPython/core/ultratb.py\", line 1428, in structured_traceback\n",
      "    return FormattedTB.structured_traceback(\n",
      "  File \"/rds/general/user/ejh19/home/Final-Year-Project/deepar/.venv/lib/python3.10/site-packages/IPython/core/ultratb.py\", line 1319, in structured_traceback\n",
      "    return VerboseTB.structured_traceback(\n",
      "  File \"/rds/general/user/ejh19/home/Final-Year-Project/deepar/.venv/lib/python3.10/site-packages/IPython/core/ultratb.py\", line 1172, in structured_traceback\n",
      "    formatted_exception = self.format_exception_as_a_whole(etype, evalue, etb, number_of_lines_of_context,\n",
      "  File \"/rds/general/user/ejh19/home/Final-Year-Project/deepar/.venv/lib/python3.10/site-packages/IPython/core/ultratb.py\", line 1087, in format_exception_as_a_whole\n",
      "    frames.append(self.format_record(record))\n",
      "  File \"/rds/general/user/ejh19/home/Final-Year-Project/deepar/.venv/lib/python3.10/site-packages/IPython/core/ultratb.py\", line 969, in format_record\n",
      "    frame_info.lines, Colors, self.has_colors, lvals\n",
      "  File \"/rds/general/user/ejh19/home/Final-Year-Project/deepar/.venv/lib/python3.10/site-packages/IPython/core/ultratb.py\", line 792, in lines\n",
      "    return self._sd.lines\n",
      "  File \"/rds/general/user/ejh19/home/Final-Year-Project/deepar/.venv/lib/python3.10/site-packages/stack_data/utils.py\", line 144, in cached_property_wrapper\n",
      "    value = obj.__dict__[self.func.__name__] = self.func(obj)\n",
      "  File \"/rds/general/user/ejh19/home/Final-Year-Project/deepar/.venv/lib/python3.10/site-packages/stack_data/core.py\", line 734, in lines\n",
      "    pieces = self.included_pieces\n",
      "  File \"/rds/general/user/ejh19/home/Final-Year-Project/deepar/.venv/lib/python3.10/site-packages/stack_data/utils.py\", line 144, in cached_property_wrapper\n",
      "    value = obj.__dict__[self.func.__name__] = self.func(obj)\n",
      "  File \"/rds/general/user/ejh19/home/Final-Year-Project/deepar/.venv/lib/python3.10/site-packages/stack_data/core.py\", line 681, in included_pieces\n",
      "    pos = scope_pieces.index(self.executing_piece)\n",
      "  File \"/rds/general/user/ejh19/home/Final-Year-Project/deepar/.venv/lib/python3.10/site-packages/stack_data/utils.py\", line 144, in cached_property_wrapper\n",
      "    value = obj.__dict__[self.func.__name__] = self.func(obj)\n",
      "  File \"/rds/general/user/ejh19/home/Final-Year-Project/deepar/.venv/lib/python3.10/site-packages/stack_data/core.py\", line 660, in executing_piece\n",
      "    return only(\n",
      "  File \"/rds/general/user/ejh19/home/Final-Year-Project/deepar/.venv/lib/python3.10/site-packages/executing/executing.py\", line 190, in only\n",
      "    raise NotOneValueFound('Expected one value, found 0')\n",
      "executing.executing.NotOneValueFound: Expected one value, found 0\n"
     ]
    }
   ],
   "source": [
    "samples = list(forecast_it)\n",
    "realisations = list(ts_it)"
   ]
  },
  {
   "cell_type": "code",
   "execution_count": 23,
   "metadata": {},
   "outputs": [
    {
     "data": {
      "text/plain": [
       "[{'start': Period('2014-05-02 00:00', 'H'),\n",
       "  'target': array([[0.39840835, 0.59761256, 0.59761256, ..., 2.191246  , 2.191246  ,\n",
       "          2.191246  ],\n",
       "         [3.7999337 , 3.5827944 , 3.1485164 , ..., 5.319907  , 5.2113376 ,\n",
       "          5.862755  ],\n",
       "         [0.12322228, 0.12322228, 0.12322228, ..., 0.18483342, 0.18483342,\n",
       "          0.12322228],\n",
       "         ...,\n",
       "         [5.310667  , 5.2021627 , 4.478803  , ..., 3.5384352 , 3.5203512 ,\n",
       "          2.8030193 ],\n",
       "         [2.3278568 , 2.3784626 , 1.1892313 , ..., 0.7084782 , 0.6831754 ,\n",
       "          0.7084782 ],\n",
       "         [4.972996  , 4.825492  , 5.0362124 , ..., 5.6683726 , 6.158297  ,\n",
       "          6.5007176 ]], dtype=float32)},\n",
       " {'start': Period('2014-05-02 00:00', 'H'),\n",
       "  'target': array([[0.39840835, 0.59761256, 0.59761256, ..., 2.3904502 , 2.3904502 ,\n",
       "          5.1793084 ],\n",
       "         [3.7999337 , 3.5827944 , 3.1485164 , ..., 5.2113376 , 5.319907  ,\n",
       "          5.862755  ],\n",
       "         [0.12322228, 0.12322228, 0.12322228, ..., 0.06161114, 0.12322228,\n",
       "          0.06161114],\n",
       "         ...,\n",
       "         [5.310667  , 5.2021627 , 4.478803  , ..., 3.9784791 , 4.147263  ,\n",
       "          4.261795  ],\n",
       "         [2.3278568 , 2.3784626 , 1.1892313 , ..., 1.5940759 , 1.6193787 ,\n",
       "          1.5434704 ],\n",
       "         [4.972996  , 4.825492  , 5.0362124 , ..., 6.1214213 , 6.3110695 ,\n",
       "          6.6850977 ]], dtype=float32)},\n",
       " {'start': Period('2014-05-02 00:00', 'H'),\n",
       "  'target': array([[0.39840835, 0.59761256, 0.59761256, ..., 2.3904502 , 2.3904502 ,\n",
       "          5.378513  ],\n",
       "         [3.7999337 , 3.5827944 , 3.1485164 , ..., 5.6456156 , 5.2113376 ,\n",
       "          4.8856287 ],\n",
       "         [0.12322228, 0.12322228, 0.12322228, ..., 0.12322228, 0.12322228,\n",
       "          0.12322228],\n",
       "         ...,\n",
       "         [5.310667  , 5.2021627 , 4.478803  , ..., 3.9543672 , 4.400439  ,\n",
       "          4.502915  ],\n",
       "         [2.3278568 , 2.3784626 , 1.1892313 , ..., 1.5687732 , 1.8471038 ,\n",
       "          1.7711954 ],\n",
       "         [4.972996  , 4.825492  , 5.0362124 , ..., 6.2215133 , 6.664026  ,\n",
       "          7.001178  ]], dtype=float32)},\n",
       " {'start': Period('2014-05-02 00:00', 'H'),\n",
       "  'target': array([[0.39840835, 0.59761256, 0.59761256, ..., 2.191246  , 2.191246  ,\n",
       "          2.191246  ],\n",
       "         [3.7999337 , 3.5827944 , 3.1485164 , ..., 4.9941983 , 5.319907  ,\n",
       "          5.102768  ],\n",
       "         [0.12322228, 0.12322228, 0.12322228, ..., 0.12322228, 0.06161114,\n",
       "          0.12322228],\n",
       "         ...,\n",
       "         [5.310667  , 5.2021627 , 4.478803  , ..., 4.364271  , 4.099039  ,\n",
       "          3.2310073 ],\n",
       "         [2.3278568 , 2.3784626 , 1.1892313 , ..., 1.8218011 , 2.1001318 ,\n",
       "          2.0495262 ],\n",
       "         [4.972996  , 4.825492  , 5.0362124 , ..., 6.4111614 , 6.906354  ,\n",
       "          6.7377777 ]], dtype=float32)},\n",
       " {'start': Period('2014-05-02 00:00', 'H'),\n",
       "  'target': array([[0.39840835, 0.59761256, 0.59761256, ..., 2.191246  , 2.191246  ,\n",
       "          2.191246  ],\n",
       "         [3.7999337 , 3.5827944 , 3.1485164 , ..., 5.2113376 , 5.102768  ,\n",
       "          4.8856287 ],\n",
       "         [0.12322228, 0.12322228, 0.12322228, ..., 0.12322228, 0.12322228,\n",
       "          0.12322228],\n",
       "         ...,\n",
       "         [5.310667  , 5.2021627 , 4.478803  , ..., 4.189459  , 3.4118474 ,\n",
       "          3.0381112 ],\n",
       "         [2.3278568 , 2.3784626 , 1.1892313 , ..., 1.7711954 , 1.7458926 ,\n",
       "          1.7205899 ],\n",
       "         [4.972996  , 4.825492  , 5.0362124 , ..., 6.2636576 , 6.848406  ,\n",
       "          6.769386  ]], dtype=float32)},\n",
       " {'start': Period('2014-05-02 00:00', 'H'),\n",
       "  'target': array([[0.39840835, 0.59761256, 0.59761256, ..., 2.3904502 , 2.3904502 ,\n",
       "          2.191246  ],\n",
       "         [3.7999337 , 3.5827944 , 3.1485164 , ..., 4.9941983 , 5.102768  ,\n",
       "          5.102768  ],\n",
       "         [0.12322228, 0.12322228, 0.12322228, ..., 0.12322228, 0.12322228,\n",
       "          0.06161114],\n",
       "         ...,\n",
       "         [5.310667  , 5.2021627 , 4.478803  , ..., 3.1044192 , 3.5746033 ,\n",
       "          4.472775  ],\n",
       "         [2.3278568 , 2.3784626 , 1.1892313 , ..., 1.7711954 , 1.8218011 ,\n",
       "          1.9736178 ],\n",
       "         [4.972996  , 4.825492  , 5.0362124 , ..., 6.2899976 , 6.8378696 ,\n",
       "          7.20663   ]], dtype=float32)},\n",
       " {'start': Period('2014-05-02 00:00', 'H'),\n",
       "  'target': array([[0.39840835, 0.59761256, 0.59761256, ..., 2.3904502 , 2.191246  ,\n",
       "          2.3904502 ],\n",
       "         [3.7999337 , 3.5827944 , 3.1485164 , ..., 5.2113376 , 5.754185  ,\n",
       "          5.6456156 ],\n",
       "         [0.12322228, 0.12322228, 0.12322228, ..., 0.12322228, 0.12322228,\n",
       "          0.12322228],\n",
       "         ...,\n",
       "         [5.310667  , 5.2021627 , 4.478803  , ..., 3.2551193 , 3.5022671 ,\n",
       "          3.2611473 ],\n",
       "         [2.3278568 , 2.3784626 , 1.1892313 , ..., 0.75908375, 0.607267  ,\n",
       "          0.53135866],\n",
       "         [4.972996  , 4.825492  , 5.0362124 , ..., 5.4839926 , 5.5156007 ,\n",
       "          5.789537  ]], dtype=float32)},\n",
       " {'start': Period('2014-05-02 00:00', 'H'),\n",
       "  'target': array([[0.39840835, 0.59761256, 0.59761256, ..., 2.3904502 , 2.3904502 ,\n",
       "          2.3904502 ],\n",
       "         [3.7999337 , 3.5827944 , 3.1485164 , ..., 5.2113376 , 5.537046  ,\n",
       "          5.6456156 ],\n",
       "         [0.12322228, 0.12322228, 0.12322228, ..., 0.18483342, 0.18483342,\n",
       "          0.12322228],\n",
       "         ...,\n",
       "         [5.310667  , 5.2021627 , 4.478803  , ..., 4.159319  , 3.9483392 ,\n",
       "          3.5324073 ],\n",
       "         [2.3278568 , 2.3784626 , 1.1892313 , ..., 0.6578726 , 0.6831754 ,\n",
       "          0.6831754 ],\n",
       "         [4.972996  , 4.825492  , 5.0362124 , ..., 6.0740094 , 6.131957  ,\n",
       "          6.3848214 ]], dtype=float32)},\n",
       " {'start': Period('2014-05-02 00:00', 'H'),\n",
       "  'target': array([[0.39840835, 0.59761256, 0.59761256, ..., 2.191246  , 2.3904502 ,\n",
       "          4.1832876 ],\n",
       "         [3.7999337 , 3.5827944 , 3.1485164 , ..., 5.4284763 , 5.4284763 ,\n",
       "          5.4284763 ],\n",
       "         [0.12322228, 0.12322228, 0.12322228, ..., 0.06161114, 0.12322228,\n",
       "          0.06161114],\n",
       "         ...,\n",
       "         [5.310667  , 5.2021627 , 4.478803  , ..., 4.310019  , 4.1050673 ,\n",
       "          4.291935  ],\n",
       "         [2.3278568 , 2.3784626 , 1.1892313 , ..., 1.8471038 , 1.8724066 ,\n",
       "          1.9230123 ],\n",
       "         [4.972996  , 4.825492  , 5.0362124 , ..., 7.032786  , 7.5964627 ,\n",
       "          8.0758505 ]], dtype=float32)},\n",
       " {'start': Period('2014-05-02 00:00', 'H'),\n",
       "  'target': array([[0.39840835, 0.59761256, 0.59761256, ..., 2.3904502 , 2.191246  ,\n",
       "          2.3904502 ],\n",
       "         [3.7999337 , 3.5827944 , 3.1485164 , ..., 5.319907  , 5.4284763 ,\n",
       "          5.102768  ],\n",
       "         [0.12322228, 0.12322228, 0.12322228, ..., 0.12322228, 0.12322228,\n",
       "          0.12322228],\n",
       "         ...,\n",
       "         [5.310667  , 5.2021627 , 4.478803  , ..., 4.195487  , 3.9965632 ,\n",
       "          3.2490914 ],\n",
       "         [2.3278568 , 2.3784626 , 1.1892313 , ..., 1.8977094 , 2.0495262 ,\n",
       "          1.9989206 ],\n",
       "         [4.972996  , 4.825492  , 5.0362124 , ..., 7.111806  , 7.517442  ,\n",
       "          7.833523  ]], dtype=float32)},\n",
       " {'start': Period('2014-05-02 00:00', 'H'),\n",
       "  'target': array([[0.39840835, 0.59761256, 0.59761256, ..., 1.5936334 , 0.        ,\n",
       "          0.19920418],\n",
       "         [3.7999337 , 3.5827944 , 3.1485164 , ..., 5.862755  , 5.537046  ,\n",
       "          5.102768  ],\n",
       "         [0.12322228, 0.12322228, 0.12322228, ..., 0.12322228, 0.06161114,\n",
       "          0.12322228],\n",
       "         ...,\n",
       "         [5.310667  , 5.2021627 , 4.478803  , ..., 3.8880591 , 3.4841833 ,\n",
       "          2.8934393 ],\n",
       "         [2.3278568 , 2.3784626 , 1.1892313 , ..., 1.6446815 , 2.1001318 ,\n",
       "          1.948315  ],\n",
       "         [4.972996  , 4.825492  , 5.0362124 , ..., 6.3637495 , 7.032786  ,\n",
       "          7.201362  ]], dtype=float32)},\n",
       " {'start': Period('2014-05-02 00:00', 'H'),\n",
       "  'target': array([[0.39840835, 0.59761256, 0.59761256, ..., 5.577717  , 0.        ,\n",
       "          0.19920418],\n",
       "         [3.7999337 , 3.5827944 , 3.1485164 , ..., 5.102768  , 5.4284763 ,\n",
       "          5.2113376 ],\n",
       "         [0.12322228, 0.12322228, 0.12322228, ..., 0.12322228, 0.12322228,\n",
       "          0.12322228],\n",
       "         ...,\n",
       "         [5.310667  , 5.2021627 , 4.478803  , ..., 3.7011912 , 3.6107712 ,\n",
       "          4.062871  ],\n",
       "         [2.3278568 , 2.3784626 , 1.1892313 , ..., 1.6952871 , 2.0242233 ,\n",
       "          1.948315  ],\n",
       "         [4.972996  , 4.825492  , 5.0362124 , ..., 6.5270576 , 6.848406  ,\n",
       "          7.4542265 ]], dtype=float32)},\n",
       " {'start': Period('2014-05-02 00:00', 'H'),\n",
       "  'target': array([[0.39840835, 0.59761256, 0.59761256, ..., 3.7848794 , 2.3904502 ,\n",
       "          2.3904502 ],\n",
       "         [3.7999337 , 3.5827944 , 3.1485164 , ..., 5.102768  , 5.319907  ,\n",
       "          4.9941983 ],\n",
       "         [0.12322228, 0.12322228, 0.12322228, ..., 0.12322228, 0.12322228,\n",
       "          0.06161114],\n",
       "         ...,\n",
       "         [5.310667  , 5.2021627 , 4.478803  , ..., 3.689135  , 3.5022671 ,\n",
       "          3.6529672 ],\n",
       "         [2.3278568 , 2.3784626 , 1.1892313 , ..., 1.5940759 , 1.7458926 ,\n",
       "          1.7964983 ],\n",
       "         [4.972996  , 4.825492  , 5.0362124 , ..., 5.984453  , 6.3321414 ,\n",
       "          6.716706  ]], dtype=float32)},\n",
       " {'start': Period('2014-05-02 00:00', 'H'),\n",
       "  'target': array([[0.39840835, 0.59761256, 0.59761256, ..., 2.3904502 , 2.3904502 ,\n",
       "          2.3904502 ],\n",
       "         [3.7999337 , 3.5827944 , 3.1485164 , ..., 5.2113376 , 5.2113376 ,\n",
       "          5.537046  ],\n",
       "         [0.12322228, 0.12322228, 0.12322228, ..., 0.12322228, 0.12322228,\n",
       "          0.12322228],\n",
       "         ...,\n",
       "         [5.310667  , 5.2021627 , 4.478803  , ..., 3.6348832 , 0.        ,\n",
       "          0.67513585],\n",
       "         [2.3278568 , 2.3784626 , 1.1892313 , ..., 0.607267  , 0.5566614 ,\n",
       "          0.607267  ],\n",
       "         [4.972996  , 4.825492  , 5.0362124 , ..., 5.2627363 , 5.3364887 ,\n",
       "          5.584085  ]], dtype=float32)}]"
      ]
     },
     "execution_count": 23,
     "metadata": {},
     "output_type": "execute_result"
    }
   ],
   "source": [
    "val_dataset_14"
   ]
  },
  {
   "cell_type": "code",
   "execution_count": null,
   "metadata": {},
   "outputs": [],
   "source": []
  }
 ],
 "metadata": {
  "kernelspec": {
   "display_name": "deep3.10",
   "language": "python",
   "name": "deep3.10"
  },
  "language_info": {
   "codemirror_mode": {
    "name": "ipython",
    "version": 3
   },
   "file_extension": ".py",
   "mimetype": "text/x-python",
   "name": "python",
   "nbconvert_exporter": "python",
   "pygments_lexer": "ipython3",
   "version": "3.10.8"
  }
 },
 "nbformat": 4,
 "nbformat_minor": 2
}
