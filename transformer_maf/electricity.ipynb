{
 "cells": [
  {
   "cell_type": "code",
   "execution_count": 1,
   "metadata": {},
   "outputs": [],
   "source": [
    "import torch\n",
    "import sys\n",
    "import time\n",
    "import pandas as pd\n",
    "import numpy as np\n",
    "import matplotlib.pyplot as plt\n",
    "\n",
    "from gluonts.evaluation.backtest import make_evaluation_predictions\n",
    "from gluonts.dataset.common import ListDataset\n",
    "from gluonts.evaluation import MultivariateEvaluator\n",
    "from pts.model.transformer_tempflow import TransformerTempFlowEstimator\n",
    "from pts import Trainer\n",
    "from sklearn.metrics import mean_absolute_error, median_absolute_error, mean_squared_error\n",
    "from typing import List\n",
    "\n",
    "sys.path.append(\"..\")\n",
    "from timefusion.utils import metrics"
   ]
  },
  {
   "cell_type": "code",
   "execution_count": 2,
   "metadata": {},
   "outputs": [],
   "source": [
    "# Import dataset\n",
    "train_data = pd.read_csv(\"../datasets/electricity/train.csv\", index_col=\"date\")\n",
    "val_data = pd.read_csv(\"../datasets/electricity/val.csv\", index_col=\"date\")\n",
    "test_data = pd.read_csv(\"../datasets/electricity/test.csv\", index_col=\"date\")\n",
    "\n",
    "# Normalize the signal power of each column\n",
    "stds = train_data.std()\n",
    "train_data /= stds\n",
    "val_data /= stds\n",
    "test_data /= stds"
   ]
  },
  {
   "cell_type": "code",
   "execution_count": 3,
   "metadata": {},
   "outputs": [],
   "source": [
    "context_length = 48\n",
    "prediction_length = 24\n",
    "\n",
    "# Convert data into a glounts ListDataset\n",
    "def get_dataset(df: pd.DataFrame, freq: str = \"h\", indices: List[int] = [-1]) -> ListDataset:\n",
    "    return ListDataset(\n",
    "        [\n",
    "            {\n",
    "                \"start\": df.index[0],\n",
    "                \"target\": df.values[:i].T,\n",
    "            }\n",
    "            for i in indices\n",
    "        ],\n",
    "        freq=freq,\n",
    "        one_dim_target=False\n",
    "    )\n",
    "\n",
    "train_dataset = get_dataset(train_data)\n",
    "val_dataset = get_dataset(val_data)\n",
    "test_dataset = get_dataset(test_data, indices=list(range(test_data.shape[0], test_data.shape[0] - 14*prediction_length, -prediction_length)))\n"
   ]
  },
  {
   "cell_type": "code",
   "execution_count": 4,
   "metadata": {},
   "outputs": [],
   "source": [
    "device = torch.device(\"cuda\" if torch.cuda.is_available() else \"cpu\")"
   ]
  },
  {
   "cell_type": "code",
   "execution_count": 5,
   "metadata": {},
   "outputs": [],
   "source": [
    "estimator = TransformerTempFlowEstimator(\n",
    "    d_model=32,\n",
    "    num_heads=4,\n",
    "    input_size=1280,\n",
    "    target_dim=train_data.shape[1],\n",
    "    prediction_length=prediction_length,\n",
    "    context_length=context_length,\n",
    "    hidden_size = 64,\n",
    "    n_blocks=5,\n",
    "    dropout_rate = 0.1,\n",
    "    num_encoder_layers=5,\n",
    "    num_decoder_layers=1,\n",
    "    dim_feedforward_scale = 4,\n",
    "    n_hidden=2,\n",
    "    conditioning_length=128,\n",
    "    dequantize=False,\n",
    "    flow_type='RealNVP',\n",
    "    freq=\"h\",\n",
    "    trainer=Trainer(\n",
    "        device=device,\n",
    "        epochs=2,\n",
    "        learning_rate=1e-3,\n",
    "        num_batches_per_epoch=100,\n",
    "        batch_size=64,\n",
    "    ),\n",
    ")"
   ]
  },
  {
   "cell_type": "code",
   "execution_count": 6,
   "metadata": {},
   "outputs": [
    {
     "data": {
      "application/vnd.jupyter.widget-view+json": {
       "model_id": "0df7802d02e046668db850ba478f0b6d",
       "version_major": 2,
       "version_minor": 0
      },
      "text/plain": [
       "  0%|          | 0/99 [00:00<?, ?it/s]"
      ]
     },
     "metadata": {},
     "output_type": "display_data"
    },
    {
     "name": "stderr",
     "output_type": "stream",
     "text": [
      "/rds/general/user/ejh19/home/Final-Year-Project/transformer_maf/.venv/lib/python3.8/site-packages/gluonts/dataset/common.py:324: FutureWarning: The 'freq' argument in Timestamp is deprecated and will be removed in a future version.\n",
      "  timestamp = pd.Timestamp(timestamp_input, freq=freq)\n",
      "/rds/general/user/ejh19/home/Final-Year-Project/transformer_maf/.venv/lib/python3.8/site-packages/gluonts/dataset/common.py:324: FutureWarning: The 'freq' argument in Timestamp is deprecated and will be removed in a future version.\n",
      "  timestamp = pd.Timestamp(timestamp_input, freq=freq)\n",
      "/rds/general/user/ejh19/home/Final-Year-Project/transformer_maf/.venv/lib/python3.8/site-packages/gluonts/dataset/common.py:327: FutureWarning: Timestamp.freq is deprecated and will be removed in a future version.\n",
      "  if isinstance(timestamp.freq, Tick):\n",
      "/rds/general/user/ejh19/home/Final-Year-Project/transformer_maf/.venv/lib/python3.8/site-packages/gluonts/dataset/common.py:327: FutureWarning: Timestamp.freq is deprecated and will be removed in a future version.\n",
      "  if isinstance(timestamp.freq, Tick):\n",
      "/rds/general/user/ejh19/home/Final-Year-Project/transformer_maf/.venv/lib/python3.8/site-packages/gluonts/dataset/common.py:329: FutureWarning: Timestamp.freq is deprecated and will be removed in a future version.\n",
      "  timestamp.floor(timestamp.freq), timestamp.freq\n",
      "/rds/general/user/ejh19/home/Final-Year-Project/transformer_maf/.venv/lib/python3.8/site-packages/gluonts/dataset/common.py:329: FutureWarning: Timestamp.freq is deprecated and will be removed in a future version.\n",
      "  timestamp.floor(timestamp.freq), timestamp.freq\n",
      "/rds/general/user/ejh19/home/Final-Year-Project/transformer_maf/.venv/lib/python3.8/site-packages/gluonts/dataset/common.py:328: FutureWarning: The 'freq' argument in Timestamp is deprecated and will be removed in a future version.\n",
      "  return pd.Timestamp(\n",
      "/rds/general/user/ejh19/home/Final-Year-Project/transformer_maf/.venv/lib/python3.8/site-packages/gluonts/dataset/common.py:328: FutureWarning: The 'freq' argument in Timestamp is deprecated and will be removed in a future version.\n",
      "  return pd.Timestamp(\n",
      "/rds/general/user/ejh19/home/Final-Year-Project/transformer_maf/.venv/lib/python3.8/site-packages/gluonts/dataset/common.py:324: FutureWarning: The 'freq' argument in Timestamp is deprecated and will be removed in a future version.\n",
      "  timestamp = pd.Timestamp(timestamp_input, freq=freq)\n",
      "/rds/general/user/ejh19/home/Final-Year-Project/transformer_maf/.venv/lib/python3.8/site-packages/gluonts/dataset/common.py:324: FutureWarning: The 'freq' argument in Timestamp is deprecated and will be removed in a future version.\n",
      "  timestamp = pd.Timestamp(timestamp_input, freq=freq)\n",
      "/rds/general/user/ejh19/home/Final-Year-Project/transformer_maf/.venv/lib/python3.8/site-packages/gluonts/dataset/common.py:327: FutureWarning: Timestamp.freq is deprecated and will be removed in a future version.\n",
      "  if isinstance(timestamp.freq, Tick):\n",
      "/rds/general/user/ejh19/home/Final-Year-Project/transformer_maf/.venv/lib/python3.8/site-packages/gluonts/dataset/common.py:329: FutureWarning: Timestamp.freq is deprecated and will be removed in a future version.\n",
      "  timestamp.floor(timestamp.freq), timestamp.freq\n",
      "/rds/general/user/ejh19/home/Final-Year-Project/transformer_maf/.venv/lib/python3.8/site-packages/gluonts/dataset/common.py:327: FutureWarning: Timestamp.freq is deprecated and will be removed in a future version.\n",
      "  if isinstance(timestamp.freq, Tick):\n",
      "/rds/general/user/ejh19/home/Final-Year-Project/transformer_maf/.venv/lib/python3.8/site-packages/gluonts/dataset/common.py:328: FutureWarning: The 'freq' argument in Timestamp is deprecated and will be removed in a future version.\n",
      "  return pd.Timestamp(\n",
      "/rds/general/user/ejh19/home/Final-Year-Project/transformer_maf/.venv/lib/python3.8/site-packages/gluonts/dataset/common.py:329: FutureWarning: Timestamp.freq is deprecated and will be removed in a future version.\n",
      "  timestamp.floor(timestamp.freq), timestamp.freq\n",
      "/rds/general/user/ejh19/home/Final-Year-Project/transformer_maf/.venv/lib/python3.8/site-packages/gluonts/dataset/common.py:328: FutureWarning: The 'freq' argument in Timestamp is deprecated and will be removed in a future version.\n",
      "  return pd.Timestamp(\n",
      "/rds/general/user/ejh19/home/Final-Year-Project/transformer_maf/.venv/lib/python3.8/site-packages/gluonts/transform/split.py:36: FutureWarning: Timestamp.freq is deprecated and will be removed in a future version.\n",
      "  return _shift_timestamp_helper(ts, ts.freq, offset)\n",
      "/rds/general/user/ejh19/home/Final-Year-Project/transformer_maf/.venv/lib/python3.8/site-packages/gluonts/transform/split.py:36: FutureWarning: Timestamp.freq is deprecated and will be removed in a future version.\n",
      "  return _shift_timestamp_helper(ts, ts.freq, offset)\n",
      "/rds/general/user/ejh19/home/Final-Year-Project/transformer_maf/.venv/lib/python3.8/site-packages/gluonts/transform/split.py:36: FutureWarning: Timestamp.freq is deprecated and will be removed in a future version.\n",
      "  return _shift_timestamp_helper(ts, ts.freq, offset)\n",
      "/rds/general/user/ejh19/home/Final-Year-Project/transformer_maf/.venv/lib/python3.8/site-packages/gluonts/transform/split.py:36: FutureWarning: Timestamp.freq is deprecated and will be removed in a future version.\n",
      "  return _shift_timestamp_helper(ts, ts.freq, offset)\n",
      "/rds/general/user/ejh19/home/Final-Year-Project/transformer_maf/.venv/lib/python3.8/site-packages/gluonts/transform/feature.py:352: FutureWarning: Timestamp.freq is deprecated and will be removed in a future version.\n",
      "  self._min_time_point, self._max_time_point, freq=start.freq\n",
      "/rds/general/user/ejh19/home/Final-Year-Project/transformer_maf/.venv/lib/python3.8/site-packages/gluonts/transform/feature.py:352: FutureWarning: Timestamp.freq is deprecated and will be removed in a future version.\n",
      "  self._min_time_point, self._max_time_point, freq=start.freq\n",
      "/rds/general/user/ejh19/home/Final-Year-Project/transformer_maf/.venv/lib/python3.8/site-packages/gluonts/transform/feature.py:352: FutureWarning: Timestamp.freq is deprecated and will be removed in a future version.\n",
      "  self._min_time_point, self._max_time_point, freq=start.freq\n",
      "/rds/general/user/ejh19/home/Final-Year-Project/transformer_maf/.venv/lib/python3.8/site-packages/gluonts/transform/feature.py:352: FutureWarning: Timestamp.freq is deprecated and will be removed in a future version.\n",
      "  self._min_time_point, self._max_time_point, freq=start.freq\n",
      "/rds/general/user/ejh19/home/Final-Year-Project/transformer_maf/.venv/lib/python3.8/site-packages/gluonts/dataset/common.py:324: FutureWarning: The 'freq' argument in Timestamp is deprecated and will be removed in a future version.\n",
      "  timestamp = pd.Timestamp(timestamp_input, freq=freq)\n"
     ]
    },
    {
     "data": {
      "application/vnd.jupyter.widget-view+json": {
       "model_id": "ae9728309c7c4aa09c8b691abf66c654",
       "version_major": 2,
       "version_minor": 0
      },
      "text/plain": [
       "  0%|          | 0/99 [00:00<?, ?it/s]"
      ]
     },
     "metadata": {},
     "output_type": "display_data"
    },
    {
     "name": "stderr",
     "output_type": "stream",
     "text": [
      "/rds/general/user/ejh19/home/Final-Year-Project/transformer_maf/.venv/lib/python3.8/site-packages/gluonts/dataset/common.py:324: FutureWarning: The 'freq' argument in Timestamp is deprecated and will be removed in a future version.\n",
      "  timestamp = pd.Timestamp(timestamp_input, freq=freq)\n",
      "/rds/general/user/ejh19/home/Final-Year-Project/transformer_maf/.venv/lib/python3.8/site-packages/gluonts/dataset/common.py:327: FutureWarning: Timestamp.freq is deprecated and will be removed in a future version.\n",
      "  if isinstance(timestamp.freq, Tick):\n",
      "/rds/general/user/ejh19/home/Final-Year-Project/transformer_maf/.venv/lib/python3.8/site-packages/gluonts/dataset/common.py:327: FutureWarning: Timestamp.freq is deprecated and will be removed in a future version.\n",
      "  if isinstance(timestamp.freq, Tick):\n",
      "/rds/general/user/ejh19/home/Final-Year-Project/transformer_maf/.venv/lib/python3.8/site-packages/gluonts/dataset/common.py:329: FutureWarning: Timestamp.freq is deprecated and will be removed in a future version.\n",
      "  timestamp.floor(timestamp.freq), timestamp.freq\n",
      "/rds/general/user/ejh19/home/Final-Year-Project/transformer_maf/.venv/lib/python3.8/site-packages/gluonts/dataset/common.py:329: FutureWarning: Timestamp.freq is deprecated and will be removed in a future version.\n",
      "  timestamp.floor(timestamp.freq), timestamp.freq\n",
      "/rds/general/user/ejh19/home/Final-Year-Project/transformer_maf/.venv/lib/python3.8/site-packages/gluonts/dataset/common.py:328: FutureWarning: The 'freq' argument in Timestamp is deprecated and will be removed in a future version.\n",
      "  return pd.Timestamp(\n",
      "/rds/general/user/ejh19/home/Final-Year-Project/transformer_maf/.venv/lib/python3.8/site-packages/gluonts/dataset/common.py:328: FutureWarning: The 'freq' argument in Timestamp is deprecated and will be removed in a future version.\n",
      "  return pd.Timestamp(\n",
      "/rds/general/user/ejh19/home/Final-Year-Project/transformer_maf/.venv/lib/python3.8/site-packages/gluonts/transform/split.py:36: FutureWarning: Timestamp.freq is deprecated and will be removed in a future version.\n",
      "  return _shift_timestamp_helper(ts, ts.freq, offset)\n",
      "/rds/general/user/ejh19/home/Final-Year-Project/transformer_maf/.venv/lib/python3.8/site-packages/gluonts/transform/split.py:36: FutureWarning: Timestamp.freq is deprecated and will be removed in a future version.\n",
      "  return _shift_timestamp_helper(ts, ts.freq, offset)\n",
      "/rds/general/user/ejh19/home/Final-Year-Project/transformer_maf/.venv/lib/python3.8/site-packages/gluonts/transform/feature.py:352: FutureWarning: Timestamp.freq is deprecated and will be removed in a future version.\n",
      "  self._min_time_point, self._max_time_point, freq=start.freq\n",
      "/rds/general/user/ejh19/home/Final-Year-Project/transformer_maf/.venv/lib/python3.8/site-packages/gluonts/transform/feature.py:352: FutureWarning: Timestamp.freq is deprecated and will be removed in a future version.\n",
      "  self._min_time_point, self._max_time_point, freq=start.freq\n",
      "/rds/general/user/ejh19/home/Final-Year-Project/transformer_maf/.venv/lib/python3.8/site-packages/gluonts/dataset/common.py:324: FutureWarning: The 'freq' argument in Timestamp is deprecated and will be removed in a future version.\n",
      "  timestamp = pd.Timestamp(timestamp_input, freq=freq)\n",
      "/rds/general/user/ejh19/home/Final-Year-Project/transformer_maf/.venv/lib/python3.8/site-packages/gluonts/dataset/common.py:324: FutureWarning: The 'freq' argument in Timestamp is deprecated and will be removed in a future version.\n",
      "  timestamp = pd.Timestamp(timestamp_input, freq=freq)\n",
      "/rds/general/user/ejh19/home/Final-Year-Project/transformer_maf/.venv/lib/python3.8/site-packages/gluonts/dataset/common.py:327: FutureWarning: Timestamp.freq is deprecated and will be removed in a future version.\n",
      "  if isinstance(timestamp.freq, Tick):\n",
      "/rds/general/user/ejh19/home/Final-Year-Project/transformer_maf/.venv/lib/python3.8/site-packages/gluonts/dataset/common.py:329: FutureWarning: Timestamp.freq is deprecated and will be removed in a future version.\n",
      "  timestamp.floor(timestamp.freq), timestamp.freq\n",
      "/rds/general/user/ejh19/home/Final-Year-Project/transformer_maf/.venv/lib/python3.8/site-packages/gluonts/dataset/common.py:327: FutureWarning: Timestamp.freq is deprecated and will be removed in a future version.\n",
      "  if isinstance(timestamp.freq, Tick):\n",
      "/rds/general/user/ejh19/home/Final-Year-Project/transformer_maf/.venv/lib/python3.8/site-packages/gluonts/dataset/common.py:328: FutureWarning: The 'freq' argument in Timestamp is deprecated and will be removed in a future version.\n",
      "  return pd.Timestamp(\n",
      "/rds/general/user/ejh19/home/Final-Year-Project/transformer_maf/.venv/lib/python3.8/site-packages/gluonts/dataset/common.py:329: FutureWarning: Timestamp.freq is deprecated and will be removed in a future version.\n",
      "  timestamp.floor(timestamp.freq), timestamp.freq\n",
      "/rds/general/user/ejh19/home/Final-Year-Project/transformer_maf/.venv/lib/python3.8/site-packages/gluonts/dataset/common.py:328: FutureWarning: The 'freq' argument in Timestamp is deprecated and will be removed in a future version.\n",
      "  return pd.Timestamp(\n",
      "/rds/general/user/ejh19/home/Final-Year-Project/transformer_maf/.venv/lib/python3.8/site-packages/gluonts/transform/split.py:36: FutureWarning: Timestamp.freq is deprecated and will be removed in a future version.\n",
      "  return _shift_timestamp_helper(ts, ts.freq, offset)\n",
      "/rds/general/user/ejh19/home/Final-Year-Project/transformer_maf/.venv/lib/python3.8/site-packages/gluonts/transform/feature.py:352: FutureWarning: Timestamp.freq is deprecated and will be removed in a future version.\n",
      "  self._min_time_point, self._max_time_point, freq=start.freq\n",
      "/rds/general/user/ejh19/home/Final-Year-Project/transformer_maf/.venv/lib/python3.8/site-packages/gluonts/transform/split.py:36: FutureWarning: Timestamp.freq is deprecated and will be removed in a future version.\n",
      "  return _shift_timestamp_helper(ts, ts.freq, offset)\n",
      "/rds/general/user/ejh19/home/Final-Year-Project/transformer_maf/.venv/lib/python3.8/site-packages/gluonts/transform/feature.py:352: FutureWarning: Timestamp.freq is deprecated and will be removed in a future version.\n",
      "  self._min_time_point, self._max_time_point, freq=start.freq\n",
      "Exception ignored in: <function _MultiProcessingDataLoaderIter.__del__ at 0x14ac1be700d0>\n",
      "Traceback (most recent call last):\n",
      "  File \"/rds/general/user/ejh19/home/Final-Year-Project/transformer_maf/.venv/lib/python3.8/site-packages/torch/utils/data/dataloader.py\", line 1328, in __del__\n",
      "    self._shutdown_workers()\n",
      "  File \"/rds/general/user/ejh19/home/Final-Year-Project/transformer_maf/.venv/lib/python3.8/site-packages/torch/utils/data/dataloader.py\", line 1320, in _shutdown_workers\n",
      "    if w.is_alive():\n",
      "  File \"/rds/general/user/ejh19/home/.conda/envs/py38/lib/python3.8/multiprocessing/process.py\", line 160, in is_alive\n",
      "    assert self._parent_pid == os.getpid(), 'can only test a child process'\n",
      "AssertionError: can only test a child process\n",
      "Exception ignored in: <function _MultiProcessingDataLoaderIter.__del__ at 0x14ac1be700d0>\n",
      "Traceback (most recent call last):\n",
      "  File \"/rds/general/user/ejh19/home/Final-Year-Project/transformer_maf/.venv/lib/python3.8/site-packages/torch/utils/data/dataloader.py\", line 1328, in __del__\n",
      "    self._shutdown_workers()\n",
      "  File \"/rds/general/user/ejh19/home/Final-Year-Project/transformer_maf/.venv/lib/python3.8/site-packages/torch/utils/data/dataloader.py\", line 1320, in _shutdown_workers\n",
      "    if w.is_alive():\n",
      "  File \"/rds/general/user/ejh19/home/.conda/envs/py38/lib/python3.8/multiprocessing/process.py\", line 160, in is_alive\n",
      "    assert self._parent_pid == os.getpid(), 'can only test a child process'\n",
      "AssertionError: can only test a child process\n"
     ]
    },
    {
     "name": "stdout",
     "output_type": "stream",
     "text": [
      "hello\n"
     ]
    }
   ],
   "source": [
    "# Train model\n",
    "predictor = estimator.train(train_dataset,num_workers=2)"
   ]
  },
  {
   "cell_type": "code",
   "execution_count": 11,
   "metadata": {},
   "outputs": [
    {
     "name": "stdout",
     "output_type": "stream",
     "text": [
      "0.3992013931274414\n"
     ]
    }
   ],
   "source": [
    "\n",
    "start = time.time()\n",
    "forecast_it, ts_it = make_evaluation_predictions(\n",
    "    dataset=test_dataset,\n",
    "    predictor=predictor,\n",
    "    num_samples=128\n",
    ")\n",
    "\n",
    "samples = list(forecast_it)\n",
    "realisations = list(ts_it)\n",
    "\n",
    "print(time.time()-start)\n"
   ]
  },
  {
   "cell_type": "code",
   "execution_count": 8,
   "metadata": {},
   "outputs": [
    {
     "name": "stderr",
     "output_type": "stream",
     "text": [
      "/var/tmp/pbs.7698056.pbs/ipykernel_2607307/1595039056.py:1: UserWarning: Creating a tensor from a list of numpy.ndarrays is extremely slow. Please consider converting the list to a single numpy.ndarray with numpy.array() before converting to a tensor. (Triggered internally at  ../torch/csrc/utils/tensor_new.cpp:201.)\n",
      "  samples = torch.tensor([sample.samples for sample in samples]).permute(0,1,3,2)\n"
     ]
    }
   ],
   "source": [
    "samples = torch.tensor([sample.samples for sample in samples]).permute(0,1,3,2)\n",
    "realisations = torch.tensor([real.values[-prediction_length:] for real in realisations]).permute(0,2,1)"
   ]
  }
 ],
 "metadata": {
  "kernelspec": {
   "display_name": "timeg3.10",
   "language": "python",
   "name": "timeg3.10"
  },
  "language_info": {
   "codemirror_mode": {
    "name": "ipython",
    "version": 3
   },
   "file_extension": ".py",
   "mimetype": "text/x-python",
   "name": "python",
   "nbconvert_exporter": "python",
   "pygments_lexer": "ipython3",
   "version": "3.10.7"
  }
 },
 "nbformat": 4,
 "nbformat_minor": 2
}
