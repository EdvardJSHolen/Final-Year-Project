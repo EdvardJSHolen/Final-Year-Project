{
 "cells": [
  {
   "cell_type": "code",
   "execution_count": 108,
   "metadata": {},
   "outputs": [],
   "source": [
    "# Import libraries\n",
    "import math\n",
    "import numpy as np\n",
    "from typing import Callable, List\n",
    "from sklearn.neighbors import NearestNeighbors\n",
    "from scipy.stats import bernoulli"
   ]
  },
  {
   "cell_type": "code",
   "execution_count": 160,
   "metadata": {},
   "outputs": [],
   "source": [
    "# Total distance to K-NN\n",
    "def k_distances(\n",
    "        queries: List[float], \n",
    "        samples: List[float], \n",
    "        k: int, \n",
    "        exclude: bool = False\n",
    "    ) -> List[float]:\n",
    "\n",
    "    queries = np.array(queries)\n",
    "    samples = np.array(samples)\n",
    "\n",
    "    if exclude: \n",
    "        nbrs = NearestNeighbors(n_neighbors=k+1, algorithm='ball_tree').fit(samples)\n",
    "        distances, _ = nbrs.kneighbors(queries)\n",
    "    else:\n",
    "        nbrs = NearestNeighbors(n_neighbors=k, algorithm='ball_tree').fit(samples)\n",
    "        distances, _ = nbrs.kneighbors(queries)\n",
    "    \n",
    "    return np.sum(distances,1)\n",
    "\n",
    "\n",
    "# K-NN estimate of KL-divergence\n",
    "def d_approx(forecasts,targets,d,k) -> float:\n",
    "\n",
    "    n = len(forecasts)\n",
    "    m = len(targets)\n",
    "\n",
    "    p = k_distances(forecasts,forecasts,k,exclude = True)\n",
    "    v = k_distances(forecasts,targets,k)\n",
    "\n",
    "    d_sum = 0\n",
    "\n",
    "    for i in range(n):\n",
    "        d_sum += math.log(v[i]/p[i])\n",
    "\n",
    "\n",
    "    return (d/n)*d_sum + math.log(m/(n-1))"
   ]
  },
  {
   "cell_type": "code",
   "execution_count": 161,
   "metadata": {},
   "outputs": [
    {
     "name": "stdout",
     "output_type": "stream",
     "text": [
      "-0.4480305597216594\n",
      "0.4429035650004032\n"
     ]
    }
   ],
   "source": [
    "# Parameters\n",
    "k = 1 # Number of neighbours used in estimation\n",
    "n = 100 # Number of samples from forecast distribution\n",
    "m = 1 # Number of samples from true distribution\n",
    "d = 5 # Dimension of forecasts\n",
    "\n",
    "queries = np.random.normal(0, 1, n*d).reshape(n,d)\n",
    "samples = np.random.normal(0, 1, m*d).reshape(m,d)\n",
    "samples2 = bernoulli.rvs(0.5, size=m*d).reshape(m,d) * 2 - 1\n",
    "\n",
    "print(d_approx(queries,samples,d,k))\n",
    "print(d_approx(queries,samples2,d,k))"
   ]
  },
  {
   "cell_type": "code",
   "execution_count": 162,
   "metadata": {},
   "outputs": [
    {
     "name": "stdout",
     "output_type": "stream",
     "text": [
      "0.45073517664880125 0.8628203702680186\n",
      "0.8431528077922128 0.5993548226654711\n",
      "2.749170545597159 1.3976916511323265\n",
      "-1.3014409868140362 0.17004369477269204\n",
      "1.510249729926307 1.0156140591526026\n"
     ]
    }
   ],
   "source": [
    "a = []\n",
    "b = []\n",
    "c = []\n",
    "e = []\n",
    "f = []\n",
    "\n",
    "\n",
    "for _ in range(1009):\n",
    "    queries = np.random.normal(0, 1, n*d).reshape(n,d)\n",
    "    queries1 = np.concatenate((np.random.normal(-1, 1, int(n*d/2)),np.random.normal(1, 1, int(n*d/2)))).reshape(n,d)\n",
    "    queries2 = np.random.normal(0, 0.5, n*d).reshape(n,d)\n",
    "    queries3 = np.random.normal(0, 100, n*d).reshape(n,d)\n",
    "    queries4 = np.random.normal(1, 1, n*d).reshape(n,d)\n",
    "\n",
    "    samples = np.random.normal(0, 1, m*d).reshape(m,d) \n",
    "\n",
    "    a.append(d_approx(queries,samples,d,k))\n",
    "    b.append(d_approx(queries1,samples,d,k))\n",
    "    c.append(d_approx(queries2,samples,d,k))\n",
    "    e.append(d_approx(queries3,samples,d,k))\n",
    "    f.append(d_approx(queries4,samples,d,k))\n",
    "\n",
    "\n",
    "print(np.mean(a),np.std(a))\n",
    "print(np.mean(b),np.std(b))\n",
    "print(np.mean(c),np.std(c))\n",
    "print(np.mean(e),np.std(e))\n",
    "print(np.mean(f),np.std(f))\n",
    "\n",
    "    "
   ]
  },
  {
   "cell_type": "code",
   "execution_count": 158,
   "metadata": {},
   "outputs": [],
   "source": [
    "def d_approx(\n",
    "    queries: List[float], \n",
    "    sample: float,\n",
    "    d,\n",
    "    k\n",
    "    ):\n",
    "\n",
    "    return np.linalg.norm(min(queries - sample, key=lambda x: np.linalg.norm(x)))"
   ]
  },
  {
   "cell_type": "code",
   "execution_count": 122,
   "metadata": {},
   "outputs": [
    {
     "data": {
      "text/plain": [
       "array([[ 0,  0,  0],\n",
       "       [ 0, -1, -2],\n",
       "       [-1, -2, -3]])"
      ]
     },
     "execution_count": 122,
     "metadata": {},
     "output_type": "execute_result"
    }
   ],
   "source": [
    "np.array([[1,2,3],[1,1,1],[0,0,0]]) - np.array([1,2,3])"
   ]
  },
  {
   "cell_type": "code",
   "execution_count": 185,
   "metadata": {},
   "outputs": [
    {
     "name": "stdout",
     "output_type": "stream",
     "text": [
      "9.323695080646305e-06\n",
      "1.831153791648671e-05\n"
     ]
    }
   ],
   "source": [
    "\n",
    "queries = np.random.normal(0, 1, 1000)\n",
    "queries1 = np.concatenate((np.random.normal(-1, 1, 500),np.random.normal(1, 1, 500)))\n",
    "samples = np.random.normal(0, 1, 100) \n",
    "print(np.mean([min(abs(queries-sample))**2 for sample in samples]))\n",
    "print(np.mean([min(abs(queries1-sample))**2 for sample in samples]))"
   ]
  },
  {
   "cell_type": "code",
   "execution_count": null,
   "metadata": {},
   "outputs": [],
   "source": []
  }
 ],
 "metadata": {
  "kernelspec": {
   "display_name": "Python 3",
   "language": "python",
   "name": "python3"
  },
  "language_info": {
   "codemirror_mode": {
    "name": "ipython",
    "version": 3
   },
   "file_extension": ".py",
   "mimetype": "text/x-python",
   "name": "python",
   "nbconvert_exporter": "python",
   "pygments_lexer": "ipython3",
   "version": "3.10.7"
  },
  "orig_nbformat": 4,
  "vscode": {
   "interpreter": {
    "hash": "e4d8082ac81b5767605eb477108b3a93415a0db0c81fcb1a05e0921a30ce1269"
   }
  }
 },
 "nbformat": 4,
 "nbformat_minor": 2
}
