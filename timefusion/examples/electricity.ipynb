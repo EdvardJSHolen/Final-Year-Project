{
 "cells": [
  {
   "cell_type": "code",
   "execution_count": 1,
   "metadata": {},
   "outputs": [],
   "source": [
    "import sys\n",
    "import numpy as np\n",
    "import pandas as pd\n",
    "import matplotlib.pyplot as plt\n",
    "import torch\n",
    "import itertools\n",
    "import time\n",
    "\n",
    "from torch.utils.data import DataLoader\n",
    "from torch import nn\n",
    "from sklearn.metrics import mean_absolute_error, median_absolute_error, mean_squared_error\n",
    "\n",
    "sys.path.append(\"..\")\n",
    "from utils import metrics\n",
    "from utils.data import TimeFusionDataset\n",
    "from timefusion import TimeFusion\n",
    "from utils.early_stopper import EarlyStopper"
   ]
  },
  {
   "cell_type": "code",
   "execution_count": 2,
   "metadata": {},
   "outputs": [],
   "source": [
    "# Import dataset\n",
    "train_data = pd.read_csv(\"../../datasets/electricity/train.csv\", index_col=\"date\")\n",
    "val_data = pd.read_csv(\"../../datasets/electricity/val.csv\", index_col=\"date\")\n",
    "test_data = pd.read_csv(\"../../datasets/electricity/test.csv\", index_col=\"date\")\n",
    "\n",
    "# Normalize the signal power of each column\n",
    "stds = train_data.std()\n",
    "train_data /= stds\n",
    "val_data /= stds\n",
    "test_data /= stds\n",
    "\n",
    "# Concatenate to get the full data\n",
    "full_data = pd.concat([train_data,val_data,test_data])"
   ]
  },
  {
   "cell_type": "code",
   "execution_count": 3,
   "metadata": {},
   "outputs": [],
   "source": [
    "# Compute device\n",
    "if torch.cuda.is_available():\n",
    "    device = torch.device(\"cuda:0\")\n",
    "else:\n",
    "    device = torch.device(\"cpu\")"
   ]
  },
  {
   "cell_type": "code",
   "execution_count": 4,
   "metadata": {},
   "outputs": [],
   "source": [
    "context_length = 24\n",
    "prediction_length = 24\n",
    "\n",
    " # Function to create datasets and dataloaders\n",
    "def get_data_loader(data, context_length):\n",
    "\n",
    "    dataset = TimeFusionDataset(\n",
    "        data = data,\n",
    "        context_length = context_length,\n",
    "    )\n",
    "    dataset.add_timestamp_encodings()\n",
    "\n",
    "    dataloader = DataLoader(\n",
    "        dataset = dataset,\n",
    "        shuffle = True,\n",
    "        num_workers = 3,\n",
    "        batch_size = 128,\n",
    "    )\n",
    "\n",
    "    return dataloader, dataset\n"
   ]
  },
  {
   "cell_type": "code",
   "execution_count": 5,
   "metadata": {},
   "outputs": [],
   "source": [
    "# Create datasets and loaders\n",
    "train_loader, train_dataset = get_data_loader(train_data, context_length)\n",
    "val_loader, val_dataset = get_data_loader(val_data, context_length)\n",
    "test_loader, test_dataset = get_data_loader(test_data, context_length)\n"
   ]
  },
  {
   "cell_type": "code",
   "execution_count": 6,
   "metadata": {},
   "outputs": [
    {
     "name": "stderr",
     "output_type": "stream",
     "text": [
      "/rds/general/user/ejh19/home/Final-Year-Project/timefusion/examples/../utils/diffusion.py:25: UserWarning: To copy construct from a tensor, it is recommended to use sourceTensor.clone().detach() or sourceTensor.clone().detach().requires_grad_(True), rather than torch.tensor(sourceTensor).\n",
      "  self.bar_alphas = torch.tensor(\n"
     ]
    },
    {
     "name": "stdout",
     "output_type": "stream",
     "text": [
      "Number of trainable parameters: 3594496\n"
     ]
    }
   ],
   "source": [
    "rnn_hidden = int(0.333*train_data.shape[1])\n",
    "residual_hidden = int((rnn_hidden + train_data.shape[1])*1)\n",
    "\n",
    "predictor = TimeFusion(\n",
    "    input_size = train_dataset.data.shape[1],\n",
    "    output_size = train_data.shape[1],\n",
    "    rnn_layers = 3,\n",
    "    rnn_hidden = rnn_hidden,\n",
    "    residual_layers = 8,\n",
    "    residual_hidden = residual_hidden,\n",
    "    dropout = 0,\n",
    "    scaling = True,\n",
    "    device = device,\n",
    "    residual_scaler = False,\n",
    ")\n",
    "\n",
    "print(\"Number of trainable parameters:\",sum(p.numel() for p in predictor.parameters()))"
   ]
  },
  {
   "cell_type": "code",
   "execution_count": 12,
   "metadata": {},
   "outputs": [],
   "source": [
    "#predictor.load_state_dict(torch.load(\"weights/2023-06-11-14-55-51\"))\n",
    "#predictor.eval()"
   ]
  },
  {
   "cell_type": "code",
   "execution_count": 8,
   "metadata": {},
   "outputs": [
    {
     "name": "stderr",
     "output_type": "stream",
     "text": [
      "Epoch: 1/200: 100%|██████████| 160/160 [00:05<00:00, 29.33batch/s, Training loss=0.6750]\n"
     ]
    },
    {
     "name": "stdout",
     "output_type": "stream",
     "text": [
      "val_loss: 0.5082 , \n"
     ]
    },
    {
     "name": "stderr",
     "output_type": "stream",
     "text": [
      "Epoch: 2/200: 100%|██████████| 160/160 [00:05<00:00, 28.10batch/s, Training loss=0.4321]\n"
     ]
    },
    {
     "name": "stdout",
     "output_type": "stream",
     "text": [
      "val_loss: 0.3730 , \n"
     ]
    },
    {
     "name": "stderr",
     "output_type": "stream",
     "text": [
      "Epoch: 3/200: 100%|██████████| 160/160 [00:05<00:00, 28.53batch/s, Training loss=0.3282]\n"
     ]
    },
    {
     "name": "stdout",
     "output_type": "stream",
     "text": [
      "val_loss: 0.2992 , \n"
     ]
    },
    {
     "name": "stderr",
     "output_type": "stream",
     "text": [
      "Epoch: 4/200: 100%|██████████| 160/160 [00:05<00:00, 28.99batch/s, Training loss=0.2671]\n"
     ]
    },
    {
     "name": "stdout",
     "output_type": "stream",
     "text": [
      "val_loss: 0.2592 , \n"
     ]
    },
    {
     "name": "stderr",
     "output_type": "stream",
     "text": [
      "Epoch: 5/200: 100%|██████████| 160/160 [00:05<00:00, 29.80batch/s, Training loss=0.2382]\n"
     ]
    },
    {
     "name": "stdout",
     "output_type": "stream",
     "text": [
      "val_loss: 0.2306 , \n"
     ]
    },
    {
     "name": "stderr",
     "output_type": "stream",
     "text": [
      "Epoch: 6/200: 100%|██████████| 160/160 [00:05<00:00, 30.30batch/s, Training loss=0.2207]\n"
     ]
    },
    {
     "name": "stdout",
     "output_type": "stream",
     "text": [
      "val_loss: 0.2272 , \n"
     ]
    },
    {
     "name": "stderr",
     "output_type": "stream",
     "text": [
      "Epoch: 7/200: 100%|██████████| 160/160 [00:05<00:00, 30.51batch/s, Training loss=0.2060]\n"
     ]
    },
    {
     "name": "stdout",
     "output_type": "stream",
     "text": [
      "val_loss: 0.2103 , \n"
     ]
    },
    {
     "name": "stderr",
     "output_type": "stream",
     "text": [
      "Epoch: 8/200: 100%|██████████| 160/160 [00:05<00:00, 30.21batch/s, Training loss=0.1975]\n"
     ]
    },
    {
     "name": "stdout",
     "output_type": "stream",
     "text": [
      "val_loss: 0.2012 , \n"
     ]
    },
    {
     "name": "stderr",
     "output_type": "stream",
     "text": [
      "Epoch: 9/200: 100%|██████████| 160/160 [00:05<00:00, 30.52batch/s, Training loss=0.1864]\n"
     ]
    },
    {
     "name": "stdout",
     "output_type": "stream",
     "text": [
      "val_loss: 0.1950 , \n"
     ]
    },
    {
     "name": "stderr",
     "output_type": "stream",
     "text": [
      "Epoch: 10/200: 100%|██████████| 160/160 [00:05<00:00, 30.48batch/s, Training loss=0.1787]\n"
     ]
    },
    {
     "name": "stdout",
     "output_type": "stream",
     "text": [
      "val_loss: 0.1885 , \n"
     ]
    },
    {
     "name": "stderr",
     "output_type": "stream",
     "text": [
      "Epoch: 11/200: 100%|██████████| 160/160 [00:05<00:00, 30.41batch/s, Training loss=0.1689]\n"
     ]
    },
    {
     "name": "stdout",
     "output_type": "stream",
     "text": [
      "val_loss: 0.1813 , \n"
     ]
    },
    {
     "name": "stderr",
     "output_type": "stream",
     "text": [
      "Epoch: 12/200: 100%|██████████| 160/160 [00:05<00:00, 28.64batch/s, Training loss=0.1635]\n"
     ]
    },
    {
     "name": "stdout",
     "output_type": "stream",
     "text": [
      "val_loss: 0.1704 , \n"
     ]
    },
    {
     "name": "stderr",
     "output_type": "stream",
     "text": [
      "Epoch: 13/200: 100%|██████████| 160/160 [00:05<00:00, 29.67batch/s, Training loss=0.1614]\n"
     ]
    },
    {
     "name": "stdout",
     "output_type": "stream",
     "text": [
      "val_loss: 0.1647 , \n"
     ]
    },
    {
     "name": "stderr",
     "output_type": "stream",
     "text": [
      "Epoch: 14/200: 100%|██████████| 160/160 [00:05<00:00, 29.94batch/s, Training loss=0.1570]\n"
     ]
    },
    {
     "name": "stdout",
     "output_type": "stream",
     "text": [
      "val_loss: 0.1630 , \n"
     ]
    },
    {
     "name": "stderr",
     "output_type": "stream",
     "text": [
      "Epoch: 15/200: 100%|██████████| 160/160 [00:06<00:00, 25.82batch/s, Training loss=0.1510]\n"
     ]
    },
    {
     "name": "stdout",
     "output_type": "stream",
     "text": [
      "val_loss: 0.1633 , \n"
     ]
    },
    {
     "name": "stderr",
     "output_type": "stream",
     "text": [
      "Epoch: 16/200: 100%|██████████| 160/160 [00:05<00:00, 27.38batch/s, Training loss=0.1521]\n"
     ]
    },
    {
     "name": "stdout",
     "output_type": "stream",
     "text": [
      "val_loss: 0.1519 , \n"
     ]
    },
    {
     "name": "stderr",
     "output_type": "stream",
     "text": [
      "Epoch: 17/200: 100%|██████████| 160/160 [00:05<00:00, 27.96batch/s, Training loss=0.1494]\n"
     ]
    },
    {
     "name": "stdout",
     "output_type": "stream",
     "text": [
      "val_loss: 0.1594 , \n"
     ]
    },
    {
     "name": "stderr",
     "output_type": "stream",
     "text": [
      "Epoch: 18/200: 100%|██████████| 160/160 [00:05<00:00, 27.95batch/s, Training loss=0.1482]\n"
     ]
    },
    {
     "name": "stdout",
     "output_type": "stream",
     "text": [
      "val_loss: 0.1544 , \n"
     ]
    },
    {
     "name": "stderr",
     "output_type": "stream",
     "text": [
      "Epoch: 19/200: 100%|██████████| 160/160 [00:05<00:00, 28.00batch/s, Training loss=0.1447]\n"
     ]
    },
    {
     "name": "stdout",
     "output_type": "stream",
     "text": [
      "val_loss: 0.1562 , \n"
     ]
    },
    {
     "name": "stderr",
     "output_type": "stream",
     "text": [
      "Epoch: 20/200: 100%|██████████| 160/160 [00:05<00:00, 29.07batch/s, Training loss=0.1407]\n"
     ]
    },
    {
     "name": "stdout",
     "output_type": "stream",
     "text": [
      "val_loss: 0.1481 , \n"
     ]
    },
    {
     "name": "stderr",
     "output_type": "stream",
     "text": [
      "Epoch: 21/200: 100%|██████████| 160/160 [00:05<00:00, 28.90batch/s, Training loss=0.1424]\n"
     ]
    },
    {
     "name": "stdout",
     "output_type": "stream",
     "text": [
      "val_loss: 0.1511 , \n"
     ]
    },
    {
     "name": "stderr",
     "output_type": "stream",
     "text": [
      "Epoch: 22/200: 100%|██████████| 160/160 [00:05<00:00, 29.73batch/s, Training loss=0.1399]\n"
     ]
    },
    {
     "name": "stdout",
     "output_type": "stream",
     "text": [
      "val_loss: 0.1556 , \n"
     ]
    },
    {
     "name": "stderr",
     "output_type": "stream",
     "text": [
      "Epoch: 23/200: 100%|██████████| 160/160 [00:05<00:00, 27.72batch/s, Training loss=0.1401]\n"
     ]
    },
    {
     "name": "stdout",
     "output_type": "stream",
     "text": [
      "val_loss: 0.1515 , \n"
     ]
    },
    {
     "name": "stderr",
     "output_type": "stream",
     "text": [
      "Epoch: 24/200: 100%|██████████| 160/160 [00:05<00:00, 29.00batch/s, Training loss=0.1373]\n"
     ]
    },
    {
     "name": "stdout",
     "output_type": "stream",
     "text": [
      "val_loss: 0.1527 , \n"
     ]
    },
    {
     "name": "stderr",
     "output_type": "stream",
     "text": [
      "Epoch: 25/200: 100%|██████████| 160/160 [00:05<00:00, 27.64batch/s, Training loss=0.1337]\n"
     ]
    },
    {
     "name": "stdout",
     "output_type": "stream",
     "text": [
      "val_loss: 0.1468 , \n"
     ]
    },
    {
     "name": "stderr",
     "output_type": "stream",
     "text": [
      "Epoch: 26/200: 100%|██████████| 160/160 [00:06<00:00, 26.39batch/s, Training loss=0.1348]\n"
     ]
    },
    {
     "name": "stdout",
     "output_type": "stream",
     "text": [
      "val_loss: 0.1429 , \n"
     ]
    },
    {
     "name": "stderr",
     "output_type": "stream",
     "text": [
      "Epoch: 27/200: 100%|██████████| 160/160 [00:06<00:00, 25.00batch/s, Training loss=0.1319]\n"
     ]
    },
    {
     "name": "stdout",
     "output_type": "stream",
     "text": [
      "val_loss: 0.1414 , \n"
     ]
    },
    {
     "name": "stderr",
     "output_type": "stream",
     "text": [
      "Epoch: 28/200: 100%|██████████| 160/160 [00:05<00:00, 26.72batch/s, Training loss=0.1315]\n"
     ]
    },
    {
     "name": "stdout",
     "output_type": "stream",
     "text": [
      "val_loss: 0.1470 , \n"
     ]
    },
    {
     "name": "stderr",
     "output_type": "stream",
     "text": [
      "Epoch: 29/200: 100%|██████████| 160/160 [00:06<00:00, 25.41batch/s, Training loss=0.1317]\n"
     ]
    },
    {
     "name": "stdout",
     "output_type": "stream",
     "text": [
      "val_loss: 0.1435 , \n"
     ]
    },
    {
     "name": "stderr",
     "output_type": "stream",
     "text": [
      "Epoch: 30/200: 100%|██████████| 160/160 [00:05<00:00, 27.48batch/s, Training loss=0.1306]\n"
     ]
    },
    {
     "name": "stdout",
     "output_type": "stream",
     "text": [
      "val_loss: 0.1402 , \n"
     ]
    },
    {
     "name": "stderr",
     "output_type": "stream",
     "text": [
      "Epoch: 31/200: 100%|██████████| 160/160 [00:06<00:00, 25.18batch/s, Training loss=0.1322]\n"
     ]
    },
    {
     "name": "stdout",
     "output_type": "stream",
     "text": [
      "val_loss: 0.1329 , \n"
     ]
    },
    {
     "name": "stderr",
     "output_type": "stream",
     "text": [
      "Epoch: 32/200: 100%|██████████| 160/160 [00:06<00:00, 26.17batch/s, Training loss=0.1289]\n"
     ]
    },
    {
     "name": "stdout",
     "output_type": "stream",
     "text": [
      "val_loss: 0.1332 , \n"
     ]
    },
    {
     "name": "stderr",
     "output_type": "stream",
     "text": [
      "Epoch: 33/200: 100%|██████████| 160/160 [00:06<00:00, 25.07batch/s, Training loss=0.1324]\n"
     ]
    },
    {
     "name": "stdout",
     "output_type": "stream",
     "text": [
      "val_loss: 0.1347 , \n"
     ]
    },
    {
     "name": "stderr",
     "output_type": "stream",
     "text": [
      "Epoch: 34/200: 100%|██████████| 160/160 [00:05<00:00, 26.70batch/s, Training loss=0.1283]\n"
     ]
    },
    {
     "name": "stdout",
     "output_type": "stream",
     "text": [
      "val_loss: 0.1464 , \n"
     ]
    },
    {
     "name": "stderr",
     "output_type": "stream",
     "text": [
      "Epoch: 35/200: 100%|██████████| 160/160 [00:06<00:00, 24.77batch/s, Training loss=0.1277]\n"
     ]
    },
    {
     "name": "stdout",
     "output_type": "stream",
     "text": [
      "val_loss: 0.1326 , \n"
     ]
    },
    {
     "name": "stderr",
     "output_type": "stream",
     "text": [
      "Epoch: 36/200: 100%|██████████| 160/160 [00:05<00:00, 26.71batch/s, Training loss=0.1264]\n"
     ]
    },
    {
     "name": "stdout",
     "output_type": "stream",
     "text": [
      "val_loss: 0.1397 , \n"
     ]
    },
    {
     "name": "stderr",
     "output_type": "stream",
     "text": [
      "Epoch: 37/200: 100%|██████████| 160/160 [00:06<00:00, 26.65batch/s, Training loss=0.1271]\n"
     ]
    },
    {
     "name": "stdout",
     "output_type": "stream",
     "text": [
      "val_loss: 0.1394 , \n"
     ]
    },
    {
     "name": "stderr",
     "output_type": "stream",
     "text": [
      "Epoch: 38/200: 100%|██████████| 160/160 [00:06<00:00, 24.77batch/s, Training loss=0.1246]\n"
     ]
    },
    {
     "name": "stdout",
     "output_type": "stream",
     "text": [
      "val_loss: 0.1426 , \n"
     ]
    },
    {
     "name": "stderr",
     "output_type": "stream",
     "text": [
      "Epoch: 39/200: 100%|██████████| 160/160 [00:05<00:00, 26.72batch/s, Training loss=0.1232]\n"
     ]
    },
    {
     "name": "stdout",
     "output_type": "stream",
     "text": [
      "val_loss: 0.1400 , \n"
     ]
    },
    {
     "name": "stderr",
     "output_type": "stream",
     "text": [
      "Epoch: 40/200: 100%|██████████| 160/160 [00:06<00:00, 25.17batch/s, Training loss=0.1217]\n"
     ]
    },
    {
     "name": "stdout",
     "output_type": "stream",
     "text": [
      "val_loss: 0.1440 , \n"
     ]
    },
    {
     "name": "stderr",
     "output_type": "stream",
     "text": [
      "Epoch: 41/200: 100%|██████████| 160/160 [00:06<00:00, 24.99batch/s, Training loss=0.1229]\n"
     ]
    },
    {
     "name": "stdout",
     "output_type": "stream",
     "text": [
      "val_loss: 0.1377 , \n"
     ]
    },
    {
     "name": "stderr",
     "output_type": "stream",
     "text": [
      "Epoch: 42/200: 100%|██████████| 160/160 [00:06<00:00, 24.89batch/s, Training loss=0.1195]\n"
     ]
    },
    {
     "name": "stdout",
     "output_type": "stream",
     "text": [
      "val_loss: 0.1325 , \n"
     ]
    },
    {
     "name": "stderr",
     "output_type": "stream",
     "text": [
      "Epoch: 43/200: 100%|██████████| 160/160 [00:06<00:00, 26.42batch/s, Training loss=0.1205]\n"
     ]
    },
    {
     "name": "stdout",
     "output_type": "stream",
     "text": [
      "val_loss: 0.1382 , \n"
     ]
    },
    {
     "name": "stderr",
     "output_type": "stream",
     "text": [
      "Epoch: 44/200: 100%|██████████| 160/160 [00:06<00:00, 26.10batch/s, Training loss=0.1225]\n"
     ]
    },
    {
     "name": "stdout",
     "output_type": "stream",
     "text": [
      "val_loss: 0.1254 , \n"
     ]
    },
    {
     "name": "stderr",
     "output_type": "stream",
     "text": [
      "Epoch: 45/200: 100%|██████████| 160/160 [00:06<00:00, 26.44batch/s, Training loss=0.1218]\n"
     ]
    },
    {
     "name": "stdout",
     "output_type": "stream",
     "text": [
      "val_loss: 0.1288 , \n"
     ]
    },
    {
     "name": "stderr",
     "output_type": "stream",
     "text": [
      "Epoch: 46/200: 100%|██████████| 160/160 [00:06<00:00, 24.80batch/s, Training loss=0.1204]\n"
     ]
    },
    {
     "name": "stdout",
     "output_type": "stream",
     "text": [
      "val_loss: 0.1312 , \n"
     ]
    },
    {
     "name": "stderr",
     "output_type": "stream",
     "text": [
      "Epoch: 47/200: 100%|██████████| 160/160 [00:05<00:00, 26.73batch/s, Training loss=0.1202]\n"
     ]
    },
    {
     "name": "stdout",
     "output_type": "stream",
     "text": [
      "val_loss: 0.1355 , \n"
     ]
    },
    {
     "name": "stderr",
     "output_type": "stream",
     "text": [
      "Epoch: 48/200: 100%|██████████| 160/160 [00:06<00:00, 25.18batch/s, Training loss=0.1194]\n"
     ]
    },
    {
     "name": "stdout",
     "output_type": "stream",
     "text": [
      "val_loss: 0.1331 , \n"
     ]
    },
    {
     "name": "stderr",
     "output_type": "stream",
     "text": [
      "Epoch: 49/200: 100%|██████████| 160/160 [00:05<00:00, 26.82batch/s, Training loss=0.1213]\n"
     ]
    },
    {
     "name": "stdout",
     "output_type": "stream",
     "text": [
      "val_loss: 0.1309 , \n"
     ]
    },
    {
     "name": "stderr",
     "output_type": "stream",
     "text": [
      "Epoch: 50/200: 100%|██████████| 160/160 [00:06<00:00, 25.87batch/s, Training loss=0.1194]\n"
     ]
    },
    {
     "name": "stdout",
     "output_type": "stream",
     "text": [
      "val_loss: 0.1279 , \n"
     ]
    },
    {
     "name": "stderr",
     "output_type": "stream",
     "text": [
      "Epoch: 51/200: 100%|██████████| 160/160 [00:06<00:00, 26.08batch/s, Training loss=0.1166]\n"
     ]
    },
    {
     "name": "stdout",
     "output_type": "stream",
     "text": [
      "val_loss: 0.1317 , \n"
     ]
    },
    {
     "name": "stderr",
     "output_type": "stream",
     "text": [
      "Epoch: 52/200: 100%|██████████| 160/160 [00:06<00:00, 25.17batch/s, Training loss=0.1187]\n"
     ]
    },
    {
     "name": "stdout",
     "output_type": "stream",
     "text": [
      "val_loss: 0.1313 , \n"
     ]
    },
    {
     "name": "stderr",
     "output_type": "stream",
     "text": [
      "Epoch: 53/200: 100%|██████████| 160/160 [00:06<00:00, 26.18batch/s, Training loss=0.1155]\n"
     ]
    },
    {
     "name": "stdout",
     "output_type": "stream",
     "text": [
      "val_loss: 0.1245 , \n"
     ]
    },
    {
     "name": "stderr",
     "output_type": "stream",
     "text": [
      "Epoch: 54/200: 100%|██████████| 160/160 [00:06<00:00, 26.61batch/s, Training loss=0.1172]\n"
     ]
    },
    {
     "name": "stdout",
     "output_type": "stream",
     "text": [
      "val_loss: 0.1259 , \n"
     ]
    },
    {
     "name": "stderr",
     "output_type": "stream",
     "text": [
      "Epoch: 55/200: 100%|██████████| 160/160 [00:06<00:00, 25.87batch/s, Training loss=0.1174]\n"
     ]
    },
    {
     "name": "stdout",
     "output_type": "stream",
     "text": [
      "val_loss: 0.1326 , \n"
     ]
    },
    {
     "name": "stderr",
     "output_type": "stream",
     "text": [
      "Epoch: 56/200: 100%|██████████| 160/160 [00:05<00:00, 27.52batch/s, Training loss=0.1178]\n"
     ]
    },
    {
     "name": "stdout",
     "output_type": "stream",
     "text": [
      "val_loss: 0.1218 , \n"
     ]
    },
    {
     "name": "stderr",
     "output_type": "stream",
     "text": [
      "Epoch: 57/200: 100%|██████████| 160/160 [00:06<00:00, 25.74batch/s, Training loss=0.1182]\n"
     ]
    },
    {
     "name": "stdout",
     "output_type": "stream",
     "text": [
      "val_loss: 0.1367 , \n"
     ]
    },
    {
     "name": "stderr",
     "output_type": "stream",
     "text": [
      "Epoch: 58/200: 100%|██████████| 160/160 [00:05<00:00, 26.96batch/s, Training loss=0.1144]\n"
     ]
    },
    {
     "name": "stdout",
     "output_type": "stream",
     "text": [
      "val_loss: 0.1239 , \n"
     ]
    },
    {
     "name": "stderr",
     "output_type": "stream",
     "text": [
      "Epoch: 59/200: 100%|██████████| 160/160 [00:06<00:00, 25.64batch/s, Training loss=0.1145]\n"
     ]
    },
    {
     "name": "stdout",
     "output_type": "stream",
     "text": [
      "val_loss: 0.1316 , \n"
     ]
    },
    {
     "name": "stderr",
     "output_type": "stream",
     "text": [
      "Epoch: 60/200: 100%|██████████| 160/160 [00:06<00:00, 24.99batch/s, Training loss=0.1139]\n"
     ]
    },
    {
     "name": "stdout",
     "output_type": "stream",
     "text": [
      "val_loss: 0.1263 , \n"
     ]
    },
    {
     "name": "stderr",
     "output_type": "stream",
     "text": [
      "Epoch: 61/200: 100%|██████████| 160/160 [00:06<00:00, 25.78batch/s, Training loss=0.1140]\n"
     ]
    },
    {
     "name": "stdout",
     "output_type": "stream",
     "text": [
      "val_loss: 0.1294 , \n"
     ]
    },
    {
     "name": "stderr",
     "output_type": "stream",
     "text": [
      "Epoch: 62/200: 100%|██████████| 160/160 [00:06<00:00, 25.55batch/s, Training loss=0.1136]\n"
     ]
    },
    {
     "name": "stdout",
     "output_type": "stream",
     "text": [
      "val_loss: 0.1197 , \n"
     ]
    },
    {
     "name": "stderr",
     "output_type": "stream",
     "text": [
      "Epoch: 63/200: 100%|██████████| 160/160 [00:06<00:00, 25.79batch/s, Training loss=0.1148]\n"
     ]
    },
    {
     "name": "stdout",
     "output_type": "stream",
     "text": [
      "val_loss: 0.1314 , \n"
     ]
    },
    {
     "name": "stderr",
     "output_type": "stream",
     "text": [
      "Epoch: 64/200: 100%|██████████| 160/160 [00:05<00:00, 27.37batch/s, Training loss=0.1130]\n"
     ]
    },
    {
     "name": "stdout",
     "output_type": "stream",
     "text": [
      "val_loss: 0.1241 , \n"
     ]
    },
    {
     "name": "stderr",
     "output_type": "stream",
     "text": [
      "Epoch: 65/200: 100%|██████████| 160/160 [00:05<00:00, 26.94batch/s, Training loss=0.1129]\n"
     ]
    },
    {
     "name": "stdout",
     "output_type": "stream",
     "text": [
      "val_loss: 0.1281 , \n"
     ]
    },
    {
     "name": "stderr",
     "output_type": "stream",
     "text": [
      "Epoch: 66/200: 100%|██████████| 160/160 [00:06<00:00, 26.06batch/s, Training loss=0.1103]\n"
     ]
    },
    {
     "name": "stdout",
     "output_type": "stream",
     "text": [
      "val_loss: 0.1209 , \n"
     ]
    },
    {
     "name": "stderr",
     "output_type": "stream",
     "text": [
      "Epoch: 67/200: 100%|██████████| 160/160 [00:06<00:00, 26.51batch/s, Training loss=0.1135]\n"
     ]
    },
    {
     "name": "stdout",
     "output_type": "stream",
     "text": [
      "val_loss: 0.1385 , \n"
     ]
    },
    {
     "name": "stderr",
     "output_type": "stream",
     "text": [
      "Epoch: 68/200: 100%|██████████| 160/160 [00:06<00:00, 25.81batch/s, Training loss=0.1141]\n"
     ]
    },
    {
     "name": "stdout",
     "output_type": "stream",
     "text": [
      "val_loss: 0.1265 , \n"
     ]
    },
    {
     "name": "stderr",
     "output_type": "stream",
     "text": [
      "Epoch: 69/200: 100%|██████████| 160/160 [00:05<00:00, 27.13batch/s, Training loss=0.1116]\n"
     ]
    },
    {
     "name": "stdout",
     "output_type": "stream",
     "text": [
      "val_loss: 0.1320 , \n"
     ]
    },
    {
     "name": "stderr",
     "output_type": "stream",
     "text": [
      "Epoch: 70/200: 100%|██████████| 160/160 [00:06<00:00, 23.70batch/s, Training loss=0.1119]\n"
     ]
    },
    {
     "name": "stdout",
     "output_type": "stream",
     "text": [
      "val_loss: 0.1252 , \n"
     ]
    },
    {
     "name": "stderr",
     "output_type": "stream",
     "text": [
      "Epoch: 71/200: 100%|██████████| 160/160 [00:06<00:00, 26.50batch/s, Training loss=0.1094]\n"
     ]
    },
    {
     "name": "stdout",
     "output_type": "stream",
     "text": [
      "val_loss: 0.1134 , \n"
     ]
    },
    {
     "name": "stderr",
     "output_type": "stream",
     "text": [
      "Epoch: 72/200: 100%|██████████| 160/160 [00:06<00:00, 25.00batch/s, Training loss=0.1088]\n"
     ]
    },
    {
     "name": "stdout",
     "output_type": "stream",
     "text": [
      "val_loss: 0.1231 , \n"
     ]
    },
    {
     "name": "stderr",
     "output_type": "stream",
     "text": [
      "Epoch: 73/200: 100%|██████████| 160/160 [00:06<00:00, 25.72batch/s, Training loss=0.1139]\n"
     ]
    },
    {
     "name": "stdout",
     "output_type": "stream",
     "text": [
      "val_loss: 0.1159 , \n"
     ]
    },
    {
     "name": "stderr",
     "output_type": "stream",
     "text": [
      "Epoch: 74/200: 100%|██████████| 160/160 [00:06<00:00, 24.96batch/s, Training loss=0.1117]\n"
     ]
    },
    {
     "name": "stdout",
     "output_type": "stream",
     "text": [
      "val_loss: 0.1246 , \n"
     ]
    },
    {
     "name": "stderr",
     "output_type": "stream",
     "text": [
      "Epoch: 75/200: 100%|██████████| 160/160 [00:06<00:00, 25.36batch/s, Training loss=0.1092]\n"
     ]
    },
    {
     "name": "stdout",
     "output_type": "stream",
     "text": [
      "val_loss: 0.1214 , \n"
     ]
    },
    {
     "name": "stderr",
     "output_type": "stream",
     "text": [
      "Epoch: 76/200: 100%|██████████| 160/160 [00:06<00:00, 25.06batch/s, Training loss=0.1088]\n"
     ]
    },
    {
     "name": "stdout",
     "output_type": "stream",
     "text": [
      "val_loss: 0.1240 , \n"
     ]
    },
    {
     "name": "stderr",
     "output_type": "stream",
     "text": [
      "Epoch: 77/200: 100%|██████████| 160/160 [00:05<00:00, 27.42batch/s, Training loss=0.1070]\n"
     ]
    },
    {
     "name": "stdout",
     "output_type": "stream",
     "text": [
      "val_loss: 0.1192 , \n"
     ]
    },
    {
     "name": "stderr",
     "output_type": "stream",
     "text": [
      "Epoch: 78/200: 100%|██████████| 160/160 [00:06<00:00, 25.16batch/s, Training loss=0.1114]\n"
     ]
    },
    {
     "name": "stdout",
     "output_type": "stream",
     "text": [
      "val_loss: 0.1169 , \n"
     ]
    },
    {
     "name": "stderr",
     "output_type": "stream",
     "text": [
      "Epoch: 79/200: 100%|██████████| 160/160 [00:06<00:00, 26.36batch/s, Training loss=0.1082]\n"
     ]
    },
    {
     "name": "stdout",
     "output_type": "stream",
     "text": [
      "val_loss: 0.1166 , \n"
     ]
    },
    {
     "name": "stderr",
     "output_type": "stream",
     "text": [
      "Epoch: 80/200: 100%|██████████| 160/160 [00:06<00:00, 25.00batch/s, Training loss=0.1079]\n"
     ]
    },
    {
     "name": "stdout",
     "output_type": "stream",
     "text": [
      "val_loss: 0.1249 , \n"
     ]
    },
    {
     "name": "stderr",
     "output_type": "stream",
     "text": [
      "Epoch: 81/200: 100%|██████████| 160/160 [00:05<00:00, 27.68batch/s, Training loss=0.1058]\n"
     ]
    },
    {
     "name": "stdout",
     "output_type": "stream",
     "text": [
      "val_loss: 0.1234 , \n"
     ]
    },
    {
     "name": "stderr",
     "output_type": "stream",
     "text": [
      "Epoch: 82/200: 100%|██████████| 160/160 [00:06<00:00, 24.88batch/s, Training loss=0.1079]\n"
     ]
    },
    {
     "name": "stdout",
     "output_type": "stream",
     "text": [
      "val_loss: 0.1108 , \n"
     ]
    },
    {
     "name": "stderr",
     "output_type": "stream",
     "text": [
      "Epoch: 83/200: 100%|██████████| 160/160 [00:05<00:00, 27.14batch/s, Training loss=0.1085]\n"
     ]
    },
    {
     "name": "stdout",
     "output_type": "stream",
     "text": [
      "val_loss: 0.1185 , \n"
     ]
    },
    {
     "name": "stderr",
     "output_type": "stream",
     "text": [
      "Epoch: 84/200: 100%|██████████| 160/160 [00:06<00:00, 25.58batch/s, Training loss=0.1091]\n"
     ]
    },
    {
     "name": "stdout",
     "output_type": "stream",
     "text": [
      "val_loss: 0.1210 , \n"
     ]
    },
    {
     "name": "stderr",
     "output_type": "stream",
     "text": [
      "Epoch: 85/200: 100%|██████████| 160/160 [00:05<00:00, 26.97batch/s, Training loss=0.1077]\n"
     ]
    },
    {
     "name": "stdout",
     "output_type": "stream",
     "text": [
      "val_loss: 0.1127 , \n"
     ]
    },
    {
     "name": "stderr",
     "output_type": "stream",
     "text": [
      "Epoch: 86/200: 100%|██████████| 160/160 [00:05<00:00, 27.22batch/s, Training loss=0.1087]\n"
     ]
    },
    {
     "name": "stdout",
     "output_type": "stream",
     "text": [
      "val_loss: 0.1311 , \n"
     ]
    },
    {
     "name": "stderr",
     "output_type": "stream",
     "text": [
      "Epoch: 87/200: 100%|██████████| 160/160 [00:06<00:00, 26.54batch/s, Training loss=0.1080]\n"
     ]
    },
    {
     "name": "stdout",
     "output_type": "stream",
     "text": [
      "val_loss: 0.1232 , \n"
     ]
    },
    {
     "name": "stderr",
     "output_type": "stream",
     "text": [
      "Epoch: 88/200: 100%|██████████| 160/160 [00:06<00:00, 24.37batch/s, Training loss=0.1074]\n"
     ]
    },
    {
     "name": "stdout",
     "output_type": "stream",
     "text": [
      "val_loss: 0.1178 , \n"
     ]
    },
    {
     "name": "stderr",
     "output_type": "stream",
     "text": [
      "Epoch: 89/200: 100%|██████████| 160/160 [00:05<00:00, 26.81batch/s, Training loss=0.1028]\n"
     ]
    },
    {
     "name": "stdout",
     "output_type": "stream",
     "text": [
      "val_loss: 0.1193 , \n"
     ]
    },
    {
     "name": "stderr",
     "output_type": "stream",
     "text": [
      "Epoch: 90/200: 100%|██████████| 160/160 [00:06<00:00, 24.81batch/s, Training loss=0.1077]\n"
     ]
    },
    {
     "name": "stdout",
     "output_type": "stream",
     "text": [
      "val_loss: 0.1112 , \n"
     ]
    },
    {
     "name": "stderr",
     "output_type": "stream",
     "text": [
      "Epoch: 91/200: 100%|██████████| 160/160 [00:05<00:00, 27.06batch/s, Training loss=0.1066]\n"
     ]
    },
    {
     "name": "stdout",
     "output_type": "stream",
     "text": [
      "val_loss: 0.1148 , \n"
     ]
    },
    {
     "name": "stderr",
     "output_type": "stream",
     "text": [
      "Epoch: 92/200: 100%|██████████| 160/160 [00:06<00:00, 25.44batch/s, Training loss=0.1043]\n"
     ]
    },
    {
     "name": "stdout",
     "output_type": "stream",
     "text": [
      "val_loss: 0.1203 , \n"
     ]
    },
    {
     "name": "stderr",
     "output_type": "stream",
     "text": [
      "Epoch: 93/200: 100%|██████████| 160/160 [00:06<00:00, 26.57batch/s, Training loss=0.1027]\n"
     ]
    },
    {
     "name": "stdout",
     "output_type": "stream",
     "text": [
      "val_loss: 0.1218 , \n"
     ]
    },
    {
     "name": "stderr",
     "output_type": "stream",
     "text": [
      "Epoch: 94/200: 100%|██████████| 160/160 [00:06<00:00, 26.43batch/s, Training loss=0.1058]\n"
     ]
    },
    {
     "name": "stdout",
     "output_type": "stream",
     "text": [
      "val_loss: 0.1225 , \n"
     ]
    },
    {
     "name": "stderr",
     "output_type": "stream",
     "text": [
      "Epoch: 95/200: 100%|██████████| 160/160 [00:06<00:00, 26.05batch/s, Training loss=0.1057]\n"
     ]
    },
    {
     "name": "stdout",
     "output_type": "stream",
     "text": [
      "val_loss: 0.1143 , \n"
     ]
    },
    {
     "name": "stderr",
     "output_type": "stream",
     "text": [
      "Epoch: 96/200: 100%|██████████| 160/160 [00:06<00:00, 26.48batch/s, Training loss=0.1048]\n"
     ]
    },
    {
     "name": "stdout",
     "output_type": "stream",
     "text": [
      "val_loss: 0.1122 , \n"
     ]
    },
    {
     "name": "stderr",
     "output_type": "stream",
     "text": [
      "Epoch: 97/200: 100%|██████████| 160/160 [00:06<00:00, 26.00batch/s, Training loss=0.1032]\n"
     ]
    },
    {
     "name": "stdout",
     "output_type": "stream",
     "text": [
      "val_loss: 0.1143 , \n"
     ]
    },
    {
     "name": "stderr",
     "output_type": "stream",
     "text": [
      "Epoch: 98/200: 100%|██████████| 160/160 [00:05<00:00, 26.73batch/s, Training loss=0.1044]\n"
     ]
    },
    {
     "name": "stdout",
     "output_type": "stream",
     "text": [
      "val_loss: 0.1144 , \n"
     ]
    },
    {
     "name": "stderr",
     "output_type": "stream",
     "text": [
      "Epoch: 99/200: 100%|██████████| 160/160 [00:06<00:00, 24.62batch/s, Training loss=0.1034]\n"
     ]
    },
    {
     "name": "stdout",
     "output_type": "stream",
     "text": [
      "val_loss: 0.1163 , \n"
     ]
    },
    {
     "name": "stderr",
     "output_type": "stream",
     "text": [
      "Epoch: 100/200: 100%|██████████| 160/160 [00:06<00:00, 26.47batch/s, Training loss=0.1024]\n"
     ]
    },
    {
     "name": "stdout",
     "output_type": "stream",
     "text": [
      "val_loss: 0.1167 , \n"
     ]
    },
    {
     "name": "stderr",
     "output_type": "stream",
     "text": [
      "Epoch: 101/200: 100%|██████████| 160/160 [00:06<00:00, 26.35batch/s, Training loss=0.1028]\n"
     ]
    },
    {
     "name": "stdout",
     "output_type": "stream",
     "text": [
      "val_loss: 0.1106 , \n"
     ]
    },
    {
     "name": "stderr",
     "output_type": "stream",
     "text": [
      "Epoch: 102/200: 100%|██████████| 160/160 [00:05<00:00, 26.96batch/s, Training loss=0.1009]\n"
     ]
    },
    {
     "name": "stdout",
     "output_type": "stream",
     "text": [
      "val_loss: 0.1198 , \n"
     ]
    },
    {
     "name": "stderr",
     "output_type": "stream",
     "text": [
      "Epoch: 103/200: 100%|██████████| 160/160 [00:05<00:00, 27.12batch/s, Training loss=0.1042]\n"
     ]
    },
    {
     "name": "stdout",
     "output_type": "stream",
     "text": [
      "val_loss: 0.1094 , \n"
     ]
    },
    {
     "name": "stderr",
     "output_type": "stream",
     "text": [
      "Epoch: 104/200: 100%|██████████| 160/160 [00:06<00:00, 25.25batch/s, Training loss=0.1023]\n"
     ]
    },
    {
     "name": "stdout",
     "output_type": "stream",
     "text": [
      "val_loss: 0.1244 , \n"
     ]
    },
    {
     "name": "stderr",
     "output_type": "stream",
     "text": [
      "Epoch: 105/200: 100%|██████████| 160/160 [00:06<00:00, 25.05batch/s, Training loss=0.1049]\n"
     ]
    },
    {
     "name": "stdout",
     "output_type": "stream",
     "text": [
      "val_loss: 0.1126 , \n"
     ]
    },
    {
     "name": "stderr",
     "output_type": "stream",
     "text": [
      "Epoch: 106/200: 100%|██████████| 160/160 [00:06<00:00, 26.21batch/s, Training loss=0.1037]\n"
     ]
    },
    {
     "name": "stdout",
     "output_type": "stream",
     "text": [
      "val_loss: 0.1080 , \n"
     ]
    },
    {
     "name": "stderr",
     "output_type": "stream",
     "text": [
      "Epoch: 107/200: 100%|██████████| 160/160 [00:06<00:00, 24.69batch/s, Training loss=0.1000]\n"
     ]
    },
    {
     "name": "stdout",
     "output_type": "stream",
     "text": [
      "val_loss: 0.1133 , \n"
     ]
    },
    {
     "name": "stderr",
     "output_type": "stream",
     "text": [
      "Epoch: 108/200: 100%|██████████| 160/160 [00:05<00:00, 26.68batch/s, Training loss=0.1016]\n"
     ]
    },
    {
     "name": "stdout",
     "output_type": "stream",
     "text": [
      "val_loss: 0.1077 , \n"
     ]
    },
    {
     "name": "stderr",
     "output_type": "stream",
     "text": [
      "Epoch: 109/200: 100%|██████████| 160/160 [00:06<00:00, 24.43batch/s, Training loss=0.1020]\n"
     ]
    },
    {
     "name": "stdout",
     "output_type": "stream",
     "text": [
      "val_loss: 0.1109 , \n"
     ]
    },
    {
     "name": "stderr",
     "output_type": "stream",
     "text": [
      "Epoch: 110/200: 100%|██████████| 160/160 [00:05<00:00, 26.72batch/s, Training loss=0.0983]\n"
     ]
    },
    {
     "name": "stdout",
     "output_type": "stream",
     "text": [
      "val_loss: 0.1131 , \n"
     ]
    },
    {
     "name": "stderr",
     "output_type": "stream",
     "text": [
      "Epoch: 111/200: 100%|██████████| 160/160 [00:06<00:00, 23.79batch/s, Training loss=0.1002]\n"
     ]
    },
    {
     "name": "stdout",
     "output_type": "stream",
     "text": [
      "val_loss: 0.1148 , \n"
     ]
    },
    {
     "name": "stderr",
     "output_type": "stream",
     "text": [
      "Epoch: 112/200: 100%|██████████| 160/160 [00:06<00:00, 25.09batch/s, Training loss=0.0992]\n"
     ]
    },
    {
     "name": "stdout",
     "output_type": "stream",
     "text": [
      "val_loss: 0.1156 , \n"
     ]
    },
    {
     "name": "stderr",
     "output_type": "stream",
     "text": [
      "Epoch: 113/200: 100%|██████████| 160/160 [00:06<00:00, 23.79batch/s, Training loss=0.0979]\n"
     ]
    },
    {
     "name": "stdout",
     "output_type": "stream",
     "text": [
      "val_loss: 0.1169 , \n"
     ]
    },
    {
     "name": "stderr",
     "output_type": "stream",
     "text": [
      "Epoch: 114/200: 100%|██████████| 160/160 [00:06<00:00, 25.19batch/s, Training loss=0.1027]\n"
     ]
    },
    {
     "name": "stdout",
     "output_type": "stream",
     "text": [
      "val_loss: 0.1217 , \n"
     ]
    },
    {
     "name": "stderr",
     "output_type": "stream",
     "text": [
      "Epoch: 115/200: 100%|██████████| 160/160 [00:06<00:00, 23.68batch/s, Training loss=0.0980]\n"
     ]
    },
    {
     "name": "stdout",
     "output_type": "stream",
     "text": [
      "val_loss: 0.1121 , \n"
     ]
    },
    {
     "name": "stderr",
     "output_type": "stream",
     "text": [
      "Epoch: 116/200: 100%|██████████| 160/160 [00:06<00:00, 25.94batch/s, Training loss=0.1013]\n"
     ]
    },
    {
     "name": "stdout",
     "output_type": "stream",
     "text": [
      "val_loss: 0.1077 , \n"
     ]
    },
    {
     "name": "stderr",
     "output_type": "stream",
     "text": [
      "Epoch: 117/200: 100%|██████████| 160/160 [00:06<00:00, 24.76batch/s, Training loss=0.0996]\n"
     ]
    },
    {
     "name": "stdout",
     "output_type": "stream",
     "text": [
      "val_loss: 0.1142 , \n"
     ]
    },
    {
     "name": "stderr",
     "output_type": "stream",
     "text": [
      "Epoch: 118/200: 100%|██████████| 160/160 [00:06<00:00, 26.29batch/s, Training loss=0.0978]\n"
     ]
    },
    {
     "name": "stdout",
     "output_type": "stream",
     "text": [
      "val_loss: 0.1126 , \n"
     ]
    },
    {
     "name": "stderr",
     "output_type": "stream",
     "text": [
      "Epoch: 119/200: 100%|██████████| 160/160 [00:06<00:00, 25.95batch/s, Training loss=0.0950]\n"
     ]
    },
    {
     "name": "stdout",
     "output_type": "stream",
     "text": [
      "val_loss: 0.1065 , \n"
     ]
    },
    {
     "name": "stderr",
     "output_type": "stream",
     "text": [
      "Epoch: 120/200: 100%|██████████| 160/160 [00:06<00:00, 26.18batch/s, Training loss=0.0983]\n"
     ]
    },
    {
     "name": "stdout",
     "output_type": "stream",
     "text": [
      "val_loss: 0.1102 , \n"
     ]
    },
    {
     "name": "stderr",
     "output_type": "stream",
     "text": [
      "Epoch: 121/200: 100%|██████████| 160/160 [00:06<00:00, 26.29batch/s, Training loss=0.0963]\n"
     ]
    },
    {
     "name": "stdout",
     "output_type": "stream",
     "text": [
      "val_loss: 0.1106 , \n"
     ]
    },
    {
     "name": "stderr",
     "output_type": "stream",
     "text": [
      "Epoch: 122/200: 100%|██████████| 160/160 [00:06<00:00, 25.19batch/s, Training loss=0.0976]\n"
     ]
    },
    {
     "name": "stdout",
     "output_type": "stream",
     "text": [
      "val_loss: 0.1099 , \n"
     ]
    },
    {
     "name": "stderr",
     "output_type": "stream",
     "text": [
      "Epoch: 123/200: 100%|██████████| 160/160 [00:06<00:00, 26.14batch/s, Training loss=0.0950]\n"
     ]
    },
    {
     "name": "stdout",
     "output_type": "stream",
     "text": [
      "val_loss: 0.1093 , \n"
     ]
    },
    {
     "name": "stderr",
     "output_type": "stream",
     "text": [
      "Epoch: 124/200: 100%|██████████| 160/160 [00:06<00:00, 25.84batch/s, Training loss=0.0947]\n"
     ]
    },
    {
     "name": "stdout",
     "output_type": "stream",
     "text": [
      "val_loss: 0.1131 , \n"
     ]
    },
    {
     "name": "stderr",
     "output_type": "stream",
     "text": [
      "Epoch: 125/200: 100%|██████████| 160/160 [00:05<00:00, 30.39batch/s, Training loss=0.0953]\n"
     ]
    },
    {
     "name": "stdout",
     "output_type": "stream",
     "text": [
      "val_loss: 0.1022 , \n"
     ]
    },
    {
     "name": "stderr",
     "output_type": "stream",
     "text": [
      "Epoch: 126/200: 100%|██████████| 160/160 [00:05<00:00, 30.04batch/s, Training loss=0.0975]\n"
     ]
    },
    {
     "name": "stdout",
     "output_type": "stream",
     "text": [
      "val_loss: 0.1099 , \n"
     ]
    },
    {
     "name": "stderr",
     "output_type": "stream",
     "text": [
      "Epoch: 127/200: 100%|██████████| 160/160 [00:05<00:00, 28.51batch/s, Training loss=0.0979]\n"
     ]
    },
    {
     "name": "stdout",
     "output_type": "stream",
     "text": [
      "val_loss: 0.1091 , \n"
     ]
    },
    {
     "name": "stderr",
     "output_type": "stream",
     "text": [
      "Epoch: 128/200: 100%|██████████| 160/160 [00:05<00:00, 29.68batch/s, Training loss=0.0969]\n"
     ]
    },
    {
     "name": "stdout",
     "output_type": "stream",
     "text": [
      "val_loss: 0.1087 , \n"
     ]
    },
    {
     "name": "stderr",
     "output_type": "stream",
     "text": [
      "Epoch: 129/200: 100%|██████████| 160/160 [00:05<00:00, 29.52batch/s, Training loss=0.0953]\n"
     ]
    },
    {
     "name": "stdout",
     "output_type": "stream",
     "text": [
      "val_loss: 0.1061 , \n"
     ]
    },
    {
     "name": "stderr",
     "output_type": "stream",
     "text": [
      "Epoch: 130/200: 100%|██████████| 160/160 [00:05<00:00, 30.15batch/s, Training loss=0.0965]\n"
     ]
    },
    {
     "name": "stdout",
     "output_type": "stream",
     "text": [
      "val_loss: 0.1086 , \n"
     ]
    },
    {
     "name": "stderr",
     "output_type": "stream",
     "text": [
      "Epoch: 131/200: 100%|██████████| 160/160 [00:05<00:00, 30.59batch/s, Training loss=0.0953]\n"
     ]
    },
    {
     "name": "stdout",
     "output_type": "stream",
     "text": [
      "val_loss: 0.1178 , \n"
     ]
    },
    {
     "name": "stderr",
     "output_type": "stream",
     "text": [
      "Epoch: 132/200: 100%|██████████| 160/160 [00:05<00:00, 28.44batch/s, Training loss=0.0942]\n"
     ]
    },
    {
     "name": "stdout",
     "output_type": "stream",
     "text": [
      "val_loss: 0.1035 , \n"
     ]
    },
    {
     "name": "stderr",
     "output_type": "stream",
     "text": [
      "Epoch: 133/200: 100%|██████████| 160/160 [00:05<00:00, 29.40batch/s, Training loss=0.0948]\n"
     ]
    },
    {
     "name": "stdout",
     "output_type": "stream",
     "text": [
      "val_loss: 0.1049 , \n"
     ]
    },
    {
     "name": "stderr",
     "output_type": "stream",
     "text": [
      "Epoch: 134/200: 100%|██████████| 160/160 [00:05<00:00, 29.70batch/s, Training loss=0.0933]\n"
     ]
    },
    {
     "name": "stdout",
     "output_type": "stream",
     "text": [
      "val_loss: 0.1103 , \n"
     ]
    },
    {
     "name": "stderr",
     "output_type": "stream",
     "text": [
      "Epoch: 135/200: 100%|██████████| 160/160 [00:05<00:00, 28.98batch/s, Training loss=0.0939]\n"
     ]
    },
    {
     "name": "stdout",
     "output_type": "stream",
     "text": [
      "val_loss: 0.1085 , \n"
     ]
    },
    {
     "name": "stderr",
     "output_type": "stream",
     "text": [
      "Epoch: 136/200: 100%|██████████| 160/160 [00:05<00:00, 29.59batch/s, Training loss=0.0941]\n"
     ]
    },
    {
     "name": "stdout",
     "output_type": "stream",
     "text": [
      "val_loss: 0.1083 , \n"
     ]
    },
    {
     "name": "stderr",
     "output_type": "stream",
     "text": [
      "Epoch: 137/200: 100%|██████████| 160/160 [00:05<00:00, 29.85batch/s, Training loss=0.0951]\n"
     ]
    },
    {
     "name": "stdout",
     "output_type": "stream",
     "text": [
      "val_loss: 0.1027 , \n"
     ]
    },
    {
     "name": "stderr",
     "output_type": "stream",
     "text": [
      "Epoch: 138/200: 100%|██████████| 160/160 [00:05<00:00, 29.79batch/s, Training loss=0.0945]\n"
     ]
    },
    {
     "name": "stdout",
     "output_type": "stream",
     "text": [
      "val_loss: 0.1061 , \n"
     ]
    },
    {
     "name": "stderr",
     "output_type": "stream",
     "text": [
      "Epoch: 139/200: 100%|██████████| 160/160 [00:05<00:00, 29.38batch/s, Training loss=0.0921]\n"
     ]
    },
    {
     "name": "stdout",
     "output_type": "stream",
     "text": [
      "val_loss: 0.1049 , \n"
     ]
    },
    {
     "name": "stderr",
     "output_type": "stream",
     "text": [
      "Epoch: 140/200: 100%|██████████| 160/160 [00:05<00:00, 29.66batch/s, Training loss=0.0923]\n"
     ]
    },
    {
     "name": "stdout",
     "output_type": "stream",
     "text": [
      "val_loss: 0.1063 , \n"
     ]
    },
    {
     "name": "stderr",
     "output_type": "stream",
     "text": [
      "Epoch: 141/200: 100%|██████████| 160/160 [00:05<00:00, 29.29batch/s, Training loss=0.0923]\n"
     ]
    },
    {
     "name": "stdout",
     "output_type": "stream",
     "text": [
      "val_loss: 0.1078 , \n"
     ]
    },
    {
     "name": "stderr",
     "output_type": "stream",
     "text": [
      "Epoch: 142/200: 100%|██████████| 160/160 [00:05<00:00, 30.39batch/s, Training loss=0.0930]\n"
     ]
    },
    {
     "name": "stdout",
     "output_type": "stream",
     "text": [
      "val_loss: 0.0985 , \n"
     ]
    },
    {
     "name": "stderr",
     "output_type": "stream",
     "text": [
      "Epoch: 143/200: 100%|██████████| 160/160 [00:05<00:00, 29.92batch/s, Training loss=0.0924]\n"
     ]
    },
    {
     "name": "stdout",
     "output_type": "stream",
     "text": [
      "val_loss: 0.1008 , \n"
     ]
    },
    {
     "name": "stderr",
     "output_type": "stream",
     "text": [
      "Epoch: 144/200: 100%|██████████| 160/160 [00:05<00:00, 28.90batch/s, Training loss=0.0931]\n"
     ]
    },
    {
     "name": "stdout",
     "output_type": "stream",
     "text": [
      "val_loss: 0.1022 , \n"
     ]
    },
    {
     "name": "stderr",
     "output_type": "stream",
     "text": [
      "Epoch: 145/200: 100%|██████████| 160/160 [00:05<00:00, 30.53batch/s, Training loss=0.0912]\n"
     ]
    },
    {
     "name": "stdout",
     "output_type": "stream",
     "text": [
      "val_loss: 0.1014 , \n"
     ]
    },
    {
     "name": "stderr",
     "output_type": "stream",
     "text": [
      "Epoch: 146/200: 100%|██████████| 160/160 [00:05<00:00, 29.31batch/s, Training loss=0.0914]\n"
     ]
    },
    {
     "name": "stdout",
     "output_type": "stream",
     "text": [
      "val_loss: 0.1052 , \n"
     ]
    },
    {
     "name": "stderr",
     "output_type": "stream",
     "text": [
      "Epoch: 147/200: 100%|██████████| 160/160 [00:05<00:00, 29.23batch/s, Training loss=0.0895]\n"
     ]
    },
    {
     "name": "stdout",
     "output_type": "stream",
     "text": [
      "val_loss: 0.0988 , \n"
     ]
    },
    {
     "name": "stderr",
     "output_type": "stream",
     "text": [
      "Epoch: 148/200: 100%|██████████| 160/160 [00:05<00:00, 29.91batch/s, Training loss=0.0908]\n"
     ]
    },
    {
     "name": "stdout",
     "output_type": "stream",
     "text": [
      "val_loss: 0.1013 , \n"
     ]
    },
    {
     "name": "stderr",
     "output_type": "stream",
     "text": [
      "Epoch: 149/200: 100%|██████████| 160/160 [00:05<00:00, 28.66batch/s, Training loss=0.0891]\n"
     ]
    },
    {
     "name": "stdout",
     "output_type": "stream",
     "text": [
      "val_loss: 0.1085 , \n"
     ]
    },
    {
     "name": "stderr",
     "output_type": "stream",
     "text": [
      "Epoch: 150/200: 100%|██████████| 160/160 [00:05<00:00, 28.71batch/s, Training loss=0.0890]\n"
     ]
    },
    {
     "name": "stdout",
     "output_type": "stream",
     "text": [
      "val_loss: 0.1079 , \n"
     ]
    },
    {
     "name": "stderr",
     "output_type": "stream",
     "text": [
      "Epoch: 151/200: 100%|██████████| 160/160 [00:05<00:00, 29.58batch/s, Training loss=0.0907]\n"
     ]
    },
    {
     "name": "stdout",
     "output_type": "stream",
     "text": [
      "val_loss: 0.1032 , \n"
     ]
    },
    {
     "name": "stderr",
     "output_type": "stream",
     "text": [
      "Epoch: 152/200: 100%|██████████| 160/160 [00:05<00:00, 28.07batch/s, Training loss=0.0901]\n"
     ]
    },
    {
     "name": "stdout",
     "output_type": "stream",
     "text": [
      "val_loss: 0.0959 , \n"
     ]
    },
    {
     "name": "stderr",
     "output_type": "stream",
     "text": [
      "Epoch: 153/200: 100%|██████████| 160/160 [00:05<00:00, 28.10batch/s, Training loss=0.0891]\n"
     ]
    },
    {
     "name": "stdout",
     "output_type": "stream",
     "text": [
      "val_loss: 0.1029 , \n"
     ]
    },
    {
     "name": "stderr",
     "output_type": "stream",
     "text": [
      "Epoch: 154/200: 100%|██████████| 160/160 [00:05<00:00, 29.90batch/s, Training loss=0.0900]\n"
     ]
    },
    {
     "name": "stdout",
     "output_type": "stream",
     "text": [
      "val_loss: 0.0988 , \n"
     ]
    },
    {
     "name": "stderr",
     "output_type": "stream",
     "text": [
      "Epoch: 155/200: 100%|██████████| 160/160 [00:05<00:00, 29.13batch/s, Training loss=0.0883]\n"
     ]
    },
    {
     "name": "stdout",
     "output_type": "stream",
     "text": [
      "val_loss: 0.0990 , \n"
     ]
    },
    {
     "name": "stderr",
     "output_type": "stream",
     "text": [
      "Epoch: 156/200: 100%|██████████| 160/160 [00:05<00:00, 27.97batch/s, Training loss=0.0889]\n"
     ]
    },
    {
     "name": "stdout",
     "output_type": "stream",
     "text": [
      "val_loss: 0.1002 , \n"
     ]
    },
    {
     "name": "stderr",
     "output_type": "stream",
     "text": [
      "Epoch: 157/200: 100%|██████████| 160/160 [00:05<00:00, 27.57batch/s, Training loss=0.0902]\n"
     ]
    },
    {
     "name": "stdout",
     "output_type": "stream",
     "text": [
      "val_loss: 0.1003 , \n"
     ]
    },
    {
     "name": "stderr",
     "output_type": "stream",
     "text": [
      "Epoch: 158/200: 100%|██████████| 160/160 [00:05<00:00, 28.42batch/s, Training loss=0.0860]\n"
     ]
    },
    {
     "name": "stdout",
     "output_type": "stream",
     "text": [
      "val_loss: 0.0934 , \n"
     ]
    },
    {
     "name": "stderr",
     "output_type": "stream",
     "text": [
      "Epoch: 159/200: 100%|██████████| 160/160 [00:05<00:00, 28.37batch/s, Training loss=0.0880]\n"
     ]
    },
    {
     "name": "stdout",
     "output_type": "stream",
     "text": [
      "val_loss: 0.1060 , \n"
     ]
    },
    {
     "name": "stderr",
     "output_type": "stream",
     "text": [
      "Epoch: 160/200: 100%|██████████| 160/160 [00:05<00:00, 28.32batch/s, Training loss=0.0882]\n"
     ]
    },
    {
     "name": "stdout",
     "output_type": "stream",
     "text": [
      "val_loss: 0.1046 , \n"
     ]
    },
    {
     "name": "stderr",
     "output_type": "stream",
     "text": [
      "Epoch: 161/200: 100%|██████████| 160/160 [00:05<00:00, 29.53batch/s, Training loss=0.0881]\n"
     ]
    },
    {
     "name": "stdout",
     "output_type": "stream",
     "text": [
      "val_loss: 0.1059 , \n"
     ]
    },
    {
     "name": "stderr",
     "output_type": "stream",
     "text": [
      "Epoch: 162/200: 100%|██████████| 160/160 [00:05<00:00, 28.90batch/s, Training loss=0.0854]\n"
     ]
    },
    {
     "name": "stdout",
     "output_type": "stream",
     "text": [
      "val_loss: 0.1008 , \n"
     ]
    },
    {
     "name": "stderr",
     "output_type": "stream",
     "text": [
      "Epoch: 163/200: 100%|██████████| 160/160 [00:05<00:00, 29.39batch/s, Training loss=0.0871]\n"
     ]
    },
    {
     "name": "stdout",
     "output_type": "stream",
     "text": [
      "val_loss: 0.1033 , \n"
     ]
    },
    {
     "name": "stderr",
     "output_type": "stream",
     "text": [
      "Epoch: 164/200: 100%|██████████| 160/160 [00:05<00:00, 29.65batch/s, Training loss=0.0884]\n"
     ]
    },
    {
     "name": "stdout",
     "output_type": "stream",
     "text": [
      "val_loss: 0.0993 , \n"
     ]
    },
    {
     "name": "stderr",
     "output_type": "stream",
     "text": [
      "Epoch: 165/200: 100%|██████████| 160/160 [00:05<00:00, 29.21batch/s, Training loss=0.0875]\n"
     ]
    },
    {
     "name": "stdout",
     "output_type": "stream",
     "text": [
      "val_loss: 0.1070 , \n"
     ]
    },
    {
     "name": "stderr",
     "output_type": "stream",
     "text": [
      "Epoch: 166/200: 100%|██████████| 160/160 [00:05<00:00, 29.36batch/s, Training loss=0.0864]\n"
     ]
    },
    {
     "name": "stdout",
     "output_type": "stream",
     "text": [
      "val_loss: 0.0949 , \n"
     ]
    },
    {
     "name": "stderr",
     "output_type": "stream",
     "text": [
      "Epoch: 167/200: 100%|██████████| 160/160 [00:05<00:00, 29.38batch/s, Training loss=0.0868]\n"
     ]
    },
    {
     "name": "stdout",
     "output_type": "stream",
     "text": [
      "val_loss: 0.0998 , \n"
     ]
    },
    {
     "name": "stderr",
     "output_type": "stream",
     "text": [
      "Epoch: 168/200: 100%|██████████| 160/160 [00:05<00:00, 29.18batch/s, Training loss=0.0827]\n"
     ]
    },
    {
     "name": "stdout",
     "output_type": "stream",
     "text": [
      "val_loss: 0.0993 , \n"
     ]
    },
    {
     "name": "stderr",
     "output_type": "stream",
     "text": [
      "Epoch: 169/200: 100%|██████████| 160/160 [00:05<00:00, 27.59batch/s, Training loss=0.0871]\n"
     ]
    },
    {
     "name": "stdout",
     "output_type": "stream",
     "text": [
      "val_loss: 0.1093 , \n"
     ]
    },
    {
     "name": "stderr",
     "output_type": "stream",
     "text": [
      "Epoch: 170/200: 100%|██████████| 160/160 [00:05<00:00, 28.15batch/s, Training loss=0.0860]\n"
     ]
    },
    {
     "name": "stdout",
     "output_type": "stream",
     "text": [
      "val_loss: 0.1059 , \n"
     ]
    },
    {
     "name": "stderr",
     "output_type": "stream",
     "text": [
      "Epoch: 171/200: 100%|██████████| 160/160 [00:05<00:00, 28.02batch/s, Training loss=0.0842]\n"
     ]
    },
    {
     "name": "stdout",
     "output_type": "stream",
     "text": [
      "val_loss: 0.1021 , \n"
     ]
    },
    {
     "name": "stderr",
     "output_type": "stream",
     "text": [
      "Epoch: 172/200: 100%|██████████| 160/160 [00:05<00:00, 29.26batch/s, Training loss=0.0840]\n"
     ]
    },
    {
     "name": "stdout",
     "output_type": "stream",
     "text": [
      "val_loss: 0.0995 , \n"
     ]
    },
    {
     "name": "stderr",
     "output_type": "stream",
     "text": [
      "Epoch: 173/200: 100%|██████████| 160/160 [00:05<00:00, 28.63batch/s, Training loss=0.0835]\n"
     ]
    },
    {
     "name": "stdout",
     "output_type": "stream",
     "text": [
      "val_loss: 0.0972 , \n"
     ]
    },
    {
     "name": "stderr",
     "output_type": "stream",
     "text": [
      "Epoch: 174/200: 100%|██████████| 160/160 [00:05<00:00, 29.00batch/s, Training loss=0.0812]\n"
     ]
    },
    {
     "name": "stdout",
     "output_type": "stream",
     "text": [
      "val_loss: 0.0987 , \n"
     ]
    },
    {
     "name": "stderr",
     "output_type": "stream",
     "text": [
      "Epoch: 175/200: 100%|██████████| 160/160 [00:05<00:00, 29.20batch/s, Training loss=0.0835]\n"
     ]
    },
    {
     "name": "stdout",
     "output_type": "stream",
     "text": [
      "val_loss: 0.0946 , \n"
     ]
    },
    {
     "name": "stderr",
     "output_type": "stream",
     "text": [
      "Epoch: 176/200: 100%|██████████| 160/160 [00:05<00:00, 28.68batch/s, Training loss=0.0832]\n"
     ]
    },
    {
     "name": "stdout",
     "output_type": "stream",
     "text": [
      "val_loss: 0.0949 , \n"
     ]
    },
    {
     "name": "stderr",
     "output_type": "stream",
     "text": [
      "Epoch: 177/200: 100%|██████████| 160/160 [00:05<00:00, 29.21batch/s, Training loss=0.0839]\n"
     ]
    },
    {
     "name": "stdout",
     "output_type": "stream",
     "text": [
      "val_loss: 0.1046 , \n"
     ]
    },
    {
     "name": "stderr",
     "output_type": "stream",
     "text": [
      "Epoch: 178/200: 100%|██████████| 160/160 [00:05<00:00, 29.22batch/s, Training loss=0.0825]\n"
     ]
    },
    {
     "name": "stdout",
     "output_type": "stream",
     "text": [
      "val_loss: 0.0928 , \n"
     ]
    },
    {
     "name": "stderr",
     "output_type": "stream",
     "text": [
      "Epoch: 179/200: 100%|██████████| 160/160 [00:05<00:00, 30.71batch/s, Training loss=0.0829]\n"
     ]
    },
    {
     "name": "stdout",
     "output_type": "stream",
     "text": [
      "val_loss: 0.0975 , \n"
     ]
    },
    {
     "name": "stderr",
     "output_type": "stream",
     "text": [
      "Epoch: 180/200: 100%|██████████| 160/160 [00:05<00:00, 29.63batch/s, Training loss=0.0825]\n"
     ]
    },
    {
     "name": "stdout",
     "output_type": "stream",
     "text": [
      "val_loss: 0.0995 , \n"
     ]
    },
    {
     "name": "stderr",
     "output_type": "stream",
     "text": [
      "Epoch: 181/200: 100%|██████████| 160/160 [00:05<00:00, 28.95batch/s, Training loss=0.0815]\n"
     ]
    },
    {
     "name": "stdout",
     "output_type": "stream",
     "text": [
      "val_loss: 0.0998 , \n"
     ]
    },
    {
     "name": "stderr",
     "output_type": "stream",
     "text": [
      "Epoch: 182/200: 100%|██████████| 160/160 [00:05<00:00, 28.74batch/s, Training loss=0.0840]\n"
     ]
    },
    {
     "name": "stdout",
     "output_type": "stream",
     "text": [
      "val_loss: 0.0947 , \n"
     ]
    },
    {
     "name": "stderr",
     "output_type": "stream",
     "text": [
      "Epoch: 183/200: 100%|██████████| 160/160 [00:05<00:00, 28.49batch/s, Training loss=0.0825]\n"
     ]
    },
    {
     "name": "stdout",
     "output_type": "stream",
     "text": [
      "val_loss: 0.0928 , \n"
     ]
    },
    {
     "name": "stderr",
     "output_type": "stream",
     "text": [
      "Epoch: 184/200: 100%|██████████| 160/160 [00:05<00:00, 28.74batch/s, Training loss=0.0828]\n"
     ]
    },
    {
     "name": "stdout",
     "output_type": "stream",
     "text": [
      "val_loss: 0.0949 , \n"
     ]
    },
    {
     "name": "stderr",
     "output_type": "stream",
     "text": [
      "Epoch: 185/200: 100%|██████████| 160/160 [00:05<00:00, 28.95batch/s, Training loss=0.0823]\n"
     ]
    },
    {
     "name": "stdout",
     "output_type": "stream",
     "text": [
      "val_loss: 0.0997 , \n"
     ]
    },
    {
     "name": "stderr",
     "output_type": "stream",
     "text": [
      "Epoch: 186/200: 100%|██████████| 160/160 [00:05<00:00, 29.05batch/s, Training loss=0.0807]\n"
     ]
    },
    {
     "name": "stdout",
     "output_type": "stream",
     "text": [
      "val_loss: 0.0952 , \n"
     ]
    },
    {
     "name": "stderr",
     "output_type": "stream",
     "text": [
      "Epoch: 187/200: 100%|██████████| 160/160 [00:05<00:00, 29.45batch/s, Training loss=0.0808]\n"
     ]
    },
    {
     "name": "stdout",
     "output_type": "stream",
     "text": [
      "val_loss: 0.1021 , \n"
     ]
    },
    {
     "name": "stderr",
     "output_type": "stream",
     "text": [
      "Epoch: 188/200: 100%|██████████| 160/160 [00:05<00:00, 29.63batch/s, Training loss=0.0771]\n"
     ]
    },
    {
     "name": "stdout",
     "output_type": "stream",
     "text": [
      "val_loss: 0.0988 , \n"
     ]
    },
    {
     "name": "stderr",
     "output_type": "stream",
     "text": [
      "Epoch: 189/200: 100%|██████████| 160/160 [00:05<00:00, 29.45batch/s, Training loss=0.0809]\n"
     ]
    },
    {
     "name": "stdout",
     "output_type": "stream",
     "text": [
      "val_loss: 0.0887 , \n"
     ]
    },
    {
     "name": "stderr",
     "output_type": "stream",
     "text": [
      "Epoch: 190/200: 100%|██████████| 160/160 [00:05<00:00, 29.58batch/s, Training loss=0.0802]\n"
     ]
    },
    {
     "name": "stdout",
     "output_type": "stream",
     "text": [
      "val_loss: 0.0991 , \n"
     ]
    },
    {
     "name": "stderr",
     "output_type": "stream",
     "text": [
      "Epoch: 191/200: 100%|██████████| 160/160 [00:05<00:00, 28.82batch/s, Training loss=0.0797]\n"
     ]
    },
    {
     "name": "stdout",
     "output_type": "stream",
     "text": [
      "val_loss: 0.0904 , \n"
     ]
    },
    {
     "name": "stderr",
     "output_type": "stream",
     "text": [
      "Epoch: 192/200: 100%|██████████| 160/160 [00:05<00:00, 28.80batch/s, Training loss=0.0777]\n"
     ]
    },
    {
     "name": "stdout",
     "output_type": "stream",
     "text": [
      "val_loss: 0.0975 , \n"
     ]
    },
    {
     "name": "stderr",
     "output_type": "stream",
     "text": [
      "Epoch: 193/200: 100%|██████████| 160/160 [00:05<00:00, 28.78batch/s, Training loss=0.0782]\n"
     ]
    },
    {
     "name": "stdout",
     "output_type": "stream",
     "text": [
      "val_loss: 0.0974 , \n"
     ]
    },
    {
     "name": "stderr",
     "output_type": "stream",
     "text": [
      "Epoch: 194/200: 100%|██████████| 160/160 [00:05<00:00, 29.14batch/s, Training loss=0.0798]\n"
     ]
    },
    {
     "name": "stdout",
     "output_type": "stream",
     "text": [
      "val_loss: 0.0912 , \n"
     ]
    },
    {
     "name": "stderr",
     "output_type": "stream",
     "text": [
      "Epoch: 195/200: 100%|██████████| 160/160 [00:05<00:00, 29.36batch/s, Training loss=0.0797]\n"
     ]
    },
    {
     "name": "stdout",
     "output_type": "stream",
     "text": [
      "val_loss: 0.0948 , \n"
     ]
    },
    {
     "name": "stderr",
     "output_type": "stream",
     "text": [
      "Epoch: 196/200: 100%|██████████| 160/160 [00:05<00:00, 28.69batch/s, Training loss=0.0782]\n"
     ]
    },
    {
     "name": "stdout",
     "output_type": "stream",
     "text": [
      "val_loss: 0.0927 , \n"
     ]
    },
    {
     "name": "stderr",
     "output_type": "stream",
     "text": [
      "Epoch: 197/200: 100%|██████████| 160/160 [00:05<00:00, 29.57batch/s, Training loss=0.0782]\n"
     ]
    },
    {
     "name": "stdout",
     "output_type": "stream",
     "text": [
      "val_loss: 0.0928 , \n"
     ]
    },
    {
     "name": "stderr",
     "output_type": "stream",
     "text": [
      "Epoch: 198/200: 100%|██████████| 160/160 [00:05<00:00, 28.61batch/s, Training loss=0.0778]\n"
     ]
    },
    {
     "name": "stdout",
     "output_type": "stream",
     "text": [
      "val_loss: 0.0921 , \n"
     ]
    },
    {
     "name": "stderr",
     "output_type": "stream",
     "text": [
      "Epoch: 199/200: 100%|██████████| 160/160 [00:05<00:00, 29.12batch/s, Training loss=0.0787]\n"
     ]
    },
    {
     "name": "stdout",
     "output_type": "stream",
     "text": [
      "val_loss: 0.0909 , \n"
     ]
    },
    {
     "name": "stderr",
     "output_type": "stream",
     "text": [
      "Epoch: 200/200: 100%|██████████| 160/160 [00:05<00:00, 29.08batch/s, Training loss=0.0777]\n"
     ]
    },
    {
     "name": "stdout",
     "output_type": "stream",
     "text": [
      "val_loss: 0.0994 , \n",
      "Loading best weights!\n"
     ]
    }
   ],
   "source": [
    "optimizer = torch.optim.Adam(params=predictor.parameters(), lr=1e-3, weight_decay=0)\n",
    "lr_scheduler = torch.optim.lr_scheduler.LinearLR(optimizer, start_factor=1, end_factor=0.001, total_iters=200)\n",
    "\n",
    "predictor.train_network(\n",
    "    train_loader = train_loader,\n",
    "    epochs=200,\n",
    "    val_loader = val_loader,\n",
    "    optimizer = optimizer,\n",
    "    lr_scheduler= lr_scheduler,\n",
    "    early_stopper=EarlyStopper(patience=200),\n",
    "    disable_progress_bar = False,\n",
    "    save_weights = True,\n",
    "    weight_folder = \"weights/electricity\"\n",
    ")"
   ]
  },
  {
   "cell_type": "code",
   "execution_count": 21,
   "metadata": {},
   "outputs": [
    {
     "name": "stdout",
     "output_type": "stream",
     "text": [
      "6.7880566120147705\n"
     ]
    }
   ],
   "source": [
    "# Check performance on validation set\n",
    "last_idx = val_dataset.tensor_data.shape[0] - prediction_length - context_length\n",
    "indices = list(range(last_idx, last_idx - prediction_length*14, -prediction_length))\n",
    "max_anchors = []\n",
    "min_anchors = []\n",
    "for idx in indices:\n",
    "    off_idx = idx + context_length\n",
    "    max_values = full_data.loc[full_data.index < val_data.index[off_idx]].max(axis=0)\n",
    "    min_values = full_data.loc[full_data.index < val_data.index[off_idx]].min(axis=0)\n",
    "    mean_values = full_data.loc[full_data.index < val_data.index[off_idx]].mean(axis=0)\n",
    "    max_anchors.append(1.1*torch.tensor(max_values,dtype=torch.float32,device=device) - 0.1*torch.tensor(mean_values,dtype=torch.float32,device=device))\n",
    "    min_anchors.append(1.1*torch.tensor(min_values,dtype=torch.float32,device=device) - 0.1*torch.tensor(mean_values,dtype=torch.float32,device=device))\n",
    "\n",
    "max_anchors = torch.stack(max_anchors)\n",
    "min_anchors = torch.stack(min_anchors)\n",
    "anchors = torch.stack([min_anchors,max_anchors],dim = -1).unsqueeze(2).repeat((1,1,prediction_length,1))\n",
    "\n",
    "\n",
    "start = time.time()\n",
    "samples = predictor.sample(\n",
    "    data = val_dataset,\n",
    "    indices = indices,\n",
    "    prediction_length = prediction_length,\n",
    "    num_samples = 128,\n",
    "    batch_size = 128,\n",
    "    anchors=anchors,\n",
    "    anchor_strength=0.03,\n",
    ")\n",
    "samples = samples.cpu()\n",
    "end = time.time()\n",
    "print(end-start)\n",
    "\n",
    "realisations = []\n",
    "for idx in indices:\n",
    "    realisations.append(\n",
    "        val_dataset.tensor_data[context_length + idx:context_length + idx + prediction_length,val_dataset.pred_columns].T\n",
    "    )\n",
    "realisations = torch.stack(realisations).cpu()\n"
   ]
  },
  {
   "cell_type": "code",
   "execution_count": 22,
   "metadata": {},
   "outputs": [
    {
     "name": "stdout",
     "output_type": "stream",
     "text": [
      "MSE: 0.20274629 MAE: 0.30675668 MDAE: 0.21546507\n",
      "CRPS_sum: 13.661357601483662 Variogram_score: 0.06751376933964552\n"
     ]
    }
   ],
   "source": [
    "# Calculate metrics\n",
    "mean_predictions = samples.mean(axis=1)\n",
    "\n",
    "# MSE, MAE, MDAE\n",
    "mse = mean_squared_error(realisations.flatten(), mean_predictions.flatten())\n",
    "mae = mean_absolute_error(realisations.flatten(), mean_predictions.flatten())\n",
    "mdae = median_absolute_error(realisations.flatten(), mean_predictions.flatten())\n",
    "print(\"MSE:\", mse, \"MAE:\", mae, \"MDAE:\", mdae)\n",
    "\n",
    "# CRPS_sum and Variogram_score\n",
    "crps_sum = np.mean([metrics.crps_sum(samples[i], realisations[i]) for i in range(realisations.shape[0])])\n",
    "variogram_score = np.mean([metrics.variogram_score(samples[i], realisations[i], weights=\"local\", window_size=2) for i in range(realisations.shape[0])])\n",
    "print(\"CRPS_sum:\", crps_sum, \"Variogram_score:\", variogram_score)"
   ]
  },
  {
   "cell_type": "code",
   "execution_count": 12,
   "metadata": {},
   "outputs": [
    {
     "data": {
      "image/png": "[encoded data removed]",
      "text/plain": [
       "<Figure size 640x480 with 1 Axes>"
      ]
     },
     "metadata": {},
     "output_type": "display_data"
    },
    {
     "data": {
      "image/png": "[encoded data removed]",
      "text/plain": [
       "<Figure size 640x480 with 1 Axes>"
      ]
     },
     "metadata": {},
     "output_type": "display_data"
    },
    {
     "data": {
      "image/png": "[encoded data removed]",
      "text/plain": [
       "<Figure size 640x480 with 1 Axes>"
      ]
     },
     "metadata": {},
     "output_type": "display_data"
    },
    {
     "data": {
      "image/png": "[encoded data removed]",
      "text/plain": [
       "<Figure size 640x480 with 1 Axes>"
      ]
     },
     "metadata": {},
     "output_type": "display_data"
    }
   ],
   "source": [
    "# Sample from model\n",
    "last_idx = test_dataset.tensor_data.shape[0] - prediction_length - context_length\n",
    "indices = [last_idx]\n",
    "max_anchors = []\n",
    "min_anchors = []\n",
    "for idx in indices:\n",
    "    off_idx = idx + context_length\n",
    "    max_values = full_data.loc[full_data.index < test_data.index[off_idx]].max(axis=0)\n",
    "    min_values = full_data.loc[full_data.index < test_data.index[off_idx]].min(axis=0)\n",
    "    mean_values = full_data.loc[full_data.index < test_data.index[off_idx]].mean(axis=0)\n",
    "    max_anchors.append(1.1*torch.tensor(max_values,dtype=torch.float32,device=device) - 0.1*torch.tensor(mean_values,dtype=torch.float32,device=device))\n",
    "    min_anchors.append(1.1*torch.tensor(min_values,dtype=torch.float32,device=device) - 0.1*torch.tensor(mean_values,dtype=torch.float32,device=device))\n",
    "\n",
    "max_anchors = torch.stack(max_anchors)\n",
    "min_anchors = torch.stack(min_anchors)\n",
    "anchors = torch.stack([min_anchors,max_anchors],dim = -1).unsqueeze(2).repeat((1,1,prediction_length,1))\n",
    "\n",
    "samples = predictor.sample(\n",
    "    data = test_dataset,\n",
    "    indices = indices,\n",
    "    prediction_length = prediction_length,\n",
    "    num_samples = 128,\n",
    "    batch_size = 128,\n",
    "    anchors=anchors,\n",
    "    anchor_strength=0.03,\n",
    ")\n",
    "samples = samples.cpu()\n",
    "\n",
    "# Sort samples in ascending order\n",
    "samples = samples.permute(0,2,3,1).flatten(start_dim=0,end_dim=2).sort()[0].reshape(samples.shape[0],samples.shape[2],samples.shape[3],-1).permute(0,3,1,2)\n",
    "\n",
    "# Plot some predictions\n",
    "confidence = 0.9\n",
    "\n",
    "for ts in [1,3,5,7]:\n",
    "    plt.figure()\n",
    "    plt.title(f\"TimeFusion Prediction on Dimension {ts}\")\n",
    "    plt.plot(test_dataset.tensor_data[indices[0] - (3*prediction_length - context_length):indices[0] + context_length,ts],\"-x\")\n",
    "    plt.plot(list(range(3*prediction_length,4*prediction_length)),test_dataset.tensor_data[indices[0] + context_length:indices[0] + context_length+prediction_length,ts],\"-x\")\n",
    "    plt.plot(list(range(3*prediction_length,4*prediction_length)),torch.mean(samples[0,:,ts],dim = 0),\"-x\")\n",
    "    plt.fill_between(list(range(3*prediction_length,4*prediction_length)), samples[0,int(confidence*samples.shape[1]),ts], samples[0,int((1-confidence)*samples.shape[1]),ts],alpha=0.5)\n",
    "    plt.legend([\"Historical data\",\"Target\",\"Mean prediction\",\"80% confidence interval\"],loc='upper left')\n",
    "    plt.xlabel(\"Index\",fontsize=12)\n",
    "    plt.ylabel(\"Value\",fontsize=12)\n",
    "    plt.savefig(f\"images/electricity_{ts}.png\")\n"
   ]
  },
  {
   "cell_type": "code",
   "execution_count": null,
   "metadata": {},
   "outputs": [],
   "source": []
  }
 ],
 "metadata": {
  "kernelspec": {
   "display_name": "TimeFusion 3.10.7",
   "language": "python",
   "name": "timefusion3.10.7"
  },
  "language_info": {
   "codemirror_mode": {
    "name": "ipython",
    "version": 3
   },
   "file_extension": ".py",
   "mimetype": "text/x-python",
   "name": "python",
   "nbconvert_exporter": "python",
   "pygments_lexer": "ipython3",
   "version": "3.10.7"
  }
 },
 "nbformat": 4,
 "nbformat_minor": 2
}
