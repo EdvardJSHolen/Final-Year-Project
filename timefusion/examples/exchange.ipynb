{
 "cells": [
  {
   "cell_type": "code",
   "execution_count": 4,
   "metadata": {},
   "outputs": [],
   "source": [
    "import sys\n",
    "import numpy as np\n",
    "import pandas as pd\n",
    "import matplotlib.pyplot as plt\n",
    "import torch\n",
    "import itertools\n",
    "import time\n",
    "\n",
    "from torch.utils.data import DataLoader\n",
    "from torch import nn\n",
    "from sklearn.metrics import mean_absolute_error, median_absolute_error, mean_squared_error\n",
    "\n",
    "sys.path.append(\"..\")\n",
    "from utils import metrics\n",
    "from utils.data import TimeFusionDataset\n",
    "from timefusion import TimeFusion\n",
    "from utils.early_stopper import EarlyStopper"
   ]
  },
  {
   "cell_type": "code",
   "execution_count": 5,
   "metadata": {},
   "outputs": [],
   "source": [
    "# Import data\n",
    "train_data = pd.read_csv(\"../../datasets/exchange/train.csv\")\n",
    "val_data = pd.read_csv(\"../../datasets/exchange/val.csv\")\n",
    "test_data = pd.read_csv(\"../../datasets/exchange/test.csv\")\n",
    "\n",
    "train_data.index = list(range(train_data.shape[0]))\n",
    "val_data.index = list(range(train_data.shape[0], train_data.shape[0] + val_data.shape[0]))\n",
    "test_data.index = list(range(train_data.shape[0] + val_data.shape[0], train_data.shape[0] + val_data.shape[0] + test_data.shape[0]))\n",
    "\n",
    "# Normalize the signal power of each column\n",
    "stds = train_data.std()\n",
    "train_data /= stds\n",
    "val_data /= stds\n",
    "test_data /= stds\n",
    "\n",
    "# Concatenate to get full data\n",
    "full_data = pd.concat([train_data,val_data,test_data])"
   ]
  },
  {
   "cell_type": "code",
   "execution_count": 6,
   "metadata": {},
   "outputs": [],
   "source": [
    "# Compute device\n",
    "if torch.cuda.is_available():\n",
    "    device = torch.device(\"cuda:0\")\n",
    "else:\n",
    "    device = torch.device(\"cpu\")"
   ]
  },
  {
   "cell_type": "code",
   "execution_count": 7,
   "metadata": {},
   "outputs": [],
   "source": [
    "context_length = 30\n",
    "prediction_length = 30\n",
    "\n",
    "def get_data_loader(data, context_length):\n",
    "\n",
    "    dataset = TimeFusionDataset(\n",
    "        data = data,\n",
    "        context_length = context_length,\n",
    "    )\n",
    "\n",
    "    dataloader = DataLoader(\n",
    "        dataset = dataset,\n",
    "        shuffle = True,\n",
    "        num_workers = 3,\n",
    "        batch_size = 128,\n",
    "    )\n",
    "\n",
    "    return dataloader, dataset\n",
    "\n",
    "train_loader, train_dataset = get_data_loader(train_data, context_length)\n",
    "val_loader, val_dataset = get_data_loader(val_data, context_length)\n",
    "test_loader, test_dataset = get_data_loader(test_data, context_length)"
   ]
  },
  {
   "cell_type": "code",
   "execution_count": 8,
   "metadata": {},
   "outputs": [
    {
     "name": "stderr",
     "output_type": "stream",
     "text": [
      "/rds/general/user/ejh19/home/Final-Year-Project/timefusion/examples/../utils/diffusion.py:25: UserWarning: To copy construct from a tensor, it is recommended to use sourceTensor.clone().detach() or sourceTensor.clone().detach().requires_grad_(True), rather than torch.tensor(sourceTensor).\n",
      "  self.bar_alphas = torch.tensor(\n"
     ]
    },
    {
     "name": "stdout",
     "output_type": "stream",
     "text": [
      "Number of trainable parameters: 6424\n"
     ]
    }
   ],
   "source": [
    "rnn_hidden = int(0.5*train_data.shape[1])\n",
    "residual_hidden = int((rnn_hidden + train_data.shape[1])*2)\n",
    "\n",
    "predictor = TimeFusion(\n",
    "    input_size = train_dataset.data.shape[1],\n",
    "    output_size = train_data.shape[1],\n",
    "    rnn_layers = 2,\n",
    "    rnn_hidden = rnn_hidden,\n",
    "    residual_layers = 8,\n",
    "    residual_hidden = residual_hidden,\n",
    "    dropout = 0,\n",
    "    scaling = True,\n",
    "    device = device,\n",
    "    residual_scaler = True\n",
    ")\n",
    "\n",
    "print(\"Number of trainable parameters:\",sum(p.numel() for p in predictor.parameters()))"
   ]
  },
  {
   "cell_type": "code",
   "execution_count": 9,
   "metadata": {},
   "outputs": [
    {
     "name": "stderr",
     "output_type": "stream",
     "text": [
      "Epoch: 1/200: 100%|██████████| 48/48 [00:01<00:00, 33.38batch/s, Training loss=1.0035]\n"
     ]
    },
    {
     "name": "stdout",
     "output_type": "stream",
     "text": [
      "val_loss: 0.9594 , \n"
     ]
    },
    {
     "name": "stderr",
     "output_type": "stream",
     "text": [
      "Epoch: 2/200: 100%|██████████| 48/48 [00:00<00:00, 76.81batch/s, Training loss=0.9192] \n"
     ]
    },
    {
     "name": "stdout",
     "output_type": "stream",
     "text": [
      "val_loss: 0.8095 , \n"
     ]
    },
    {
     "name": "stderr",
     "output_type": "stream",
     "text": [
      "Epoch: 3/200: 100%|██████████| 48/48 [00:00<00:00, 78.81batch/s, Training loss=0.6741] \n"
     ]
    },
    {
     "name": "stdout",
     "output_type": "stream",
     "text": [
      "val_loss: 0.5641 , \n"
     ]
    },
    {
     "name": "stderr",
     "output_type": "stream",
     "text": [
      "Epoch: 4/200: 100%|██████████| 48/48 [00:00<00:00, 78.55batch/s, Training loss=0.5204] \n"
     ]
    },
    {
     "name": "stdout",
     "output_type": "stream",
     "text": [
      "val_loss: 0.4878 , \n"
     ]
    },
    {
     "name": "stderr",
     "output_type": "stream",
     "text": [
      "Epoch: 5/200: 100%|██████████| 48/48 [00:00<00:00, 77.91batch/s, Training loss=0.4610] \n"
     ]
    },
    {
     "name": "stdout",
     "output_type": "stream",
     "text": [
      "val_loss: 0.4139 , \n"
     ]
    },
    {
     "name": "stderr",
     "output_type": "stream",
     "text": [
      "Epoch: 6/200: 100%|██████████| 48/48 [00:00<00:00, 71.49batch/s, Training loss=0.3956] \n"
     ]
    },
    {
     "name": "stdout",
     "output_type": "stream",
     "text": [
      "val_loss: 0.3594 , \n"
     ]
    },
    {
     "name": "stderr",
     "output_type": "stream",
     "text": [
      "Epoch: 7/200: 100%|██████████| 48/48 [00:00<00:00, 70.34batch/s, Training loss=0.3281]\n"
     ]
    },
    {
     "name": "stdout",
     "output_type": "stream",
     "text": [
      "val_loss: 0.2832 , \n"
     ]
    },
    {
     "name": "stderr",
     "output_type": "stream",
     "text": [
      "Epoch: 8/200: 100%|██████████| 48/48 [00:00<00:00, 71.42batch/s, Training loss=0.2653] \n"
     ]
    },
    {
     "name": "stdout",
     "output_type": "stream",
     "text": [
      "val_loss: 0.2509 , \n"
     ]
    },
    {
     "name": "stderr",
     "output_type": "stream",
     "text": [
      "Epoch: 9/200: 100%|██████████| 48/48 [00:00<00:00, 71.36batch/s, Training loss=0.2507] \n"
     ]
    },
    {
     "name": "stdout",
     "output_type": "stream",
     "text": [
      "val_loss: 0.2560 , \n"
     ]
    },
    {
     "name": "stderr",
     "output_type": "stream",
     "text": [
      "Epoch: 10/200: 100%|██████████| 48/48 [00:00<00:00, 72.43batch/s, Training loss=0.2352] \n"
     ]
    },
    {
     "name": "stdout",
     "output_type": "stream",
     "text": [
      "val_loss: 0.2264 , \n"
     ]
    },
    {
     "name": "stderr",
     "output_type": "stream",
     "text": [
      "Epoch: 11/200: 100%|██████████| 48/48 [00:00<00:00, 75.28batch/s, Training loss=0.2243] \n"
     ]
    },
    {
     "name": "stdout",
     "output_type": "stream",
     "text": [
      "val_loss: 0.2155 , \n"
     ]
    },
    {
     "name": "stderr",
     "output_type": "stream",
     "text": [
      "Epoch: 12/200: 100%|██████████| 48/48 [00:00<00:00, 78.86batch/s, Training loss=0.2203] \n"
     ]
    },
    {
     "name": "stdout",
     "output_type": "stream",
     "text": [
      "val_loss: 0.2164 , \n"
     ]
    },
    {
     "name": "stderr",
     "output_type": "stream",
     "text": [
      "Epoch: 13/200: 100%|██████████| 48/48 [00:00<00:00, 74.88batch/s, Training loss=0.2177]\n"
     ]
    },
    {
     "name": "stdout",
     "output_type": "stream",
     "text": [
      "val_loss: 0.2082 , \n"
     ]
    },
    {
     "name": "stderr",
     "output_type": "stream",
     "text": [
      "Epoch: 14/200: 100%|██████████| 48/48 [00:00<00:00, 74.66batch/s, Training loss=0.2023] \n"
     ]
    },
    {
     "name": "stdout",
     "output_type": "stream",
     "text": [
      "val_loss: 0.1973 , \n"
     ]
    },
    {
     "name": "stderr",
     "output_type": "stream",
     "text": [
      "Epoch: 15/200: 100%|██████████| 48/48 [00:00<00:00, 76.99batch/s, Training loss=0.1866] \n"
     ]
    },
    {
     "name": "stdout",
     "output_type": "stream",
     "text": [
      "val_loss: 0.1742 , \n"
     ]
    },
    {
     "name": "stderr",
     "output_type": "stream",
     "text": [
      "Epoch: 16/200: 100%|██████████| 48/48 [00:00<00:00, 75.82batch/s, Training loss=0.1544] \n"
     ]
    },
    {
     "name": "stdout",
     "output_type": "stream",
     "text": [
      "val_loss: 0.1487 , \n"
     ]
    },
    {
     "name": "stderr",
     "output_type": "stream",
     "text": [
      "Epoch: 17/200: 100%|██████████| 48/48 [00:00<00:00, 78.30batch/s, Training loss=0.1262] \n"
     ]
    },
    {
     "name": "stdout",
     "output_type": "stream",
     "text": [
      "val_loss: 0.1170 , \n"
     ]
    },
    {
     "name": "stderr",
     "output_type": "stream",
     "text": [
      "Epoch: 18/200: 100%|██████████| 48/48 [00:00<00:00, 78.84batch/s, Training loss=0.1103] \n"
     ]
    },
    {
     "name": "stdout",
     "output_type": "stream",
     "text": [
      "val_loss: 0.0991 , \n"
     ]
    },
    {
     "name": "stderr",
     "output_type": "stream",
     "text": [
      "Epoch: 19/200: 100%|██████████| 48/48 [00:00<00:00, 79.07batch/s, Training loss=0.1036] \n"
     ]
    },
    {
     "name": "stdout",
     "output_type": "stream",
     "text": [
      "val_loss: 0.0968 , \n"
     ]
    },
    {
     "name": "stderr",
     "output_type": "stream",
     "text": [
      "Epoch: 20/200: 100%|██████████| 48/48 [00:00<00:00, 76.59batch/s, Training loss=0.0961] \n"
     ]
    },
    {
     "name": "stdout",
     "output_type": "stream",
     "text": [
      "val_loss: 0.0853 , \n"
     ]
    },
    {
     "name": "stderr",
     "output_type": "stream",
     "text": [
      "Epoch: 21/200: 100%|██████████| 48/48 [00:00<00:00, 77.13batch/s, Training loss=0.0886] \n"
     ]
    },
    {
     "name": "stdout",
     "output_type": "stream",
     "text": [
      "val_loss: 0.0849 , \n"
     ]
    },
    {
     "name": "stderr",
     "output_type": "stream",
     "text": [
      "Epoch: 22/200: 100%|██████████| 48/48 [00:00<00:00, 77.01batch/s, Training loss=0.0817] \n"
     ]
    },
    {
     "name": "stdout",
     "output_type": "stream",
     "text": [
      "val_loss: 0.0753 , \n"
     ]
    },
    {
     "name": "stderr",
     "output_type": "stream",
     "text": [
      "Epoch: 23/200: 100%|██████████| 48/48 [00:00<00:00, 79.73batch/s, Training loss=0.0745] \n"
     ]
    },
    {
     "name": "stdout",
     "output_type": "stream",
     "text": [
      "val_loss: 0.0712 , \n"
     ]
    },
    {
     "name": "stderr",
     "output_type": "stream",
     "text": [
      "Epoch: 24/200: 100%|██████████| 48/48 [00:00<00:00, 74.63batch/s, Training loss=0.0722] \n"
     ]
    },
    {
     "name": "stdout",
     "output_type": "stream",
     "text": [
      "val_loss: 0.0647 , \n"
     ]
    },
    {
     "name": "stderr",
     "output_type": "stream",
     "text": [
      "Epoch: 25/200: 100%|██████████| 48/48 [00:00<00:00, 75.25batch/s, Training loss=0.0720] \n"
     ]
    },
    {
     "name": "stdout",
     "output_type": "stream",
     "text": [
      "val_loss: 0.0691 , \n"
     ]
    },
    {
     "name": "stderr",
     "output_type": "stream",
     "text": [
      "Epoch: 26/200: 100%|██████████| 48/48 [00:00<00:00, 75.14batch/s, Training loss=0.0653] \n"
     ]
    },
    {
     "name": "stdout",
     "output_type": "stream",
     "text": [
      "val_loss: 0.0600 , \n"
     ]
    },
    {
     "name": "stderr",
     "output_type": "stream",
     "text": [
      "Epoch: 27/200: 100%|██████████| 48/48 [00:00<00:00, 73.60batch/s, Training loss=0.0632] \n"
     ]
    },
    {
     "name": "stdout",
     "output_type": "stream",
     "text": [
      "val_loss: 0.0567 , \n"
     ]
    },
    {
     "name": "stderr",
     "output_type": "stream",
     "text": [
      "Epoch: 28/200: 100%|██████████| 48/48 [00:00<00:00, 74.56batch/s, Training loss=0.0623] \n"
     ]
    },
    {
     "name": "stdout",
     "output_type": "stream",
     "text": [
      "val_loss: 0.0570 , \n"
     ]
    },
    {
     "name": "stderr",
     "output_type": "stream",
     "text": [
      "Epoch: 29/200: 100%|██████████| 48/48 [00:00<00:00, 71.39batch/s, Training loss=0.0551] \n"
     ]
    },
    {
     "name": "stdout",
     "output_type": "stream",
     "text": [
      "val_loss: 0.0507 , \n"
     ]
    },
    {
     "name": "stderr",
     "output_type": "stream",
     "text": [
      "Epoch: 30/200: 100%|██████████| 48/48 [00:00<00:00, 73.86batch/s, Training loss=0.0534] \n"
     ]
    },
    {
     "name": "stdout",
     "output_type": "stream",
     "text": [
      "val_loss: 0.0539 , \n"
     ]
    },
    {
     "name": "stderr",
     "output_type": "stream",
     "text": [
      "Epoch: 31/200: 100%|██████████| 48/48 [00:00<00:00, 72.58batch/s, Training loss=0.0560] \n"
     ]
    },
    {
     "name": "stdout",
     "output_type": "stream",
     "text": [
      "val_loss: 0.0478 , \n"
     ]
    },
    {
     "name": "stderr",
     "output_type": "stream",
     "text": [
      "Epoch: 32/200: 100%|██████████| 48/48 [00:00<00:00, 72.51batch/s, Training loss=0.0522] \n"
     ]
    },
    {
     "name": "stdout",
     "output_type": "stream",
     "text": [
      "val_loss: 0.0461 , \n"
     ]
    },
    {
     "name": "stderr",
     "output_type": "stream",
     "text": [
      "Epoch: 33/200: 100%|██████████| 48/48 [00:00<00:00, 73.36batch/s, Training loss=0.0499] \n"
     ]
    },
    {
     "name": "stdout",
     "output_type": "stream",
     "text": [
      "val_loss: 0.0614 , \n"
     ]
    },
    {
     "name": "stderr",
     "output_type": "stream",
     "text": [
      "Epoch: 34/200: 100%|██████████| 48/48 [00:00<00:00, 73.27batch/s, Training loss=0.0511] \n"
     ]
    },
    {
     "name": "stdout",
     "output_type": "stream",
     "text": [
      "val_loss: 0.0470 , \n"
     ]
    },
    {
     "name": "stderr",
     "output_type": "stream",
     "text": [
      "Epoch: 35/200: 100%|██████████| 48/48 [00:00<00:00, 75.27batch/s, Training loss=0.0506] \n"
     ]
    },
    {
     "name": "stdout",
     "output_type": "stream",
     "text": [
      "val_loss: 0.0622 , \n"
     ]
    },
    {
     "name": "stderr",
     "output_type": "stream",
     "text": [
      "Epoch: 36/200: 100%|██████████| 48/48 [00:00<00:00, 74.71batch/s, Training loss=0.0507] \n"
     ]
    },
    {
     "name": "stdout",
     "output_type": "stream",
     "text": [
      "val_loss: 0.0489 , \n"
     ]
    },
    {
     "name": "stderr",
     "output_type": "stream",
     "text": [
      "Epoch: 37/200: 100%|██████████| 48/48 [00:00<00:00, 73.93batch/s, Training loss=0.0475] \n"
     ]
    },
    {
     "name": "stdout",
     "output_type": "stream",
     "text": [
      "val_loss: 0.0429 , \n"
     ]
    },
    {
     "name": "stderr",
     "output_type": "stream",
     "text": [
      "Epoch: 38/200: 100%|██████████| 48/48 [00:00<00:00, 74.87batch/s, Training loss=0.0488] \n"
     ]
    },
    {
     "name": "stdout",
     "output_type": "stream",
     "text": [
      "val_loss: 0.0468 , \n"
     ]
    },
    {
     "name": "stderr",
     "output_type": "stream",
     "text": [
      "Epoch: 39/200: 100%|██████████| 48/48 [00:00<00:00, 55.77batch/s, Training loss=0.0445]\n"
     ]
    },
    {
     "name": "stdout",
     "output_type": "stream",
     "text": [
      "val_loss: 0.0486 , \n"
     ]
    },
    {
     "name": "stderr",
     "output_type": "stream",
     "text": [
      "Epoch: 40/200: 100%|██████████| 48/48 [00:00<00:00, 74.60batch/s, Training loss=0.0482] \n"
     ]
    },
    {
     "name": "stdout",
     "output_type": "stream",
     "text": [
      "val_loss: 0.0391 , \n"
     ]
    },
    {
     "name": "stderr",
     "output_type": "stream",
     "text": [
      "Epoch: 41/200: 100%|██████████| 48/48 [00:00<00:00, 72.66batch/s, Training loss=0.0432] \n"
     ]
    },
    {
     "name": "stdout",
     "output_type": "stream",
     "text": [
      "val_loss: 0.0478 , \n"
     ]
    },
    {
     "name": "stderr",
     "output_type": "stream",
     "text": [
      "Epoch: 42/200: 100%|██████████| 48/48 [00:00<00:00, 71.44batch/s, Training loss=0.0466]\n"
     ]
    },
    {
     "name": "stdout",
     "output_type": "stream",
     "text": [
      "val_loss: 0.0407 , \n"
     ]
    },
    {
     "name": "stderr",
     "output_type": "stream",
     "text": [
      "Epoch: 43/200: 100%|██████████| 48/48 [00:00<00:00, 73.21batch/s, Training loss=0.0441] \n"
     ]
    },
    {
     "name": "stdout",
     "output_type": "stream",
     "text": [
      "val_loss: 0.0374 , \n"
     ]
    },
    {
     "name": "stderr",
     "output_type": "stream",
     "text": [
      "Epoch: 44/200: 100%|██████████| 48/48 [00:00<00:00, 72.06batch/s, Training loss=0.0435] \n"
     ]
    },
    {
     "name": "stdout",
     "output_type": "stream",
     "text": [
      "val_loss: 0.0391 , \n"
     ]
    },
    {
     "name": "stderr",
     "output_type": "stream",
     "text": [
      "Epoch: 45/200: 100%|██████████| 48/48 [00:00<00:00, 71.23batch/s, Training loss=0.0422]\n"
     ]
    },
    {
     "name": "stdout",
     "output_type": "stream",
     "text": [
      "val_loss: 0.0456 , \n"
     ]
    },
    {
     "name": "stderr",
     "output_type": "stream",
     "text": [
      "Epoch: 46/200: 100%|██████████| 48/48 [00:00<00:00, 71.68batch/s, Training loss=0.0464] \n"
     ]
    },
    {
     "name": "stdout",
     "output_type": "stream",
     "text": [
      "val_loss: 0.0462 , \n"
     ]
    },
    {
     "name": "stderr",
     "output_type": "stream",
     "text": [
      "Epoch: 47/200: 100%|██████████| 48/48 [00:00<00:00, 71.75batch/s, Training loss=0.0420] \n"
     ]
    },
    {
     "name": "stdout",
     "output_type": "stream",
     "text": [
      "val_loss: 0.0398 , \n"
     ]
    },
    {
     "name": "stderr",
     "output_type": "stream",
     "text": [
      "Epoch: 48/200: 100%|██████████| 48/48 [00:00<00:00, 73.48batch/s, Training loss=0.0404] \n"
     ]
    },
    {
     "name": "stdout",
     "output_type": "stream",
     "text": [
      "val_loss: 0.0308 , \n"
     ]
    },
    {
     "name": "stderr",
     "output_type": "stream",
     "text": [
      "Epoch: 49/200: 100%|██████████| 48/48 [00:00<00:00, 71.53batch/s, Training loss=0.0387] \n"
     ]
    },
    {
     "name": "stdout",
     "output_type": "stream",
     "text": [
      "val_loss: 0.0387 , \n"
     ]
    },
    {
     "name": "stderr",
     "output_type": "stream",
     "text": [
      "Epoch: 50/200: 100%|██████████| 48/48 [00:00<00:00, 72.83batch/s, Training loss=0.0353] \n"
     ]
    },
    {
     "name": "stdout",
     "output_type": "stream",
     "text": [
      "val_loss: 0.0327 , \n"
     ]
    },
    {
     "name": "stderr",
     "output_type": "stream",
     "text": [
      "Epoch: 51/200: 100%|██████████| 48/48 [00:00<00:00, 74.49batch/s, Training loss=0.0377] \n"
     ]
    },
    {
     "name": "stdout",
     "output_type": "stream",
     "text": [
      "val_loss: 0.0443 , \n"
     ]
    },
    {
     "name": "stderr",
     "output_type": "stream",
     "text": [
      "Epoch: 52/200: 100%|██████████| 48/48 [00:00<00:00, 73.05batch/s, Training loss=0.0457] \n"
     ]
    },
    {
     "name": "stdout",
     "output_type": "stream",
     "text": [
      "val_loss: 0.0392 , \n"
     ]
    },
    {
     "name": "stderr",
     "output_type": "stream",
     "text": [
      "Epoch: 53/200: 100%|██████████| 48/48 [00:00<00:00, 72.60batch/s, Training loss=0.0414] \n"
     ]
    },
    {
     "name": "stdout",
     "output_type": "stream",
     "text": [
      "val_loss: 0.0312 , \n"
     ]
    },
    {
     "name": "stderr",
     "output_type": "stream",
     "text": [
      "Epoch: 54/200: 100%|██████████| 48/48 [00:00<00:00, 72.40batch/s, Training loss=0.0384] \n"
     ]
    },
    {
     "name": "stdout",
     "output_type": "stream",
     "text": [
      "val_loss: 0.0459 , \n"
     ]
    },
    {
     "name": "stderr",
     "output_type": "stream",
     "text": [
      "Epoch: 55/200: 100%|██████████| 48/48 [00:00<00:00, 73.75batch/s, Training loss=0.0367] \n"
     ]
    },
    {
     "name": "stdout",
     "output_type": "stream",
     "text": [
      "val_loss: 0.0303 , \n"
     ]
    },
    {
     "name": "stderr",
     "output_type": "stream",
     "text": [
      "Epoch: 56/200: 100%|██████████| 48/48 [00:00<00:00, 74.86batch/s, Training loss=0.0392] \n"
     ]
    },
    {
     "name": "stdout",
     "output_type": "stream",
     "text": [
      "val_loss: 0.0359 , \n"
     ]
    },
    {
     "name": "stderr",
     "output_type": "stream",
     "text": [
      "Epoch: 57/200: 100%|██████████| 48/48 [00:00<00:00, 73.08batch/s, Training loss=0.0375] \n"
     ]
    },
    {
     "name": "stdout",
     "output_type": "stream",
     "text": [
      "val_loss: 0.0340 , \n"
     ]
    },
    {
     "name": "stderr",
     "output_type": "stream",
     "text": [
      "Epoch: 58/200: 100%|██████████| 48/48 [00:00<00:00, 72.88batch/s, Training loss=0.0364] \n"
     ]
    },
    {
     "name": "stdout",
     "output_type": "stream",
     "text": [
      "val_loss: 0.0381 , \n"
     ]
    },
    {
     "name": "stderr",
     "output_type": "stream",
     "text": [
      "Epoch: 59/200: 100%|██████████| 48/48 [00:00<00:00, 73.03batch/s, Training loss=0.0340] \n"
     ]
    },
    {
     "name": "stdout",
     "output_type": "stream",
     "text": [
      "val_loss: 0.0290 , \n"
     ]
    },
    {
     "name": "stderr",
     "output_type": "stream",
     "text": [
      "Epoch: 60/200: 100%|██████████| 48/48 [00:00<00:00, 72.60batch/s, Training loss=0.0354] \n"
     ]
    },
    {
     "name": "stdout",
     "output_type": "stream",
     "text": [
      "val_loss: 0.0337 , \n"
     ]
    },
    {
     "name": "stderr",
     "output_type": "stream",
     "text": [
      "Epoch: 61/200: 100%|██████████| 48/48 [00:00<00:00, 72.86batch/s, Training loss=0.0347] \n"
     ]
    },
    {
     "name": "stdout",
     "output_type": "stream",
     "text": [
      "val_loss: 0.0352 , \n"
     ]
    },
    {
     "name": "stderr",
     "output_type": "stream",
     "text": [
      "Epoch: 62/200: 100%|██████████| 48/48 [00:00<00:00, 71.32batch/s, Training loss=0.0374] \n"
     ]
    },
    {
     "name": "stdout",
     "output_type": "stream",
     "text": [
      "val_loss: 0.0405 , \n"
     ]
    },
    {
     "name": "stderr",
     "output_type": "stream",
     "text": [
      "Epoch: 63/200: 100%|██████████| 48/48 [00:00<00:00, 48.67batch/s, Training loss=0.0348]\n"
     ]
    },
    {
     "name": "stdout",
     "output_type": "stream",
     "text": [
      "val_loss: 0.0339 , \n"
     ]
    },
    {
     "name": "stderr",
     "output_type": "stream",
     "text": [
      "Epoch: 64/200: 100%|██████████| 48/48 [00:00<00:00, 59.57batch/s, Training loss=0.0364]\n"
     ]
    },
    {
     "name": "stdout",
     "output_type": "stream",
     "text": [
      "val_loss: 0.0291 , \n"
     ]
    },
    {
     "name": "stderr",
     "output_type": "stream",
     "text": [
      "Epoch: 65/200: 100%|██████████| 48/48 [00:00<00:00, 58.94batch/s, Training loss=0.0346]\n"
     ]
    },
    {
     "name": "stdout",
     "output_type": "stream",
     "text": [
      "val_loss: 0.0414 , \n"
     ]
    },
    {
     "name": "stderr",
     "output_type": "stream",
     "text": [
      "Epoch: 66/200: 100%|██████████| 48/48 [00:00<00:00, 59.84batch/s, Training loss=0.0332]\n"
     ]
    },
    {
     "name": "stdout",
     "output_type": "stream",
     "text": [
      "val_loss: 0.0303 , \n"
     ]
    },
    {
     "name": "stderr",
     "output_type": "stream",
     "text": [
      "Epoch: 67/200: 100%|██████████| 48/48 [00:00<00:00, 65.23batch/s, Training loss=0.0376] \n"
     ]
    },
    {
     "name": "stdout",
     "output_type": "stream",
     "text": [
      "val_loss: 0.0434 , \n"
     ]
    },
    {
     "name": "stderr",
     "output_type": "stream",
     "text": [
      "Epoch: 68/200: 100%|██████████| 48/48 [00:00<00:00, 53.19batch/s, Training loss=0.0384]\n"
     ]
    },
    {
     "name": "stdout",
     "output_type": "stream",
     "text": [
      "val_loss: 0.0291 , \n"
     ]
    },
    {
     "name": "stderr",
     "output_type": "stream",
     "text": [
      "Epoch: 69/200: 100%|██████████| 48/48 [00:00<00:00, 77.27batch/s, Training loss=0.0331] \n"
     ]
    },
    {
     "name": "stdout",
     "output_type": "stream",
     "text": [
      "val_loss: 0.0297 , \n"
     ]
    },
    {
     "name": "stderr",
     "output_type": "stream",
     "text": [
      "Epoch: 70/200: 100%|██████████| 48/48 [00:00<00:00, 77.05batch/s, Training loss=0.0318] \n"
     ]
    },
    {
     "name": "stdout",
     "output_type": "stream",
     "text": [
      "val_loss: 0.0325 , \n"
     ]
    },
    {
     "name": "stderr",
     "output_type": "stream",
     "text": [
      "Epoch: 71/200: 100%|██████████| 48/48 [00:00<00:00, 77.04batch/s, Training loss=0.0366] \n"
     ]
    },
    {
     "name": "stdout",
     "output_type": "stream",
     "text": [
      "val_loss: 0.0238 , \n"
     ]
    },
    {
     "name": "stderr",
     "output_type": "stream",
     "text": [
      "Epoch: 72/200: 100%|██████████| 48/48 [00:00<00:00, 78.63batch/s, Training loss=0.0310] \n"
     ]
    },
    {
     "name": "stdout",
     "output_type": "stream",
     "text": [
      "val_loss: 0.0374 , \n"
     ]
    },
    {
     "name": "stderr",
     "output_type": "stream",
     "text": [
      "Epoch: 73/200: 100%|██████████| 48/48 [00:00<00:00, 78.05batch/s, Training loss=0.0317] \n"
     ]
    },
    {
     "name": "stdout",
     "output_type": "stream",
     "text": [
      "val_loss: 0.0232 , \n"
     ]
    },
    {
     "name": "stderr",
     "output_type": "stream",
     "text": [
      "Epoch: 74/200: 100%|██████████| 48/48 [00:00<00:00, 71.32batch/s, Training loss=0.0311]\n"
     ]
    },
    {
     "name": "stdout",
     "output_type": "stream",
     "text": [
      "val_loss: 0.0365 , \n"
     ]
    },
    {
     "name": "stderr",
     "output_type": "stream",
     "text": [
      "Epoch: 75/200: 100%|██████████| 48/48 [00:00<00:00, 77.06batch/s, Training loss=0.0323] \n"
     ]
    },
    {
     "name": "stdout",
     "output_type": "stream",
     "text": [
      "val_loss: 0.0333 , \n"
     ]
    },
    {
     "name": "stderr",
     "output_type": "stream",
     "text": [
      "Epoch: 76/200: 100%|██████████| 48/48 [00:00<00:00, 78.79batch/s, Training loss=0.0320] \n"
     ]
    },
    {
     "name": "stdout",
     "output_type": "stream",
     "text": [
      "val_loss: 0.0269 , \n"
     ]
    },
    {
     "name": "stderr",
     "output_type": "stream",
     "text": [
      "Epoch: 77/200: 100%|██████████| 48/48 [00:00<00:00, 78.19batch/s, Training loss=0.0341] \n"
     ]
    },
    {
     "name": "stdout",
     "output_type": "stream",
     "text": [
      "val_loss: 0.0346 , \n"
     ]
    },
    {
     "name": "stderr",
     "output_type": "stream",
     "text": [
      "Epoch: 78/200: 100%|██████████| 48/48 [00:00<00:00, 77.96batch/s, Training loss=0.0353] \n"
     ]
    },
    {
     "name": "stdout",
     "output_type": "stream",
     "text": [
      "val_loss: 0.0311 , \n"
     ]
    },
    {
     "name": "stderr",
     "output_type": "stream",
     "text": [
      "Epoch: 79/200: 100%|██████████| 48/48 [00:00<00:00, 77.10batch/s, Training loss=0.0323] \n"
     ]
    },
    {
     "name": "stdout",
     "output_type": "stream",
     "text": [
      "val_loss: 0.0386 , \n"
     ]
    },
    {
     "name": "stderr",
     "output_type": "stream",
     "text": [
      "Epoch: 80/200: 100%|██████████| 48/48 [00:00<00:00, 78.87batch/s, Training loss=0.0288] \n"
     ]
    },
    {
     "name": "stdout",
     "output_type": "stream",
     "text": [
      "val_loss: 0.0274 , \n"
     ]
    },
    {
     "name": "stderr",
     "output_type": "stream",
     "text": [
      "Epoch: 81/200: 100%|██████████| 48/48 [00:00<00:00, 78.06batch/s, Training loss=0.0316] \n"
     ]
    },
    {
     "name": "stdout",
     "output_type": "stream",
     "text": [
      "val_loss: 0.0291 , \n"
     ]
    },
    {
     "name": "stderr",
     "output_type": "stream",
     "text": [
      "Epoch: 82/200: 100%|██████████| 48/48 [00:00<00:00, 77.17batch/s, Training loss=0.0321] \n"
     ]
    },
    {
     "name": "stdout",
     "output_type": "stream",
     "text": [
      "val_loss: 0.0251 , \n"
     ]
    },
    {
     "name": "stderr",
     "output_type": "stream",
     "text": [
      "Epoch: 83/200: 100%|██████████| 48/48 [00:00<00:00, 75.85batch/s, Training loss=0.0323] \n"
     ]
    },
    {
     "name": "stdout",
     "output_type": "stream",
     "text": [
      "val_loss: 0.0299 , \n"
     ]
    },
    {
     "name": "stderr",
     "output_type": "stream",
     "text": [
      "Epoch: 84/200: 100%|██████████| 48/48 [00:00<00:00, 76.54batch/s, Training loss=0.0291] \n"
     ]
    },
    {
     "name": "stdout",
     "output_type": "stream",
     "text": [
      "val_loss: 0.0340 , \n"
     ]
    },
    {
     "name": "stderr",
     "output_type": "stream",
     "text": [
      "Epoch: 85/200: 100%|██████████| 48/48 [00:00<00:00, 76.73batch/s, Training loss=0.0339] \n"
     ]
    },
    {
     "name": "stdout",
     "output_type": "stream",
     "text": [
      "val_loss: 0.0256 , \n"
     ]
    },
    {
     "name": "stderr",
     "output_type": "stream",
     "text": [
      "Epoch: 86/200: 100%|██████████| 48/48 [00:00<00:00, 76.04batch/s, Training loss=0.0312] \n"
     ]
    },
    {
     "name": "stdout",
     "output_type": "stream",
     "text": [
      "val_loss: 0.0294 , \n"
     ]
    },
    {
     "name": "stderr",
     "output_type": "stream",
     "text": [
      "Epoch: 87/200: 100%|██████████| 48/48 [00:00<00:00, 78.43batch/s, Training loss=0.0278] \n"
     ]
    },
    {
     "name": "stdout",
     "output_type": "stream",
     "text": [
      "val_loss: 0.0305 , \n"
     ]
    },
    {
     "name": "stderr",
     "output_type": "stream",
     "text": [
      "Epoch: 88/200: 100%|██████████| 48/48 [00:00<00:00, 79.17batch/s, Training loss=0.0298] \n"
     ]
    },
    {
     "name": "stdout",
     "output_type": "stream",
     "text": [
      "val_loss: 0.0244 , \n"
     ]
    },
    {
     "name": "stderr",
     "output_type": "stream",
     "text": [
      "Epoch: 89/200: 100%|██████████| 48/48 [00:00<00:00, 76.66batch/s, Training loss=0.0335] \n"
     ]
    },
    {
     "name": "stdout",
     "output_type": "stream",
     "text": [
      "val_loss: 0.0305 , \n"
     ]
    },
    {
     "name": "stderr",
     "output_type": "stream",
     "text": [
      "Epoch: 90/200: 100%|██████████| 48/48 [00:00<00:00, 56.35batch/s, Training loss=0.0279]\n"
     ]
    },
    {
     "name": "stdout",
     "output_type": "stream",
     "text": [
      "val_loss: 0.0341 , \n"
     ]
    },
    {
     "name": "stderr",
     "output_type": "stream",
     "text": [
      "Epoch: 91/200: 100%|██████████| 48/48 [00:00<00:00, 80.59batch/s, Training loss=0.0286] \n"
     ]
    },
    {
     "name": "stdout",
     "output_type": "stream",
     "text": [
      "val_loss: 0.0361 , \n"
     ]
    },
    {
     "name": "stderr",
     "output_type": "stream",
     "text": [
      "Epoch: 92/200: 100%|██████████| 48/48 [00:00<00:00, 79.50batch/s, Training loss=0.0320]\n"
     ]
    },
    {
     "name": "stdout",
     "output_type": "stream",
     "text": [
      "val_loss: 0.0332 , \n"
     ]
    },
    {
     "name": "stderr",
     "output_type": "stream",
     "text": [
      "Epoch: 93/200: 100%|██████████| 48/48 [00:00<00:00, 77.63batch/s, Training loss=0.0305] \n"
     ]
    },
    {
     "name": "stdout",
     "output_type": "stream",
     "text": [
      "val_loss: 0.0195 , \n"
     ]
    },
    {
     "name": "stderr",
     "output_type": "stream",
     "text": [
      "Epoch: 94/200: 100%|██████████| 48/48 [00:00<00:00, 74.77batch/s, Training loss=0.0287] \n"
     ]
    },
    {
     "name": "stdout",
     "output_type": "stream",
     "text": [
      "val_loss: 0.0298 , \n"
     ]
    },
    {
     "name": "stderr",
     "output_type": "stream",
     "text": [
      "Epoch: 95/200: 100%|██████████| 48/48 [00:00<00:00, 79.25batch/s, Training loss=0.0267] \n"
     ]
    },
    {
     "name": "stdout",
     "output_type": "stream",
     "text": [
      "val_loss: 0.0255 , \n"
     ]
    },
    {
     "name": "stderr",
     "output_type": "stream",
     "text": [
      "Epoch: 96/200: 100%|██████████| 48/48 [00:00<00:00, 80.89batch/s, Training loss=0.0269]\n"
     ]
    },
    {
     "name": "stdout",
     "output_type": "stream",
     "text": [
      "val_loss: 0.0331 , \n"
     ]
    },
    {
     "name": "stderr",
     "output_type": "stream",
     "text": [
      "Epoch: 97/200: 100%|██████████| 48/48 [00:00<00:00, 79.31batch/s, Training loss=0.0300] \n"
     ]
    },
    {
     "name": "stdout",
     "output_type": "stream",
     "text": [
      "val_loss: 0.0234 , \n"
     ]
    },
    {
     "name": "stderr",
     "output_type": "stream",
     "text": [
      "Epoch: 98/200: 100%|██████████| 48/48 [00:00<00:00, 79.22batch/s, Training loss=0.0308]\n"
     ]
    },
    {
     "name": "stdout",
     "output_type": "stream",
     "text": [
      "val_loss: 0.0264 , \n"
     ]
    },
    {
     "name": "stderr",
     "output_type": "stream",
     "text": [
      "Epoch: 99/200: 100%|██████████| 48/48 [00:00<00:00, 78.99batch/s, Training loss=0.0287] \n"
     ]
    },
    {
     "name": "stdout",
     "output_type": "stream",
     "text": [
      "val_loss: 0.0269 , \n"
     ]
    },
    {
     "name": "stderr",
     "output_type": "stream",
     "text": [
      "Epoch: 100/200: 100%|██████████| 48/48 [00:00<00:00, 81.10batch/s, Training loss=0.0308] \n"
     ]
    },
    {
     "name": "stdout",
     "output_type": "stream",
     "text": [
      "val_loss: 0.0259 , \n"
     ]
    },
    {
     "name": "stderr",
     "output_type": "stream",
     "text": [
      "Epoch: 101/200: 100%|██████████| 48/48 [00:00<00:00, 80.74batch/s, Training loss=0.0288] \n"
     ]
    },
    {
     "name": "stdout",
     "output_type": "stream",
     "text": [
      "val_loss: 0.0305 , \n"
     ]
    },
    {
     "name": "stderr",
     "output_type": "stream",
     "text": [
      "Epoch: 102/200: 100%|██████████| 48/48 [00:00<00:00, 78.12batch/s, Training loss=0.0263] \n"
     ]
    },
    {
     "name": "stdout",
     "output_type": "stream",
     "text": [
      "val_loss: 0.0244 , \n"
     ]
    },
    {
     "name": "stderr",
     "output_type": "stream",
     "text": [
      "Epoch: 103/200: 100%|██████████| 48/48 [00:00<00:00, 78.10batch/s, Training loss=0.0323] \n"
     ]
    },
    {
     "name": "stdout",
     "output_type": "stream",
     "text": [
      "val_loss: 0.0316 , \n"
     ]
    },
    {
     "name": "stderr",
     "output_type": "stream",
     "text": [
      "Epoch: 104/200: 100%|██████████| 48/48 [00:00<00:00, 80.64batch/s, Training loss=0.0290] \n"
     ]
    },
    {
     "name": "stdout",
     "output_type": "stream",
     "text": [
      "val_loss: 0.0289 , \n"
     ]
    },
    {
     "name": "stderr",
     "output_type": "stream",
     "text": [
      "Epoch: 105/200: 100%|██████████| 48/48 [00:00<00:00, 78.31batch/s, Training loss=0.0286] \n"
     ]
    },
    {
     "name": "stdout",
     "output_type": "stream",
     "text": [
      "val_loss: 0.0223 , \n"
     ]
    },
    {
     "name": "stderr",
     "output_type": "stream",
     "text": [
      "Epoch: 106/200: 100%|██████████| 48/48 [00:00<00:00, 79.15batch/s, Training loss=0.0292]\n"
     ]
    },
    {
     "name": "stdout",
     "output_type": "stream",
     "text": [
      "val_loss: 0.0167 , \n"
     ]
    },
    {
     "name": "stderr",
     "output_type": "stream",
     "text": [
      "Epoch: 107/200: 100%|██████████| 48/48 [00:00<00:00, 77.03batch/s, Training loss=0.0266] \n"
     ]
    },
    {
     "name": "stdout",
     "output_type": "stream",
     "text": [
      "val_loss: 0.0183 , \n"
     ]
    },
    {
     "name": "stderr",
     "output_type": "stream",
     "text": [
      "Epoch: 108/200: 100%|██████████| 48/48 [00:00<00:00, 80.28batch/s, Training loss=0.0258] \n"
     ]
    },
    {
     "name": "stdout",
     "output_type": "stream",
     "text": [
      "val_loss: 0.0266 , \n"
     ]
    },
    {
     "name": "stderr",
     "output_type": "stream",
     "text": [
      "Epoch: 109/200: 100%|██████████| 48/48 [00:00<00:00, 78.16batch/s, Training loss=0.0258] \n"
     ]
    },
    {
     "name": "stdout",
     "output_type": "stream",
     "text": [
      "val_loss: 0.0190 , \n"
     ]
    },
    {
     "name": "stderr",
     "output_type": "stream",
     "text": [
      "Epoch: 110/200: 100%|██████████| 48/48 [00:00<00:00, 78.57batch/s, Training loss=0.0256] \n"
     ]
    },
    {
     "name": "stdout",
     "output_type": "stream",
     "text": [
      "val_loss: 0.0221 , \n"
     ]
    },
    {
     "name": "stderr",
     "output_type": "stream",
     "text": [
      "Epoch: 111/200: 100%|██████████| 48/48 [00:00<00:00, 76.96batch/s, Training loss=0.0257] \n"
     ]
    },
    {
     "name": "stdout",
     "output_type": "stream",
     "text": [
      "val_loss: 0.0273 , \n"
     ]
    },
    {
     "name": "stderr",
     "output_type": "stream",
     "text": [
      "Epoch: 112/200: 100%|██████████| 48/48 [00:00<00:00, 80.16batch/s, Training loss=0.0292] \n"
     ]
    },
    {
     "name": "stdout",
     "output_type": "stream",
     "text": [
      "val_loss: 0.0197 , \n"
     ]
    },
    {
     "name": "stderr",
     "output_type": "stream",
     "text": [
      "Epoch: 113/200: 100%|██████████| 48/48 [00:00<00:00, 76.20batch/s, Training loss=0.0270] \n"
     ]
    },
    {
     "name": "stdout",
     "output_type": "stream",
     "text": [
      "val_loss: 0.0250 , \n"
     ]
    },
    {
     "name": "stderr",
     "output_type": "stream",
     "text": [
      "Epoch: 114/200: 100%|██████████| 48/48 [00:00<00:00, 78.03batch/s, Training loss=0.0258] \n"
     ]
    },
    {
     "name": "stdout",
     "output_type": "stream",
     "text": [
      "val_loss: 0.0229 , \n"
     ]
    },
    {
     "name": "stderr",
     "output_type": "stream",
     "text": [
      "Epoch: 115/200: 100%|██████████| 48/48 [00:00<00:00, 78.26batch/s, Training loss=0.0257] \n"
     ]
    },
    {
     "name": "stdout",
     "output_type": "stream",
     "text": [
      "val_loss: 0.0267 , \n"
     ]
    },
    {
     "name": "stderr",
     "output_type": "stream",
     "text": [
      "Epoch: 116/200: 100%|██████████| 48/48 [00:00<00:00, 76.99batch/s, Training loss=0.0299] \n"
     ]
    },
    {
     "name": "stdout",
     "output_type": "stream",
     "text": [
      "val_loss: 0.0209 , \n"
     ]
    },
    {
     "name": "stderr",
     "output_type": "stream",
     "text": [
      "Epoch: 117/200: 100%|██████████| 48/48 [00:00<00:00, 79.67batch/s, Training loss=0.0278] \n"
     ]
    },
    {
     "name": "stdout",
     "output_type": "stream",
     "text": [
      "val_loss: 0.0248 , \n"
     ]
    },
    {
     "name": "stderr",
     "output_type": "stream",
     "text": [
      "Epoch: 118/200: 100%|██████████| 48/48 [00:00<00:00, 77.67batch/s, Training loss=0.0288] \n"
     ]
    },
    {
     "name": "stdout",
     "output_type": "stream",
     "text": [
      "val_loss: 0.0256 , \n"
     ]
    },
    {
     "name": "stderr",
     "output_type": "stream",
     "text": [
      "Epoch: 119/200: 100%|██████████| 48/48 [00:00<00:00, 77.64batch/s, Training loss=0.0273] \n"
     ]
    },
    {
     "name": "stdout",
     "output_type": "stream",
     "text": [
      "val_loss: 0.0231 , \n"
     ]
    },
    {
     "name": "stderr",
     "output_type": "stream",
     "text": [
      "Epoch: 120/200: 100%|██████████| 48/48 [00:00<00:00, 80.71batch/s, Training loss=0.0287] \n"
     ]
    },
    {
     "name": "stdout",
     "output_type": "stream",
     "text": [
      "val_loss: 0.0228 , \n"
     ]
    },
    {
     "name": "stderr",
     "output_type": "stream",
     "text": [
      "Epoch: 121/200: 100%|██████████| 48/48 [00:00<00:00, 78.93batch/s, Training loss=0.0254] \n"
     ]
    },
    {
     "name": "stdout",
     "output_type": "stream",
     "text": [
      "val_loss: 0.0233 , \n"
     ]
    },
    {
     "name": "stderr",
     "output_type": "stream",
     "text": [
      "Epoch: 122/200: 100%|██████████| 48/48 [00:00<00:00, 78.91batch/s, Training loss=0.0269] \n"
     ]
    },
    {
     "name": "stdout",
     "output_type": "stream",
     "text": [
      "val_loss: 0.0213 , \n"
     ]
    },
    {
     "name": "stderr",
     "output_type": "stream",
     "text": [
      "Epoch: 123/200: 100%|██████████| 48/48 [00:00<00:00, 78.12batch/s, Training loss=0.0231] \n"
     ]
    },
    {
     "name": "stdout",
     "output_type": "stream",
     "text": [
      "val_loss: 0.0267 , \n"
     ]
    },
    {
     "name": "stderr",
     "output_type": "stream",
     "text": [
      "Epoch: 124/200: 100%|██████████| 48/48 [00:00<00:00, 77.27batch/s, Training loss=0.0251] \n"
     ]
    },
    {
     "name": "stdout",
     "output_type": "stream",
     "text": [
      "val_loss: 0.0181 , \n"
     ]
    },
    {
     "name": "stderr",
     "output_type": "stream",
     "text": [
      "Epoch: 125/200: 100%|██████████| 48/48 [00:00<00:00, 78.13batch/s, Training loss=0.0254] \n"
     ]
    },
    {
     "name": "stdout",
     "output_type": "stream",
     "text": [
      "val_loss: 0.0171 , \n"
     ]
    },
    {
     "name": "stderr",
     "output_type": "stream",
     "text": [
      "Epoch: 126/200: 100%|██████████| 48/48 [00:00<00:00, 78.48batch/s, Training loss=0.0264] \n"
     ]
    },
    {
     "name": "stdout",
     "output_type": "stream",
     "text": [
      "val_loss: 0.0226 , \n"
     ]
    },
    {
     "name": "stderr",
     "output_type": "stream",
     "text": [
      "Epoch: 127/200: 100%|██████████| 48/48 [00:00<00:00, 80.81batch/s, Training loss=0.0252] \n"
     ]
    },
    {
     "name": "stdout",
     "output_type": "stream",
     "text": [
      "val_loss: 0.0277 , \n"
     ]
    },
    {
     "name": "stderr",
     "output_type": "stream",
     "text": [
      "Epoch: 128/200: 100%|██████████| 48/48 [00:00<00:00, 79.86batch/s, Training loss=0.0254] \n"
     ]
    },
    {
     "name": "stdout",
     "output_type": "stream",
     "text": [
      "val_loss: 0.0252 , \n"
     ]
    },
    {
     "name": "stderr",
     "output_type": "stream",
     "text": [
      "Epoch: 129/200: 100%|██████████| 48/48 [00:00<00:00, 78.58batch/s, Training loss=0.0250] \n"
     ]
    },
    {
     "name": "stdout",
     "output_type": "stream",
     "text": [
      "val_loss: 0.0189 , \n"
     ]
    },
    {
     "name": "stderr",
     "output_type": "stream",
     "text": [
      "Epoch: 130/200: 100%|██████████| 48/48 [00:00<00:00, 80.06batch/s, Training loss=0.0271] \n"
     ]
    },
    {
     "name": "stdout",
     "output_type": "stream",
     "text": [
      "val_loss: 0.0195 , \n"
     ]
    },
    {
     "name": "stderr",
     "output_type": "stream",
     "text": [
      "Epoch: 131/200: 100%|██████████| 48/48 [00:00<00:00, 77.99batch/s, Training loss=0.0268] \n"
     ]
    },
    {
     "name": "stdout",
     "output_type": "stream",
     "text": [
      "val_loss: 0.0214 , \n"
     ]
    },
    {
     "name": "stderr",
     "output_type": "stream",
     "text": [
      "Epoch: 132/200: 100%|██████████| 48/48 [00:00<00:00, 78.09batch/s, Training loss=0.0259] \n"
     ]
    },
    {
     "name": "stdout",
     "output_type": "stream",
     "text": [
      "val_loss: 0.0265 , \n"
     ]
    },
    {
     "name": "stderr",
     "output_type": "stream",
     "text": [
      "Epoch: 133/200: 100%|██████████| 48/48 [00:00<00:00, 80.74batch/s, Training loss=0.0267] \n"
     ]
    },
    {
     "name": "stdout",
     "output_type": "stream",
     "text": [
      "val_loss: 0.0249 , \n"
     ]
    },
    {
     "name": "stderr",
     "output_type": "stream",
     "text": [
      "Epoch: 134/200: 100%|██████████| 48/48 [00:00<00:00, 76.75batch/s, Training loss=0.0253] \n"
     ]
    },
    {
     "name": "stdout",
     "output_type": "stream",
     "text": [
      "val_loss: 0.0283 , \n"
     ]
    },
    {
     "name": "stderr",
     "output_type": "stream",
     "text": [
      "Epoch: 135/200: 100%|██████████| 48/48 [00:00<00:00, 78.06batch/s, Training loss=0.0284] \n"
     ]
    },
    {
     "name": "stdout",
     "output_type": "stream",
     "text": [
      "val_loss: 0.0224 , \n"
     ]
    },
    {
     "name": "stderr",
     "output_type": "stream",
     "text": [
      "Epoch: 136/200: 100%|██████████| 48/48 [00:00<00:00, 77.10batch/s, Training loss=0.0236] \n"
     ]
    },
    {
     "name": "stdout",
     "output_type": "stream",
     "text": [
      "val_loss: 0.0198 , \n"
     ]
    },
    {
     "name": "stderr",
     "output_type": "stream",
     "text": [
      "Epoch: 137/200: 100%|██████████| 48/48 [00:00<00:00, 76.39batch/s, Training loss=0.0274] \n"
     ]
    },
    {
     "name": "stdout",
     "output_type": "stream",
     "text": [
      "val_loss: 0.0209 , \n"
     ]
    },
    {
     "name": "stderr",
     "output_type": "stream",
     "text": [
      "Epoch: 138/200: 100%|██████████| 48/48 [00:00<00:00, 76.70batch/s, Training loss=0.0281] \n"
     ]
    },
    {
     "name": "stdout",
     "output_type": "stream",
     "text": [
      "val_loss: 0.0224 , \n"
     ]
    },
    {
     "name": "stderr",
     "output_type": "stream",
     "text": [
      "Epoch: 139/200: 100%|██████████| 48/48 [00:00<00:00, 79.31batch/s, Training loss=0.0252] \n"
     ]
    },
    {
     "name": "stdout",
     "output_type": "stream",
     "text": [
      "val_loss: 0.0283 , \n"
     ]
    },
    {
     "name": "stderr",
     "output_type": "stream",
     "text": [
      "Epoch: 140/200: 100%|██████████| 48/48 [00:00<00:00, 77.43batch/s, Training loss=0.0318] \n"
     ]
    },
    {
     "name": "stdout",
     "output_type": "stream",
     "text": [
      "val_loss: 0.0238 , \n"
     ]
    },
    {
     "name": "stderr",
     "output_type": "stream",
     "text": [
      "Epoch: 141/200: 100%|██████████| 48/48 [00:00<00:00, 76.87batch/s, Training loss=0.0321] \n"
     ]
    },
    {
     "name": "stdout",
     "output_type": "stream",
     "text": [
      "val_loss: 0.0176 , \n"
     ]
    },
    {
     "name": "stderr",
     "output_type": "stream",
     "text": [
      "Epoch: 142/200: 100%|██████████| 48/48 [00:00<00:00, 76.99batch/s, Training loss=0.0280] \n"
     ]
    },
    {
     "name": "stdout",
     "output_type": "stream",
     "text": [
      "val_loss: 0.0180 , \n"
     ]
    },
    {
     "name": "stderr",
     "output_type": "stream",
     "text": [
      "Epoch: 143/200: 100%|██████████| 48/48 [00:00<00:00, 74.03batch/s, Training loss=0.0231] \n"
     ]
    },
    {
     "name": "stdout",
     "output_type": "stream",
     "text": [
      "val_loss: 0.0211 , \n"
     ]
    },
    {
     "name": "stderr",
     "output_type": "stream",
     "text": [
      "Epoch: 144/200: 100%|██████████| 48/48 [00:00<00:00, 76.47batch/s, Training loss=0.0239] \n"
     ]
    },
    {
     "name": "stdout",
     "output_type": "stream",
     "text": [
      "val_loss: 0.0227 , \n"
     ]
    },
    {
     "name": "stderr",
     "output_type": "stream",
     "text": [
      "Epoch: 145/200: 100%|██████████| 48/48 [00:00<00:00, 76.40batch/s, Training loss=0.0247] \n"
     ]
    },
    {
     "name": "stdout",
     "output_type": "stream",
     "text": [
      "val_loss: 0.0313 , \n"
     ]
    },
    {
     "name": "stderr",
     "output_type": "stream",
     "text": [
      "Epoch: 146/200: 100%|██████████| 48/48 [00:00<00:00, 78.65batch/s, Training loss=0.0273] \n"
     ]
    },
    {
     "name": "stdout",
     "output_type": "stream",
     "text": [
      "val_loss: 0.0220 , \n"
     ]
    },
    {
     "name": "stderr",
     "output_type": "stream",
     "text": [
      "Epoch: 147/200: 100%|██████████| 48/48 [00:00<00:00, 77.03batch/s, Training loss=0.0250] \n"
     ]
    },
    {
     "name": "stdout",
     "output_type": "stream",
     "text": [
      "val_loss: 0.0172 , \n"
     ]
    },
    {
     "name": "stderr",
     "output_type": "stream",
     "text": [
      "Epoch: 148/200: 100%|██████████| 48/48 [00:00<00:00, 80.25batch/s, Training loss=0.0249] \n"
     ]
    },
    {
     "name": "stdout",
     "output_type": "stream",
     "text": [
      "val_loss: 0.0177 , \n"
     ]
    },
    {
     "name": "stderr",
     "output_type": "stream",
     "text": [
      "Epoch: 149/200: 100%|██████████| 48/48 [00:00<00:00, 78.54batch/s, Training loss=0.0248] \n"
     ]
    },
    {
     "name": "stdout",
     "output_type": "stream",
     "text": [
      "val_loss: 0.0169 , \n"
     ]
    },
    {
     "name": "stderr",
     "output_type": "stream",
     "text": [
      "Epoch: 150/200: 100%|██████████| 48/48 [00:00<00:00, 81.61batch/s, Training loss=0.0220] \n"
     ]
    },
    {
     "name": "stdout",
     "output_type": "stream",
     "text": [
      "val_loss: 0.0229 , \n"
     ]
    },
    {
     "name": "stderr",
     "output_type": "stream",
     "text": [
      "Epoch: 151/200: 100%|██████████| 48/48 [00:00<00:00, 77.96batch/s, Training loss=0.0233] \n"
     ]
    },
    {
     "name": "stdout",
     "output_type": "stream",
     "text": [
      "val_loss: 0.0243 , \n"
     ]
    },
    {
     "name": "stderr",
     "output_type": "stream",
     "text": [
      "Epoch: 152/200: 100%|██████████| 48/48 [00:00<00:00, 78.31batch/s, Training loss=0.0264] \n"
     ]
    },
    {
     "name": "stdout",
     "output_type": "stream",
     "text": [
      "val_loss: 0.0195 , \n"
     ]
    },
    {
     "name": "stderr",
     "output_type": "stream",
     "text": [
      "Epoch: 153/200: 100%|██████████| 48/48 [00:00<00:00, 78.60batch/s, Training loss=0.0265] \n"
     ]
    },
    {
     "name": "stdout",
     "output_type": "stream",
     "text": [
      "val_loss: 0.0243 , \n"
     ]
    },
    {
     "name": "stderr",
     "output_type": "stream",
     "text": [
      "Epoch: 154/200: 100%|██████████| 48/48 [00:00<00:00, 77.91batch/s, Training loss=0.0255] \n"
     ]
    },
    {
     "name": "stdout",
     "output_type": "stream",
     "text": [
      "val_loss: 0.0213 , \n"
     ]
    },
    {
     "name": "stderr",
     "output_type": "stream",
     "text": [
      "Epoch: 155/200: 100%|██████████| 48/48 [00:00<00:00, 78.89batch/s, Training loss=0.0243] \n"
     ]
    },
    {
     "name": "stdout",
     "output_type": "stream",
     "text": [
      "val_loss: 0.0235 , \n"
     ]
    },
    {
     "name": "stderr",
     "output_type": "stream",
     "text": [
      "Epoch: 156/200: 100%|██████████| 48/48 [00:00<00:00, 78.48batch/s, Training loss=0.0258] \n"
     ]
    },
    {
     "name": "stdout",
     "output_type": "stream",
     "text": [
      "val_loss: 0.0247 , \n"
     ]
    },
    {
     "name": "stderr",
     "output_type": "stream",
     "text": [
      "Epoch: 157/200: 100%|██████████| 48/48 [00:00<00:00, 80.06batch/s, Training loss=0.0241] \n"
     ]
    },
    {
     "name": "stdout",
     "output_type": "stream",
     "text": [
      "val_loss: 0.0219 , \n"
     ]
    },
    {
     "name": "stderr",
     "output_type": "stream",
     "text": [
      "Epoch: 158/200: 100%|██████████| 48/48 [00:00<00:00, 80.02batch/s, Training loss=0.0239]\n"
     ]
    },
    {
     "name": "stdout",
     "output_type": "stream",
     "text": [
      "val_loss: 0.0176 , \n"
     ]
    },
    {
     "name": "stderr",
     "output_type": "stream",
     "text": [
      "Epoch: 159/200: 100%|██████████| 48/48 [00:00<00:00, 78.32batch/s, Training loss=0.0249] \n"
     ]
    },
    {
     "name": "stdout",
     "output_type": "stream",
     "text": [
      "val_loss: 0.0250 , \n"
     ]
    },
    {
     "name": "stderr",
     "output_type": "stream",
     "text": [
      "Epoch: 160/200: 100%|██████████| 48/48 [00:00<00:00, 80.71batch/s, Training loss=0.0230] \n"
     ]
    },
    {
     "name": "stdout",
     "output_type": "stream",
     "text": [
      "val_loss: 0.0168 , \n"
     ]
    },
    {
     "name": "stderr",
     "output_type": "stream",
     "text": [
      "Epoch: 161/200: 100%|██████████| 48/48 [00:00<00:00, 78.42batch/s, Training loss=0.0244] \n"
     ]
    },
    {
     "name": "stdout",
     "output_type": "stream",
     "text": [
      "val_loss: 0.0282 , \n"
     ]
    },
    {
     "name": "stderr",
     "output_type": "stream",
     "text": [
      "Epoch: 162/200: 100%|██████████| 48/48 [00:00<00:00, 78.86batch/s, Training loss=0.0254] \n"
     ]
    },
    {
     "name": "stdout",
     "output_type": "stream",
     "text": [
      "val_loss: 0.0218 , \n"
     ]
    },
    {
     "name": "stderr",
     "output_type": "stream",
     "text": [
      "Epoch: 163/200: 100%|██████████| 48/48 [00:00<00:00, 79.98batch/s, Training loss=0.0234] \n"
     ]
    },
    {
     "name": "stdout",
     "output_type": "stream",
     "text": [
      "val_loss: 0.0224 , \n"
     ]
    },
    {
     "name": "stderr",
     "output_type": "stream",
     "text": [
      "Epoch: 164/200: 100%|██████████| 48/48 [00:00<00:00, 78.89batch/s, Training loss=0.0221] \n"
     ]
    },
    {
     "name": "stdout",
     "output_type": "stream",
     "text": [
      "val_loss: 0.0206 , \n"
     ]
    },
    {
     "name": "stderr",
     "output_type": "stream",
     "text": [
      "Epoch: 165/200: 100%|██████████| 48/48 [00:00<00:00, 81.47batch/s, Training loss=0.0215]\n"
     ]
    },
    {
     "name": "stdout",
     "output_type": "stream",
     "text": [
      "val_loss: 0.0240 , \n"
     ]
    },
    {
     "name": "stderr",
     "output_type": "stream",
     "text": [
      "Epoch: 166/200: 100%|██████████| 48/48 [00:00<00:00, 78.22batch/s, Training loss=0.0245] \n"
     ]
    },
    {
     "name": "stdout",
     "output_type": "stream",
     "text": [
      "val_loss: 0.0157 , \n"
     ]
    },
    {
     "name": "stderr",
     "output_type": "stream",
     "text": [
      "Epoch: 167/200: 100%|██████████| 48/48 [00:00<00:00, 80.06batch/s, Training loss=0.0232]\n"
     ]
    },
    {
     "name": "stdout",
     "output_type": "stream",
     "text": [
      "val_loss: 0.0229 , \n"
     ]
    },
    {
     "name": "stderr",
     "output_type": "stream",
     "text": [
      "Epoch: 168/200: 100%|██████████| 48/48 [00:00<00:00, 80.27batch/s, Training loss=0.0242] \n"
     ]
    },
    {
     "name": "stdout",
     "output_type": "stream",
     "text": [
      "val_loss: 0.0253 , \n"
     ]
    },
    {
     "name": "stderr",
     "output_type": "stream",
     "text": [
      "Epoch: 169/200: 100%|██████████| 48/48 [00:00<00:00, 79.35batch/s, Training loss=0.0236] \n"
     ]
    },
    {
     "name": "stdout",
     "output_type": "stream",
     "text": [
      "val_loss: 0.0171 , \n"
     ]
    },
    {
     "name": "stderr",
     "output_type": "stream",
     "text": [
      "Epoch: 170/200: 100%|██████████| 48/48 [00:00<00:00, 78.78batch/s, Training loss=0.0229] \n"
     ]
    },
    {
     "name": "stdout",
     "output_type": "stream",
     "text": [
      "val_loss: 0.0183 , \n"
     ]
    },
    {
     "name": "stderr",
     "output_type": "stream",
     "text": [
      "Epoch: 171/200: 100%|██████████| 48/48 [00:00<00:00, 76.70batch/s, Training loss=0.0212] \n"
     ]
    },
    {
     "name": "stdout",
     "output_type": "stream",
     "text": [
      "val_loss: 0.0250 , \n"
     ]
    },
    {
     "name": "stderr",
     "output_type": "stream",
     "text": [
      "Epoch: 172/200: 100%|██████████| 48/48 [00:00<00:00, 80.35batch/s, Training loss=0.0238] \n"
     ]
    },
    {
     "name": "stdout",
     "output_type": "stream",
     "text": [
      "val_loss: 0.0194 , \n"
     ]
    },
    {
     "name": "stderr",
     "output_type": "stream",
     "text": [
      "Epoch: 173/200: 100%|██████████| 48/48 [00:00<00:00, 79.00batch/s, Training loss=0.0222] \n"
     ]
    },
    {
     "name": "stdout",
     "output_type": "stream",
     "text": [
      "val_loss: 0.0155 , \n"
     ]
    },
    {
     "name": "stderr",
     "output_type": "stream",
     "text": [
      "Epoch: 174/200: 100%|██████████| 48/48 [00:00<00:00, 79.63batch/s, Training loss=0.0238] \n"
     ]
    },
    {
     "name": "stdout",
     "output_type": "stream",
     "text": [
      "val_loss: 0.0249 , \n"
     ]
    },
    {
     "name": "stderr",
     "output_type": "stream",
     "text": [
      "Epoch: 175/200: 100%|██████████| 48/48 [00:00<00:00, 80.65batch/s, Training loss=0.0219] \n"
     ]
    },
    {
     "name": "stdout",
     "output_type": "stream",
     "text": [
      "val_loss: 0.0155 , \n"
     ]
    },
    {
     "name": "stderr",
     "output_type": "stream",
     "text": [
      "Epoch: 176/200: 100%|██████████| 48/48 [00:00<00:00, 78.37batch/s, Training loss=0.0249] \n"
     ]
    },
    {
     "name": "stdout",
     "output_type": "stream",
     "text": [
      "val_loss: 0.0285 , \n"
     ]
    },
    {
     "name": "stderr",
     "output_type": "stream",
     "text": [
      "Epoch: 177/200: 100%|██████████| 48/48 [00:00<00:00, 80.45batch/s, Training loss=0.0249] \n"
     ]
    },
    {
     "name": "stdout",
     "output_type": "stream",
     "text": [
      "val_loss: 0.0181 , \n"
     ]
    },
    {
     "name": "stderr",
     "output_type": "stream",
     "text": [
      "Epoch: 178/200: 100%|██████████| 48/48 [00:00<00:00, 77.63batch/s, Training loss=0.0230] \n"
     ]
    },
    {
     "name": "stdout",
     "output_type": "stream",
     "text": [
      "val_loss: 0.0219 , \n"
     ]
    },
    {
     "name": "stderr",
     "output_type": "stream",
     "text": [
      "Epoch: 179/200: 100%|██████████| 48/48 [00:00<00:00, 76.94batch/s, Training loss=0.0236] \n"
     ]
    },
    {
     "name": "stdout",
     "output_type": "stream",
     "text": [
      "val_loss: 0.0250 , \n"
     ]
    },
    {
     "name": "stderr",
     "output_type": "stream",
     "text": [
      "Epoch: 180/200: 100%|██████████| 48/48 [00:00<00:00, 81.52batch/s, Training loss=0.0223] \n"
     ]
    },
    {
     "name": "stdout",
     "output_type": "stream",
     "text": [
      "val_loss: 0.0203 , \n"
     ]
    },
    {
     "name": "stderr",
     "output_type": "stream",
     "text": [
      "Epoch: 181/200: 100%|██████████| 48/48 [00:00<00:00, 79.94batch/s, Training loss=0.0228] \n"
     ]
    },
    {
     "name": "stdout",
     "output_type": "stream",
     "text": [
      "val_loss: 0.0208 , \n"
     ]
    },
    {
     "name": "stderr",
     "output_type": "stream",
     "text": [
      "Epoch: 182/200: 100%|██████████| 48/48 [00:00<00:00, 82.74batch/s, Training loss=0.0216]\n"
     ]
    },
    {
     "name": "stdout",
     "output_type": "stream",
     "text": [
      "val_loss: 0.0173 , \n"
     ]
    },
    {
     "name": "stderr",
     "output_type": "stream",
     "text": [
      "Epoch: 183/200: 100%|██████████| 48/48 [00:00<00:00, 82.66batch/s, Training loss=0.0234] \n"
     ]
    },
    {
     "name": "stdout",
     "output_type": "stream",
     "text": [
      "val_loss: 0.0206 , \n"
     ]
    },
    {
     "name": "stderr",
     "output_type": "stream",
     "text": [
      "Epoch: 184/200: 100%|██████████| 48/48 [00:00<00:00, 81.16batch/s, Training loss=0.0248] \n"
     ]
    },
    {
     "name": "stdout",
     "output_type": "stream",
     "text": [
      "val_loss: 0.0164 , \n"
     ]
    },
    {
     "name": "stderr",
     "output_type": "stream",
     "text": [
      "Epoch: 185/200: 100%|██████████| 48/48 [00:00<00:00, 76.07batch/s, Training loss=0.0218] \n"
     ]
    },
    {
     "name": "stdout",
     "output_type": "stream",
     "text": [
      "val_loss: 0.0213 , \n"
     ]
    },
    {
     "name": "stderr",
     "output_type": "stream",
     "text": [
      "Epoch: 186/200: 100%|██████████| 48/48 [00:00<00:00, 80.95batch/s, Training loss=0.0208] \n"
     ]
    },
    {
     "name": "stdout",
     "output_type": "stream",
     "text": [
      "val_loss: 0.0138 , \n"
     ]
    },
    {
     "name": "stderr",
     "output_type": "stream",
     "text": [
      "Epoch: 187/200: 100%|██████████| 48/48 [00:00<00:00, 79.45batch/s, Training loss=0.0208] \n"
     ]
    },
    {
     "name": "stdout",
     "output_type": "stream",
     "text": [
      "val_loss: 0.0195 , \n"
     ]
    },
    {
     "name": "stderr",
     "output_type": "stream",
     "text": [
      "Epoch: 188/200: 100%|██████████| 48/48 [00:00<00:00, 77.25batch/s, Training loss=0.0236] \n"
     ]
    },
    {
     "name": "stdout",
     "output_type": "stream",
     "text": [
      "val_loss: 0.0198 , \n"
     ]
    },
    {
     "name": "stderr",
     "output_type": "stream",
     "text": [
      "Epoch: 189/200: 100%|██████████| 48/48 [00:00<00:00, 80.22batch/s, Training loss=0.0236] \n"
     ]
    },
    {
     "name": "stdout",
     "output_type": "stream",
     "text": [
      "val_loss: 0.0169 , \n"
     ]
    },
    {
     "name": "stderr",
     "output_type": "stream",
     "text": [
      "Epoch: 190/200: 100%|██████████| 48/48 [00:00<00:00, 79.47batch/s, Training loss=0.0202] \n"
     ]
    },
    {
     "name": "stdout",
     "output_type": "stream",
     "text": [
      "val_loss: 0.0163 , \n"
     ]
    },
    {
     "name": "stderr",
     "output_type": "stream",
     "text": [
      "Epoch: 191/200: 100%|██████████| 48/48 [00:00<00:00, 80.27batch/s, Training loss=0.0231] \n"
     ]
    },
    {
     "name": "stdout",
     "output_type": "stream",
     "text": [
      "val_loss: 0.0199 , \n"
     ]
    },
    {
     "name": "stderr",
     "output_type": "stream",
     "text": [
      "Epoch: 192/200: 100%|██████████| 48/48 [00:00<00:00, 79.01batch/s, Training loss=0.0195] \n"
     ]
    },
    {
     "name": "stdout",
     "output_type": "stream",
     "text": [
      "val_loss: 0.0171 , \n"
     ]
    },
    {
     "name": "stderr",
     "output_type": "stream",
     "text": [
      "Epoch: 193/200: 100%|██████████| 48/48 [00:00<00:00, 79.77batch/s, Training loss=0.0222] \n"
     ]
    },
    {
     "name": "stdout",
     "output_type": "stream",
     "text": [
      "val_loss: 0.0189 , \n"
     ]
    },
    {
     "name": "stderr",
     "output_type": "stream",
     "text": [
      "Epoch: 194/200: 100%|██████████| 48/48 [00:00<00:00, 78.53batch/s, Training loss=0.0214] \n"
     ]
    },
    {
     "name": "stdout",
     "output_type": "stream",
     "text": [
      "val_loss: 0.0189 , \n"
     ]
    },
    {
     "name": "stderr",
     "output_type": "stream",
     "text": [
      "Epoch: 195/200: 100%|██████████| 48/48 [00:00<00:00, 79.98batch/s, Training loss=0.0229] \n"
     ]
    },
    {
     "name": "stdout",
     "output_type": "stream",
     "text": [
      "val_loss: 0.0140 , \n"
     ]
    },
    {
     "name": "stderr",
     "output_type": "stream",
     "text": [
      "Epoch: 196/200: 100%|██████████| 48/48 [00:00<00:00, 78.88batch/s, Training loss=0.0230] \n"
     ]
    },
    {
     "name": "stdout",
     "output_type": "stream",
     "text": [
      "val_loss: 0.0183 , \n"
     ]
    },
    {
     "name": "stderr",
     "output_type": "stream",
     "text": [
      "Epoch: 197/200: 100%|██████████| 48/48 [00:00<00:00, 77.72batch/s, Training loss=0.0225] \n"
     ]
    },
    {
     "name": "stdout",
     "output_type": "stream",
     "text": [
      "val_loss: 0.0189 , \n"
     ]
    },
    {
     "name": "stderr",
     "output_type": "stream",
     "text": [
      "Epoch: 198/200: 100%|██████████| 48/48 [00:00<00:00, 77.78batch/s, Training loss=0.0204] \n"
     ]
    },
    {
     "name": "stdout",
     "output_type": "stream",
     "text": [
      "val_loss: 0.0145 , \n"
     ]
    },
    {
     "name": "stderr",
     "output_type": "stream",
     "text": [
      "Epoch: 199/200: 100%|██████████| 48/48 [00:00<00:00, 75.67batch/s, Training loss=0.0214] \n"
     ]
    },
    {
     "name": "stdout",
     "output_type": "stream",
     "text": [
      "val_loss: 0.0157 , \n"
     ]
    },
    {
     "name": "stderr",
     "output_type": "stream",
     "text": [
      "Epoch: 200/200: 100%|██████████| 48/48 [00:00<00:00, 76.78batch/s, Training loss=0.0222] \n"
     ]
    },
    {
     "name": "stdout",
     "output_type": "stream",
     "text": [
      "val_loss: 0.0233 , \n",
      "Loading best weights!\n"
     ]
    }
   ],
   "source": [
    "optimizer = torch.optim.Adam(params=predictor.parameters(), lr=1e-3, weight_decay=0)\n",
    "lr_scheduler = torch.optim.lr_scheduler.LinearLR(optimizer, start_factor=1, end_factor=0.001, total_iters=200)\n",
    "\n",
    "predictor.train_network(\n",
    "    train_loader = train_loader,\n",
    "    epochs=200,\n",
    "    val_loader = val_loader,\n",
    "    optimizer = optimizer,\n",
    "    lr_scheduler= lr_scheduler,\n",
    "    early_stopper=EarlyStopper(patience=200),\n",
    "    disable_progress_bar = False,\n",
    "    save_weights = True\n",
    ")"
   ]
  },
  {
   "cell_type": "code",
   "execution_count": 31,
   "metadata": {},
   "outputs": [
    {
     "name": "stdout",
     "output_type": "stream",
     "text": [
      "3.785470962524414\n"
     ]
    }
   ],
   "source": [
    "# Check performance on validation set\n",
    "last_idx = val_dataset.tensor_data.shape[0] - prediction_length - context_length\n",
    "indices = list(range(last_idx, last_idx - prediction_length*14, -prediction_length))\n",
    "max_anchors = []\n",
    "min_anchors = []\n",
    "for idx in indices:\n",
    "    off_idx = idx + context_length\n",
    "    max_values = full_data.loc[full_data.index < val_data.index[off_idx]].max(axis=0)\n",
    "    min_values = full_data.loc[full_data.index < val_data.index[off_idx]].min(axis=0)\n",
    "    mean_values = full_data.loc[full_data.index < val_data.index[off_idx]].mean(axis=0)\n",
    "    max_anchors.append(1.1*torch.tensor(max_values,dtype=torch.float32,device=device) - 0.1*torch.tensor(mean_values,dtype=torch.float32,device=device))\n",
    "    min_anchors.append(1.1*torch.tensor(min_values,dtype=torch.float32,device=device) - 0.1*torch.tensor(mean_values,dtype=torch.float32,device=device))\n",
    "\n",
    "max_anchors = torch.stack(max_anchors)\n",
    "min_anchors = torch.stack(min_anchors)\n",
    "anchors = torch.stack([min_anchors,max_anchors],dim = -1).unsqueeze(2).repeat((1,1,prediction_length,1))\n",
    "\n",
    "start = time.time()\n",
    "samples = predictor.sample(\n",
    "    data = val_dataset,\n",
    "    indices = indices,\n",
    "    prediction_length = prediction_length,\n",
    "    num_samples = 128,\n",
    "    batch_size = 128,\n",
    "    anchors=anchors,\n",
    "    anchor_strength=0.03,\n",
    ")\n",
    "samples = samples.cpu()\n",
    "print(time.time() - start)\n",
    "\n",
    "\n",
    "realisations = []\n",
    "for idx in indices:\n",
    "    realisations.append(\n",
    "        val_dataset.tensor_data[context_length + idx:context_length + idx + prediction_length,val_dataset.pred_columns].T\n",
    "    )\n",
    "realisations = torch.stack(realisations).cpu()\n"
   ]
  },
  {
   "cell_type": "code",
   "execution_count": 32,
   "metadata": {},
   "outputs": [
    {
     "name": "stdout",
     "output_type": "stream",
     "text": [
      "MSE: 0.026671007 MAE: 0.11887049 MDAE: 0.090396166\n",
      "CRPS_sum: 0.42637074589729307 Variogram_score: 0.021892038563527977\n"
     ]
    }
   ],
   "source": [
    "# Calculate metrics\n",
    "mean_predictions = samples.mean(axis=1)\n",
    "\n",
    "# MSE, MAE, MDAE\n",
    "mse = mean_squared_error(realisations.flatten(), mean_predictions.flatten())\n",
    "mae = mean_absolute_error(realisations.flatten(), mean_predictions.flatten())\n",
    "mdae = median_absolute_error(realisations.flatten(), mean_predictions.flatten())\n",
    "print(\"MSE:\", mse, \"MAE:\", mae, \"MDAE:\", mdae)\n",
    "\n",
    "# CRPS_sum and Variogram_score\n",
    "crps_sum = np.mean([metrics.crps_sum(samples[i], realisations[i]) for i in range(realisations.shape[0])])\n",
    "variogram_score = np.mean([metrics.variogram_score(samples[i], realisations[i], weights=\"local\", window_size=2) for i in range(realisations.shape[0])])\n",
    "print(\"CRPS_sum:\", crps_sum, \"Variogram_score:\", variogram_score)"
   ]
  },
  {
   "cell_type": "code",
   "execution_count": 57,
   "metadata": {},
   "outputs": [
    {
     "name": "stdout",
     "output_type": "stream",
     "text": [
      "3.804999828338623\n"
     ]
    }
   ],
   "source": [
    "# Check performance on validation set\n",
    "last_idx = test_dataset.tensor_data.shape[0] - prediction_length - context_length\n",
    "indices = list(range(last_idx, last_idx - prediction_length*14, -prediction_length))\n",
    "max_anchors = []\n",
    "min_anchors = []\n",
    "for idx in indices:\n",
    "    off_idx = idx + context_length\n",
    "    max_values = full_data.loc[full_data.index < test_data.index[off_idx]].iloc[-14*prediction_length:].max(axis=0)\n",
    "    min_values = full_data.loc[full_data.index < test_data.index[off_idx]].iloc[-14*prediction_length:].min(axis=0)\n",
    "    mean_values = full_data.loc[full_data.index < test_data.index[off_idx]].iloc[-14*prediction_length:].mean(axis=0)\n",
    "    max_anchors.append(1.1*torch.tensor(max_values,dtype=torch.float32,device=device) - 0.1*torch.tensor(mean_values,dtype=torch.float32,device=device))\n",
    "    min_anchors.append(1.1*torch.tensor(min_values,dtype=torch.float32,device=device) - 0.1*torch.tensor(mean_values,dtype=torch.float32,device=device))\n",
    "\n",
    "max_anchors = torch.stack(max_anchors)\n",
    "min_anchors = torch.stack(min_anchors)\n",
    "anchors = torch.stack([min_anchors,max_anchors],dim = -1).unsqueeze(2).repeat((1,1,prediction_length,1))\n",
    "\n",
    "start = time.time()\n",
    "samples = predictor.sample(\n",
    "    data = test_dataset,\n",
    "    indices = indices,\n",
    "    prediction_length = prediction_length,\n",
    "    num_samples = 128,\n",
    "    batch_size = 128,\n",
    "    anchors=anchors,\n",
    "    anchor_strength=0.0,\n",
    ")\n",
    "samples = samples.cpu()\n",
    "print(time.time() - start)\n",
    "\n",
    "\n",
    "realisations = []\n",
    "for idx in indices:\n",
    "    realisations.append(\n",
    "        test_dataset.tensor_data[context_length + idx:context_length + idx + prediction_length,test_dataset.pred_columns].T\n",
    "    )\n",
    "realisations = torch.stack(realisations).cpu()\n"
   ]
  },
  {
   "cell_type": "code",
   "execution_count": 58,
   "metadata": {},
   "outputs": [
    {
     "name": "stdout",
     "output_type": "stream",
     "text": [
      "MSE: 0.029906396 MAE: 0.13520434 MDAE: 0.109188795\n",
      "CRPS_sum: 0.49715911568630317 Variogram_score: 0.01953266994304928\n"
     ]
    }
   ],
   "source": [
    "# Calculate metrics\n",
    "mean_predictions = samples.mean(axis=1)\n",
    "\n",
    "# MSE, MAE, MDAE\n",
    "mse = mean_squared_error(realisations.flatten(), mean_predictions.flatten())\n",
    "mae = mean_absolute_error(realisations.flatten(), mean_predictions.flatten())\n",
    "mdae = median_absolute_error(realisations.flatten(), mean_predictions.flatten())\n",
    "print(\"MSE:\", mse, \"MAE:\", mae, \"MDAE:\", mdae)\n",
    "\n",
    "# CRPS_sum and Variogram_score\n",
    "crps_sum = np.mean([metrics.crps_sum(samples[i], realisations[i]) for i in range(realisations.shape[0])])\n",
    "variogram_score = np.mean([metrics.variogram_score(samples[i], realisations[i], weights=\"local\", window_size=2) for i in range(realisations.shape[0])])\n",
    "print(\"CRPS_sum:\", crps_sum, \"Variogram_score:\", variogram_score)"
   ]
  },
  {
   "cell_type": "code",
   "execution_count": 13,
   "metadata": {},
   "outputs": [
    {
     "data": {
      "image/png": "[encoded data removed]",
      "text/plain": [
       "<Figure size 640x480 with 1 Axes>"
      ]
     },
     "metadata": {},
     "output_type": "display_data"
    },
    {
     "data": {
      "image/png": "[encoded data removed]",
      "text/plain": [
       "<Figure size 640x480 with 1 Axes>"
      ]
     },
     "metadata": {},
     "output_type": "display_data"
    },
    {
     "data": {
      "image/png": "[encoded data removed]",
      "text/plain": [
       "<Figure size 640x480 with 1 Axes>"
      ]
     },
     "metadata": {},
     "output_type": "display_data"
    },
    {
     "data": {
      "image/png": "[encoded data removed]",
      "text/plain": [
       "<Figure size 640x480 with 1 Axes>"
      ]
     },
     "metadata": {},
     "output_type": "display_data"
    }
   ],
   "source": [
    "# Sample from model\n",
    "last_idx = val_dataset.tensor_data.shape[0] - prediction_length - context_length\n",
    "indices = [last_idx]\n",
    "max_anchors = []\n",
    "min_anchors = []\n",
    "for idx in indices:\n",
    "    off_idx = idx + context_length\n",
    "    max_values = full_data.loc[full_data.index < val_data.index[off_idx]].max(axis=0)\n",
    "    min_values = full_data.loc[full_data.index < val_data.index[off_idx]].min(axis=0)\n",
    "    mean_values = full_data.loc[full_data.index < val_data.index[off_idx]].mean(axis=0)\n",
    "    max_anchors.append(1.1*torch.tensor(max_values,dtype=torch.float32,device=device) - 0.1*torch.tensor(mean_values,dtype=torch.float32,device=device))\n",
    "    min_anchors.append(1.1*torch.tensor(min_values,dtype=torch.float32,device=device) - 0.1*torch.tensor(mean_values,dtype=torch.float32,device=device))\n",
    "\n",
    "max_anchors = torch.stack(max_anchors)\n",
    "min_anchors = torch.stack(min_anchors)\n",
    "anchors = torch.stack([min_anchors,max_anchors],dim = -1).unsqueeze(2).repeat((1,1,prediction_length,1))\n",
    "\n",
    "samples = predictor.sample(\n",
    "    data = val_dataset,\n",
    "    indices = indices,\n",
    "    prediction_length = prediction_length,\n",
    "    num_samples = 128,\n",
    "    batch_size = 128,\n",
    "    anchors=anchors,\n",
    "    anchor_strength=0.03,\n",
    ")\n",
    "samples = samples.cpu()\n",
    "\n",
    "# Sort samples in ascending order\n",
    "samples = samples.permute(0,2,3,1).flatten(start_dim=0,end_dim=2).sort()[0].reshape(samples.shape[0],samples.shape[2],samples.shape[3],-1).permute(0,3,1,2)\n",
    "\n",
    "# Plot some predictions\n",
    "confidence = 0.9\n",
    "\n",
    "for ts in [1,3,5,7]:\n",
    "    plt.figure()\n",
    "    plt.title(f\"TimeFusion Prediction on Dimension {ts}\")\n",
    "    plt.plot(val_dataset.tensor_data[indices[0] - (3*prediction_length - context_length):indices[0] + context_length,ts],\"-x\")\n",
    "    plt.plot(list(range(3*prediction_length,4*prediction_length)),val_dataset.tensor_data[indices[0] + context_length:indices[0] + context_length+prediction_length,ts],\"-x\")\n",
    "    plt.plot(list(range(3*prediction_length,4*prediction_length)),torch.mean(samples[0,:,ts],dim = 0),\"-x\")\n",
    "    plt.fill_between(list(range(3*prediction_length,4*prediction_length)), samples[0,int(confidence*samples.shape[1]),ts], samples[0,int((1-confidence)*samples.shape[1]),ts],alpha=0.5)\n",
    "    plt.legend([\"Historical data\",\"Target\",\"Mean prediction\",\"80% confidence interval\"])\n",
    "    plt.xlabel(\"Index\",fontsize=12)\n",
    "    plt.ylabel(\"Values\",fontsize=12)\n",
    "    plt.savefig(f\"images/exchange_{ts}.png\")\n"
   ]
  },
  {
   "cell_type": "code",
   "execution_count": null,
   "metadata": {},
   "outputs": [],
   "source": []
  }
 ],
 "metadata": {
  "kernelspec": {
   "display_name": "Python [conda env:anaconda3]",
   "language": "python",
   "name": "conda-env-anaconda3-py"
  },
  "language_info": {
   "codemirror_mode": {
    "name": "ipython",
    "version": 3
   },
   "file_extension": ".py",
   "mimetype": "text/x-python",
   "name": "python",
   "nbconvert_exporter": "python",
   "pygments_lexer": "ipython3",
   "version": "3.10.8"
  }
 },
 "nbformat": 4,
 "nbformat_minor": 2
}
