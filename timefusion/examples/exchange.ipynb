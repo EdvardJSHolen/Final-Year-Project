{
 "cells": [
  {
   "cell_type": "code",
   "execution_count": 15,
   "metadata": {},
   "outputs": [],
   "source": [
    "import sys\n",
    "import numpy as np\n",
    "import pandas as pd\n",
    "import matplotlib.pyplot as plt\n",
    "import torch\n",
    "import itertools\n",
    "\n",
    "from torch.utils.data import DataLoader\n",
    "from torch import nn\n",
    "from sklearn.metrics import mean_absolute_error, median_absolute_error, mean_squared_error\n",
    "\n",
    "sys.path.append(\"..\")\n",
    "from utils import metrics\n",
    "from utils.data import TimeFusionDataset\n",
    "from timefusion import TimeFusion\n",
    "from utils.early_stopper import EarlyStopper"
   ]
  },
  {
   "cell_type": "code",
   "execution_count": 16,
   "metadata": {},
   "outputs": [],
   "source": [
    "# Import data\n",
    "train_data = pd.read_csv(\"../../datasets/exchange/train.csv\")\n",
    "val_data = pd.read_csv(\"../../datasets/exchange/val.csv\")\n",
    "test_data = pd.read_csv(\"../../datasets/exchange/test.csv\")\n",
    "\n",
    "# Normalize the signal power of each column\n",
    "stds = train_data.std()\n",
    "train_data /= stds\n",
    "val_data /= stds\n",
    "test_data /= stds"
   ]
  },
  {
   "cell_type": "code",
   "execution_count": 17,
   "metadata": {},
   "outputs": [],
   "source": [
    "# Compute device\n",
    "if torch.cuda.is_available():\n",
    "    device = torch.device(\"cuda:0\")\n",
    "else:\n",
    "    device = torch.device(\"cpu\")"
   ]
  },
  {
   "cell_type": "code",
   "execution_count": 18,
   "metadata": {},
   "outputs": [],
   "source": [
    "context_length = 60\n",
    "prediction_length = 30\n",
    "\n",
    "def get_data_loader(data, context_length):\n",
    "\n",
    "    dataset = TimeFusionDataset(\n",
    "        data = data,\n",
    "        context_length = context_length,\n",
    "    )\n",
    "\n",
    "    dataloader = DataLoader(\n",
    "        dataset = dataset,\n",
    "        shuffle = True,\n",
    "        num_workers = 4,\n",
    "        batch_size = 128,\n",
    "    )\n",
    "\n",
    "    return dataloader, dataset\n",
    "\n",
    "train_loader, train_dataset = get_data_loader(train_data, context_length)\n",
    "val_loader, val_dataset = get_data_loader(val_data, context_length)\n",
    "test_loader, test_dataset = get_data_loader(test_data, context_length)"
   ]
  },
  {
   "cell_type": "code",
   "execution_count": 19,
   "metadata": {},
   "outputs": [
    {
     "name": "stdout",
     "output_type": "stream",
     "text": [
      "Number of trainable parameters: 4318\n"
     ]
    },
    {
     "name": "stderr",
     "output_type": "stream",
     "text": [
      "/Users/edvard/Documents/Imperial College/Year 4/Final Year Project/Final-Year-Project/timefusion/examples/../utils/diffusion.py:25: UserWarning: To copy construct from a tensor, it is recommended to use sourceTensor.clone().detach() or sourceTensor.clone().detach().requires_grad_(True), rather than torch.tensor(sourceTensor).\n",
      "  self.bar_alphas = torch.tensor(\n"
     ]
    }
   ],
   "source": [
    "predictor = TimeFusion(\n",
    "    input_size = train_dataset.data.shape[1],\n",
    "    output_size = train_data.shape[1],\n",
    "    rnn_layers = 2,\n",
    "    rnn_hidden = 10,\n",
    "    residual_layers = 2,\n",
    "    residual_hidden = 20,\n",
    "    scaling = True,\n",
    "    device = device\n",
    ")\n",
    "\n",
    "print(\"Number of trainable parameters:\",sum(p.numel() for p in predictor.parameters()))"
   ]
  },
  {
   "cell_type": "code",
   "execution_count": 20,
   "metadata": {},
   "outputs": [
    {
     "name": "stderr",
     "output_type": "stream",
     "text": [
      "Epoch: 1/120: 100%|██████████| 47/47 [00:03<00:00, 11.92batch/s, Training loss=0.8792]\n"
     ]
    },
    {
     "name": "stdout",
     "output_type": "stream",
     "text": [
      "Val MAE: 0.6983 , val_loss: 0.7658 , \n"
     ]
    },
    {
     "name": "stderr",
     "output_type": "stream",
     "text": [
      "Epoch: 2/120: 100%|██████████| 47/47 [00:03<00:00, 13.36batch/s, Training loss=0.6323]\n"
     ]
    },
    {
     "name": "stdout",
     "output_type": "stream",
     "text": [
      "Val MAE: 0.5597 , val_loss: 0.5242 , \n"
     ]
    },
    {
     "name": "stderr",
     "output_type": "stream",
     "text": [
      "Epoch: 3/120: 100%|██████████| 47/47 [00:03<00:00, 12.93batch/s, Training loss=0.4180]\n"
     ]
    },
    {
     "name": "stdout",
     "output_type": "stream",
     "text": [
      "Val MAE: 0.4543 , val_loss: 0.3538 , \n"
     ]
    },
    {
     "name": "stderr",
     "output_type": "stream",
     "text": [
      "Epoch: 4/120: 100%|██████████| 47/47 [00:03<00:00, 13.24batch/s, Training loss=0.2807]\n"
     ]
    },
    {
     "name": "stdout",
     "output_type": "stream",
     "text": [
      "Val MAE: 0.3484 , val_loss: 0.2222 , \n"
     ]
    },
    {
     "name": "stderr",
     "output_type": "stream",
     "text": [
      "Epoch: 5/120: 100%|██████████| 47/47 [00:03<00:00, 13.35batch/s, Training loss=0.1904]\n"
     ]
    },
    {
     "name": "stdout",
     "output_type": "stream",
     "text": [
      "Val MAE: 0.2806 , val_loss: 0.1510 , \n"
     ]
    },
    {
     "name": "stderr",
     "output_type": "stream",
     "text": [
      "Epoch: 6/120: 100%|██████████| 47/47 [00:03<00:00, 13.30batch/s, Training loss=0.1482]\n"
     ]
    },
    {
     "name": "stdout",
     "output_type": "stream",
     "text": [
      "Val MAE: 0.2801 , val_loss: 0.1469 , \n"
     ]
    },
    {
     "name": "stderr",
     "output_type": "stream",
     "text": [
      "Epoch: 7/120: 100%|██████████| 47/47 [00:03<00:00, 13.38batch/s, Training loss=0.1360]\n"
     ]
    },
    {
     "name": "stdout",
     "output_type": "stream",
     "text": [
      "Val MAE: 0.2618 , val_loss: 0.1339 , \n"
     ]
    },
    {
     "name": "stderr",
     "output_type": "stream",
     "text": [
      "Epoch: 8/120: 100%|██████████| 47/47 [00:03<00:00, 12.96batch/s, Training loss=0.1323]\n"
     ]
    },
    {
     "name": "stdout",
     "output_type": "stream",
     "text": [
      "Val MAE: 0.2515 , val_loss: 0.1227 , \n"
     ]
    },
    {
     "name": "stderr",
     "output_type": "stream",
     "text": [
      "Epoch: 9/120: 100%|██████████| 47/47 [00:03<00:00, 13.25batch/s, Training loss=0.1359]\n"
     ]
    },
    {
     "name": "stdout",
     "output_type": "stream",
     "text": [
      "Val MAE: 0.2551 , val_loss: 0.1259 , \n"
     ]
    },
    {
     "name": "stderr",
     "output_type": "stream",
     "text": [
      "Epoch: 10/120: 100%|██████████| 47/47 [00:03<00:00, 13.30batch/s, Training loss=0.1315]\n"
     ]
    },
    {
     "name": "stdout",
     "output_type": "stream",
     "text": [
      "Val MAE: 0.2543 , val_loss: 0.1340 , \n"
     ]
    },
    {
     "name": "stderr",
     "output_type": "stream",
     "text": [
      "Epoch: 11/120: 100%|██████████| 47/47 [00:03<00:00, 12.57batch/s, Training loss=0.1258]\n"
     ]
    },
    {
     "name": "stdout",
     "output_type": "stream",
     "text": [
      "Val MAE: 0.2429 , val_loss: 0.1177 , \n"
     ]
    },
    {
     "name": "stderr",
     "output_type": "stream",
     "text": [
      "Epoch: 12/120: 100%|██████████| 47/47 [00:03<00:00, 12.58batch/s, Training loss=0.1218]\n"
     ]
    },
    {
     "name": "stdout",
     "output_type": "stream",
     "text": [
      "Val MAE: 0.2547 , val_loss: 0.1310 , \n"
     ]
    },
    {
     "name": "stderr",
     "output_type": "stream",
     "text": [
      "Epoch: 13/120: 100%|██████████| 47/47 [00:03<00:00, 12.93batch/s, Training loss=0.1173]\n"
     ]
    },
    {
     "name": "stdout",
     "output_type": "stream",
     "text": [
      "Val MAE: 0.2339 , val_loss: 0.1100 , \n"
     ]
    },
    {
     "name": "stderr",
     "output_type": "stream",
     "text": [
      "Epoch: 14/120: 100%|██████████| 47/47 [00:03<00:00, 12.88batch/s, Training loss=0.1124]\n"
     ]
    },
    {
     "name": "stdout",
     "output_type": "stream",
     "text": [
      "Val MAE: 0.2339 , val_loss: 0.1114 , \n"
     ]
    },
    {
     "name": "stderr",
     "output_type": "stream",
     "text": [
      "Epoch: 15/120: 100%|██████████| 47/47 [00:03<00:00, 12.83batch/s, Training loss=0.1136]\n"
     ]
    },
    {
     "name": "stdout",
     "output_type": "stream",
     "text": [
      "Val MAE: 0.2235 , val_loss: 0.1012 , \n"
     ]
    },
    {
     "name": "stderr",
     "output_type": "stream",
     "text": [
      "Epoch: 16/120: 100%|██████████| 47/47 [00:03<00:00, 12.30batch/s, Training loss=0.1072]\n"
     ]
    },
    {
     "name": "stdout",
     "output_type": "stream",
     "text": [
      "Val MAE: 0.2277 , val_loss: 0.1096 , \n"
     ]
    },
    {
     "name": "stderr",
     "output_type": "stream",
     "text": [
      "Epoch: 17/120: 100%|██████████| 47/47 [00:03<00:00, 12.95batch/s, Training loss=0.0963]\n"
     ]
    },
    {
     "name": "stdout",
     "output_type": "stream",
     "text": [
      "Val MAE: 0.2152 , val_loss: 0.1007 , \n"
     ]
    },
    {
     "name": "stderr",
     "output_type": "stream",
     "text": [
      "Epoch: 18/120: 100%|██████████| 47/47 [00:03<00:00, 11.98batch/s, Training loss=0.0979]\n"
     ]
    },
    {
     "name": "stdout",
     "output_type": "stream",
     "text": [
      "Val MAE: 0.2098 , val_loss: 0.0916 , \n"
     ]
    },
    {
     "name": "stderr",
     "output_type": "stream",
     "text": [
      "Epoch: 19/120: 100%|██████████| 47/47 [00:03<00:00, 13.34batch/s, Training loss=0.0935]\n"
     ]
    },
    {
     "name": "stdout",
     "output_type": "stream",
     "text": [
      "Val MAE: 0.1995 , val_loss: 0.0814 , \n"
     ]
    },
    {
     "name": "stderr",
     "output_type": "stream",
     "text": [
      "Epoch: 20/120: 100%|██████████| 47/47 [00:03<00:00, 13.12batch/s, Training loss=0.0850]\n"
     ]
    },
    {
     "name": "stdout",
     "output_type": "stream",
     "text": [
      "Val MAE: 0.2022 , val_loss: 0.0913 , \n"
     ]
    },
    {
     "name": "stderr",
     "output_type": "stream",
     "text": [
      "Epoch: 21/120: 100%|██████████| 47/47 [00:03<00:00, 13.21batch/s, Training loss=0.0817]\n"
     ]
    },
    {
     "name": "stdout",
     "output_type": "stream",
     "text": [
      "Val MAE: 0.1911 , val_loss: 0.0794 , \n"
     ]
    },
    {
     "name": "stderr",
     "output_type": "stream",
     "text": [
      "Epoch: 22/120: 100%|██████████| 47/47 [00:03<00:00, 12.96batch/s, Training loss=0.0846]\n"
     ]
    },
    {
     "name": "stdout",
     "output_type": "stream",
     "text": [
      "Val MAE: 0.1775 , val_loss: 0.0644 , \n"
     ]
    },
    {
     "name": "stderr",
     "output_type": "stream",
     "text": [
      "Epoch: 23/120: 100%|██████████| 47/47 [00:03<00:00, 13.31batch/s, Training loss=0.0831]\n"
     ]
    },
    {
     "name": "stdout",
     "output_type": "stream",
     "text": [
      "Val MAE: 0.1882 , val_loss: 0.0778 , \n"
     ]
    },
    {
     "name": "stderr",
     "output_type": "stream",
     "text": [
      "Epoch: 24/120: 100%|██████████| 47/47 [00:03<00:00, 13.46batch/s, Training loss=0.0783]\n"
     ]
    },
    {
     "name": "stdout",
     "output_type": "stream",
     "text": [
      "Val MAE: 0.1767 , val_loss: 0.0658 , \n"
     ]
    },
    {
     "name": "stderr",
     "output_type": "stream",
     "text": [
      "Epoch: 25/120: 100%|██████████| 47/47 [00:03<00:00, 13.15batch/s, Training loss=0.0743]\n"
     ]
    },
    {
     "name": "stdout",
     "output_type": "stream",
     "text": [
      "Val MAE: 0.1787 , val_loss: 0.0695 , \n"
     ]
    },
    {
     "name": "stderr",
     "output_type": "stream",
     "text": [
      "Epoch: 26/120: 100%|██████████| 47/47 [00:03<00:00, 12.31batch/s, Training loss=0.0696]\n"
     ]
    },
    {
     "name": "stdout",
     "output_type": "stream",
     "text": [
      "Val MAE: 0.1835 , val_loss: 0.0815 , \n"
     ]
    },
    {
     "name": "stderr",
     "output_type": "stream",
     "text": [
      "Epoch: 27/120: 100%|██████████| 47/47 [00:03<00:00, 12.07batch/s, Training loss=0.0722]\n"
     ]
    },
    {
     "name": "stdout",
     "output_type": "stream",
     "text": [
      "Val MAE: 0.1729 , val_loss: 0.0660 , \n"
     ]
    },
    {
     "name": "stderr",
     "output_type": "stream",
     "text": [
      "Epoch: 28/120: 100%|██████████| 47/47 [00:03<00:00, 12.91batch/s, Training loss=0.0677]\n"
     ]
    },
    {
     "name": "stdout",
     "output_type": "stream",
     "text": [
      "Val MAE: 0.1681 , val_loss: 0.0657 , \n"
     ]
    },
    {
     "name": "stderr",
     "output_type": "stream",
     "text": [
      "Epoch: 29/120: 100%|██████████| 47/47 [00:03<00:00, 13.44batch/s, Training loss=0.0684]\n"
     ]
    },
    {
     "name": "stdout",
     "output_type": "stream",
     "text": [
      "Val MAE: 0.1626 , val_loss: 0.0584 , \n"
     ]
    },
    {
     "name": "stderr",
     "output_type": "stream",
     "text": [
      "Epoch: 30/120: 100%|██████████| 47/47 [00:03<00:00, 13.25batch/s, Training loss=0.0682]\n"
     ]
    },
    {
     "name": "stdout",
     "output_type": "stream",
     "text": [
      "Val MAE: 0.1700 , val_loss: 0.0674 , \n"
     ]
    },
    {
     "name": "stderr",
     "output_type": "stream",
     "text": [
      "Epoch: 31/120: 100%|██████████| 47/47 [00:03<00:00, 13.48batch/s, Training loss=0.0633]\n"
     ]
    },
    {
     "name": "stdout",
     "output_type": "stream",
     "text": [
      "Val MAE: 0.1580 , val_loss: 0.0574 , \n"
     ]
    },
    {
     "name": "stderr",
     "output_type": "stream",
     "text": [
      "Epoch: 32/120: 100%|██████████| 47/47 [00:03<00:00, 12.92batch/s, Training loss=0.0657]\n"
     ]
    },
    {
     "name": "stdout",
     "output_type": "stream",
     "text": [
      "Val MAE: 0.1629 , val_loss: 0.0629 , \n"
     ]
    },
    {
     "name": "stderr",
     "output_type": "stream",
     "text": [
      "Epoch: 33/120: 100%|██████████| 47/47 [00:03<00:00, 12.71batch/s, Training loss=0.0632]\n"
     ]
    },
    {
     "name": "stdout",
     "output_type": "stream",
     "text": [
      "Val MAE: 0.1595 , val_loss: 0.0586 , \n"
     ]
    },
    {
     "name": "stderr",
     "output_type": "stream",
     "text": [
      "Epoch: 34/120: 100%|██████████| 47/47 [00:03<00:00, 13.48batch/s, Training loss=0.0618]\n"
     ]
    },
    {
     "name": "stdout",
     "output_type": "stream",
     "text": [
      "Val MAE: 0.1603 , val_loss: 0.0605 , \n"
     ]
    },
    {
     "name": "stderr",
     "output_type": "stream",
     "text": [
      "Epoch: 35/120: 100%|██████████| 47/47 [00:03<00:00, 12.92batch/s, Training loss=0.0645]\n"
     ]
    },
    {
     "name": "stdout",
     "output_type": "stream",
     "text": [
      "Val MAE: 0.1622 , val_loss: 0.0617 , \n"
     ]
    },
    {
     "name": "stderr",
     "output_type": "stream",
     "text": [
      "Epoch: 36/120: 100%|██████████| 47/47 [00:03<00:00, 13.40batch/s, Training loss=0.0655]\n"
     ]
    },
    {
     "name": "stdout",
     "output_type": "stream",
     "text": [
      "Val MAE: 0.1557 , val_loss: 0.0537 , \n"
     ]
    },
    {
     "name": "stderr",
     "output_type": "stream",
     "text": [
      "Epoch: 37/120: 100%|██████████| 47/47 [00:03<00:00, 13.57batch/s, Training loss=0.0646]\n"
     ]
    },
    {
     "name": "stdout",
     "output_type": "stream",
     "text": [
      "Val MAE: 0.1516 , val_loss: 0.0521 , \n"
     ]
    },
    {
     "name": "stderr",
     "output_type": "stream",
     "text": [
      "Epoch: 38/120: 100%|██████████| 47/47 [00:03<00:00, 13.35batch/s, Training loss=0.0595]\n"
     ]
    },
    {
     "name": "stdout",
     "output_type": "stream",
     "text": [
      "Val MAE: 0.1524 , val_loss: 0.0521 , \n"
     ]
    },
    {
     "name": "stderr",
     "output_type": "stream",
     "text": [
      "Epoch: 39/120: 100%|██████████| 47/47 [00:03<00:00, 12.63batch/s, Training loss=0.0605]\n"
     ]
    },
    {
     "name": "stdout",
     "output_type": "stream",
     "text": [
      "Val MAE: 0.1529 , val_loss: 0.0539 , \n"
     ]
    },
    {
     "name": "stderr",
     "output_type": "stream",
     "text": [
      "Epoch: 40/120: 100%|██████████| 47/47 [00:03<00:00, 12.46batch/s, Training loss=0.0587]\n"
     ]
    },
    {
     "name": "stdout",
     "output_type": "stream",
     "text": [
      "Val MAE: 0.1497 , val_loss: 0.0510 , \n"
     ]
    },
    {
     "name": "stderr",
     "output_type": "stream",
     "text": [
      "Epoch: 41/120: 100%|██████████| 47/47 [00:03<00:00, 12.62batch/s, Training loss=0.0546]\n"
     ]
    },
    {
     "name": "stdout",
     "output_type": "stream",
     "text": [
      "Val MAE: 0.1562 , val_loss: 0.0583 , \n"
     ]
    },
    {
     "name": "stderr",
     "output_type": "stream",
     "text": [
      "Epoch: 42/120: 100%|██████████| 47/47 [00:03<00:00, 12.46batch/s, Training loss=0.0578]\n"
     ]
    },
    {
     "name": "stdout",
     "output_type": "stream",
     "text": [
      "Val MAE: 0.1427 , val_loss: 0.0489 , \n"
     ]
    },
    {
     "name": "stderr",
     "output_type": "stream",
     "text": [
      "Epoch: 43/120: 100%|██████████| 47/47 [00:03<00:00, 13.01batch/s, Training loss=0.0570]\n"
     ]
    },
    {
     "name": "stdout",
     "output_type": "stream",
     "text": [
      "Val MAE: 0.1505 , val_loss: 0.0534 , \n"
     ]
    },
    {
     "name": "stderr",
     "output_type": "stream",
     "text": [
      "Epoch: 44/120: 100%|██████████| 47/47 [00:03<00:00, 12.67batch/s, Training loss=0.0535]\n"
     ]
    },
    {
     "name": "stdout",
     "output_type": "stream",
     "text": [
      "Val MAE: 0.1380 , val_loss: 0.0422 , \n"
     ]
    },
    {
     "name": "stderr",
     "output_type": "stream",
     "text": [
      "Epoch: 45/120: 100%|██████████| 47/47 [00:03<00:00, 13.13batch/s, Training loss=0.0541]\n"
     ]
    },
    {
     "name": "stdout",
     "output_type": "stream",
     "text": [
      "Val MAE: 0.1518 , val_loss: 0.0553 , \n"
     ]
    },
    {
     "name": "stderr",
     "output_type": "stream",
     "text": [
      "Epoch: 46/120: 100%|██████████| 47/47 [00:03<00:00, 13.41batch/s, Training loss=0.0547]\n"
     ]
    },
    {
     "name": "stdout",
     "output_type": "stream",
     "text": [
      "Val MAE: 0.1454 , val_loss: 0.0525 , \n"
     ]
    },
    {
     "name": "stderr",
     "output_type": "stream",
     "text": [
      "Epoch: 47/120: 100%|██████████| 47/47 [00:03<00:00, 13.36batch/s, Training loss=0.0543]\n"
     ]
    },
    {
     "name": "stdout",
     "output_type": "stream",
     "text": [
      "Val MAE: 0.1461 , val_loss: 0.0500 , \n"
     ]
    },
    {
     "name": "stderr",
     "output_type": "stream",
     "text": [
      "Epoch: 48/120: 100%|██████████| 47/47 [00:03<00:00, 12.96batch/s, Training loss=0.0536]\n"
     ]
    },
    {
     "name": "stdout",
     "output_type": "stream",
     "text": [
      "Val MAE: 0.1409 , val_loss: 0.0470 , \n"
     ]
    },
    {
     "name": "stderr",
     "output_type": "stream",
     "text": [
      "Epoch: 49/120: 100%|██████████| 47/47 [00:03<00:00, 12.50batch/s, Training loss=0.0585]\n"
     ]
    },
    {
     "name": "stdout",
     "output_type": "stream",
     "text": [
      "Val MAE: 0.1459 , val_loss: 0.0571 , \n"
     ]
    },
    {
     "name": "stderr",
     "output_type": "stream",
     "text": [
      "Epoch: 50/120: 100%|██████████| 47/47 [00:03<00:00, 12.65batch/s, Training loss=0.0538]\n"
     ]
    },
    {
     "name": "stdout",
     "output_type": "stream",
     "text": [
      "Val MAE: 0.1409 , val_loss: 0.0483 , \n"
     ]
    },
    {
     "name": "stderr",
     "output_type": "stream",
     "text": [
      "Epoch: 51/120: 100%|██████████| 47/47 [00:03<00:00, 13.65batch/s, Training loss=0.0541]\n"
     ]
    },
    {
     "name": "stdout",
     "output_type": "stream",
     "text": [
      "Val MAE: 0.1437 , val_loss: 0.0513 , \n"
     ]
    },
    {
     "name": "stderr",
     "output_type": "stream",
     "text": [
      "Epoch: 52/120: 100%|██████████| 47/47 [00:03<00:00, 12.88batch/s, Training loss=0.0537]\n"
     ]
    },
    {
     "name": "stdout",
     "output_type": "stream",
     "text": [
      "Val MAE: 0.1507 , val_loss: 0.0600 , \n"
     ]
    },
    {
     "name": "stderr",
     "output_type": "stream",
     "text": [
      "Epoch: 53/120: 100%|██████████| 47/47 [00:03<00:00, 13.02batch/s, Training loss=0.0540]\n"
     ]
    },
    {
     "name": "stdout",
     "output_type": "stream",
     "text": [
      "Val MAE: 0.1364 , val_loss: 0.0429 , \n"
     ]
    },
    {
     "name": "stderr",
     "output_type": "stream",
     "text": [
      "Epoch: 54/120: 100%|██████████| 47/47 [00:03<00:00, 12.58batch/s, Training loss=0.0503]\n"
     ]
    },
    {
     "name": "stdout",
     "output_type": "stream",
     "text": [
      "Val MAE: 0.1427 , val_loss: 0.0510 , \n"
     ]
    },
    {
     "name": "stderr",
     "output_type": "stream",
     "text": [
      "Epoch: 55/120: 100%|██████████| 47/47 [00:03<00:00, 12.95batch/s, Training loss=0.0501]\n"
     ]
    },
    {
     "name": "stdout",
     "output_type": "stream",
     "text": [
      "Val MAE: 0.1414 , val_loss: 0.0501 , \n"
     ]
    },
    {
     "name": "stderr",
     "output_type": "stream",
     "text": [
      "Epoch: 56/120: 100%|██████████| 47/47 [00:03<00:00, 12.69batch/s, Training loss=0.0508]\n"
     ]
    },
    {
     "name": "stdout",
     "output_type": "stream",
     "text": [
      "Val MAE: 0.1411 , val_loss: 0.0534 , \n"
     ]
    },
    {
     "name": "stderr",
     "output_type": "stream",
     "text": [
      "Epoch: 57/120: 100%|██████████| 47/47 [00:03<00:00, 13.17batch/s, Training loss=0.0531]\n"
     ]
    },
    {
     "name": "stdout",
     "output_type": "stream",
     "text": [
      "Val MAE: 0.1393 , val_loss: 0.0490 , \n"
     ]
    },
    {
     "name": "stderr",
     "output_type": "stream",
     "text": [
      "Epoch: 58/120: 100%|██████████| 47/47 [00:03<00:00, 13.13batch/s, Training loss=0.0491]\n"
     ]
    },
    {
     "name": "stdout",
     "output_type": "stream",
     "text": [
      "Val MAE: 0.1306 , val_loss: 0.0425 , \n"
     ]
    },
    {
     "name": "stderr",
     "output_type": "stream",
     "text": [
      "Epoch: 59/120: 100%|██████████| 47/47 [00:03<00:00, 13.60batch/s, Training loss=0.0526]\n"
     ]
    },
    {
     "name": "stdout",
     "output_type": "stream",
     "text": [
      "Val MAE: 0.1332 , val_loss: 0.0434 , \n"
     ]
    },
    {
     "name": "stderr",
     "output_type": "stream",
     "text": [
      "Epoch: 60/120: 100%|██████████| 47/47 [00:03<00:00, 12.88batch/s, Training loss=0.0503]\n"
     ]
    },
    {
     "name": "stdout",
     "output_type": "stream",
     "text": [
      "Val MAE: 0.1342 , val_loss: 0.0443 , \n"
     ]
    },
    {
     "name": "stderr",
     "output_type": "stream",
     "text": [
      "Epoch: 61/120: 100%|██████████| 47/47 [00:03<00:00, 12.72batch/s, Training loss=0.0518]\n"
     ]
    },
    {
     "name": "stdout",
     "output_type": "stream",
     "text": [
      "Val MAE: 0.1338 , val_loss: 0.0436 , \n"
     ]
    },
    {
     "name": "stderr",
     "output_type": "stream",
     "text": [
      "Epoch: 62/120: 100%|██████████| 47/47 [00:03<00:00, 13.06batch/s, Training loss=0.0495]\n"
     ]
    },
    {
     "name": "stdout",
     "output_type": "stream",
     "text": [
      "Val MAE: 0.1302 , val_loss: 0.0397 , \n"
     ]
    },
    {
     "name": "stderr",
     "output_type": "stream",
     "text": [
      "Epoch: 63/120: 100%|██████████| 47/47 [00:03<00:00, 13.56batch/s, Training loss=0.0478]\n"
     ]
    },
    {
     "name": "stdout",
     "output_type": "stream",
     "text": [
      "Val MAE: 0.1302 , val_loss: 0.0380 , \n"
     ]
    },
    {
     "name": "stderr",
     "output_type": "stream",
     "text": [
      "Epoch: 64/120: 100%|██████████| 47/47 [00:03<00:00, 13.57batch/s, Training loss=0.0473]\n"
     ]
    },
    {
     "name": "stdout",
     "output_type": "stream",
     "text": [
      "Val MAE: 0.1379 , val_loss: 0.0488 , \n"
     ]
    },
    {
     "name": "stderr",
     "output_type": "stream",
     "text": [
      "Epoch: 65/120: 100%|██████████| 47/47 [00:03<00:00, 13.39batch/s, Training loss=0.0489]\n"
     ]
    },
    {
     "name": "stdout",
     "output_type": "stream",
     "text": [
      "Val MAE: 0.1261 , val_loss: 0.0403 , \n"
     ]
    },
    {
     "name": "stderr",
     "output_type": "stream",
     "text": [
      "Epoch: 66/120: 100%|██████████| 47/47 [00:03<00:00, 13.31batch/s, Training loss=0.0457]\n"
     ]
    },
    {
     "name": "stdout",
     "output_type": "stream",
     "text": [
      "Val MAE: 0.1335 , val_loss: 0.0439 , \n"
     ]
    },
    {
     "name": "stderr",
     "output_type": "stream",
     "text": [
      "Epoch: 67/120: 100%|██████████| 47/47 [00:03<00:00, 13.31batch/s, Training loss=0.0470]\n"
     ]
    },
    {
     "name": "stdout",
     "output_type": "stream",
     "text": [
      "Val MAE: 0.1307 , val_loss: 0.0414 , \n"
     ]
    },
    {
     "name": "stderr",
     "output_type": "stream",
     "text": [
      "Epoch: 68/120: 100%|██████████| 47/47 [00:03<00:00, 12.96batch/s, Training loss=0.0446]\n"
     ]
    },
    {
     "name": "stdout",
     "output_type": "stream",
     "text": [
      "Val MAE: 0.1250 , val_loss: 0.0347 , \n"
     ]
    },
    {
     "name": "stderr",
     "output_type": "stream",
     "text": [
      "Epoch: 69/120: 100%|██████████| 47/47 [00:03<00:00, 13.27batch/s, Training loss=0.0435]\n"
     ]
    },
    {
     "name": "stdout",
     "output_type": "stream",
     "text": [
      "Val MAE: 0.1327 , val_loss: 0.0466 , \n"
     ]
    },
    {
     "name": "stderr",
     "output_type": "stream",
     "text": [
      "Epoch: 70/120: 100%|██████████| 47/47 [00:03<00:00, 13.66batch/s, Training loss=0.0470]\n"
     ]
    },
    {
     "name": "stdout",
     "output_type": "stream",
     "text": [
      "Val MAE: 0.1332 , val_loss: 0.0449 , \n"
     ]
    },
    {
     "name": "stderr",
     "output_type": "stream",
     "text": [
      "Epoch: 71/120: 100%|██████████| 47/47 [00:03<00:00, 13.64batch/s, Training loss=0.0461]\n"
     ]
    },
    {
     "name": "stdout",
     "output_type": "stream",
     "text": [
      "Val MAE: 0.1322 , val_loss: 0.0454 , \n"
     ]
    },
    {
     "name": "stderr",
     "output_type": "stream",
     "text": [
      "Epoch: 72/120: 100%|██████████| 47/47 [00:03<00:00, 13.49batch/s, Training loss=0.0459]\n"
     ]
    },
    {
     "name": "stdout",
     "output_type": "stream",
     "text": [
      "Val MAE: 0.1343 , val_loss: 0.0472 , \n"
     ]
    },
    {
     "name": "stderr",
     "output_type": "stream",
     "text": [
      "Epoch: 73/120: 100%|██████████| 47/47 [00:03<00:00, 13.29batch/s, Training loss=0.0474]\n"
     ]
    },
    {
     "name": "stdout",
     "output_type": "stream",
     "text": [
      "Val MAE: 0.1302 , val_loss: 0.0446 , \n"
     ]
    },
    {
     "name": "stderr",
     "output_type": "stream",
     "text": [
      "Epoch: 74/120: 100%|██████████| 47/47 [00:03<00:00, 13.81batch/s, Training loss=0.0418]\n"
     ]
    },
    {
     "name": "stdout",
     "output_type": "stream",
     "text": [
      "Val MAE: 0.1291 , val_loss: 0.0385 , \n"
     ]
    },
    {
     "name": "stderr",
     "output_type": "stream",
     "text": [
      "Epoch: 75/120: 100%|██████████| 47/47 [00:03<00:00, 12.96batch/s, Training loss=0.0449]\n"
     ]
    },
    {
     "name": "stdout",
     "output_type": "stream",
     "text": [
      "Val MAE: 0.1220 , val_loss: 0.0354 , \n"
     ]
    },
    {
     "name": "stderr",
     "output_type": "stream",
     "text": [
      "Epoch: 76/120: 100%|██████████| 47/47 [00:03<00:00, 13.79batch/s, Training loss=0.0467]\n"
     ]
    },
    {
     "name": "stdout",
     "output_type": "stream",
     "text": [
      "Val MAE: 0.1304 , val_loss: 0.0455 , \n"
     ]
    },
    {
     "name": "stderr",
     "output_type": "stream",
     "text": [
      "Epoch: 77/120: 100%|██████████| 47/47 [00:03<00:00, 13.63batch/s, Training loss=0.0447]\n"
     ]
    },
    {
     "name": "stdout",
     "output_type": "stream",
     "text": [
      "Val MAE: 0.1248 , val_loss: 0.0365 , \n"
     ]
    },
    {
     "name": "stderr",
     "output_type": "stream",
     "text": [
      "Epoch: 78/120: 100%|██████████| 47/47 [00:03<00:00, 13.08batch/s, Training loss=0.0430]\n"
     ]
    },
    {
     "name": "stdout",
     "output_type": "stream",
     "text": [
      "Val MAE: 0.1281 , val_loss: 0.0434 , \n"
     ]
    },
    {
     "name": "stderr",
     "output_type": "stream",
     "text": [
      "Epoch: 79/120: 100%|██████████| 47/47 [00:03<00:00, 12.95batch/s, Training loss=0.0472]\n"
     ]
    },
    {
     "name": "stdout",
     "output_type": "stream",
     "text": [
      "Val MAE: 0.1243 , val_loss: 0.0417 , \n"
     ]
    },
    {
     "name": "stderr",
     "output_type": "stream",
     "text": [
      "Epoch: 80/120: 100%|██████████| 47/47 [00:03<00:00, 12.65batch/s, Training loss=0.0421]\n"
     ]
    },
    {
     "name": "stdout",
     "output_type": "stream",
     "text": [
      "Val MAE: 0.1252 , val_loss: 0.0385 , \n"
     ]
    },
    {
     "name": "stderr",
     "output_type": "stream",
     "text": [
      "Epoch: 81/120: 100%|██████████| 47/47 [00:03<00:00, 12.41batch/s, Training loss=0.0470]\n"
     ]
    },
    {
     "name": "stdout",
     "output_type": "stream",
     "text": [
      "Val MAE: 0.1297 , val_loss: 0.0479 , \n"
     ]
    },
    {
     "name": "stderr",
     "output_type": "stream",
     "text": [
      "Epoch: 82/120: 100%|██████████| 47/47 [00:03<00:00, 12.15batch/s, Training loss=0.0429]\n"
     ]
    },
    {
     "name": "stdout",
     "output_type": "stream",
     "text": [
      "Val MAE: 0.1261 , val_loss: 0.0393 , \n"
     ]
    },
    {
     "name": "stderr",
     "output_type": "stream",
     "text": [
      "Epoch: 83/120: 100%|██████████| 47/47 [00:03<00:00, 11.96batch/s, Training loss=0.0435]\n"
     ]
    },
    {
     "name": "stdout",
     "output_type": "stream",
     "text": [
      "Val MAE: 0.1389 , val_loss: 0.0584 , \n"
     ]
    },
    {
     "name": "stderr",
     "output_type": "stream",
     "text": [
      "Epoch: 84/120: 100%|██████████| 47/47 [00:03<00:00, 13.53batch/s, Training loss=0.0451]\n"
     ]
    },
    {
     "name": "stdout",
     "output_type": "stream",
     "text": [
      "Val MAE: 0.1323 , val_loss: 0.0475 , \n"
     ]
    },
    {
     "name": "stderr",
     "output_type": "stream",
     "text": [
      "Epoch: 85/120: 100%|██████████| 47/47 [00:03<00:00, 12.85batch/s, Training loss=0.0442]\n"
     ]
    },
    {
     "name": "stdout",
     "output_type": "stream",
     "text": [
      "Val MAE: 0.1283 , val_loss: 0.0430 , \n"
     ]
    },
    {
     "name": "stderr",
     "output_type": "stream",
     "text": [
      "Epoch: 86/120: 100%|██████████| 47/47 [00:03<00:00, 13.21batch/s, Training loss=0.0458]\n"
     ]
    },
    {
     "name": "stdout",
     "output_type": "stream",
     "text": [
      "Val MAE: 0.1308 , val_loss: 0.0486 , \n"
     ]
    },
    {
     "name": "stderr",
     "output_type": "stream",
     "text": [
      "Epoch: 87/120: 100%|██████████| 47/47 [00:03<00:00, 12.36batch/s, Training loss=0.0448]\n"
     ]
    },
    {
     "name": "stdout",
     "output_type": "stream",
     "text": [
      "Val MAE: 0.1237 , val_loss: 0.0391 , \n"
     ]
    },
    {
     "name": "stderr",
     "output_type": "stream",
     "text": [
      "Epoch: 88/120: 100%|██████████| 47/47 [00:03<00:00, 13.24batch/s, Training loss=0.0412]\n"
     ]
    },
    {
     "name": "stdout",
     "output_type": "stream",
     "text": [
      "Val MAE: 0.1221 , val_loss: 0.0403 , \n"
     ]
    }
   ],
   "source": [
    "optimizer = torch.optim.Adam(params=predictor.parameters(),lr=1e-3)\n",
    "lr_scheduler = torch.optim.lr_scheduler.LinearLR(optimizer, start_factor=1, end_factor=0.01, total_iters=120)\n",
    "\n",
    "predictor.train_network(\n",
    "    train_loader = train_loader,\n",
    "    epochs=120,\n",
    "    val_loader = val_loader,\n",
    "    val_metrics= {\n",
    "        \"Val MAE\": nn.L1Loss(),\n",
    "    },\n",
    "    optimizer = optimizer,\n",
    "    lr_scheduler= lr_scheduler,\n",
    "    early_stopper=EarlyStopper(patience=20),\n",
    "    save_weights = True,\n",
    "    weight_folder = \"weights/exchange\"\n",
    ")"
   ]
  },
  {
   "cell_type": "code",
   "execution_count": 21,
   "metadata": {},
   "outputs": [
    {
     "data": {
      "image/png": "[encoded data removed]",
      "text/plain": [
       "<Figure size 640x480 with 1 Axes>"
      ]
     },
     "metadata": {},
     "output_type": "display_data"
    },
    {
     "data": {
      "image/png": "[encoded data removed]",
      "text/plain": [
       "<Figure size 640x480 with 1 Axes>"
      ]
     },
     "metadata": {},
     "output_type": "display_data"
    },
    {
     "data": {
      "image/png": "[encoded data removed]",
      "text/plain": [
       "<Figure size 640x480 with 1 Axes>"
      ]
     },
     "metadata": {},
     "output_type": "display_data"
    },
    {
     "data": {
      "image/png": "[encoded data removed]",
      "text/plain": [
       "<Figure size 640x480 with 1 Axes>"
      ]
     },
     "metadata": {},
     "output_type": "display_data"
    },
    {
     "data": {
      "image/png": "[encoded data removed]",
      "text/plain": [
       "<Figure size 640x480 with 1 Axes>"
      ]
     },
     "metadata": {},
     "output_type": "display_data"
    },
    {
     "data": {
      "image/png": "[encoded data removed]",
      "text/plain": [
       "<Figure size 640x480 with 1 Axes>"
      ]
     },
     "metadata": {},
     "output_type": "display_data"
    }
   ],
   "source": [
    "# Sample from model\n",
    "indices = [150,200]\n",
    "\n",
    "samples = predictor.sample(\n",
    "    data = test_dataset,\n",
    "    indices = indices,\n",
    "    prediction_length = prediction_length,\n",
    "    num_samples = 128,\n",
    "    batch_size = 128,\n",
    ")\n",
    "samples = samples.cpu()\n",
    "\n",
    "# Sort samples in ascending order\n",
    "samples = samples.permute(0,2,3,1).flatten(start_dim=0,end_dim=2).sort()[0].reshape(samples.shape[0],samples.shape[2],samples.shape[3],-1).permute(0,3,1,2)\n",
    "\n",
    "# Plot some predictions\n",
    "confidence = 0.9\n",
    "for ts, i in itertools.product([1,2,3],range(len(indices))):\n",
    "    plt.figure()\n",
    "    plt.title(f\"Time-series {ts} at index {indices[i]}\")\n",
    "    plt.plot(test_dataset.tensor_data[indices[i]:indices[i]+context_length+prediction_length,ts],\"-x\")\n",
    "    plt.plot(list(range(context_length,context_length+prediction_length)),torch.mean(samples[i,:,ts],dim = 0),\"-x\")\n",
    "    plt.fill_between(list(range(context_length,context_length+prediction_length)), samples[i,int(confidence*samples.shape[1]),ts], samples[i,int((1-confidence)*samples.shape[1]),ts],alpha=0.5)"
   ]
  },
  {
   "cell_type": "code",
   "execution_count": 23,
   "metadata": {},
   "outputs": [],
   "source": [
    "# Make samples and extract realisations for last 14 months of test dataset\n",
    "last_idx = test_dataset.tensor_data.shape[0] - prediction_length - context_length\n",
    "indices = list(range(last_idx, last_idx - prediction_length*14, -prediction_length))\n",
    "\n",
    "samples = predictor.sample(\n",
    "    data = test_dataset,\n",
    "    indices = indices,\n",
    "    prediction_length = prediction_length,\n",
    "    num_samples = 128,\n",
    "    batch_size = 128,\n",
    ")\n",
    "\n",
    "realisations = []\n",
    "for idx in indices:\n",
    "    realisations.append(\n",
    "        test_dataset.tensor_data[context_length + idx:context_length + idx + prediction_length].T\n",
    "    )\n",
    "realisations = torch.stack(realisations).to(samples.device)\n"
   ]
  },
  {
   "cell_type": "code",
   "execution_count": 24,
   "metadata": {},
   "outputs": [
    {
     "name": "stdout",
     "output_type": "stream",
     "text": [
      "MSE: 0.042012412 MAE: 0.15260145 MDAE: 0.11435747\n",
      "CRPS_sum: 0.624789496404784 Variogram_score: 0.04543245967618253\n"
     ]
    }
   ],
   "source": [
    "# Calculate metrics\n",
    "mean_predictions = samples.mean(axis=1)\n",
    "\n",
    "# MSE, MAE, MDAE\n",
    "mse = mean_squared_error(realisations.flatten(), mean_predictions.flatten())\n",
    "mae = mean_absolute_error(realisations.flatten(), mean_predictions.flatten())\n",
    "mdae = median_absolute_error(realisations.flatten(), mean_predictions.flatten())\n",
    "print(\"MSE:\", mse, \"MAE:\", mae, \"MDAE:\", mdae)\n",
    "\n",
    "# CRPS_sum and Variogram_score\n",
    "crps_sum = np.mean([metrics.crps_sum(samples[i], realisations[i]) for i in range(realisations.shape[0])])\n",
    "variogram_score = np.mean([metrics.variogram_score(samples[i], realisations[i], weights=\"local\", window_size=3) for i in range(realisations.shape[0])])\n",
    "print(\"CRPS_sum:\", crps_sum, \"Variogram_score:\", variogram_score)"
   ]
  },
  {
   "cell_type": "code",
   "execution_count": null,
   "metadata": {},
   "outputs": [],
   "source": []
  }
 ],
 "metadata": {
  "kernelspec": {
   "display_name": "TimeFusion 3.10.7",
   "language": "python",
   "name": "timefusion3.10.7"
  },
  "language_info": {
   "codemirror_mode": {
    "name": "ipython",
    "version": 3
   },
   "file_extension": ".py",
   "mimetype": "text/x-python",
   "name": "python",
   "nbconvert_exporter": "python",
   "pygments_lexer": "ipython3",
   "version": "3.10.7"
  }
 },
 "nbformat": 4,
 "nbformat_minor": 2
}
