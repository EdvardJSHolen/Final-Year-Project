{
 "cells": [
  {
   "cell_type": "code",
   "execution_count": 1,
   "metadata": {},
   "outputs": [],
   "source": [
    "import torch\n",
    "import torch.nn as nn\n",
    "import torch.optim as optim\n",
    "from torch.utils.data import Dataset, DataLoader\n",
    "import math\n",
    "from torch import Tensor\n",
    "\n",
    "class TimeSeriesDataset(Dataset):\n",
    "    def __init__(self, data, seq_length):\n",
    "        self.data = data\n",
    "        self.seq_length = seq_length\n",
    "    \n",
    "    def __len__(self):\n",
    "        return len(self.data) - self.seq_length - 11\n",
    "    \n",
    "    def __getitem__(self, idx):\n",
    "        x = torch.tensor(self.data[idx:idx+self.seq_length],dtype=torch.float32)\n",
    "        y = torch.tensor(self.data[idx+self.seq_length:idx+self.seq_length + 10],dtype=torch.float32)\n",
    "        return x, y\n",
    "\n",
    "\n",
    "class PositionalEncoding(nn.Module):\n",
    "\n",
    "    def __init__(self, d_model: int, dropout: float = 0.1, max_len: int = 5000):\n",
    "        super().__init__()\n",
    "        self.dropout = nn.Dropout(p=dropout)\n",
    "\n",
    "        position = torch.arange(max_len).unsqueeze(1)\n",
    "        div_term = torch.exp(torch.arange(0, d_model, 2) * (-math.log(10000.0) / d_model))\n",
    "        pe = torch.zeros(max_len, d_model)\n",
    "        pe[:, 0::2] = torch.sin(position * div_term)\n",
    "        pe[:, 1::2] = torch.cos(position * div_term)\n",
    "        self.register_buffer('pe', pe)\n",
    "        self.d_model = d_model\n",
    "\n",
    "    def forward(self, x: Tensor, indices = None) -> Tensor:\n",
    "        \"\"\"\n",
    "        Args:\n",
    "            x: Tensor, shape [batch_size, seq_length, embedding_dim]\n",
    "        \"\"\"\n",
    "        if indices is None:\n",
    "            x += self.pe[:x.size(1)]\n",
    "            return self.dropout(x)\n",
    "        else:\n",
    "            div_term = torch.exp(torch.arange(0, self.d_model, 2) * (-math.log(10000.0) / self.d_model))\n",
    "            x[:,:, 0::2] += torch.sin(indices * div_term.unsqueeze(0))\n",
    "            x[:,:, 1::2] += torch.cos(indices * div_term.unsqueeze(0))\n",
    "            return x\n",
    "\n",
    "\n",
    "class TransformerForecaster(nn.Module):\n",
    "    def __init__(self, seq_length, input_dim, output_dim, d_model=64, nhead=4, num_layers=2):\n",
    "        super(TransformerForecaster, self).__init__()\n",
    "        self.seq_length = seq_length\n",
    "        self.input_dim = input_dim\n",
    "        self.output_dim = output_dim\n",
    "        self.d_model = d_model\n",
    "        self.nhead = nhead\n",
    "        self.num_layers = num_layers\n",
    "        \n",
    "        self.embedding = nn.Linear(input_dim, d_model)\n",
    "\n",
    "        self.positional_encoding = PositionalEncoding(\n",
    "           d_model=int(d_model),\n",
    "           dropout=0,\n",
    "           max_len=100\n",
    "        )\n",
    "\n",
    "        self.positional_encoding1 = PositionalEncoding(\n",
    "            d_model=int(d_model/2),\n",
    "            dropout=0,\n",
    "            max_len=100\n",
    "        )\n",
    "\n",
    "        self.positional_encoding2 = PositionalEncoding(\n",
    "            d_model=int(d_model/2),\n",
    "            dropout=0,\n",
    "            max_len=100\n",
    "        )\n",
    "        \n",
    "        self.transformer_encoder = nn.TransformerEncoder(\n",
    "            nn.TransformerEncoderLayer(d_model=d_model, nhead=nhead,dropout=0,batch_first=True),\n",
    "            num_layers=num_layers)\n",
    "        \n",
    "        #self.linear = nn.Linear(seq_length * d_model, output_dim)\n",
    "        self.linear = nn.Linear(30 * d_model, output_dim)\n",
    "    \n",
    "    def forward(self, x):\n",
    "        x_original = x\n",
    "        x = self.embedding(x)\n",
    "        #x = x.permute(1, 0, 2)  # transpose to (seq_length, batch_size, d_model)\n",
    "        #x[:,:,:int(self.d_model/2)] = self.positional_encoding1(x[:,:,:int(self.d_model/2)])\n",
    "        #x[:,:,int(self.d_model/2):] = self.positional_encoding2(x[:,:,int(self.d_model/2):],indices=x_original[:,:,2].unsqueeze(-1))\n",
    "        #indices = x_original[:,:,2].unsqueeze(-1)\n",
    "        #x = self.positional_encoding(x,indices=indices)\n",
    "        x = self.positional_encoding(x)\n",
    "        x = self.transformer_encoder(x)\n",
    "        x = torch.flatten(x, start_dim=1)\n",
    "        x = self.linear(x)\n",
    "        return x\n"
   ]
  },
  {
   "cell_type": "code",
   "execution_count": 2,
   "metadata": {},
   "outputs": [],
   "source": [
    "import numpy as np\n",
    "\n",
    "class TimeSeriesDataset(Dataset):\n",
    "    def __init__(self, data, seq_length):\n",
    "        self.data = data\n",
    "        self.seq_length = seq_length\n",
    "    \n",
    "    def __len__(self):\n",
    "        return len(self.data) - self.seq_length - 11\n",
    "    \n",
    "    def __getitem__(self, idx):\n",
    "        a = torch.tensor(self.data[idx:idx+self.seq_length+10],dtype=torch.float32)\n",
    "        b = torch.tensor(np.cumsum([i[1]/30 for i in self.data[idx:idx+self.seq_length+10]])-1,dtype=torch.float32)\n",
    "        x = torch.cat((a,b.unsqueeze(1)),dim=1)\n",
    "        x[self.seq_length:,0] = 0\n",
    "        y = torch.tensor(self.data[idx+self.seq_length:idx+self.seq_length + 10,0],dtype=torch.float32)\n",
    "        return x, y"
   ]
  },
  {
   "cell_type": "code",
   "execution_count": 3,
   "metadata": {},
   "outputs": [],
   "source": [
    "import random\n",
    "\n",
    "train_x = []\n",
    "\n",
    "for i in range(12000):\n",
    "    if random.random() < 0.5:\n",
    "        if len(train_x):\n",
    "            train_x.append([np.sin(0.0943*i),i-old_i])\n",
    "            old_i = i\n",
    "        else:\n",
    "            train_x.append([np.sin(0.0943*i),1])\n",
    "            old_i = i\n",
    "\n",
    "train_x = torch.tensor(train_x,dtype=torch.float32)"
   ]
  },
  {
   "cell_type": "code",
   "execution_count": 4,
   "metadata": {},
   "outputs": [
    {
     "name": "stdout",
     "output_type": "stream",
     "text": [
      "Number of trainable parameters: 581770\n"
     ]
    },
    {
     "name": "stderr",
     "output_type": "stream",
     "text": [
      "/var/folders/wy/k9h01g4j2yg_jky8w6rsfsjm0000gn/T/ipykernel_92539/2245288368.py:12: UserWarning: To copy construct from a tensor, it is recommended to use sourceTensor.clone().detach() or sourceTensor.clone().detach().requires_grad_(True), rather than torch.tensor(sourceTensor).\n",
      "  a = torch.tensor(self.data[idx:idx+self.seq_length+10],dtype=torch.float32)\n",
      "/var/folders/wy/k9h01g4j2yg_jky8w6rsfsjm0000gn/T/ipykernel_92539/2245288368.py:16: UserWarning: To copy construct from a tensor, it is recommended to use sourceTensor.clone().detach() or sourceTensor.clone().detach().requires_grad_(True), rather than torch.tensor(sourceTensor).\n",
      "  y = torch.tensor(self.data[idx+self.seq_length:idx+self.seq_length + 10,0],dtype=torch.float32)\n"
     ]
    },
    {
     "name": "stdout",
     "output_type": "stream",
     "text": [
      "Epoch: 1 Loss: 0.17781868466037384 [0.0001]\n",
      "Epoch: 2 Loss: 0.06964838449308212 [9.5e-05]\n",
      "Epoch: 3 Loss: 0.03826156666779772 [9.025e-05]\n",
      "Epoch: 4 Loss: 0.022979686185321275 [8.573749999999999e-05]\n",
      "Epoch: 5 Loss: 0.016670638992589838 [8.145062499999998e-05]\n",
      "Epoch: 6 Loss: 0.01436489765492684 [7.737809374999998e-05]\n",
      "Epoch: 7 Loss: 0.012272953719614035 [7.350918906249998e-05]\n",
      "Epoch: 8 Loss: 0.010886412143628014 [6.983372960937497e-05]\n",
      "Epoch: 9 Loss: 0.009712185071622755 [6.634204312890622e-05]\n",
      "Epoch: 10 Loss: 0.008409959660407076 [6.30249409724609e-05]\n",
      "Epoch: 11 Loss: 0.007569578798249998 [5.987369392383786e-05]\n",
      "Epoch: 12 Loss: 0.006640913435555202 [5.688000922764596e-05]\n",
      "Epoch: 13 Loss: 0.00602203883488286 [5.4036008766263664e-05]\n",
      "Epoch: 14 Loss: 0.005128652422114256 [5.133420832795048e-05]\n",
      "Epoch: 15 Loss: 0.00457045502039267 [4.876749791155295e-05]\n",
      "Epoch: 16 Loss: 0.004149833570254293 [4.6329123015975305e-05]\n",
      "Epoch: 17 Loss: 0.0037065394683443802 [4.4012666865176535e-05]\n",
      "Epoch: 18 Loss: 0.0034457693678980814 [4.181203352191771e-05]\n",
      "Epoch: 19 Loss: 0.0032391494655228674 [3.972143184582182e-05]\n",
      "Epoch: 20 Loss: 0.002892416546448193 [3.7735360253530726e-05]\n",
      "Epoch: 21 Loss: 0.0027507425736675553 [3.584859224085419e-05]\n",
      "Epoch: 22 Loss: 0.0025927584638145377 [3.405616262881148e-05]\n",
      "Epoch: 23 Loss: 0.0023714086286069705 [3.2353354497370904e-05]\n",
      "Epoch: 24 Loss: 0.002262287370692146 [3.0735686772502355e-05]\n",
      "Epoch: 25 Loss: 0.002184002372891979 [2.9198902433877236e-05]\n",
      "Epoch: 26 Loss: 0.0020554081469952583 [2.7738957312183373e-05]\n",
      "Epoch: 27 Loss: 0.0020061348629322774 [2.6352009446574204e-05]\n",
      "Epoch: 28 Loss: 0.0019200493140700966 [2.5034408974245492e-05]\n",
      "Epoch: 29 Loss: 0.0018161404958401033 [2.3782688525533216e-05]\n",
      "Epoch: 30 Loss: 0.0017378024442339355 [2.2593554099256555e-05]\n",
      "Epoch: 31 Loss: 0.0016463155452003503 [2.1463876394293726e-05]\n",
      "Epoch: 32 Loss: 0.001627298058357407 [2.039068257457904e-05]\n",
      "Epoch: 33 Loss: 0.001574207833556934 [1.9371148445850086e-05]\n",
      "Epoch: 34 Loss: 0.0015200943595660415 [1.840259102355758e-05]\n",
      "Epoch: 35 Loss: 0.0014799458601393123 [1.74824614723797e-05]\n",
      "Epoch: 36 Loss: 0.0014428488372706194 [1.6608338398760715e-05]\n",
      "Epoch: 37 Loss: 0.001405834255026693 [1.5777921478822678e-05]\n",
      "Epoch: 38 Loss: 0.0013885748123086275 [1.4989025404881544e-05]\n",
      "Epoch: 39 Loss: 0.0013578562053574367 [1.4239574134637466e-05]\n",
      "Epoch: 40 Loss: 0.0013262797400920077 [1.3527595427905592e-05]\n",
      "Epoch: 41 Loss: 0.001281783215706534 [1.2851215656510312e-05]\n",
      "Epoch: 42 Loss: 0.0012617650047994833 [1.2208654873684796e-05]\n",
      "Epoch: 43 Loss: 0.0012190417699922034 [1.1598222130000555e-05]\n",
      "Epoch: 44 Loss: 0.0011998380805573804 [1.1018311023500527e-05]\n",
      "Epoch: 45 Loss: 0.0011939657523861512 [1.04673954723255e-05]\n",
      "Epoch: 46 Loss: 0.0011651559207746958 [9.944025698709225e-06]\n",
      "Epoch: 47 Loss: 0.0011599348564483622 [9.446824413773763e-06]\n",
      "Epoch: 48 Loss: 0.0011416602498316702 [8.974483193085074e-06]\n",
      "Epoch: 49 Loss: 0.0011106020098482754 [8.52575903343082e-06]\n",
      "Epoch: 50 Loss: 0.0010845361963568374 [8.09947108175928e-06]\n",
      "Epoch: 51 Loss: 0.0010789756147943912 [7.694497527671315e-06]\n",
      "Epoch: 52 Loss: 0.001058448354361896 [7.309772651287749e-06]\n",
      "Epoch: 53 Loss: 0.001041887766443827 [6.944284018723361e-06]\n",
      "Epoch: 54 Loss: 0.0010323207534383982 [6.597069817787193e-06]\n",
      "Epoch: 55 Loss: 0.00101949862808861 [6.267216326897833e-06]\n",
      "Epoch: 56 Loss: 0.0010182678890216382 [5.953855510552941e-06]\n",
      "Epoch: 57 Loss: 0.0009920792647964381 [5.6561627350252934e-06]\n",
      "Epoch: 58 Loss: 0.0009860726930399208 [5.373354598274029e-06]\n",
      "Epoch: 59 Loss: 0.0009795597722218868 [5.104686868360327e-06]\n",
      "Epoch: 60 Loss: 0.000969463039159854 [4.84945252494231e-06]\n",
      "Epoch: 61 Loss: 0.0009621568463812086 [4.6069798986951945e-06]\n",
      "Epoch: 62 Loss: 0.0009631416042077732 [4.3766309037604346e-06]\n",
      "Epoch: 63 Loss: 0.0009483866786158228 [4.157799358572413e-06]\n",
      "Epoch: 64 Loss: 0.0009324841933235764 [3.949909390643792e-06]\n",
      "Epoch: 65 Loss: 0.0009249472146001744 [3.7524139211116024e-06]\n",
      "Epoch: 66 Loss: 0.0009248369643365608 [3.564793225056022e-06]\n",
      "Epoch: 67 Loss: 0.0009156409917310118 [3.3865535638032207e-06]\n",
      "Epoch: 68 Loss: 0.000902954150273643 [3.2172258856130596e-06]\n",
      "Epoch: 69 Loss: 0.0009119247205238393 [3.0563645913324067e-06]\n",
      "Epoch: 70 Loss: 0.000892424774529571 [2.903546361765786e-06]\n",
      "Epoch: 71 Loss: 0.0008880281505085765 [2.7583690436774965e-06]\n",
      "Epoch: 72 Loss: 0.0008912596837964226 [2.6204505914936218e-06]\n",
      "Epoch: 73 Loss: 0.0008730572187638981 [2.4894280619189404e-06]\n",
      "Epoch: 74 Loss: 0.0008689787144713262 [2.3649566588229932e-06]\n",
      "Epoch: 75 Loss: 0.0008677053537734963 [2.2467088258818436e-06]\n",
      "Epoch: 76 Loss: 0.0008681566551070105 [2.1343733845877514e-06]\n",
      "Epoch: 77 Loss: 0.0008671169195254829 [2.027654715358364e-06]\n",
      "Epoch: 78 Loss: 0.0008529681387912245 [1.9262719795904457e-06]\n",
      "Epoch: 79 Loss: 0.0008545279387691791 [1.8299583806109232e-06]\n",
      "Epoch: 80 Loss: 0.0008438170127114875 [1.738460461580377e-06]\n",
      "Epoch: 81 Loss: 0.0008397879211499574 [1.651537438501358e-06]\n",
      "Epoch: 82 Loss: 0.0008399796107427237 [1.5689605665762901e-06]\n",
      "Epoch: 83 Loss: 0.0008392209011288558 [1.4905125382474756e-06]\n",
      "Epoch: 84 Loss: 0.0008315913202092448 [1.4159869113351018e-06]\n",
      "Epoch: 85 Loss: 0.0008301103383580103 [1.3451875657683467e-06]\n",
      "Epoch: 86 Loss: 0.0008280535310288852 [1.2779281874799292e-06]\n",
      "Epoch: 87 Loss: 0.0008247935694909872 [1.2140317781059327e-06]\n",
      "Epoch: 88 Loss: 0.0008220094481502917 [1.153330189200636e-06]\n",
      "Epoch: 89 Loss: 0.0008211692341880754 [1.0956636797406041e-06]\n",
      "Epoch: 90 Loss: 0.0008183244341474146 [1.0408804957535738e-06]\n",
      "Epoch: 91 Loss: 0.0008143772274513352 [9.88836470965895e-07]\n",
      "Epoch: 92 Loss: 0.000811965653717399 [9.393946474176003e-07]\n",
      "Epoch: 93 Loss: 0.0008130583235934535 [8.924249150467202e-07]\n",
      "Epoch: 94 Loss: 0.0008101908327823386 [8.478036692943841e-07]\n",
      "Epoch: 95 Loss: 0.0008121790176138599 [8.054134858296649e-07]\n",
      "Epoch: 96 Loss: 0.0008109791769071462 [7.651428115381816e-07]\n",
      "Epoch: 97 Loss: 0.0007990744767433152 [7.268856709612725e-07]\n",
      "Epoch: 98 Loss: 0.0008002529747442323 [6.905413874132088e-07]\n",
      "Epoch: 99 Loss: 0.0007969808719551904 [6.560143180425484e-07]\n",
      "Epoch: 100 Loss: 0.0008033070969643032 [6.232136021404209e-07]\n"
     ]
    }
   ],
   "source": [
    "\n",
    "seq_length = 20\n",
    "\n",
    "dataset = TimeSeriesDataset(train_x, seq_length=seq_length)\n",
    "dataloader = DataLoader(dataset, batch_size=64, shuffle=True)\n",
    "\n",
    "model = TransformerForecaster(seq_length, 3, 10,num_layers=2)\n",
    "criterion = nn.MSELoss()\n",
    "optimizer = optim.Adam(model.parameters(),lr=1e-4)\n",
    "scheduler = torch.optim.lr_scheduler.LinearLR(optimizer, start_factor=1, end_factor=0.01, total_iters=100)\n",
    "#scheduler = torch.optim.lr_scheduler.ExponentialLR(optimizer,gamma=0.95)\n",
    "\n",
    "print(\"Number of trainable parameters:\",sum(p.numel() for p in model.parameters()))\n",
    "\n",
    "num_epochs = 100\n",
    "for epoch in range(num_epochs):\n",
    "    losses = []\n",
    "    for x, y in dataloader:\n",
    "        optimizer.zero_grad()\n",
    "        y_pred = model(x)\n",
    "        #print(y_pred.shape,y.shape)\n",
    "        loss = criterion(y_pred, y)\n",
    "        loss.backward()\n",
    "        optimizer.step()\n",
    "        losses.append(loss.item())\n",
    "    print('Epoch:', epoch+1, 'Loss:', np.mean(losses),scheduler.get_last_lr())\n",
    "    scheduler.step()"
   ]
  },
  {
   "cell_type": "code",
   "execution_count": 5,
   "metadata": {},
   "outputs": [],
   "source": [
    "test_x = []\n",
    "\n",
    "for i in range(300):\n",
    "    if random.random() < 0.5:\n",
    "        if len(test_x):\n",
    "            test_x.append([np.sin(0.0943*i + 566),i-old_i])\n",
    "            old_i = i\n",
    "        else:\n",
    "            test_x.append([np.sin(0.0943*i + 566),1])\n",
    "            old_i = i\n",
    "\n",
    "test_x = torch.tensor(test_x,dtype=torch.float32)"
   ]
  },
  {
   "cell_type": "code",
   "execution_count": 6,
   "metadata": {},
   "outputs": [
    {
     "name": "stdout",
     "output_type": "stream",
     "text": [
      "torch.Size([1, 30, 3])\n"
     ]
    },
    {
     "name": "stderr",
     "output_type": "stream",
     "text": [
      "/var/folders/wy/k9h01g4j2yg_jky8w6rsfsjm0000gn/T/ipykernel_92539/1167697086.py:3: UserWarning: To copy construct from a tensor, it is recommended to use sourceTensor.clone().detach() or sourceTensor.clone().detach().requires_grad_(True), rather than torch.tensor(sourceTensor).\n",
      "  a = torch.tensor(test_x[k:k+30],dtype=torch.float32)\n",
      "/var/folders/wy/k9h01g4j2yg_jky8w6rsfsjm0000gn/T/ipykernel_92539/1167697086.py:9: UserWarning: To copy construct from a tensor, it is recommended to use sourceTensor.clone().detach() or sourceTensor.clone().detach().requires_grad_(True), rather than torch.tensor(sourceTensor).\n",
      "  y = torch.tensor(test_x[k+20:k+30,0],dtype=torch.float32)\n"
     ]
    },
    {
     "data": {
      "text/plain": [
       "[<matplotlib.lines.Line2D at 0x1302ad600>]"
      ]
     },
     "execution_count": 6,
     "metadata": {},
     "output_type": "execute_result"
    },
    {
     "data": {
      "image/png": "[encoded data removed]",
      "text/plain": [
       "<Figure size 640x480 with 1 Axes>"
      ]
     },
     "metadata": {},
     "output_type": "display_data"
    }
   ],
   "source": [
    "k = random.randint(0,50)\n",
    "\n",
    "a = torch.tensor(test_x[k:k+30],dtype=torch.float32)\n",
    "b = torch.tensor(np.cumsum([i[1]/30 for i in test_x[k:k+30]]) - 1,dtype=torch.float32)\n",
    "sample = torch.cat((a,b.unsqueeze(1)),dim=1).unsqueeze(0)\n",
    "y = sample[:,20:,0]\n",
    "sample[:,20:,0] = 0\n",
    "\n",
    "y = torch.tensor(test_x[k+20:k+30,0],dtype=torch.float32)\n",
    "\n",
    "print(sample.shape)\n",
    "\n",
    "pred_y = model(sample)\n",
    "\n",
    "import matplotlib.pyplot as plt\n",
    "\n",
    "# plt.plot(torch.cumsum(sample[0,:,1],dim=0),sample[0,:,0],\"x\")\n",
    "# plt.plot(torch.cumsum(sample[0,:,1],dim=0)[20:],pred_y[0].tolist(),\"o\")\n",
    "\n",
    "plt.plot(sample[0,:20,2],sample[0,:20,0],\"-x\")\n",
    "plt.plot(sample[0,20:,2],y,\"-x\")\n",
    "plt.plot(sample[0,20:,2],pred_y[0].tolist(),\"-o\")"
   ]
  },
  {
   "cell_type": "code",
   "execution_count": 7,
   "metadata": {},
   "outputs": [
    {
     "name": "stderr",
     "output_type": "stream",
     "text": [
      "/var/folders/wy/k9h01g4j2yg_jky8w6rsfsjm0000gn/T/ipykernel_92539/2245288368.py:12: UserWarning: To copy construct from a tensor, it is recommended to use sourceTensor.clone().detach() or sourceTensor.clone().detach().requires_grad_(True), rather than torch.tensor(sourceTensor).\n",
      "  a = torch.tensor(self.data[idx:idx+self.seq_length+10],dtype=torch.float32)\n",
      "/var/folders/wy/k9h01g4j2yg_jky8w6rsfsjm0000gn/T/ipykernel_92539/2245288368.py:16: UserWarning: To copy construct from a tensor, it is recommended to use sourceTensor.clone().detach() or sourceTensor.clone().detach().requires_grad_(True), rather than torch.tensor(sourceTensor).\n",
      "  y = torch.tensor(self.data[idx+self.seq_length:idx+self.seq_length + 10,0],dtype=torch.float32)\n"
     ]
    },
    {
     "data": {
      "text/plain": [
       "[<matplotlib.lines.Line2D at 0x1303b32b0>]"
      ]
     },
     "execution_count": 7,
     "metadata": {},
     "output_type": "execute_result"
    },
    {
     "data": {
      "image/png": "[encoded data removed]",
      "text/plain": [
       "<Figure size 640x480 with 1 Axes>"
      ]
     },
     "metadata": {},
     "output_type": "display_data"
    }
   ],
   "source": [
    "# Example usage\n",
    "import numpy as np\n",
    "\n",
    "test_x = [[np.sin(0.0543*i) for i in range(2800,2800 + seq_length)]]\n",
    "\n",
    "test_x = torch.tensor(test_x,dtype=torch.float32)\n",
    "\n",
    "for x,y in dataloader:\n",
    "    pred_y = model(x)\n",
    "\n",
    "import matplotlib.pyplot as plt\n",
    "\n",
    "plt.plot(list(range(len(x[0]))),x[0],\"x\")\n",
    "plt.plot(list(range(len(x[0]),len(x[0])+ len(pred_y[0]))),pred_y[0].tolist(),\"o\")\n",
    "plt.plot(list(range(len(x[0]),len(x[0])+ len(pred_y[0]))),y[0].tolist(),\"x\")\n"
   ]
  },
  {
   "cell_type": "code",
   "execution_count": 8,
   "metadata": {},
   "outputs": [
    {
     "data": {
      "text/plain": [
       "[<matplotlib.lines.Line2D at 0x1037da170>]"
      ]
     },
     "execution_count": 8,
     "metadata": {},
     "output_type": "execute_result"
    },
    {
     "data": {
      "image/png": "[encoded data removed]",
      "text/plain": [
       "<Figure size 640x480 with 1 Axes>"
      ]
     },
     "metadata": {},
     "output_type": "display_data"
    }
   ],
   "source": [
    "import matplotlib.pyplot as plt\n",
    "\n",
    "plt.plot(list(range(len(test_x[0]))),test_x[0],\"x\")\n",
    "plt.plot(list(range(len(test_x[0]),len(test_x[0])+ len(pred_y[0]))),pred_y[0].tolist(),\"o\")"
   ]
  },
  {
   "cell_type": "code",
   "execution_count": 9,
   "metadata": {},
   "outputs": [
    {
     "data": {
      "text/plain": [
       "torch.Size([1, 20])"
      ]
     },
     "execution_count": 9,
     "metadata": {},
     "output_type": "execute_result"
    }
   ],
   "source": [
    "test_x.shape"
   ]
  },
  {
   "cell_type": "code",
   "execution_count": 10,
   "metadata": {},
   "outputs": [
    {
     "data": {
      "text/plain": [
       "tensor([[ 2,  4],\n",
       "        [ 5,  7],\n",
       "        [ 8, 10]])"
      ]
     },
     "execution_count": 10,
     "metadata": {},
     "output_type": "execute_result"
    }
   ],
   "source": [
    "a = torch.tensor([[1,2],[4,5],[7,8]])\n",
    "b = torch.tensor([[1,1],[0,1],[0,1]])\n",
    "\n",
    "a += torch.tensor([1,2])\n",
    "\n",
    "a\n"
   ]
  },
  {
   "cell_type": "code",
   "execution_count": 11,
   "metadata": {},
   "outputs": [
    {
     "data": {
      "text/plain": [
       "tensor([1, 1, 0, 1, 0, 1])"
      ]
     },
     "execution_count": 11,
     "metadata": {},
     "output_type": "execute_result"
    }
   ],
   "source": [
    "a.flatten()\n",
    "b.flatten()"
   ]
  },
  {
   "cell_type": "code",
   "execution_count": 12,
   "metadata": {},
   "outputs": [
    {
     "data": {
      "text/plain": [
       "True"
      ]
     },
     "execution_count": 12,
     "metadata": {},
     "output_type": "execute_result"
    }
   ],
   "source": [
    "import numpy as np\n",
    "b = np.array([[1,1],[0,1],[0,1]])\n",
    "np.any(b)"
   ]
  },
  {
   "cell_type": "code",
   "execution_count": 13,
   "metadata": {},
   "outputs": [
    {
     "ename": "TypeError",
     "evalue": "nonzero(): argument 'input' (position 1) must be Tensor, not numpy.ndarray",
     "output_type": "error",
     "traceback": [
      "\u001b[0;31m---------------------------------------------------------------------------\u001b[0m",
      "\u001b[0;31mTypeError\u001b[0m                                 Traceback (most recent call last)",
      "Cell \u001b[0;32mIn[13], line 1\u001b[0m\n\u001b[0;32m----> 1\u001b[0m a\u001b[39m.\u001b[39mflatten()[torch\u001b[39m.\u001b[39;49mnonzero(b\u001b[39m.\u001b[39;49mflatten())]\u001b[39m.\u001b[39mflatten()\n",
      "\u001b[0;31mTypeError\u001b[0m: nonzero(): argument 'input' (position 1) must be Tensor, not numpy.ndarray"
     ]
    }
   ],
   "source": [
    "a.flatten()[torch.nonzero(b.flatten())].flatten()"
   ]
  },
  {
   "cell_type": "code",
   "execution_count": null,
   "metadata": {},
   "outputs": [
    {
     "data": {
      "text/plain": [
       "torch.Size([2, 4, 64])"
      ]
     },
     "execution_count": 56,
     "metadata": {},
     "output_type": "execute_result"
    }
   ],
   "source": [
    "indices = torch.tensor([[0,1,2,3],[4,5,6,7]]).unsqueeze(-1)\n",
    "\n",
    "div_term = torch.exp(torch.arange(0, 64, 2) * (-math.log(10000.0) / 64))\n",
    "pe = torch.zeros(2,4, 64)\n",
    "pe[:,:, 0::2] = torch.sin(indices * div_term.unsqueeze(0))\n",
    "pe[:,:, 1::2] = torch.cos(indices * div_term.unsqueeze(0))\n",
    "\n",
    "pe.shape"
   ]
  },
  {
   "cell_type": "code",
   "execution_count": null,
   "metadata": {},
   "outputs": [
    {
     "name": "stdout",
     "output_type": "stream",
     "text": [
      "torch.Size([2, 4, 1]) torch.Size([1, 32])\n"
     ]
    }
   ],
   "source": [
    "print(indices.shape,div_term.unsqueeze(0).shape)"
   ]
  },
  {
   "cell_type": "code",
   "execution_count": null,
   "metadata": {},
   "outputs": [],
   "source": []
  }
 ],
 "metadata": {
  "kernelspec": {
   "display_name": "Python 3",
   "language": "python",
   "name": "python3"
  },
  "language_info": {
   "codemirror_mode": {
    "name": "ipython",
    "version": 3
   },
   "file_extension": ".py",
   "mimetype": "text/x-python",
   "name": "python",
   "nbconvert_exporter": "python",
   "pygments_lexer": "ipython3",
   "version": "3.10.7"
  },
  "orig_nbformat": 4,
  "vscode": {
   "interpreter": {
    "hash": "e4d8082ac81b5767605eb477108b3a93415a0db0c81fcb1a05e0921a30ce1269"
   }
  }
 },
 "nbformat": 4,
 "nbformat_minor": 2
}
