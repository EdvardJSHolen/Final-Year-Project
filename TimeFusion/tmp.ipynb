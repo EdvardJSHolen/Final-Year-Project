{
 "cells": [
  {
   "cell_type": "code",
   "execution_count": 1,
   "metadata": {},
   "outputs": [],
   "source": [
    "import torch\n",
    "import torch.nn as nn\n",
    "import torch.optim as optim\n",
    "from torch.utils.data import Dataset, DataLoader\n",
    "import math\n",
    "from torch import Tensor\n",
    "\n",
    "class TimeSeriesDataset(Dataset):\n",
    "    def __init__(self, data, seq_length):\n",
    "        self.data = data\n",
    "        self.seq_length = seq_length\n",
    "    \n",
    "    def __len__(self):\n",
    "        return len(self.data) - self.seq_length - 11\n",
    "    \n",
    "    def __getitem__(self, idx):\n",
    "        x = torch.tensor(self.data[idx:idx+self.seq_length],dtype=torch.float32)\n",
    "        y = torch.tensor(self.data[idx+self.seq_length:idx+self.seq_length + 10],dtype=torch.float32)\n",
    "        return x, y\n",
    "\n",
    "\n",
    "class PositionalEncoding(nn.Module):\n",
    "\n",
    "    def __init__(self, d_model: int, dropout: float = 0.1, max_len: int = 5000):\n",
    "        super().__init__()\n",
    "        self.dropout = nn.Dropout(p=dropout)\n",
    "\n",
    "        position = torch.arange(max_len).unsqueeze(1)\n",
    "        div_term = torch.exp(torch.arange(0, d_model, 2) * (-math.log(10000.0) / d_model))\n",
    "        pe = torch.zeros(max_len, d_model)\n",
    "        pe[:, 0::2] = torch.sin(position * div_term)\n",
    "        pe[:, 1::2] = torch.cos(position * div_term)\n",
    "        self.register_buffer('pe', pe)\n",
    "        self.d_model = d_model\n",
    "\n",
    "    def forward(self, x: Tensor, indices = None) -> Tensor:\n",
    "        \"\"\"\n",
    "        Args:\n",
    "            x: Tensor, shape [batch_size, seq_length, embedding_dim]\n",
    "        \"\"\"\n",
    "        if indices is None:\n",
    "            x += self.pe[:x.size(1)]\n",
    "            return self.dropout(x)\n",
    "        else:\n",
    "            div_term = torch.exp(torch.arange(0, self.d_model, 2) * (-math.log(10000.0) / self.d_model))\n",
    "            x[:,:, 0::2] += torch.sin(indices * div_term.unsqueeze(0))\n",
    "            x[:,:, 1::2] += torch.cos(indices * div_term.unsqueeze(0))\n",
    "            return x\n",
    "\n",
    "\n",
    "class TransformerForecaster(nn.Module):\n",
    "    def __init__(self, seq_length, input_dim, output_dim, d_model=64, nhead=4, num_layers=2):\n",
    "        super(TransformerForecaster, self).__init__()\n",
    "        self.seq_length = seq_length\n",
    "        self.input_dim = input_dim\n",
    "        self.output_dim = output_dim\n",
    "        self.d_model = d_model\n",
    "        self.nhead = nhead\n",
    "        self.num_layers = num_layers\n",
    "\n",
    "        self.norm = torch.nn.BatchNorm1d(3)\n",
    "        \n",
    "        self.embedding = nn.Linear(input_dim, d_model)\n",
    "\n",
    "        self.positional_encoding = PositionalEncoding(\n",
    "           d_model=int(d_model),\n",
    "           dropout=0,\n",
    "           max_len=100\n",
    "        )\n",
    "\n",
    "        self.positional_encoding1 = PositionalEncoding(\n",
    "            d_model=int(d_model/2),\n",
    "            dropout=0,\n",
    "            max_len=100\n",
    "        )\n",
    "\n",
    "        self.positional_encoding2 = PositionalEncoding(\n",
    "            d_model=int(d_model/2),\n",
    "            dropout=0,\n",
    "            max_len=100\n",
    "        )\n",
    "        \n",
    "        self.transformer_encoder = nn.TransformerEncoder(\n",
    "            nn.TransformerEncoderLayer(d_model=d_model, nhead=nhead,dropout=0,batch_first=True),\n",
    "            num_layers=num_layers)\n",
    "        \n",
    "        #self.linear = nn.Linear(seq_length * d_model, output_dim)\n",
    "        self.linear = nn.Linear(30 * d_model, output_dim)\n",
    "    \n",
    "    def forward(self, x):\n",
    "        x_original = x\n",
    "        #print(x.shape)\n",
    "        x = torch.flatten(x,end_dim=1)\n",
    "        x = self.norm(x)\n",
    "        x = torch.reshape(x,x_original.shape)\n",
    "        x = self.embedding(x)\n",
    "        #x = x.permute(1, 0, 2)  # transpose to (seq_length, batch_size, d_model)\n",
    "        #x[:,:,:int(self.d_model/2)] = self.positional_encoding1(x[:,:,:int(self.d_model/2)])\n",
    "        #x[:,:,int(self.d_model/2):] = self.positional_encoding2(x[:,:,int(self.d_model/2):],indices=x_original[:,:,2].unsqueeze(-1))\n",
    "        #indices = x_original[:,:,2].unsqueeze(-1)\n",
    "        #x = self.positional_encoding(x,indices=indices)\n",
    "        x = self.positional_encoding(x)\n",
    "        x = self.transformer_encoder(x)\n",
    "        x = torch.flatten(x, start_dim=1)\n",
    "        x = self.linear(x)\n",
    "        return x\n"
   ]
  },
  {
   "cell_type": "code",
   "execution_count": 2,
   "metadata": {},
   "outputs": [],
   "source": [
    "import numpy as np\n",
    "\n",
    "class TimeSeriesDataset(Dataset):\n",
    "    def __init__(self, data, seq_length):\n",
    "        self.data = data\n",
    "        self.seq_length = seq_length\n",
    "    \n",
    "    def __len__(self):\n",
    "        return len(self.data) - self.seq_length - 11\n",
    "    \n",
    "    def __getitem__(self, idx):\n",
    "        a = torch.tensor(self.data[idx:idx+self.seq_length+10],dtype=torch.float32)\n",
    "        b = torch.tensor(np.cumsum([i[1] for i in self.data[idx:idx+self.seq_length+10]]),dtype=torch.float32)\n",
    "        x = torch.cat((a,b.unsqueeze(1)),dim=1)\n",
    "        x[self.seq_length:,0] = 0\n",
    "        y = torch.tensor(self.data[idx+self.seq_length:idx+self.seq_length + 10,0],dtype=torch.float32)\n",
    "        return x, y"
   ]
  },
  {
   "cell_type": "code",
   "execution_count": 3,
   "metadata": {},
   "outputs": [],
   "source": [
    "import random\n",
    "\n",
    "train_x = []\n",
    "\n",
    "for i in range(12000):\n",
    "    if random.random() < 0.5:\n",
    "        if len(train_x):\n",
    "            train_x.append([np.sin(0.0943*i),i-old_i])\n",
    "            old_i = i\n",
    "        else:\n",
    "            train_x.append([np.sin(0.0943*i),1])\n",
    "            old_i = i\n",
    "\n",
    "train_x = torch.tensor(train_x,dtype=torch.float32)"
   ]
  },
  {
   "cell_type": "code",
   "execution_count": 4,
   "metadata": {},
   "outputs": [
    {
     "name": "stdout",
     "output_type": "stream",
     "text": [
      "Number of trainable parameters: 581776\n"
     ]
    },
    {
     "name": "stderr",
     "output_type": "stream",
     "text": [
      "/var/folders/wy/k9h01g4j2yg_jky8w6rsfsjm0000gn/T/ipykernel_93305/1366622062.py:12: UserWarning: To copy construct from a tensor, it is recommended to use sourceTensor.clone().detach() or sourceTensor.clone().detach().requires_grad_(True), rather than torch.tensor(sourceTensor).\n",
      "  a = torch.tensor(self.data[idx:idx+self.seq_length+10],dtype=torch.float32)\n",
      "/var/folders/wy/k9h01g4j2yg_jky8w6rsfsjm0000gn/T/ipykernel_93305/1366622062.py:16: UserWarning: To copy construct from a tensor, it is recommended to use sourceTensor.clone().detach() or sourceTensor.clone().detach().requires_grad_(True), rather than torch.tensor(sourceTensor).\n",
      "  y = torch.tensor(self.data[idx+self.seq_length:idx+self.seq_length + 10,0],dtype=torch.float32)\n"
     ]
    },
    {
     "name": "stdout",
     "output_type": "stream",
     "text": [
      "Epoch: 1 Loss: 0.1695492480029451 [0.0001]\n",
      "Epoch: 2 Loss: 0.07636127077994194 [9.901e-05]\n",
      "Epoch: 3 Loss: 0.047844007888689956 [9.802e-05]\n",
      "Epoch: 4 Loss: 0.031613050742035215 [9.703e-05]\n",
      "Epoch: 5 Loss: 0.021508755063281416 [9.604e-05]\n",
      "Epoch: 6 Loss: 0.015872263567561797 [9.504999999999999e-05]\n",
      "Epoch: 7 Loss: 0.013048269667048404 [9.405999999999999e-05]\n",
      "Epoch: 8 Loss: 0.010670931078493595 [9.306999999999999e-05]\n",
      "Epoch: 9 Loss: 0.008816203186684784 [9.207999999999999e-05]\n",
      "Epoch: 10 Loss: 0.0067085244772123525 [9.108999999999998e-05]\n",
      "Epoch: 11 Loss: 0.0068803849491350195 [9.009999999999998e-05]\n",
      "Epoch: 12 Loss: 0.005387442929551322 [8.910999999999998e-05]\n",
      "Epoch: 13 Loss: 0.0050595541796746085 [8.811999999999998e-05]\n",
      "Epoch: 14 Loss: 0.005289227624939001 [8.712999999999997e-05]\n",
      "Epoch: 15 Loss: 0.004502781047584846 [8.613999999999997e-05]\n",
      "Epoch: 16 Loss: 0.006142062031010047 [8.514999999999998e-05]\n",
      "Epoch: 17 Loss: 0.004456006615927958 [8.415999999999998e-05]\n",
      "Epoch: 18 Loss: 0.0036789502495245888 [8.316999999999998e-05]\n",
      "Epoch: 19 Loss: 0.004076600049998849 [8.217999999999998e-05]\n",
      "Epoch: 20 Loss: 0.0035539090539269307 [8.118999999999997e-05]\n",
      "Epoch: 21 Loss: 0.003784307413684957 [8.019999999999997e-05]\n",
      "Epoch: 22 Loss: 0.003239172835279494 [7.920999999999997e-05]\n",
      "Epoch: 23 Loss: 0.0037977779767119344 [7.821999999999997e-05]\n",
      "Epoch: 24 Loss: 0.003195072705064841 [7.722999999999996e-05]\n",
      "Epoch: 25 Loss: 0.003698185186565636 [7.623999999999996e-05]\n",
      "Epoch: 26 Loss: 0.003254196595430295 [7.524999999999996e-05]\n",
      "Epoch: 27 Loss: 0.0036399190195221852 [7.425999999999996e-05]\n",
      "Epoch: 28 Loss: 0.0033164346315699847 [7.326999999999995e-05]\n",
      "Epoch: 29 Loss: 0.003156609562017578 [7.227999999999995e-05]\n",
      "Epoch: 30 Loss: 0.002810807387156293 [7.128999999999995e-05]\n",
      "Epoch: 31 Loss: 0.0026819359144552592 [7.029999999999995e-05]\n",
      "Epoch: 32 Loss: 0.003573553671347017 [6.930999999999994e-05]\n",
      "Epoch: 33 Loss: 0.0032982088927615513 [6.831999999999994e-05]\n",
      "Epoch: 34 Loss: 0.0038972130946894274 [6.732999999999995e-05]\n",
      "Epoch: 35 Loss: 0.0031197493495865466 [6.633999999999995e-05]\n",
      "Epoch: 36 Loss: 0.0027117543430265753 [6.534999999999995e-05]\n",
      "Epoch: 37 Loss: 0.00212989073925394 [6.435999999999995e-05]\n",
      "Epoch: 38 Loss: 0.0021334149635723852 [6.336999999999994e-05]\n",
      "Epoch: 39 Loss: 0.0027953979678134967 [6.237999999999994e-05]\n",
      "Epoch: 40 Loss: 0.002253263671709066 [6.138999999999994e-05]\n",
      "Epoch: 41 Loss: 0.0026309770257014068 [6.039999999999994e-05]\n",
      "Epoch: 42 Loss: 0.002531794215641678 [5.9409999999999934e-05]\n",
      "Epoch: 43 Loss: 0.002403382288708173 [5.841999999999994e-05]\n",
      "Epoch: 44 Loss: 0.0023191193145937583 [5.742999999999994e-05]\n",
      "Epoch: 45 Loss: 0.0022562565994102193 [5.643999999999994e-05]\n",
      "Epoch: 46 Loss: 0.0032279739940311125 [5.5449999999999945e-05]\n",
      "Epoch: 47 Loss: 0.002504585666255035 [5.445999999999995e-05]\n",
      "Epoch: 48 Loss: 0.002323619006424548 [5.3469999999999954e-05]\n",
      "Epoch: 49 Loss: 0.0025778874851505647 [5.247999999999996e-05]\n",
      "Epoch: 50 Loss: 0.0022665562022705266 [5.1489999999999956e-05]\n",
      "Epoch: 51 Loss: 0.002434571236471071 [5.049999999999996e-05]\n",
      "Epoch: 52 Loss: 0.002019993943518939 [4.950999999999996e-05]\n",
      "Epoch: 53 Loss: 0.0017379358914888841 [4.8519999999999956e-05]\n",
      "Epoch: 54 Loss: 0.0019343958739092217 [4.752999999999995e-05]\n",
      "Epoch: 55 Loss: 0.0023840279572276755 [4.653999999999995e-05]\n",
      "Epoch: 56 Loss: 0.002894595097577041 [4.5549999999999955e-05]\n",
      "Epoch: 57 Loss: 0.0023012385577300285 [4.455999999999996e-05]\n",
      "Epoch: 58 Loss: 0.0020045241126741106 [4.3569999999999964e-05]\n",
      "Epoch: 59 Loss: 0.0016707209189065753 [4.257999999999997e-05]\n",
      "Epoch: 60 Loss: 0.0016979910554042325 [4.1589999999999966e-05]\n",
      "Epoch: 61 Loss: 0.0019884738164577397 [4.059999999999997e-05]\n",
      "Epoch: 62 Loss: 0.0025129538553301245 [3.960999999999997e-05]\n",
      "Epoch: 63 Loss: 0.001556653360355685 [3.8619999999999966e-05]\n",
      "Epoch: 64 Loss: 0.001913265711838439 [3.762999999999997e-05]\n",
      "Epoch: 65 Loss: 0.0018285091333537105 [3.6639999999999974e-05]\n",
      "Epoch: 66 Loss: 0.0016391495313307152 [3.564999999999997e-05]\n",
      "Epoch: 67 Loss: 0.002232672452203375 [3.465999999999997e-05]\n",
      "Epoch: 68 Loss: 0.0015886666125028415 [3.366999999999997e-05]\n",
      "Epoch: 69 Loss: 0.001742094980572608 [3.2679999999999965e-05]\n",
      "Epoch: 70 Loss: 0.0018229880478565007 [3.168999999999997e-05]\n",
      "Epoch: 71 Loss: 0.0018345423329477891 [3.0699999999999974e-05]\n",
      "Epoch: 72 Loss: 0.0018723038108177245 [2.9709999999999975e-05]\n",
      "Epoch: 73 Loss: 0.0015396512744507375 [2.8719999999999976e-05]\n",
      "Epoch: 74 Loss: 0.0018473482678986175 [2.7729999999999977e-05]\n",
      "Epoch: 75 Loss: 0.0014491988202938414 [2.6739999999999978e-05]\n",
      "Epoch: 76 Loss: 0.0015412436100342211 [2.574999999999998e-05]\n",
      "Epoch: 77 Loss: 0.001269876824114769 [2.475999999999998e-05]\n",
      "Epoch: 78 Loss: 0.0015018543230364734 [2.376999999999998e-05]\n",
      "Epoch: 79 Loss: 0.001426217151790897 [2.2779999999999982e-05]\n",
      "Epoch: 80 Loss: 0.001708535685890077 [2.1789999999999983e-05]\n",
      "Epoch: 81 Loss: 0.0015389503018826524 [2.0799999999999984e-05]\n",
      "Epoch: 82 Loss: 0.0014340868922559783 [1.9809999999999985e-05]\n",
      "Epoch: 83 Loss: 0.0018381061901813968 [1.8819999999999986e-05]\n",
      "Epoch: 84 Loss: 0.0014664191855464448 [1.7829999999999987e-05]\n",
      "Epoch: 85 Loss: 0.00188826727885208 [1.6839999999999988e-05]\n",
      "Epoch: 86 Loss: 0.0014180375152871884 [1.584999999999999e-05]\n",
      "Epoch: 87 Loss: 0.0015104296694613715 [1.485999999999999e-05]\n",
      "Epoch: 88 Loss: 0.00135431651390118 [1.386999999999999e-05]\n",
      "Epoch: 89 Loss: 0.001284204516312147 [1.287999999999999e-05]\n",
      "Epoch: 90 Loss: 0.0017330855399895302 [1.1889999999999991e-05]\n",
      "Epoch: 91 Loss: 0.0016530838759710141 [1.0899999999999992e-05]\n",
      "Epoch: 92 Loss: 0.0012747080878359562 [9.909999999999993e-06]\n",
      "Epoch: 93 Loss: 0.0013371991272891892 [8.919999999999994e-06]\n",
      "Epoch: 94 Loss: 0.0011910435181987928 [7.929999999999995e-06]\n",
      "Epoch: 95 Loss: 0.0012708731504043247 [6.939999999999997e-06]\n",
      "Epoch: 96 Loss: 0.001064123828868144 [5.949999999999997e-06]\n",
      "Epoch: 97 Loss: 0.001398768443787629 [4.959999999999998e-06]\n",
      "Epoch: 98 Loss: 0.0010434220355509363 [3.97e-06]\n",
      "Epoch: 99 Loss: 0.0011475974882140438 [2.98e-06]\n",
      "Epoch: 100 Loss: 0.0010941779476892639 [1.9900000000000013e-06]\n"
     ]
    }
   ],
   "source": [
    "\n",
    "seq_length = 20\n",
    "\n",
    "dataset = TimeSeriesDataset(train_x, seq_length=seq_length)\n",
    "dataloader = DataLoader(dataset, batch_size=64, shuffle=True)\n",
    "\n",
    "model = TransformerForecaster(seq_length, 3, 10,num_layers=2)\n",
    "criterion = nn.MSELoss()\n",
    "optimizer = optim.Adam(model.parameters(),lr=1e-4)\n",
    "scheduler = torch.optim.lr_scheduler.LinearLR(optimizer, start_factor=1, end_factor=0.01, total_iters=100)\n",
    "#scheduler = torch.optim.lr_scheduler.ExponentialLR(optimizer,gamma=0.95)\n",
    "\n",
    "print(\"Number of trainable parameters:\",sum(p.numel() for p in model.parameters()))\n",
    "\n",
    "num_epochs = 100\n",
    "for epoch in range(num_epochs):\n",
    "    losses = []\n",
    "    for x, y in dataloader:\n",
    "        optimizer.zero_grad()\n",
    "        y_pred = model(x)\n",
    "        #print(x.shape)\n",
    "        #print(y_pred.shape,y.shape)\n",
    "        loss = criterion(y_pred, y)\n",
    "        loss.backward()\n",
    "        optimizer.step()\n",
    "        losses.append(loss.item())\n",
    "    print('Epoch:', epoch+1, 'Loss:', np.mean(losses),scheduler.get_last_lr())\n",
    "    scheduler.step()"
   ]
  },
  {
   "cell_type": "code",
   "execution_count": 5,
   "metadata": {},
   "outputs": [],
   "source": [
    "test_x = []\n",
    "\n",
    "for i in range(300):\n",
    "    if random.random() < 0.5:\n",
    "        if len(test_x):\n",
    "            test_x.append([np.sin(0.0943*i + 566),i-old_i])\n",
    "            old_i = i\n",
    "        else:\n",
    "            test_x.append([np.sin(0.0943*i + 566),1])\n",
    "            old_i = i\n",
    "\n",
    "test_x = torch.tensor(test_x,dtype=torch.float32)"
   ]
  },
  {
   "cell_type": "code",
   "execution_count": 6,
   "metadata": {},
   "outputs": [
    {
     "name": "stdout",
     "output_type": "stream",
     "text": [
      "torch.Size([1, 30, 3])\n"
     ]
    },
    {
     "name": "stderr",
     "output_type": "stream",
     "text": [
      "/var/folders/wy/k9h01g4j2yg_jky8w6rsfsjm0000gn/T/ipykernel_93305/2747675177.py:3: UserWarning: To copy construct from a tensor, it is recommended to use sourceTensor.clone().detach() or sourceTensor.clone().detach().requires_grad_(True), rather than torch.tensor(sourceTensor).\n",
      "  a = torch.tensor(test_x[k:k+30],dtype=torch.float32)\n",
      "/var/folders/wy/k9h01g4j2yg_jky8w6rsfsjm0000gn/T/ipykernel_93305/2747675177.py:9: UserWarning: To copy construct from a tensor, it is recommended to use sourceTensor.clone().detach() or sourceTensor.clone().detach().requires_grad_(True), rather than torch.tensor(sourceTensor).\n",
      "  y = torch.tensor(test_x[k+20:k+30,0],dtype=torch.float32)\n"
     ]
    },
    {
     "data": {
      "text/plain": [
       "[<matplotlib.lines.Line2D at 0x1363a94e0>]"
      ]
     },
     "execution_count": 6,
     "metadata": {},
     "output_type": "execute_result"
    },
    {
     "data": {
      "image/png": "[encoded data removed]",
      "text/plain": [
       "<Figure size 640x480 with 1 Axes>"
      ]
     },
     "metadata": {},
     "output_type": "display_data"
    }
   ],
   "source": [
    "k = random.randint(0,50)\n",
    "\n",
    "a = torch.tensor(test_x[k:k+30],dtype=torch.float32)\n",
    "b = torch.tensor(np.cumsum([i[1] for i in test_x[k:k+30]]),dtype=torch.float32)\n",
    "sample = torch.cat((a,b.unsqueeze(1)),dim=1).unsqueeze(0)\n",
    "y = sample[:,20:,0]\n",
    "sample[:,20:,0] = 0\n",
    "\n",
    "y = torch.tensor(test_x[k+20:k+30,0],dtype=torch.float32)\n",
    "\n",
    "print(sample.shape)\n",
    "\n",
    "pred_y = model(sample)\n",
    "\n",
    "import matplotlib.pyplot as plt\n",
    "\n",
    "# plt.plot(torch.cumsum(sample[0,:,1],dim=0),sample[0,:,0],\"x\")\n",
    "# plt.plot(torch.cumsum(sample[0,:,1],dim=0)[20:],pred_y[0].tolist(),\"o\")\n",
    "\n",
    "plt.plot(sample[0,:20,2],sample[0,:20,0],\"-x\")\n",
    "plt.plot(sample[0,20:,2],y,\"-x\")\n",
    "plt.plot(sample[0,20:,2],pred_y[0].tolist(),\"-o\")"
   ]
  },
  {
   "cell_type": "code",
   "execution_count": 7,
   "metadata": {},
   "outputs": [
    {
     "name": "stderr",
     "output_type": "stream",
     "text": [
      "/var/folders/wy/k9h01g4j2yg_jky8w6rsfsjm0000gn/T/ipykernel_93305/1366622062.py:12: UserWarning: To copy construct from a tensor, it is recommended to use sourceTensor.clone().detach() or sourceTensor.clone().detach().requires_grad_(True), rather than torch.tensor(sourceTensor).\n",
      "  a = torch.tensor(self.data[idx:idx+self.seq_length+10],dtype=torch.float32)\n",
      "/var/folders/wy/k9h01g4j2yg_jky8w6rsfsjm0000gn/T/ipykernel_93305/1366622062.py:16: UserWarning: To copy construct from a tensor, it is recommended to use sourceTensor.clone().detach() or sourceTensor.clone().detach().requires_grad_(True), rather than torch.tensor(sourceTensor).\n",
      "  y = torch.tensor(self.data[idx+self.seq_length:idx+self.seq_length + 10,0],dtype=torch.float32)\n"
     ]
    },
    {
     "data": {
      "text/plain": [
       "[<matplotlib.lines.Line2D at 0x1364abf10>]"
      ]
     },
     "execution_count": 7,
     "metadata": {},
     "output_type": "execute_result"
    },
    {
     "data": {
      "image/png": "[encoded data removed]",
      "text/plain": [
       "<Figure size 640x480 with 1 Axes>"
      ]
     },
     "metadata": {},
     "output_type": "display_data"
    }
   ],
   "source": [
    "# Example usage\n",
    "import numpy as np\n",
    "\n",
    "test_x = [[np.sin(0.0543*i) for i in range(2800,2800 + seq_length)]]\n",
    "\n",
    "test_x = torch.tensor(test_x,dtype=torch.float32)\n",
    "\n",
    "for x,y in dataloader:\n",
    "    pred_y = model(x)\n",
    "\n",
    "import matplotlib.pyplot as plt\n",
    "\n",
    "plt.plot(list(range(len(x[0]))),x[0],\"x\")\n",
    "plt.plot(list(range(len(x[0]),len(x[0])+ len(pred_y[0]))),pred_y[0].tolist(),\"o\")\n",
    "plt.plot(list(range(len(x[0]),len(x[0])+ len(pred_y[0]))),y[0].tolist(),\"x\")\n"
   ]
  },
  {
   "cell_type": "code",
   "execution_count": 8,
   "metadata": {},
   "outputs": [
    {
     "data": {
      "text/plain": [
       "[<matplotlib.lines.Line2D at 0x1365466e0>]"
      ]
     },
     "execution_count": 8,
     "metadata": {},
     "output_type": "execute_result"
    },
    {
     "data": {
      "image/png": "[encoded data removed]",
      "text/plain": [
       "<Figure size 640x480 with 1 Axes>"
      ]
     },
     "metadata": {},
     "output_type": "display_data"
    }
   ],
   "source": [
    "import matplotlib.pyplot as plt\n",
    "\n",
    "plt.plot(list(range(len(test_x[0]))),test_x[0],\"x\")\n",
    "plt.plot(list(range(len(test_x[0]),len(test_x[0])+ len(pred_y[0]))),pred_y[0].tolist(),\"o\")"
   ]
  },
  {
   "cell_type": "code",
   "execution_count": 9,
   "metadata": {},
   "outputs": [
    {
     "data": {
      "text/plain": [
       "torch.Size([1, 20])"
      ]
     },
     "execution_count": 9,
     "metadata": {},
     "output_type": "execute_result"
    }
   ],
   "source": [
    "test_x.shape"
   ]
  },
  {
   "cell_type": "code",
   "execution_count": 10,
   "metadata": {},
   "outputs": [
    {
     "data": {
      "text/plain": [
       "tensor([[ 2,  4],\n",
       "        [ 5,  7],\n",
       "        [ 8, 10]])"
      ]
     },
     "execution_count": 10,
     "metadata": {},
     "output_type": "execute_result"
    }
   ],
   "source": [
    "a = torch.tensor([[1,2],[4,5],[7,8]])\n",
    "b = torch.tensor([[1,1],[0,1],[0,1]])\n",
    "\n",
    "a += torch.tensor([1,2])\n",
    "\n",
    "a\n"
   ]
  },
  {
   "cell_type": "code",
   "execution_count": 11,
   "metadata": {},
   "outputs": [
    {
     "data": {
      "text/plain": [
       "tensor([1, 1, 0, 1, 0, 1])"
      ]
     },
     "execution_count": 11,
     "metadata": {},
     "output_type": "execute_result"
    }
   ],
   "source": [
    "a.flatten()\n",
    "b.flatten()"
   ]
  },
  {
   "cell_type": "code",
   "execution_count": 12,
   "metadata": {},
   "outputs": [
    {
     "data": {
      "text/plain": [
       "True"
      ]
     },
     "execution_count": 12,
     "metadata": {},
     "output_type": "execute_result"
    }
   ],
   "source": [
    "import numpy as np\n",
    "b = np.array([[1,1],[0,1],[0,1]])\n",
    "np.any(b)"
   ]
  },
  {
   "cell_type": "code",
   "execution_count": 13,
   "metadata": {},
   "outputs": [
    {
     "ename": "TypeError",
     "evalue": "nonzero(): argument 'input' (position 1) must be Tensor, not numpy.ndarray",
     "output_type": "error",
     "traceback": [
      "\u001b[0;31m---------------------------------------------------------------------------\u001b[0m",
      "\u001b[0;31mTypeError\u001b[0m                                 Traceback (most recent call last)",
      "Cell \u001b[0;32mIn[13], line 1\u001b[0m\n\u001b[0;32m----> 1\u001b[0m a\u001b[39m.\u001b[39mflatten()[torch\u001b[39m.\u001b[39;49mnonzero(b\u001b[39m.\u001b[39;49mflatten())]\u001b[39m.\u001b[39mflatten()\n",
      "\u001b[0;31mTypeError\u001b[0m: nonzero(): argument 'input' (position 1) must be Tensor, not numpy.ndarray"
     ]
    }
   ],
   "source": [
    "a.flatten()[torch.nonzero(b.flatten())].flatten()"
   ]
  },
  {
   "cell_type": "code",
   "execution_count": null,
   "metadata": {},
   "outputs": [
    {
     "data": {
      "text/plain": [
       "torch.Size([2, 4, 64])"
      ]
     },
     "execution_count": 56,
     "metadata": {},
     "output_type": "execute_result"
    }
   ],
   "source": [
    "indices = torch.tensor([[0,1,2,3],[4,5,6,7]]).unsqueeze(-1)\n",
    "\n",
    "div_term = torch.exp(torch.arange(0, 64, 2) * (-math.log(10000.0) / 64))\n",
    "pe = torch.zeros(2,4, 64)\n",
    "pe[:,:, 0::2] = torch.sin(indices * div_term.unsqueeze(0))\n",
    "pe[:,:, 1::2] = torch.cos(indices * div_term.unsqueeze(0))\n",
    "\n",
    "pe.shape"
   ]
  },
  {
   "cell_type": "code",
   "execution_count": null,
   "metadata": {},
   "outputs": [
    {
     "name": "stdout",
     "output_type": "stream",
     "text": [
      "torch.Size([2, 4, 1]) torch.Size([1, 32])\n"
     ]
    }
   ],
   "source": [
    "print(indices.shape,div_term.unsqueeze(0).shape)"
   ]
  },
  {
   "cell_type": "code",
   "execution_count": null,
   "metadata": {},
   "outputs": [],
   "source": []
  }
 ],
 "metadata": {
  "kernelspec": {
   "display_name": "Python 3",
   "language": "python",
   "name": "python3"
  },
  "language_info": {
   "codemirror_mode": {
    "name": "ipython",
    "version": 3
   },
   "file_extension": ".py",
   "mimetype": "text/x-python",
   "name": "python",
   "nbconvert_exporter": "python",
   "pygments_lexer": "ipython3",
   "version": "3.10.7"
  },
  "orig_nbformat": 4,
  "vscode": {
   "interpreter": {
    "hash": "e4d8082ac81b5767605eb477108b3a93415a0db0c81fcb1a05e0921a30ce1269"
   }
  }
 },
 "nbformat": 4,
 "nbformat_minor": 2
}
