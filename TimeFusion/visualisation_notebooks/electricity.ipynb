{
 "cells": [
  {
   "cell_type": "code",
   "execution_count": 1,
   "metadata": {},
   "outputs": [],
   "source": [
    "# Import necessary libraries\n",
    "import sys\n",
    "import random\n",
    "import torch\n",
    "import os\n",
    "import math\n",
    "from torch import nn\n",
    "from torch.utils.data import DataLoader\n",
    "import numpy as np\n",
    "import pandas as pd\n",
    "import matplotlib.pyplot as plt\n",
    "\n",
    "# Set path to fix relative imports\n",
    "sys.path.append(\"..\")\n",
    "from data import TimeFusionDataset\n",
    "from timefusion import TimeFusion, EarlyStopper\n",
    "from metrics import variogram_score, crps_sum"
   ]
  },
  {
   "cell_type": "code",
   "execution_count": 2,
   "metadata": {},
   "outputs": [],
   "source": [
    "# Import dataset\n",
    "train_data = pd.read_csv(\"../../datasets/electricity/train.csv\").set_index(\"date\")\n",
    "test_data = pd.read_csv(\"../../datasets/electricity/test.csv\").set_index(\"date\")\n",
    "train_data = train_data.iloc[:,:30]\n",
    "test_data = test_data.iloc[:,:30]\n",
    "train_data.index = pd.to_datetime(train_data.index)\n",
    "test_data.index = pd.to_datetime(test_data.index)\n",
    "\n",
    "# Standardize data\n",
    "means = train_data.mean()\n",
    "stds = train_data.std()\n",
    "train_data = (train_data-means)/stds\n",
    "test_data = (test_data-means)/stds\n",
    "\n",
    "# Randomly remove 30% of data to make irregular\n",
    "np.random.seed(0) # Set random seed to make result reproducible\n",
    "#remove = 0.30\n",
    "remove = 0\n",
    "\n",
    "# Training data \n",
    "train_mask = np.full(train_data.size, False)\n",
    "train_mask[:int(train_data.size*remove)] = True\n",
    "np.random.shuffle(train_mask)\n",
    "train_data = train_data.mask(train_mask.reshape(train_data.shape))\n",
    "\n",
    "# Test data\n",
    "test_mask = np.full(test_data.size, False)\n",
    "test_mask[:int(test_data.size*remove)] = True\n",
    "np.random.shuffle(test_mask)\n",
    "test_data = test_data.mask(test_mask.reshape(test_data.shape))"
   ]
  },
  {
   "cell_type": "code",
   "execution_count": 3,
   "metadata": {},
   "outputs": [],
   "source": [
    "if torch.cuda.is_available():\n",
    "    device = torch.device(\"cuda:0\")\n",
    "elif torch.backends.mps.is_available():\n",
    "    device = torch.device(\"cpu\")\n",
    "    #device = torch.device(\"mps\")\n",
    "else:\n",
    "    device = torch.device(\"cpu\")"
   ]
  },
  {
   "cell_type": "code",
   "execution_count": 4,
   "metadata": {},
   "outputs": [],
   "source": [
    "# Define some common variables\n",
    "context_length = 48 \n",
    "prediction_length = 1\n",
    "\n",
    "encodings = [\n",
    "    # lambda x: math.sin(2*math.pi*x.timestamp() / (3600*24)),\n",
    "    # lambda x: math.sin(2*math.pi*x.timestamp() / (3600*24*7)),\n",
    "    # lambda x: math.sin(2*math.pi*x.timestamp() / (3600*24*30)),\n",
    "    # lambda x: math.sin(2*math.pi*x.timestamp() / (3600*24*90)),\n",
    "    # lambda x: math.sin(2*math.pi*x.timestamp() / (3600*24*365)),\n",
    "    # lambda x: math.cos(2*math.pi*x.timestamp() / (3600*24)),\n",
    "    # lambda x: math.cos(2*math.pi*x.timestamp() / (3600*24*7)),\n",
    "    # lambda x: math.cos(2*math.pi*x.timestamp() / (3600*24*30)),\n",
    "    # lambda x: math.cos(2*math.pi*x.timestamp() / (3600*24*90)),\n",
    "    # lambda x: math.cos(2*math.pi*x.timestamp() / (3600*24*365)),\n",
    "]\n",
    "\n",
    "# Create each dataset\n",
    "train_dataset = TimeFusionDataset(\n",
    "    data = train_data.iloc[:int(0.9*len(train_data))],\n",
    "    context_length = context_length,\n",
    "    prediction_length = prediction_length,\n",
    "    timestamp_encodings = encodings\n",
    ")\n",
    "\n",
    "val_dataset = TimeFusionDataset(\n",
    "    data = train_data.iloc[int(0.9*len(train_data)):],\n",
    "    context_length = context_length,\n",
    "    prediction_length = prediction_length,\n",
    "    timestamp_encodings = encodings\n",
    ")\n",
    "\n",
    "test_dataset = TimeFusionDataset(\n",
    "    data = test_data,\n",
    "    context_length = context_length,\n",
    "    prediction_length = prediction_length,\n",
    "    timestamp_encodings = encodings\n",
    ")\n",
    "\n",
    "train_loader = DataLoader(\n",
    "    dataset = train_dataset,\n",
    "    shuffle = True,\n",
    "    num_workers = 4,\n",
    "    batch_size = 128,\n",
    "    pin_memory=True,\n",
    "    pin_memory_device=\"cuda:0\"\n",
    ")\n",
    "\n",
    "val_loader = DataLoader(\n",
    "    dataset = val_dataset,\n",
    "    shuffle = True,\n",
    "    num_workers = 4,\n",
    "    batch_size = 128,\n",
    "    pin_memory=True,\n",
    "    pin_memory_device=\"cuda:0\"\n",
    ")\n",
    "\n"
   ]
  },
  {
   "cell_type": "code",
   "execution_count": 5,
   "metadata": {},
   "outputs": [
    {
     "name": "stderr",
     "output_type": "stream",
     "text": [
      "/Users/edvard/Documents/Imperial College/Year 4/Final Year Project/Final-Year-Project/TimeFusion/visualisation_notebooks/../diffusion.py:29: UserWarning: To copy construct from a tensor, it is recommended to use sourceTensor.clone().detach() or sourceTensor.clone().detach().requires_grad_(True), rather than torch.tensor(sourceTensor).\n",
      "  self.bar_alphas = torch.tensor(\n"
     ]
    }
   ],
   "source": [
    "predictor = TimeFusion(\n",
    "    context_length = context_length,\n",
    "    prediction_length = prediction_length,\n",
    "    timeseries_shape = (len(train_dataset.time_series),train_dataset.time_series[0].shape[1]), \n",
    "    num_encoder_layers=3,\n",
    "    d_model=512,\n",
    "    nhead=32,\n",
    "    dim_feedforward=1024,\n",
    "    diff_steps=100,\n",
    "    device = device,\n",
    ")"
   ]
  },
  {
   "cell_type": "code",
   "execution_count": 6,
   "metadata": {},
   "outputs": [
    {
     "data": {
      "text/plain": [
       "TimeFusion(\n",
       "  (embedding): Linear(in_features=60, out_features=512, bias=True)\n",
       "  (transformer_encoder): TransformerEncoder(\n",
       "    (layers): ModuleList(\n",
       "      (0): TransformerEncoderLayer(\n",
       "        (self_attn): MultiheadAttention(\n",
       "          (out_proj): NonDynamicallyQuantizableLinear(in_features=512, out_features=512, bias=True)\n",
       "        )\n",
       "        (linear1): Linear(in_features=512, out_features=1024, bias=True)\n",
       "        (dropout): Dropout(p=0, inplace=False)\n",
       "        (linear2): Linear(in_features=1024, out_features=512, bias=True)\n",
       "        (norm1): LayerNorm((512,), eps=1e-05, elementwise_affine=True)\n",
       "        (norm2): LayerNorm((512,), eps=1e-05, elementwise_affine=True)\n",
       "        (dropout1): Dropout(p=0, inplace=False)\n",
       "        (dropout2): Dropout(p=0, inplace=False)\n",
       "      )\n",
       "      (1): TransformerEncoderLayer(\n",
       "        (self_attn): MultiheadAttention(\n",
       "          (out_proj): NonDynamicallyQuantizableLinear(in_features=512, out_features=512, bias=True)\n",
       "        )\n",
       "        (linear1): Linear(in_features=512, out_features=1024, bias=True)\n",
       "        (dropout): Dropout(p=0, inplace=False)\n",
       "        (linear2): Linear(in_features=1024, out_features=512, bias=True)\n",
       "        (norm1): LayerNorm((512,), eps=1e-05, elementwise_affine=True)\n",
       "        (norm2): LayerNorm((512,), eps=1e-05, elementwise_affine=True)\n",
       "        (dropout1): Dropout(p=0, inplace=False)\n",
       "        (dropout2): Dropout(p=0, inplace=False)\n",
       "      )\n",
       "      (2): TransformerEncoderLayer(\n",
       "        (self_attn): MultiheadAttention(\n",
       "          (out_proj): NonDynamicallyQuantizableLinear(in_features=512, out_features=512, bias=True)\n",
       "        )\n",
       "        (linear1): Linear(in_features=512, out_features=1024, bias=True)\n",
       "        (dropout): Dropout(p=0, inplace=False)\n",
       "        (linear2): Linear(in_features=1024, out_features=512, bias=True)\n",
       "        (norm1): LayerNorm((512,), eps=1e-05, elementwise_affine=True)\n",
       "        (norm2): LayerNorm((512,), eps=1e-05, elementwise_affine=True)\n",
       "        (dropout1): Dropout(p=0, inplace=False)\n",
       "        (dropout2): Dropout(p=0, inplace=False)\n",
       "      )\n",
       "    )\n",
       "  )\n",
       "  (linear): Linear(in_features=512, out_features=30, bias=True)\n",
       ")"
      ]
     },
     "execution_count": 6,
     "metadata": {},
     "output_type": "execute_result"
    }
   ],
   "source": [
    "# Load weights\n",
    "predictor.load_state_dict(torch.load(\"../training_scripts/weights/2023-04-17-20-04-23\",map_location=torch.device('cpu')))\n",
    "predictor.eval()\n",
    "#predictor.load_state_dict(torch.load(\"../weights/2023-04-12-20-02-45\",map_location=torch.device('cpu')).state_dict())"
   ]
  },
  {
   "cell_type": "code",
   "execution_count": 7,
   "metadata": {},
   "outputs": [],
   "source": [
    "sample_index = 100\n",
    "\n",
    "test_dataset = TimeFusionDataset(\n",
    "    data = test_data,\n",
    "    context_length = context_length,\n",
    "    prediction_length = 24,\n",
    "    timestamp_encodings = encodings\n",
    ")\n",
    "\n",
    "timestamps = []\n",
    "for col in range(test_dataset.indices.shape[1]):\n",
    "    timestamps.append(list(test_data.iloc[sample_index:,col].dropna().index[:24]))\n",
    "\n",
    "timestamps = np.array(timestamps)\n",
    "\n",
    "samples = predictor.sample(\n",
    "    data = test_dataset,\n",
    "    sample_indices = timestamps,\n",
    "    num_samples = 100,\n",
    "    timestamp_encodings = encodings,\n",
    "    prediction_length=24\n",
    ")\n"
   ]
  },
  {
   "cell_type": "code",
   "execution_count": 8,
   "metadata": {},
   "outputs": [
    {
     "name": "stdout",
     "output_type": "stream",
     "text": [
      "2432.5963909134903 3.805052112996646\n"
     ]
    }
   ],
   "source": [
    "realisations = []\n",
    "for col in range(test_dataset.indices.shape[1]):\n",
    "    realisations.append(test_dataset.data_copy.iloc[sample_index:,col].dropna()[:test_dataset.prediction_length])\n",
    "realisations = np.array(realisations)\n",
    "\n",
    "predictions = np.array(samples.cpu()[:,:,-test_dataset.prediction_length:,0])\n",
    "\n",
    "# Calculate metrics\n",
    "var_score = variogram_score(realisations,predictions,**{\"weights\":\"local\",\"window_size\":5})\n",
    "crps_score = crps_sum(realisations,predictions)\n",
    "\n",
    "print(var_score,crps_score)"
   ]
  },
  {
   "cell_type": "code",
   "execution_count": 15,
   "metadata": {},
   "outputs": [
    {
     "data": {
      "text/plain": [
       "[<matplotlib.lines.Line2D at 0x287ac18d0>]"
      ]
     },
     "execution_count": 15,
     "metadata": {},
     "output_type": "execute_result"
    },
    {
     "data": {
      "image/png": "[encoded data removed]",
      "text/plain": [
       "<Figure size 640x480 with 1 Axes>"
      ]
     },
     "metadata": {},
     "output_type": "display_data"
    }
   ],
   "source": [
    "# Plot the samples\n",
    "confidence = 0.1\n",
    "ts = 9\n",
    "\n",
    "samples_cpu = predictions.copy()\n",
    "for i in range(samples_cpu.shape[1]):\n",
    "    samples_cpu[:,i,:] = np.sort(samples_cpu[:,i,:],axis=0)\n",
    "\n",
    "plt.figure()\n",
    "plt.plot(test_data.iloc[:sample_index,ts].dropna().iloc[-test_dataset.context_length:],\"-x\")\n",
    "plt.plot(test_data.iloc[sample_index:,ts].dropna().iloc[:test_dataset.prediction_length],\"-x\")\n",
    "plt.fill_between(timestamps[ts], samples_cpu[int(confidence*samples_cpu.shape[0]),ts,:], samples_cpu[int((1-confidence)*samples_cpu.shape[0]),ts,:],alpha=0.5)\n",
    "plt.plot(timestamps[ts],np.mean(samples_cpu,axis=0)[ts],\"-o\")"
   ]
  },
  {
   "cell_type": "code",
   "execution_count": 10,
   "metadata": {},
   "outputs": [
    {
     "name": "stdout",
     "output_type": "stream",
     "text": [
      "2432.5963909134903 3.805052112996646\n"
     ]
    }
   ],
   "source": [
    "predictions = np.array(samples.cpu()[:,:,-test_dataset.prediction_length:,0])\n",
    "\n",
    "# Calculate metrics\n",
    "var_score = variogram_score(realisations,predictions,**{\"weights\":\"local\",\"window_size\":5})\n",
    "crps_score = crps_sum(realisations,predictions)\n",
    "\n",
    "print(var_score,crps_score)"
   ]
  },
  {
   "cell_type": "code",
   "execution_count": 11,
   "metadata": {},
   "outputs": [
    {
     "data": {
      "text/plain": [
       "3.7701418"
      ]
     },
     "execution_count": 11,
     "metadata": {},
     "output_type": "execute_result"
    }
   ],
   "source": [
    "max(predictions.flatten())"
   ]
  },
  {
   "cell_type": "code",
   "execution_count": 12,
   "metadata": {},
   "outputs": [
    {
     "data": {
      "text/plain": [
       "-25.784990483497495"
      ]
     },
     "execution_count": 12,
     "metadata": {},
     "output_type": "execute_result"
    }
   ],
   "source": [
    "min(np.sum(realisations, axis = 0).flatten())"
   ]
  },
  {
   "cell_type": "code",
   "execution_count": 13,
   "metadata": {},
   "outputs": [
    {
     "ename": "NameError",
     "evalue": "name 'crps4' is not defined",
     "output_type": "error",
     "traceback": [
      "\u001b[0;31m---------------------------------------------------------------------------\u001b[0m",
      "\u001b[0;31mNameError\u001b[0m                                 Traceback (most recent call last)",
      "Cell \u001b[0;32mIn[13], line 5\u001b[0m\n\u001b[1;32m      2\u001b[0m F \u001b[39m=\u001b[39m np\u001b[39m.\u001b[39msum(predictions, axis\u001b[39m=\u001b[39m\u001b[39m1\u001b[39m)\n\u001b[1;32m      3\u001b[0m x \u001b[39m=\u001b[39m np\u001b[39m.\u001b[39msum(realisations, axis \u001b[39m=\u001b[39m \u001b[39m0\u001b[39m)\n\u001b[0;32m----> 5\u001b[0m [crps4(F[:,i],x[i]) \u001b[39mfor\u001b[39;00m i \u001b[39min\u001b[39;00m \u001b[39mrange\u001b[39m(\u001b[39mlen\u001b[39m(x))]\n",
      "Cell \u001b[0;32mIn[13], line 5\u001b[0m, in \u001b[0;36m<listcomp>\u001b[0;34m(.0)\u001b[0m\n\u001b[1;32m      2\u001b[0m F \u001b[39m=\u001b[39m np\u001b[39m.\u001b[39msum(predictions, axis\u001b[39m=\u001b[39m\u001b[39m1\u001b[39m)\n\u001b[1;32m      3\u001b[0m x \u001b[39m=\u001b[39m np\u001b[39m.\u001b[39msum(realisations, axis \u001b[39m=\u001b[39m \u001b[39m0\u001b[39m)\n\u001b[0;32m----> 5\u001b[0m [crps4(F[:,i],x[i]) \u001b[39mfor\u001b[39;00m i \u001b[39min\u001b[39;00m \u001b[39mrange\u001b[39m(\u001b[39mlen\u001b[39m(x))]\n",
      "\u001b[0;31mNameError\u001b[0m: name 'crps4' is not defined"
     ]
    }
   ],
   "source": [
    "from metrics import crps\n",
    "F = np.sum(predictions, axis=1)\n",
    "x = np.sum(realisations, axis = 0)\n",
    "\n",
    "[crps4(F[:,i],x[i]) for i in range(len(x))]"
   ]
  },
  {
   "cell_type": "code",
   "execution_count": null,
   "metadata": {},
   "outputs": [
    {
     "data": {
      "text/plain": [
       "array([-10.98377411, -15.99789235, -19.92270594, -19.80369452,\n",
       "       -19.5649524 , -19.07673819, -14.90520671, -20.06868685,\n",
       "        -7.29547497,  -1.82249595,   0.48053919,   1.7387279 ,\n",
       "        -0.75262966,  -3.27557024,   0.50464866,  -4.91433771,\n",
       "        -0.60914137,  -4.29616027,   6.19119665,  33.49415688,\n",
       "        26.02847183,  14.39675451,   5.75728188,  -0.98399403])"
      ]
     },
     "execution_count": 72,
     "metadata": {},
     "output_type": "execute_result"
    }
   ],
   "source": [
    "x"
   ]
  },
  {
   "cell_type": "code",
   "execution_count": null,
   "metadata": {},
   "outputs": [
    {
     "data": {
      "text/plain": [
       "array([ -6.8018756,  -9.944068 , -13.5296955,  -8.07407  , -10.231333 ,\n",
       "        -9.218697 ,  -8.211424 ,  -9.9158   , -10.82117  , -10.615027 ,\n",
       "        -8.266022 , -10.4813   ,  -9.644702 , -11.811579 , -11.212442 ,\n",
       "        -9.806957 ,  -6.808426 ,  -9.469788 , -11.174243 , -12.054051 ,\n",
       "       -10.928341 ,  -8.839846 , -10.528134 , -11.624802 ,  -9.740789 ,\n",
       "        -8.901914 , -12.08709  ,  -9.66725  , -11.869783 ,  -8.954688 ,\n",
       "       -11.573448 ,  -7.2043886, -10.530111 , -10.740392 , -10.0266695,\n",
       "        -9.723686 ,  -8.563846 ,  -9.403668 , -10.072677 ,  -9.469351 ,\n",
       "       -12.47757  ,  -9.441109 ,  -9.492145 , -11.63578  ,  -9.044448 ,\n",
       "        -8.935162 , -10.034    ,  -7.358909 ,  -9.959104 ,  -9.8475065,\n",
       "        -8.78539  ,  -8.872412 ,  -9.234541 ,  -7.347124 , -10.80336  ,\n",
       "        -7.1117373, -10.530499 ,  -9.300917 ,  -8.8633585, -11.261789 ,\n",
       "        -8.990646 ,  -9.825609 ,  -9.524042 , -10.711633 ,  -8.516817 ,\n",
       "        -9.556381 , -11.170796 , -10.401517 ,  -9.22149  ,  -8.399581 ,\n",
       "       -12.237066 , -11.86157  , -10.081197 ,  -8.395778 , -10.015361 ,\n",
       "        -8.342393 ,  -4.457404 ,  -9.105789 ,  -9.92671  ,  -8.07101  ,\n",
       "       -10.575728 , -10.769737 , -10.341523 , -10.323152 ,  -9.747745 ,\n",
       "        -9.755821 ,  -9.013453 , -10.3761215, -12.511855 ,  -9.542674 ,\n",
       "        -8.812005 ,  -7.588548 ,  -9.954972 , -11.400321 , -11.055315 ,\n",
       "       -12.0145645,  -9.307143 ,  -7.8341627, -10.297062 ,  -6.2650433],\n",
       "      dtype=float32)"
      ]
     },
     "execution_count": 73,
     "metadata": {},
     "output_type": "execute_result"
    }
   ],
   "source": [
    "F[:,0]"
   ]
  },
  {
   "cell_type": "code",
   "execution_count": null,
   "metadata": {},
   "outputs": [
    {
     "data": {
      "text/plain": [
       "0.42"
      ]
     },
     "execution_count": 74,
     "metadata": {},
     "output_type": "execute_result"
    }
   ],
   "source": [
    "from scipy.stats import percentileofscore\n",
    "\n",
    "percentileofscore(F[:,0],-10,kind=\"weak\")/100"
   ]
  },
  {
   "cell_type": "code",
   "execution_count": null,
   "metadata": {},
   "outputs": [],
   "source": [
    "import scipy.integrate as integrate\n",
    "\n",
    "def lam3(q,y,alpha):\n",
    "    return (alpha - np.heaviside(q-y,0.5))*(y-q)\n",
    "\n",
    "def crps4(F: np.ndarray, x: float) -> float:\n",
    "    \"\"\"\n",
    "        F: [num samples]\n",
    "    \"\"\"\n",
    "    integral_values = integrate.quad(lambda alpha: 2*lam3(np.quantile(F,alpha),x,alpha) , 0, 1,epsrel=1.49e-2,limit=100)\n",
    "\n",
    "    #return integral_values[0]\n",
    "    return 0.01*sum([2*lam3(np.quantile(F,alpha),x,alpha) for alpha in np.linspace(0,1,100)])\n",
    "\n",
    "def crps_sum3(realisations: np.ndarray, predictions: np.ndarray) -> float:\n",
    "    \"\"\"\n",
    "        https://arxiv.org/pdf/1910.03002.pdf\n",
    "        realisations: [num timeseries, num timesteps]\n",
    "        predictions: [num samples, num timeseries, num timesteps]\n",
    "    \"\"\"\n",
    "    F = np.sum(predictions, axis=1)\n",
    "    x = np.sum(realisations, axis = 0)\n",
    "\n",
    "    return np.mean([crps(F[:,i],x[i]) for i in range(len(x))])"
   ]
  },
  {
   "cell_type": "code",
   "execution_count": null,
   "metadata": {},
   "outputs": [],
   "source": [
    "import numpy as np\n",
    "from scipy.integrate import quad\n",
    "\n",
    "def crps(observed, forecast):\n",
    "    \"\"\"Calculate the continuous ranked probability score (CRPS).\n",
    "\n",
    "    Parameters\n",
    "    ----------\n",
    "    observed : float or numpy.ndarray\n",
    "        The observed value(s).\n",
    "    forecast : float or numpy.ndarray\n",
    "        The forecasted cumulative distribution function (CDF) value(s).\n",
    "\n",
    "    Returns\n",
    "    -------\n",
    "    float\n",
    "        The CRPS value.\n",
    "\n",
    "    \"\"\"\n",
    "    def integrand(t):\n",
    "        return (np.interp(t, forecast, forecast, left=0, right=1) - \n",
    "                np.heaviside(t - observed, 0.5)) ** 2\n",
    "\n",
    "    return quad(integrand, -np.inf, np.inf)[0]\n",
    "\n",
    "def crps_sum(observed, forecast):\n",
    "    \"\"\"Calculate the CRPS-sum metric.\n",
    "\n",
    "    Parameters\n",
    "    ----------\n",
    "    observed : numpy.ndarray\n",
    "        An array of observed values.\n",
    "    forecast : numpy.ndarray\n",
    "        An array of forecasted CDF values.\n",
    "\n",
    "    Returns\n",
    "    -------\n",
    "    float\n",
    "        The CRPS-sum value.\n",
    "\n",
    "    \"\"\"\n",
    "    n = len(observed)\n",
    "    crps_values = np.zeros(n)\n",
    "    for i in range(n):\n",
    "        crps_values[i] = crps(observed[i], forecast[i])\n",
    "    return crps_values.sum() / n\n"
   ]
  },
  {
   "cell_type": "code",
   "execution_count": null,
   "metadata": {},
   "outputs": [
    {
     "name": "stdout",
     "output_type": "stream",
     "text": [
      "5.351066439849451\n"
     ]
    },
    {
     "name": "stderr",
     "output_type": "stream",
     "text": [
      "/var/folders/wy/k9h01g4j2yg_jky8w6rsfsjm0000gn/T/ipykernel_46409/2414179191.py:24: IntegrationWarning: The maximum number of subdivisions (50) has been achieved.\n",
      "  If increasing the limit yields no improvement it is advised to analyze \n",
      "  the integrand in order to determine the difficulties.  If the position of a \n",
      "  local difficulty can be determined (singularity, discontinuity) one will \n",
      "  probably gain from splitting up the interval and calling the integrator \n",
      "  on the subranges.  Perhaps a special-purpose integrator should be used.\n",
      "  return quad(integrand, -np.inf, np.inf)[0]\n"
     ]
    }
   ],
   "source": [
    "# Example usage\n",
    "observed = np.array([2, 4, 6, 8, 10])\n",
    "forecast = np.array([[0.1, 0.3, 0.5, 0.7, 0.9],\n",
    "                     [0.2, 0.4, 0.6, 0.8, 0.9],\n",
    "                     [0.1, 0.4, 0.5, 0.7, 0.8],\n",
    "                     [0.3, 0.4, 0.6, 0.8, 0.9],\n",
    "                     [0.2, 0.3, 0.5, 0.7, 0.8]])\n",
    "crps_sum_value = crps_sum(observed, forecast)\n",
    "print(crps_sum_value)\n"
   ]
  },
  {
   "cell_type": "code",
   "execution_count": null,
   "metadata": {},
   "outputs": [
    {
     "data": {
      "text/plain": [
       "1.0"
      ]
     },
     "execution_count": 58,
     "metadata": {},
     "output_type": "execute_result"
    }
   ],
   "source": [
    "np.heaviside(-10 + 10, 1)"
   ]
  },
  {
   "cell_type": "code",
   "execution_count": null,
   "metadata": {},
   "outputs": [
    {
     "data": {
      "text/plain": [
       "tensor([-0.8367, -0.7199, -0.7012, -0.6597, -0.6480, -0.6292, -0.6206, -0.6085,\n",
       "        -0.5900, -0.5672, -0.5636, -0.5580, -0.5260, -0.5255, -0.5207, -0.5187,\n",
       "        -0.4867, -0.4791, -0.4739, -0.4731, -0.4713, -0.4634, -0.4622, -0.4551,\n",
       "        -0.4393, -0.4191, -0.4184, -0.4122, -0.3978, -0.3932, -0.3776, -0.3772,\n",
       "        -0.3749, -0.3712, -0.3607, -0.3550, -0.3480, -0.3430, -0.3161, -0.3153,\n",
       "        -0.3054, -0.3041, -0.2699, -0.2653, -0.2574, -0.2566, -0.2547, -0.2464,\n",
       "        -0.2342, -0.2311, -0.2248, -0.2202, -0.2193, -0.2184, -0.2144, -0.1980,\n",
       "        -0.1968, -0.1905, -0.1892, -0.1889, -0.1862, -0.1857, -0.1853, -0.1497,\n",
       "        -0.1320, -0.1283, -0.1269, -0.1246, -0.1167, -0.1124, -0.1072, -0.0976,\n",
       "        -0.0719, -0.0711, -0.0698, -0.0514, -0.0497, -0.0497, -0.0461, -0.0352,\n",
       "        -0.0331, -0.0197, -0.0161, -0.0089, -0.0081,  0.0015,  0.0048,  0.0167,\n",
       "         0.0212,  0.0264,  0.0352,  0.0369,  0.0410,  0.0745,  0.0768,  0.0860,\n",
       "         0.1644,  0.1916,  0.1992,  0.3369])"
      ]
     },
     "execution_count": 68,
     "metadata": {},
     "output_type": "execute_result"
    }
   ],
   "source": [
    "samples.cpu()[:,4,predictor.context_length,0]"
   ]
  },
  {
   "cell_type": "code",
   "execution_count": null,
   "metadata": {},
   "outputs": [],
   "source": []
  }
 ],
 "metadata": {
  "kernelspec": {
   "display_name": "Python 3",
   "language": "python",
   "name": "python3"
  },
  "language_info": {
   "codemirror_mode": {
    "name": "ipython",
    "version": 3
   },
   "file_extension": ".py",
   "mimetype": "text/x-python",
   "name": "python",
   "nbconvert_exporter": "python",
   "pygments_lexer": "ipython3",
   "version": "3.10.7"
  },
  "orig_nbformat": 4,
  "vscode": {
   "interpreter": {
    "hash": "e4d8082ac81b5767605eb477108b3a93415a0db0c81fcb1a05e0921a30ce1269"
   }
  }
 },
 "nbformat": 4,
 "nbformat_minor": 2
}
