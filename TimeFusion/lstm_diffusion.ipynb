{
 "cells": [
  {
   "cell_type": "code",
   "execution_count": 64,
   "metadata": {},
   "outputs": [],
   "source": [
    "import os\n",
    "import torch\n",
    "from torch import nn\n",
    "from torch.utils.data import DataLoader, Dataset\n",
    "import numpy as np\n",
    "import torch.optim as optim"
   ]
  },
  {
   "cell_type": "code",
   "execution_count": 65,
   "metadata": {},
   "outputs": [
    {
     "name": "stdout",
     "output_type": "stream",
     "text": [
      "Using cpu device\n"
     ]
    }
   ],
   "source": [
    "device = \"cuda\" if torch.cuda.is_available() else \"cpu\"\n",
    "print(f\"Using {device} device\")"
   ]
  },
  {
   "cell_type": "code",
   "execution_count": 66,
   "metadata": {},
   "outputs": [],
   "source": [
    "class TimeSeriesDataset(Dataset):\n",
    "    def __init__(self, data, seq_length):\n",
    "        self.data = data\n",
    "        self.seq_length = seq_length\n",
    "    \n",
    "    def __len__(self):\n",
    "        return len(self.data) - self.seq_length - 11\n",
    "    \n",
    "    def __getitem__(self, idx):\n",
    "        a = torch.tensor(self.data[idx:idx+self.seq_length+10],dtype=torch.float32)\n",
    "        b = torch.tensor(np.cumsum([i[1]/30 for i in self.data[idx:idx+self.seq_length+10]]) - 1,dtype=torch.float32)\n",
    "        x = torch.cat((a,b.unsqueeze(1)),dim=1)\n",
    "        y = torch.tensor(self.data[idx+self.seq_length:idx+self.seq_length + 10,0],dtype=torch.float32)\n",
    "        return x, y"
   ]
  },
  {
   "cell_type": "code",
   "execution_count": 67,
   "metadata": {},
   "outputs": [],
   "source": [
    "import random\n",
    "\n",
    "train_x = []\n",
    "\n",
    "for i in range(12000):\n",
    "    if random.random() < 0.5:\n",
    "        if len(train_x):\n",
    "            train_x.append([np.sin(0.0943*i),i-old_i])\n",
    "            old_i = i\n",
    "        else:\n",
    "            train_x.append([np.sin(0.0943*i),1])\n",
    "            old_i = i\n",
    "\n",
    "train_x = torch.tensor(train_x,dtype=torch.float32)"
   ]
  },
  {
   "cell_type": "code",
   "execution_count": 68,
   "metadata": {},
   "outputs": [],
   "source": [
    "class NeuralNetwork(nn.Module):\n",
    "    def __init__(self):\n",
    "        super().__init__()\n",
    "        #self.flatten = nn.Flatten()\n",
    "        self.linear_relu_stack = nn.Sequential(\n",
    "            nn.Linear(80, 512),\n",
    "            nn.ReLU(),\n",
    "            nn.Linear(512, 512),\n",
    "            nn.ReLU(),\n",
    "            nn.Linear(512, 10),\n",
    "        )\n",
    "        self.mask = np.nonzero\n",
    "\n",
    "    def forward(self, x):\n",
    "        x = torch.cat((torch.flatten(x[:,:20],start_dim=1),torch.flatten(x[:,20:,1:],start_dim=1)),dim=1)\n",
    "        #x = self.flatten(x)0.0943\n",
    "        logits = self.linear_relu_stack(x)\n",
    "        return logits"
   ]
  },
  {
   "cell_type": "code",
   "execution_count": 69,
   "metadata": {},
   "outputs": [
    {
     "name": "stdout",
     "output_type": "stream",
     "text": [
      "NeuralNetwork(\n",
      "  (linear_relu_stack): Sequential(\n",
      "    (0): Linear(in_features=80, out_features=512, bias=True)\n",
      "    (1): ReLU()\n",
      "    (2): Linear(in_features=512, out_features=512, bias=True)\n",
      "    (3): ReLU()\n",
      "    (4): Linear(in_features=512, out_features=10, bias=True)\n",
      "  )\n",
      ")\n",
      "Number of trainable parameters: 309258\n"
     ]
    }
   ],
   "source": [
    "model = NeuralNetwork().to(device)\n",
    "print(model)\n",
    "print(\"Number of trainable parameters:\",sum(p.numel() for p in model.parameters()))"
   ]
  },
  {
   "cell_type": "code",
   "execution_count": 70,
   "metadata": {},
   "outputs": [
    {
     "name": "stdout",
     "output_type": "stream",
     "text": [
      "Number of trainable parameters: 309258\n"
     ]
    },
    {
     "name": "stderr",
     "output_type": "stream",
     "text": [
      "/var/folders/wy/k9h01g4j2yg_jky8w6rsfsjm0000gn/T/ipykernel_90251/2393772794.py:10: UserWarning: To copy construct from a tensor, it is recommended to use sourceTensor.clone().detach() or sourceTensor.clone().detach().requires_grad_(True), rather than torch.tensor(sourceTensor).\n",
      "  a = torch.tensor(self.data[idx:idx+self.seq_length+10],dtype=torch.float32)\n",
      "/var/folders/wy/k9h01g4j2yg_jky8w6rsfsjm0000gn/T/ipykernel_90251/2393772794.py:13: UserWarning: To copy construct from a tensor, it is recommended to use sourceTensor.clone().detach() or sourceTensor.clone().detach().requires_grad_(True), rather than torch.tensor(sourceTensor).\n",
      "  y = torch.tensor(self.data[idx+self.seq_length:idx+self.seq_length + 10,0],dtype=torch.float32)\n"
     ]
    },
    {
     "name": "stdout",
     "output_type": "stream",
     "text": [
      "Epoch: 1 Loss: 0.23035696125344227\n",
      "Epoch: 2 Loss: 0.08249119551558244\n",
      "Epoch: 3 Loss: 0.05610961831713977\n",
      "Epoch: 4 Loss: 0.04680293735704924\n",
      "Epoch: 5 Loss: 0.03882065174218855\n",
      "Epoch: 6 Loss: 0.03485356137940758\n",
      "Epoch: 7 Loss: 0.032271340979557285\n",
      "Epoch: 8 Loss: 0.030496087278190413\n",
      "Epoch: 9 Loss: 0.028188389657359373\n",
      "Epoch: 10 Loss: 0.026803523302078247\n",
      "Epoch: 11 Loss: 0.02439115739574558\n",
      "Epoch: 12 Loss: 0.022672498500660845\n",
      "Epoch: 13 Loss: 0.020831025136928808\n",
      "Epoch: 14 Loss: 0.0210129461790386\n",
      "Epoch: 15 Loss: 0.020708697897038962\n",
      "Epoch: 16 Loss: 0.018113270725466705\n",
      "Epoch: 17 Loss: 0.018422100751807814\n",
      "Epoch: 18 Loss: 0.017221287059548653\n",
      "Epoch: 19 Loss: 0.016472342796623705\n",
      "Epoch: 20 Loss: 0.015682316983216687\n",
      "Epoch: 21 Loss: 0.015965239723262033\n",
      "Epoch: 22 Loss: 0.014485385386567367\n",
      "Epoch: 23 Loss: 0.01400434454216769\n",
      "Epoch: 24 Loss: 0.014647510736004302\n",
      "Epoch: 25 Loss: 0.01308106994746547\n",
      "Epoch: 26 Loss: 0.012681930335728746\n",
      "Epoch: 27 Loss: 0.012024017158699662\n",
      "Epoch: 28 Loss: 0.011135921146916715\n",
      "Epoch: 29 Loss: 0.011643898222399385\n",
      "Epoch: 30 Loss: 0.012010332873385203\n",
      "Epoch: 31 Loss: 0.010703088509801187\n",
      "Epoch: 32 Loss: 0.010411739251331278\n",
      "Epoch: 33 Loss: 0.010331984344673785\n",
      "Epoch: 34 Loss: 0.009899912774562836\n",
      "Epoch: 35 Loss: 0.009559210605527226\n",
      "Epoch: 36 Loss: 0.00934397335115232\n",
      "Epoch: 37 Loss: 0.009279875888636237\n",
      "Epoch: 38 Loss: 0.00886383131146431\n",
      "Epoch: 39 Loss: 0.008733312726805085\n",
      "Epoch: 40 Loss: 0.00869853393125691\n",
      "Epoch: 41 Loss: 0.008562825953489856\n",
      "Epoch: 42 Loss: 0.008246717425553423\n",
      "Epoch: 43 Loss: 0.00802573557256868\n",
      "Epoch: 44 Loss: 0.008268035688486539\n",
      "Epoch: 45 Loss: 0.007599540211652454\n",
      "Epoch: 46 Loss: 0.0075193940122660835\n",
      "Epoch: 47 Loss: 0.007344949299371556\n",
      "Epoch: 48 Loss: 0.007329416539716093\n",
      "Epoch: 49 Loss: 0.007048787980487472\n",
      "Epoch: 50 Loss: 0.0069708509125599736\n",
      "Epoch: 51 Loss: 0.00688370470153658\n",
      "Epoch: 52 Loss: 0.006774256795056556\n",
      "Epoch: 53 Loss: 0.006810015557627929\n",
      "Epoch: 54 Loss: 0.006595692803200923\n",
      "Epoch: 55 Loss: 0.006631650795277796\n",
      "Epoch: 56 Loss: 0.006375711460254695\n",
      "Epoch: 57 Loss: 0.006289667077362537\n",
      "Epoch: 58 Loss: 0.006158504095908843\n",
      "Epoch: 59 Loss: 0.00610122614000973\n",
      "Epoch: 60 Loss: 0.00620370729287204\n",
      "Epoch: 61 Loss: 0.006075427793946706\n",
      "Epoch: 62 Loss: 0.005906767094213712\n",
      "Epoch: 63 Loss: 0.005900388372767912\n",
      "Epoch: 64 Loss: 0.005850232946441361\n",
      "Epoch: 65 Loss: 0.005792091355512017\n",
      "Epoch: 66 Loss: 0.005725779830429115\n",
      "Epoch: 67 Loss: 0.005659569765588171\n",
      "Epoch: 68 Loss: 0.0056911704130470754\n",
      "Epoch: 69 Loss: 0.005609987151661986\n",
      "Epoch: 70 Loss: 0.005536742724086109\n",
      "Epoch: 71 Loss: 0.00550077436491847\n",
      "Epoch: 72 Loss: 0.005456017271468514\n",
      "Epoch: 73 Loss: 0.005379306686748016\n",
      "Epoch: 74 Loss: 0.005373684341382039\n",
      "Epoch: 75 Loss: 0.005313457112367216\n",
      "Epoch: 76 Loss: 0.0052997969336023455\n",
      "Epoch: 77 Loss: 0.0052404884199954965\n",
      "Epoch: 78 Loss: 0.005267183198348472\n",
      "Epoch: 79 Loss: 0.005230446375514332\n",
      "Epoch: 80 Loss: 0.005159771746318592\n",
      "Epoch: 81 Loss: 0.005117919697965446\n",
      "Epoch: 82 Loss: 0.005113337090925167\n",
      "Epoch: 83 Loss: 0.005063687877631501\n",
      "Epoch: 84 Loss: 0.005065690490760302\n",
      "Epoch: 85 Loss: 0.005038247713328977\n",
      "Epoch: 86 Loss: 0.005015944640495275\n",
      "Epoch: 87 Loss: 0.004991122197948004\n",
      "Epoch: 88 Loss: 0.004974742277868484\n",
      "Epoch: 89 Loss: 0.004947348992879454\n",
      "Epoch: 90 Loss: 0.00494313976776443\n",
      "Epoch: 91 Loss: 0.0049003751850441885\n",
      "Epoch: 92 Loss: 0.0048877580581527\n",
      "Epoch: 93 Loss: 0.0048939486083231475\n",
      "Epoch: 94 Loss: 0.004879919856198524\n",
      "Epoch: 95 Loss: 0.004865463651520641\n",
      "Epoch: 96 Loss: 0.004850424453616142\n",
      "Epoch: 97 Loss: 0.004822384110210758\n",
      "Epoch: 98 Loss: 0.00482245477798738\n",
      "Epoch: 99 Loss: 0.0047992214070338955\n",
      "Epoch: 100 Loss: 0.004783382693207577\n"
     ]
    }
   ],
   "source": [
    "\n",
    "seq_length = 20\n",
    "\n",
    "dataset = TimeSeriesDataset(train_x, seq_length=seq_length)\n",
    "dataloader = DataLoader(dataset, batch_size=64, shuffle=True)\n",
    "\n",
    "#criterion = nn.MSELoss()\n",
    "criterion = nn.L1Loss()\n",
    "optimizer = optim.Adam(model.parameters(),lr=1e-3)\n",
    "scheduler = torch.optim.lr_scheduler.ExponentialLR(optimizer,gamma=0.95)\n",
    "\n",
    "print(\"Number of trainable parameters:\",sum(p.numel() for p in model.parameters()))\n",
    "\n",
    "num_epochs = 100\n",
    "for epoch in range(num_epochs):\n",
    "    losses = []\n",
    "    for x, y in dataloader:\n",
    "        optimizer.zero_grad()\n",
    "        y_pred = model(x)\n",
    "        #print(y_pred.shape,y.shape)\n",
    "        loss = criterion(y_pred, y)\n",
    "        loss.backward()\n",
    "        optimizer.step()\n",
    "        losses.append(loss.item())\n",
    "    print('Epoch:', epoch+1, 'Loss:', np.mean(losses))#,scheduler.get_last_lr())\n",
    "    scheduler.step()"
   ]
  },
  {
   "cell_type": "code",
   "execution_count": 71,
   "metadata": {},
   "outputs": [],
   "source": [
    "test_x = []\n",
    "\n",
    "for i in range(300):\n",
    "    if random.random() < 0.5:\n",
    "        if len(test_x):\n",
    "            test_x.append([np.sin(0.0943*i + 566),i-old_i])\n",
    "            old_i = i\n",
    "        else:\n",
    "            test_x.append([np.sin(0.0943*i + 566),1])\n",
    "            old_i = i\n",
    "\n",
    "test_x = torch.tensor(test_x,dtype=torch.float32)"
   ]
  },
  {
   "cell_type": "code",
   "execution_count": 84,
   "metadata": {},
   "outputs": [
    {
     "name": "stdout",
     "output_type": "stream",
     "text": [
      "torch.Size([1, 30, 3])\n"
     ]
    },
    {
     "name": "stderr",
     "output_type": "stream",
     "text": [
      "/var/folders/wy/k9h01g4j2yg_jky8w6rsfsjm0000gn/T/ipykernel_90251/2808683711.py:3: UserWarning: To copy construct from a tensor, it is recommended to use sourceTensor.clone().detach() or sourceTensor.clone().detach().requires_grad_(True), rather than torch.tensor(sourceTensor).\n",
      "  a = torch.tensor(test_x[k:k+30],dtype=torch.float32)\n"
     ]
    },
    {
     "data": {
      "text/plain": [
       "[<matplotlib.lines.Line2D at 0x164d59a20>]"
      ]
     },
     "execution_count": 84,
     "metadata": {},
     "output_type": "execute_result"
    },
    {
     "data": {
      "image/png": "[encoded data removed]",
      "text/plain": [
       "<Figure size 640x480 with 1 Axes>"
      ]
     },
     "metadata": {},
     "output_type": "display_data"
    }
   ],
   "source": [
    "k = random.randint(0,50)\n",
    "\n",
    "a = torch.tensor(test_x[k:k+30],dtype=torch.float32)\n",
    "b = torch.tensor(np.cumsum([i[1]/30 for i in test_x[k:k+30]]) - 1,dtype=torch.float32)\n",
    "x = torch.cat((a,b.unsqueeze(1)),dim=1)\n",
    "x[20:,0] = 0\n",
    "sample = torch.cat((a,b.unsqueeze(1)),dim=1).unsqueeze(0)\n",
    "\n",
    "y = torch.tensor(test_x[k+30:k+40,0],dtype=torch.float32)\n",
    "\n",
    "print(sample.shape)\n",
    "\n",
    "pred_y = model(sample)\n",
    "\n",
    "import matplotlib.pyplot as plt\n",
    "\n",
    "# plt.plot(torch.cumsum(sample[0,:,1],dim=0),sample[0,:,0],\"x\")\n",
    "# plt.plot(torch.cumsum(sample[0,:,1],dim=0)[20:],pred_y[0].tolist(),\"o\")\n",
    "\n",
    "plt.plot(sample[0,:,2],sample[0,:,0],\"-x\")\n",
    "plt.plot(sample[0,20:,2],pred_y[0].tolist(),\"-o\")"
   ]
  },
  {
   "cell_type": "code",
   "execution_count": 73,
   "metadata": {},
   "outputs": [
    {
     "data": {
      "text/plain": [
       "[0.835728645324707,\n",
       " 0.7180935144424438,\n",
       " 0.5191709399223328,\n",
       " 0.23973949253559113,\n",
       " 0.06507150083780289,\n",
       " -0.11916134506464005,\n",
       " -0.39406150579452515,\n",
       " -0.6376503705978394,\n",
       " -0.8532272577285767,\n",
       " -0.891106903553009]"
      ]
     },
     "execution_count": 73,
     "metadata": {},
     "output_type": "execute_result"
    }
   ],
   "source": [
    "pred_y[0].tolist()"
   ]
  },
  {
   "cell_type": "code",
   "execution_count": 74,
   "metadata": {},
   "outputs": [
    {
     "data": {
      "text/plain": [
       "tensor([1., 2., 1., 3., 1., 2., 2., 5., 1., 2., 1., 3., 3., 2., 1., 1., 1., 1.,\n",
       "        1., 1., 1., 2., 3., 3., 2., 2., 3., 3., 3., 1.])"
      ]
     },
     "execution_count": 74,
     "metadata": {},
     "output_type": "execute_result"
    }
   ],
   "source": [
    "sample[0,:,1]"
   ]
  },
  {
   "cell_type": "code",
   "execution_count": 75,
   "metadata": {},
   "outputs": [],
   "source": [
    "import numpy as np\n",
    "\n",
    "train_x = []\n",
    "train_y = []\n",
    "\n",
    "np.random.seed(0)\n",
    "\n",
    "x = np.linspace(0,1,20)\n",
    "y = np.linspace(1,1.5,10)\n",
    "\n",
    "for i in range(3000):\n",
    "    offset = np.random.rand()\n",
    "    train_x.append(np.sin(x + offset))\n",
    "    train_y.append(np.sin(y + offset))\n",
    "\n",
    "train_x = torch.tensor(train_x,dtype=torch.float32)\n",
    "train_y = torch.tensor(train_y,dtype=torch.float32)\n"
   ]
  },
  {
   "cell_type": "code",
   "execution_count": 76,
   "metadata": {},
   "outputs": [],
   "source": [
    "from torch.utils.data import DataLoader, Dataset\n",
    "\n",
    "class MyDataset(Dataset):\n",
    "    def __init__(self, data, targets):\n",
    "        self.data = data\n",
    "        self.targets = targets\n",
    "        \n",
    "    def __getitem__(self, index):\n",
    "        x = self.data[index]\n",
    "        y = self.targets[index]\n",
    "        \n",
    "        return x, y\n",
    "    \n",
    "    def __len__(self):\n",
    "        return len(self.data)\n",
    "    \n",
    "train_dataloader = DataLoader(MyDataset(train_x,train_y), batch_size=64, shuffle=True)"
   ]
  },
  {
   "cell_type": "code",
   "execution_count": 77,
   "metadata": {},
   "outputs": [
    {
     "ename": "IndexError",
     "evalue": "too many indices for tensor of dimension 2",
     "output_type": "error",
     "traceback": [
      "\u001b[0;31m---------------------------------------------------------------------------\u001b[0m",
      "\u001b[0;31mIndexError\u001b[0m                                Traceback (most recent call last)",
      "Cell \u001b[0;32mIn[77], line 11\u001b[0m\n\u001b[1;32m      9\u001b[0m \u001b[39mfor\u001b[39;00m epoch \u001b[39min\u001b[39;00m \u001b[39mrange\u001b[39m(n_epochs):\n\u001b[1;32m     10\u001b[0m     \u001b[39mfor\u001b[39;00m x,y \u001b[39min\u001b[39;00m train_dataloader:\n\u001b[0;32m---> 11\u001b[0m         y_pred \u001b[39m=\u001b[39m model(x)\n\u001b[1;32m     12\u001b[0m         loss \u001b[39m=\u001b[39m loss_fn(y_pred, y)\n\u001b[1;32m     13\u001b[0m         \u001b[39m# backward pass\u001b[39;00m\n",
      "File \u001b[0;32m~/.pyenv/versions/3.10.7/lib/python3.10/site-packages/torch/nn/modules/module.py:1194\u001b[0m, in \u001b[0;36mModule._call_impl\u001b[0;34m(self, *input, **kwargs)\u001b[0m\n\u001b[1;32m   1190\u001b[0m \u001b[39m# If we don't have any hooks, we want to skip the rest of the logic in\u001b[39;00m\n\u001b[1;32m   1191\u001b[0m \u001b[39m# this function, and just call forward.\u001b[39;00m\n\u001b[1;32m   1192\u001b[0m \u001b[39mif\u001b[39;00m \u001b[39mnot\u001b[39;00m (\u001b[39mself\u001b[39m\u001b[39m.\u001b[39m_backward_hooks \u001b[39mor\u001b[39;00m \u001b[39mself\u001b[39m\u001b[39m.\u001b[39m_forward_hooks \u001b[39mor\u001b[39;00m \u001b[39mself\u001b[39m\u001b[39m.\u001b[39m_forward_pre_hooks \u001b[39mor\u001b[39;00m _global_backward_hooks\n\u001b[1;32m   1193\u001b[0m         \u001b[39mor\u001b[39;00m _global_forward_hooks \u001b[39mor\u001b[39;00m _global_forward_pre_hooks):\n\u001b[0;32m-> 1194\u001b[0m     \u001b[39mreturn\u001b[39;00m forward_call(\u001b[39m*\u001b[39;49m\u001b[39minput\u001b[39;49m, \u001b[39m*\u001b[39;49m\u001b[39m*\u001b[39;49mkwargs)\n\u001b[1;32m   1195\u001b[0m \u001b[39m# Do not call functions when jit is used\u001b[39;00m\n\u001b[1;32m   1196\u001b[0m full_backward_hooks, non_full_backward_hooks \u001b[39m=\u001b[39m [], []\n",
      "Cell \u001b[0;32mIn[68], line 15\u001b[0m, in \u001b[0;36mNeuralNetwork.forward\u001b[0;34m(self, x)\u001b[0m\n\u001b[1;32m     14\u001b[0m \u001b[39mdef\u001b[39;00m \u001b[39mforward\u001b[39m(\u001b[39mself\u001b[39m, x):\n\u001b[0;32m---> 15\u001b[0m     x \u001b[39m=\u001b[39m torch\u001b[39m.\u001b[39mcat((torch\u001b[39m.\u001b[39mflatten(x[:,:\u001b[39m20\u001b[39m],start_dim\u001b[39m=\u001b[39m\u001b[39m1\u001b[39m),torch\u001b[39m.\u001b[39mflatten(x[:,\u001b[39m20\u001b[39;49m:,\u001b[39m1\u001b[39;49m:],start_dim\u001b[39m=\u001b[39m\u001b[39m1\u001b[39m)),dim\u001b[39m=\u001b[39m\u001b[39m1\u001b[39m)\n\u001b[1;32m     16\u001b[0m     \u001b[39m#x = self.flatten(x)0.0943\u001b[39;00m\n\u001b[1;32m     17\u001b[0m     logits \u001b[39m=\u001b[39m \u001b[39mself\u001b[39m\u001b[39m.\u001b[39mlinear_relu_stack(x)\n",
      "\u001b[0;31mIndexError\u001b[0m: too many indices for tensor of dimension 2"
     ]
    }
   ],
   "source": [
    "from torch.optim import Adam\n",
    "\n",
    "# loss function and optimizer\n",
    "loss_fn = nn.MSELoss() \n",
    "optimizer = Adam(model.parameters(), lr=0.001)\n",
    "\n",
    "n_epochs = 10\n",
    "\n",
    "for epoch in range(n_epochs):\n",
    "    for x,y in train_dataloader:\n",
    "        y_pred = model(x)\n",
    "        loss = loss_fn(y_pred, y)\n",
    "        # backward pass\n",
    "        optimizer.zero_grad()\n",
    "        loss.backward()\n",
    "        # update weights\n",
    "        optimizer.step()\n",
    "\n",
    "        print(loss.item())"
   ]
  },
  {
   "cell_type": "code",
   "execution_count": null,
   "metadata": {},
   "outputs": [],
   "source": [
    "test_x = []\n",
    "test_y = []\n",
    "\n",
    "x = np.linspace(0,1,20)\n",
    "y = np.linspace(1,1.5,10)\n",
    "\n",
    "for i in range(1):\n",
    "    offset = np.random.rand()\n",
    "    test_x.append(np.sin(x + offset))\n",
    "    test_y.append(np.sin(y + offset))\n",
    "\n",
    "test_x = torch.tensor(test_x,dtype=torch.float32)\n",
    "test_y = torch.tensor(test_y,dtype=torch.float32)\n",
    "\n",
    "pred_y = model(test_x)"
   ]
  },
  {
   "cell_type": "code",
   "execution_count": null,
   "metadata": {},
   "outputs": [
    {
     "data": {
      "text/plain": [
       "[<matplotlib.lines.Line2D at 0x14096f0a0>]"
      ]
     },
     "execution_count": 9,
     "metadata": {},
     "output_type": "execute_result"
    },
    {
     "data": {
      "image/png": "[encoded data removed]",
      "text/plain": [
       "<Figure size 640x480 with 1 Axes>"
      ]
     },
     "metadata": {},
     "output_type": "display_data"
    }
   ],
   "source": [
    "import matplotlib.pyplot as plt\n",
    "\n",
    "plt.plot(x,test_x[0])\n",
    "plt.plot(y,pred_y[0].tolist())"
   ]
  },
  {
   "cell_type": "code",
   "execution_count": null,
   "metadata": {},
   "outputs": [],
   "source": []
  }
 ],
 "metadata": {
  "kernelspec": {
   "display_name": "Python 3",
   "language": "python",
   "name": "python3"
  },
  "language_info": {
   "codemirror_mode": {
    "name": "ipython",
    "version": 3
   },
   "file_extension": ".py",
   "mimetype": "text/x-python",
   "name": "python",
   "nbconvert_exporter": "python",
   "pygments_lexer": "ipython3",
   "version": "3.10.7"
  },
  "orig_nbformat": 4,
  "vscode": {
   "interpreter": {
    "hash": "e4d8082ac81b5767605eb477108b3a93415a0db0c81fcb1a05e0921a30ce1269"
   }
  }
 },
 "nbformat": 4,
 "nbformat_minor": 2
}
